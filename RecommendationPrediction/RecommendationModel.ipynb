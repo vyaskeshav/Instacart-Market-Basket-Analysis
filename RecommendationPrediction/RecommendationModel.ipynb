{
 "cells": [
  {
   "cell_type": "code",
   "execution_count": 1,
   "metadata": {},
   "outputs": [],
   "source": [
    "from scipy.sparse import coo_matrix, csr_matrix\n",
    "from sklearn.metrics.pairwise import cosine_similarity\n",
    "from datetime import datetime\n",
    "from pathlib import Path\n",
    "from numpy import bincount, log, sqrt\n",
    "\n",
    "import scipy.sparse as sparse\n",
    "import pandas as pd\n",
    "import numpy as np\n",
    "import pickle\n",
    "import time"
   ]
  },
  {
   "cell_type": "code",
   "execution_count": 8,
   "metadata": {},
   "outputs": [],
   "source": [
    "### Helper Functions\n",
    "\n",
    "def sparsity(matrix):\n",
    "    \"\"\"\n",
    "    Given a matrix, returns its sparsity\n",
    "    \"\"\"\n",
    "    total_size = matrix.shape[0] * matrix.shape[1]\n",
    "    actual_size = matrix.size\n",
    "    sparsity = (1 - (actual_size / total_size)) * 100\n",
    "    return(sparsity)\n",
    "\n",
    "\n",
    "def get_k_popular(k, df_merged_order_products_prior):\n",
    "    \"\"\"\n",
    "    Returns the `k` most popular products based on purchase count in the dataset\n",
    "    \"\"\"\n",
    "    popular_products = list(df_merged_order_products_prior[\"product_id\"].value_counts().head(k).index)\n",
    "    return popular_products\n",
    "\n",
    "\n",
    "def make_prior_data():\n",
    "    \"\"\"\n",
    "    Generates the prior dataset including prior_user_products and product_frequency\n",
    "    \"\"\"\n",
    "    # Read prior order csv\n",
    "    df_order_products_prior = pd.read_csv(\"order_products__prior.csv\")\n",
    "    current_order_user_df = df_orders.loc[(df_orders.eval_set == \"prior\")].reset_index()\n",
    "    current_order_user_df = current_order_user_df[[\"order_id\", \"user_id\"]]\n",
    "\n",
    "    assert len(current_order_user_df[\"order_id\"].unique()) == len(df_order_products_prior[\"order_id\"].unique())\n",
    "\n",
    "    # Group product_id for each order into products\n",
    "    df_order_products_prior = df_order_products_prior[[\"order_id\", \"product_id\"]]\n",
    "    df_product_frequency = df_order_products_prior['product_id'].value_counts()\n",
    "    df_order_products_prior = df_order_products_prior.groupby(\"order_id\")[\"product_id\"].apply(list).reset_index().rename(columns={\"product_id\": \"products\"})\n",
    "    \n",
    "    \n",
    "    assert current_order_user_df.size == df_order_products_prior.size\n",
    "\n",
    "    df_prior_user_products = pd.merge(current_order_user_df, df_order_products_prior, on=\"order_id\")\n",
    "    df_prior_user_products = df_prior_user_products[[\"user_id\", \"products\"]]\n",
    "    df_prior_user_products = df_prior_user_products.groupby(\"user_id\")[\"products\"].agg(sum).reset_index()\n",
    "\n",
    "    return df_prior_user_products, df_product_frequency\n",
    "\n",
    "def make_test_data():\n",
    "    \"\"\"\n",
    "    Generates the prior dataset including prior_user_products and product_frequency\n",
    "    \"\"\"\n",
    "    # Read prior order csv\n",
    "    df_order_products_test = pd.read_csv(\"order_products__train.csv\")\n",
    "    current_order_user_df = df_orders.loc[(df_orders.eval_set == \"train\")].reset_index()\n",
    "    current_order_user_df = current_order_user_df[[\"order_id\", \"user_id\"]]\n",
    "\n",
    "    assert len(current_order_user_df[\"order_id\"].unique()) == len(df_order_products_test[\"order_id\"].unique())\n",
    "\n",
    "    # Group product_id for each order into products\n",
    "    df_order_products_test = df_order_products_test[[\"order_id\", \"product_id\"]]\n",
    "    df_product_frequency = df_order_products_test['product_id'].value_counts()\n",
    "    df_order_products_test = df_order_products_test.groupby(\"order_id\")[\"product_id\"].apply(list).reset_index().rename(columns={\"product_id\": \"products\"})\n",
    "    \n",
    "    \n",
    "    assert current_order_user_df.size == df_order_products_test.size\n",
    "\n",
    "    df_test_user_products = pd.merge(current_order_user_df, df_order_products_test, on=\"order_id\")\n",
    "    df_test_user_products = df_test_user_products[[\"user_id\", \"products\"]]\n",
    "    df_test_user_products = df_test_user_products.groupby(\"user_id\")[\"products\"].agg(sum).reset_index()\n",
    "\n",
    "    return df_test_user_products, df_product_frequency\n",
    "\n",
    "'''\n",
    "def make_test_data(df_orders, df_order_products_train):\n",
    "    \"\"\"\n",
    "    Generates the test dataset and saves it to disk at the given path\n",
    "    \"\"\"\n",
    "    start = time.time()\n",
    "    print(\"Creating test data ...\")\n",
    "\n",
    "    # Read train csv\n",
    "    df_order_user_current = df_orders.loc[(df_orders.eval_set == \"train\")].reset_index()\n",
    "    df_order_user_current = df_order_user_current[[\"order_id\", \"user_id\"]]\n",
    "    \n",
    "    # Sanity check #1: `current_order_user_df` and `df_order_products_train` should have the same number of \n",
    "    # unique order ids\n",
    "    assert len(df_order_user_current[\"order_id\"].unique()) == len(df_order_products_train[\"order_id\"].unique())\n",
    "\n",
    "    # Convert train dataframe to a similar format\n",
    "    df_order_products_test = df_order_products_train[[\"order_id\", \"product_id\"]]\n",
    "    df_order_products_test = df_order_products_test.groupby(\"order_id\")[\"product_id\"].apply(list).reset_index().rename(columns={\"product_id\": \"products\"})\n",
    "\n",
    "    # Sanity check #2: `df_order_products_test` and `df_order_user_current` should have the same number of \n",
    "    # records before attempting to merge them\n",
    "    assert df_order_products_test.size == df_order_user_current.size\n",
    "\n",
    "    # Merge on order id\n",
    "    df_user_products_test = pd.merge(df_order_user_current, df_order_products_test, on=\"order_id\")\n",
    "    df_user_products_test = df_user_products_test[[\"user_id\", \"products\"]]\n",
    "    \n",
    "    print(\"Completed in {:.2f}s\".format(time.time() - start))\n",
    "    return df_user_products_test\n",
    "'''\n",
    "\n",
    "def save_data_to_disk(dataframe, df_name):\n",
    "    \"\"\"\n",
    "    Save the data to disk\n",
    "    \"\"\"\n",
    "    filepath = \"df_{}.pkl\".format(df_name)\n",
    "    dataframe.to_pickle(filepath)\n"
   ]
  },
  {
   "cell_type": "code",
   "execution_count": 3,
   "metadata": {},
   "outputs": [],
   "source": [
    "\n",
    "# Order datasets\n",
    "df_order_products_prior = pd.read_csv(\"order_products__prior.csv\")\n",
    "df_order_products_train = pd.read_csv(\"order_products__train.csv\")\n",
    "df_orders = pd.read_csv(\"orders.csv\") \n",
    "\n",
    "# Products\n",
    "df_products = pd.read_csv(\"products.csv\")\n",
    "\n",
    "# Merge prior orders and products\n",
    "df_merged_order_products_prior = pd.merge(df_order_products_prior, df_products, on=\"product_id\", how=\"left\")\n",
    "\n",
    "\n",
    "# In[5]:\n",
    "\n",
    "\n",
    "df_merged_order_products_prior.head(5)\n",
    "\n",
    "\n",
    "# In[6]:\n",
    "\n",
    "\n",
    "# Skip this block if you already have the df_user_products.pkl and df_product_frequency.pkl in the disk\n",
    "# Make prior data\n",
    "# Running time: 3 min\n",
    "df_prior_user_products, df_product_frequency = make_prior_data()\n",
    "\n",
    "# save data to disk, running time : 2 mi\n",
    "save_data_to_disk(df_prior_user_products, \"user_products\")\n",
    "save_data_to_disk(df_product_frequency, \"product_frequency\")\n"
   ]
  },
  {
   "cell_type": "code",
   "execution_count": 4,
   "metadata": {},
   "outputs": [
    {
     "data": {
      "text/html": [
       "<div>\n",
       "<style scoped>\n",
       "    .dataframe tbody tr th:only-of-type {\n",
       "        vertical-align: middle;\n",
       "    }\n",
       "\n",
       "    .dataframe tbody tr th {\n",
       "        vertical-align: top;\n",
       "    }\n",
       "\n",
       "    .dataframe thead th {\n",
       "        text-align: right;\n",
       "    }\n",
       "</style>\n",
       "<table border=\"1\" class=\"dataframe\">\n",
       "  <thead>\n",
       "    <tr style=\"text-align: right;\">\n",
       "      <th></th>\n",
       "      <th>user_id</th>\n",
       "      <th>products</th>\n",
       "    </tr>\n",
       "  </thead>\n",
       "  <tbody>\n",
       "    <tr>\n",
       "      <th>0</th>\n",
       "      <td>1</td>\n",
       "      <td>[196, 14084, 12427, 26088, 26405, 196, 10258, ...</td>\n",
       "    </tr>\n",
       "    <tr>\n",
       "      <th>1</th>\n",
       "      <td>2</td>\n",
       "      <td>[32792, 47766, 20574, 12000, 48110, 22474, 165...</td>\n",
       "    </tr>\n",
       "    <tr>\n",
       "      <th>2</th>\n",
       "      <td>3</td>\n",
       "      <td>[9387, 17668, 15143, 16797, 39190, 47766, 2190...</td>\n",
       "    </tr>\n",
       "    <tr>\n",
       "      <th>3</th>\n",
       "      <td>4</td>\n",
       "      <td>[36606, 7350, 35469, 2707, 42329, 7160, 1200, ...</td>\n",
       "    </tr>\n",
       "    <tr>\n",
       "      <th>4</th>\n",
       "      <td>5</td>\n",
       "      <td>[15349, 21413, 48775, 28289, 8518, 11777, 3171...</td>\n",
       "    </tr>\n",
       "  </tbody>\n",
       "</table>\n",
       "</div>"
      ],
      "text/plain": [
       "   user_id                                           products\n",
       "0        1  [196, 14084, 12427, 26088, 26405, 196, 10258, ...\n",
       "1        2  [32792, 47766, 20574, 12000, 48110, 22474, 165...\n",
       "2        3  [9387, 17668, 15143, 16797, 39190, 47766, 2190...\n",
       "3        4  [36606, 7350, 35469, 2707, 42329, 7160, 1200, ...\n",
       "4        5  [15349, 21413, 48775, 28289, 8518, 11777, 3171..."
      ]
     },
     "execution_count": 4,
     "metadata": {},
     "output_type": "execute_result"
    }
   ],
   "source": [
    "df_prior_user_products.head(5)"
   ]
  },
  {
   "cell_type": "code",
   "execution_count": 5,
   "metadata": {},
   "outputs": [
    {
     "data": {
      "text/plain": [
       "24852    472565\n",
       "13176    379450\n",
       "21137    264683\n",
       "21903    241921\n",
       "47209    213584\n",
       "Name: product_id, dtype: int64"
      ]
     },
     "execution_count": 5,
     "metadata": {},
     "output_type": "execute_result"
    }
   ],
   "source": [
    "df_product_frequency.head(5)"
   ]
  },
  {
   "cell_type": "code",
   "execution_count": 6,
   "metadata": {},
   "outputs": [],
   "source": [
    "# Read user_products and product_frequency from the disk\n",
    "df_prior_user_products = pd.read_pickle(\"df_user_products.pkl\")\n",
    "df_product_frequency = pd.read_pickle(\"df_product_frequency.pkl\")\n",
    "df_product_frequency = pd.DataFrame(df_product_frequency).rename(columns={\"product_id\": \"frequency\"})"
   ]
  },
  {
   "cell_type": "code",
   "execution_count": 9,
   "metadata": {},
   "outputs": [],
   "source": [
    "df_test_user_products, df_product_frequency_test = make_test_data()"
   ]
  },
  {
   "cell_type": "code",
   "execution_count": 10,
   "metadata": {},
   "outputs": [
    {
     "data": {
      "text/html": [
       "<div>\n",
       "<style scoped>\n",
       "    .dataframe tbody tr th:only-of-type {\n",
       "        vertical-align: middle;\n",
       "    }\n",
       "\n",
       "    .dataframe tbody tr th {\n",
       "        vertical-align: top;\n",
       "    }\n",
       "\n",
       "    .dataframe thead th {\n",
       "        text-align: right;\n",
       "    }\n",
       "</style>\n",
       "<table border=\"1\" class=\"dataframe\">\n",
       "  <thead>\n",
       "    <tr style=\"text-align: right;\">\n",
       "      <th></th>\n",
       "      <th>user_id</th>\n",
       "      <th>products</th>\n",
       "    </tr>\n",
       "  </thead>\n",
       "  <tbody>\n",
       "    <tr>\n",
       "      <th>0</th>\n",
       "      <td>1</td>\n",
       "      <td>[196, 25133, 38928, 26405, 39657, 10258, 13032...</td>\n",
       "    </tr>\n",
       "    <tr>\n",
       "      <th>1</th>\n",
       "      <td>2</td>\n",
       "      <td>[22963, 7963, 16589, 32792, 41787, 22825, 1364...</td>\n",
       "    </tr>\n",
       "    <tr>\n",
       "      <th>2</th>\n",
       "      <td>5</td>\n",
       "      <td>[15349, 19057, 16185, 21413, 20843, 20114, 482...</td>\n",
       "    </tr>\n",
       "    <tr>\n",
       "      <th>3</th>\n",
       "      <td>7</td>\n",
       "      <td>[12053, 47272, 37999, 13198, 43967, 40852, 176...</td>\n",
       "    </tr>\n",
       "    <tr>\n",
       "      <th>4</th>\n",
       "      <td>8</td>\n",
       "      <td>[15937, 5539, 10960, 23165, 22247, 4853, 27104...</td>\n",
       "    </tr>\n",
       "  </tbody>\n",
       "</table>\n",
       "</div>"
      ],
      "text/plain": [
       "   user_id                                           products\n",
       "0        1  [196, 25133, 38928, 26405, 39657, 10258, 13032...\n",
       "1        2  [22963, 7963, 16589, 32792, 41787, 22825, 1364...\n",
       "2        5  [15349, 19057, 16185, 21413, 20843, 20114, 482...\n",
       "3        7  [12053, 47272, 37999, 13198, 43967, 40852, 176...\n",
       "4        8  [15937, 5539, 10960, 23165, 22247, 4853, 27104..."
      ]
     },
     "execution_count": 10,
     "metadata": {},
     "output_type": "execute_result"
    }
   ],
   "source": [
    "df_test_user_products.head()"
   ]
  },
  {
   "cell_type": "code",
   "execution_count": 11,
   "metadata": {},
   "outputs": [],
   "source": [
    "# Load Product Item Matrix\n",
    "\n",
    "def get_user_product_test_df(filepath, df_orders, df_order_products_train):\n",
    "    \"\"\"\n",
    "    Generates a dataframe of users and their prior products purchases, and writes it to disk at the given path\n",
    "    \"\"\"\n",
    "    start = time.time()\n",
    "    print(\"Creating prior user product data frame ...\")\n",
    "    \n",
    "    # Consider ony \"prior\" orders and remove all columns except `train` from `df_orders`\n",
    "    df_order_user_train = df_orders.loc[df_orders.eval_set == \"train\"]\n",
    "    df_order_user_train = df_order_user_train[[\"order_id\", \"user_id\"]]\n",
    "    \n",
    "    # Remove all columns except order_id and user_id from df_orders and \n",
    "    # merge the above on `order_id` and remove `order_id`\n",
    "    df_merged = pd.merge(df_order_user_train, df_order_products_train[[\"order_id\", \"product_id\"]], on=\"order_id\")\n",
    "    df_user_product_train = df_merged[[\"user_id\", \"product_id\"]]\n",
    "    df_user_product_train = df_user_product_train.groupby([\"user_id\", \"product_id\"]).size().reset_index().rename(columns={0:\"quantity\"})\n",
    "    \n",
    "    # Write to disk\n",
    "    df_user_product_train.to_csv(filepath, index_label=False)\n",
    "\n",
    "    print(\"Completed in {:.2f}s\".format(time.time() - start))\n",
    "\n",
    "\n",
    "# Build dataframe of users, products and quantity bought using prior datasets\n",
    "REBUILD_MATRIX_DF = False\n",
    "matrix_df_path = \"user_products__test.csv\"\n",
    "if REBUILD_MATRIX_DF or not Path(matrix_df_path).is_file():\n",
    "    get_user_product_test_df(matrix_df_path, df_orders, df_order_products_train)\n",
    "df_user_product_test = pd.read_csv(matrix_df_path)\n",
    "df_user_product_test[\"user_id\"] = df_user_product_test[\"user_id\"].astype(\"category\")\n",
    "df_user_product_test[\"product_id\"] = df_user_product_test[\"product_id\"].astype(\"category\")\n",
    "\n"
   ]
  },
  {
   "cell_type": "code",
   "execution_count": 12,
   "metadata": {},
   "outputs": [],
   "source": [
    "# Load Product Item Matrix\n",
    "\n",
    "def get_user_product_prior_df(filepath, df_orders, df_order_products_prior):\n",
    "    \"\"\"\n",
    "    Generates a dataframe of users and their prior products purchases, and writes it to disk at the given path\n",
    "    \"\"\"\n",
    "    start = time.time()\n",
    "    print(\"Creating prior user product data frame ...\")\n",
    "    \n",
    "    # Consider ony \"prior\" orders and remove all columns except `user_id` from `df_orders`\n",
    "    df_order_user_prior = df_orders.loc[df_orders.eval_set == \"prior\"]\n",
    "    df_order_user_prior = df_order_user_prior[[\"order_id\", \"user_id\"]]\n",
    "    \n",
    "    # Remove all columns except order_id and user_id from df_orders and \n",
    "    # merge the above on `order_id` and remove `order_id`\n",
    "    df_merged = pd.merge(df_order_user_prior, df_order_products_prior[[\"order_id\", \"product_id\"]], on=\"order_id\")\n",
    "    df_user_product_prior = df_merged[[\"user_id\", \"product_id\"]]\n",
    "    df_user_product_prior = df_user_product_prior.groupby([\"user_id\", \"product_id\"]).size().reset_index().rename(columns={0:\"quantity\"})\n",
    "    \n",
    "    # Write to disk\n",
    "    df_user_product_prior.to_csv(filepath, index_label=False)\n",
    "\n",
    "    print(\"Completed in {:.2f}s\".format(time.time() - start))\n",
    "\n",
    "\n",
    "# Build dataframe of users, products and quantity bought using prior datasets\n",
    "REBUILD_MATRIX_DF = False\n",
    "matrix_df_path = \"user_products__prior.csv\"\n",
    "if REBUILD_MATRIX_DF or not Path(matrix_df_path).is_file():\n",
    "    get_user_product_prior_df(matrix_df_path, df_orders, df_order_products_prior)\n",
    "df_user_product_prior = pd.read_csv(matrix_df_path)\n",
    "df_user_product_prior[\"user_id\"] = df_user_product_prior[\"user_id\"].astype(\"category\")\n",
    "df_user_product_prior[\"product_id\"] = df_user_product_prior[\"product_id\"].astype(\"category\")\n",
    "\n"
   ]
  },
  {
   "cell_type": "code",
   "execution_count": 13,
   "metadata": {},
   "outputs": [],
   "source": [
    "def build_product_user_matrix(matrix_path, df_user_product_prior):\n",
    "    \"\"\"\n",
    "    Generates a utility matrix representing purchase history of users, and writes it to disk.\n",
    "    Rows and Columns represent products and users respectively.\n",
    "    \"\"\"\n",
    "    start = time.time()\n",
    "    print(\"Creating product user matrix ...\")\n",
    "    \n",
    "    # Make the dataframe a sparse matrix\n",
    "    df_user_product_prior[\"user_id\"] = df_user_product_prior[\"user_id\"].astype(\"category\")\n",
    "    df_user_product_prior[\"product_id\"] = df_user_product_prior[\"product_id\"].astype(\"category\")\n",
    "    product_user_matrix = sparse.coo_matrix((df_user_product_prior[\"quantity\"],\n",
    "                                            (df_user_product_prior[\"product_id\"].cat.codes.copy(),\n",
    "                                             df_user_product_prior[\"user_id\"].cat.codes.copy())))\n",
    "    \n",
    "    sparse.save_npz(matrix_path, product_user_matrix)\n",
    "    \n",
    "    print(\"Completed in {:.2f}s\".format(time.time() - start))\n",
    "\n",
    "    \n",
    "\n",
    "# Get the `product x user` matrix\n",
    "REBUILD_MATRIX = False\n",
    "matrix_path = \"product_user_matrix.npz\"\n",
    "if REBUILD_MATRIX or not Path(matrix_path).is_file():\n",
    "    build_product_user_matrix(matrix_path, df_user_product_prior)\n",
    "product_user_matrix = sparse.load_npz(matrix_path).tocsr()"
   ]
  },
  {
   "cell_type": "code",
   "execution_count": 14,
   "metadata": {},
   "outputs": [],
   "source": [
    "# User=1 bought product=196 10 times\n",
    "assert product_user_matrix[195, 0] == 10"
   ]
  },
  {
   "cell_type": "code",
   "execution_count": 15,
   "metadata": {},
   "outputs": [
    {
     "data": {
      "text/plain": [
       "99.8700882953749"
      ]
     },
     "execution_count": 15,
     "metadata": {},
     "output_type": "execute_result"
    }
   ],
   "source": [
    "sparsity(product_user_matrix)"
   ]
  },
  {
   "cell_type": "code",
   "execution_count": 16,
   "metadata": {},
   "outputs": [
    {
     "data": {
      "text/html": [
       "<div>\n",
       "<style scoped>\n",
       "    .dataframe tbody tr th:only-of-type {\n",
       "        vertical-align: middle;\n",
       "    }\n",
       "\n",
       "    .dataframe tbody tr th {\n",
       "        vertical-align: top;\n",
       "    }\n",
       "\n",
       "    .dataframe thead th {\n",
       "        text-align: right;\n",
       "    }\n",
       "</style>\n",
       "<table border=\"1\" class=\"dataframe\">\n",
       "  <thead>\n",
       "    <tr style=\"text-align: right;\">\n",
       "      <th></th>\n",
       "      <th>user_id</th>\n",
       "      <th>product_id</th>\n",
       "      <th>quantity</th>\n",
       "    </tr>\n",
       "  </thead>\n",
       "  <tbody>\n",
       "    <tr>\n",
       "      <th>0</th>\n",
       "      <td>1</td>\n",
       "      <td>196</td>\n",
       "      <td>1</td>\n",
       "    </tr>\n",
       "    <tr>\n",
       "      <th>1</th>\n",
       "      <td>1</td>\n",
       "      <td>10258</td>\n",
       "      <td>1</td>\n",
       "    </tr>\n",
       "    <tr>\n",
       "      <th>2</th>\n",
       "      <td>1</td>\n",
       "      <td>13032</td>\n",
       "      <td>1</td>\n",
       "    </tr>\n",
       "    <tr>\n",
       "      <th>3</th>\n",
       "      <td>1</td>\n",
       "      <td>25133</td>\n",
       "      <td>1</td>\n",
       "    </tr>\n",
       "    <tr>\n",
       "      <th>4</th>\n",
       "      <td>1</td>\n",
       "      <td>26088</td>\n",
       "      <td>1</td>\n",
       "    </tr>\n",
       "  </tbody>\n",
       "</table>\n",
       "</div>"
      ],
      "text/plain": [
       "  user_id product_id  quantity\n",
       "0       1        196         1\n",
       "1       1      10258         1\n",
       "2       1      13032         1\n",
       "3       1      25133         1\n",
       "4       1      26088         1"
      ]
     },
     "execution_count": 16,
     "metadata": {},
     "output_type": "execute_result"
    }
   ],
   "source": [
    "df_user_product_prior.head(5)\n",
    "df_user_product_test.head(5)"
   ]
  },
  {
   "cell_type": "code",
   "execution_count": 17,
   "metadata": {},
   "outputs": [],
   "source": [
    "def create_data_dummy(data):\n",
    "    data_dummy = data.copy()\n",
    "    data_dummy['quantity_dummy'] = 1\n",
    "    return data_dummy\n",
    "data_dummy = create_data_dummy(df_user_product_prior)"
   ]
  },
  {
   "cell_type": "code",
   "execution_count": 18,
   "metadata": {},
   "outputs": [
    {
     "data": {
      "text/plain": [
       "(13307953, 3)"
      ]
     },
     "execution_count": 18,
     "metadata": {},
     "output_type": "execute_result"
    }
   ],
   "source": [
    "df_user_product_prior.shape"
   ]
  },
  {
   "cell_type": "code",
   "execution_count": 49,
   "metadata": {},
   "outputs": [],
   "source": [
    "from sklearn.preprocessing import minmax_scale\n",
    "data_norm = df_user_product_prior.copy()\n",
    "data_norm[['quantity']] = minmax_scale(data_norm[['quantity']])                                                  "
   ]
  },
  {
   "cell_type": "code",
   "execution_count": 62,
   "metadata": {},
   "outputs": [
    {
     "data": {
      "text/plain": [
       "user_id       int64\n",
       "product_id    int64\n",
       "quantity      int64\n",
       "dtype: object"
      ]
     },
     "execution_count": 62,
     "metadata": {},
     "output_type": "execute_result"
    }
   ],
   "source": [
    "\n",
    "\n",
    "df_user_product_prior['product_id'] = df_user_product_prior['product_id'].astype(np.int64)\n",
    "df_user_product_prior['user_id'] = df_user_product_prior['user_id'].astype(np.int64)\n",
    "data_norm['product_id'] = data_norm['product_id'].astype(np.int64)\n",
    "data_norm['user_id'] = data_norm['user_id'].astype(np.int64)\n",
    "df_user_product_test['product_id'] = df_user_product_test['product_id'].astype(np.int64)\n",
    "df_user_product_test['user_id'] = df_user_product_test['user_id'].astype(np.int64)\n",
    "\n",
    "df_user_product_prior.dtypes"
   ]
  },
  {
   "cell_type": "code",
   "execution_count": 63,
   "metadata": {},
   "outputs": [],
   "source": [
    "import turicreate as tc\n",
    "train_data = tc.SFrame(df_user_product_prior[['user_id','product_id','quantity']])\n",
    "data_norm = tc.SFrame(data_norm[['user_id','product_id','quantity']])\n",
    "test_data = tc.SFrame(df_user_product_test[['user_id','product_id','quantity']])"
   ]
  },
  {
   "cell_type": "code",
   "execution_count": 64,
   "metadata": {},
   "outputs": [],
   "source": [
    "# constant variables to define field names include:\n",
    "user_id = 'user_id'\n",
    "product_id = 'product_id'\n",
    "target = 'quantity'\n",
    "users_to_recommend = list(df_prior_user_products[user_id])\n",
    "n_rec = 10 # number of items to recommend\n",
    "n_display = 30 # to display the first few rows in an output dataset"
   ]
  },
  {
   "cell_type": "code",
   "execution_count": 65,
   "metadata": {},
   "outputs": [],
   "source": [
    "def model(train_data, name, user_id, item_id, target, users_to_recommend, n_rec, n_display):\n",
    "    if name == 'popularity':\n",
    "        model = tc.popularity_recommender.create(train_data, \n",
    "                                                    user_id=user_id, \n",
    "                                                    item_id=item_id, \n",
    "                                                    target=target)\n",
    "    elif name == 'cosine':\n",
    "        model = tc.item_similarity_recommender.create(train_data, \n",
    "                                                    user_id=user_id, \n",
    "                                                    item_id=item_id, \n",
    "                                                    target=target, \n",
    "                                                    similarity_type='cosine')\n",
    "    elif name == 'pearson':\n",
    "        model = tc.item_similarity_recommender.create(train_data, \n",
    "                                                    user_id=user_id, \n",
    "                                                    item_id=item_id, \n",
    "                                                    target=target, \n",
    "                                                    similarity_type='pearson')\n",
    "        \n",
    "    recom = model.recommend(users=users_to_recommend, k=n_rec)\n",
    "    recom.print_rows(n_display)\n",
    "    return model"
   ]
  },
  {
   "cell_type": "code",
   "execution_count": 66,
   "metadata": {},
   "outputs": [
    {
     "data": {
      "text/html": [
       "<pre>Preparing data set.</pre>"
      ],
      "text/plain": [
       "Preparing data set."
      ]
     },
     "metadata": {},
     "output_type": "display_data"
    },
    {
     "data": {
      "text/html": [
       "<pre>    Data has 13307953 observations with 206209 users and 49677 items.</pre>"
      ],
      "text/plain": [
       "    Data has 13307953 observations with 206209 users and 49677 items."
      ]
     },
     "metadata": {},
     "output_type": "display_data"
    },
    {
     "data": {
      "text/html": [
       "<pre>    Data prepared in: 7.4879s</pre>"
      ],
      "text/plain": [
       "    Data prepared in: 7.4879s"
      ]
     },
     "metadata": {},
     "output_type": "display_data"
    },
    {
     "data": {
      "text/html": [
       "<pre>13307953 observations to process; with 49677 unique items.</pre>"
      ],
      "text/plain": [
       "13307953 observations to process; with 49677 unique items."
      ]
     },
     "metadata": {},
     "output_type": "display_data"
    },
    {
     "data": {
      "text/html": [
       "<pre>recommendations finished on 1000/206209 queries. users per second: 2934.72</pre>"
      ],
      "text/plain": [
       "recommendations finished on 1000/206209 queries. users per second: 2934.72"
      ]
     },
     "metadata": {},
     "output_type": "display_data"
    },
    {
     "data": {
      "text/html": [
       "<pre>recommendations finished on 2000/206209 queries. users per second: 2920.62</pre>"
      ],
      "text/plain": [
       "recommendations finished on 2000/206209 queries. users per second: 2920.62"
      ]
     },
     "metadata": {},
     "output_type": "display_data"
    },
    {
     "data": {
      "text/html": [
       "<pre>recommendations finished on 3000/206209 queries. users per second: 2911.14</pre>"
      ],
      "text/plain": [
       "recommendations finished on 3000/206209 queries. users per second: 2911.14"
      ]
     },
     "metadata": {},
     "output_type": "display_data"
    },
    {
     "data": {
      "text/html": [
       "<pre>recommendations finished on 4000/206209 queries. users per second: 2891.21</pre>"
      ],
      "text/plain": [
       "recommendations finished on 4000/206209 queries. users per second: 2891.21"
      ]
     },
     "metadata": {},
     "output_type": "display_data"
    },
    {
     "data": {
      "text/html": [
       "<pre>recommendations finished on 5000/206209 queries. users per second: 2888.5</pre>"
      ],
      "text/plain": [
       "recommendations finished on 5000/206209 queries. users per second: 2888.5"
      ]
     },
     "metadata": {},
     "output_type": "display_data"
    },
    {
     "data": {
      "text/html": [
       "<pre>recommendations finished on 6000/206209 queries. users per second: 2885.29</pre>"
      ],
      "text/plain": [
       "recommendations finished on 6000/206209 queries. users per second: 2885.29"
      ]
     },
     "metadata": {},
     "output_type": "display_data"
    },
    {
     "data": {
      "text/html": [
       "<pre>recommendations finished on 7000/206209 queries. users per second: 2874.12</pre>"
      ],
      "text/plain": [
       "recommendations finished on 7000/206209 queries. users per second: 2874.12"
      ]
     },
     "metadata": {},
     "output_type": "display_data"
    },
    {
     "data": {
      "text/html": [
       "<pre>recommendations finished on 8000/206209 queries. users per second: 2873.52</pre>"
      ],
      "text/plain": [
       "recommendations finished on 8000/206209 queries. users per second: 2873.52"
      ]
     },
     "metadata": {},
     "output_type": "display_data"
    },
    {
     "data": {
      "text/html": [
       "<pre>recommendations finished on 9000/206209 queries. users per second: 2866.13</pre>"
      ],
      "text/plain": [
       "recommendations finished on 9000/206209 queries. users per second: 2866.13"
      ]
     },
     "metadata": {},
     "output_type": "display_data"
    },
    {
     "data": {
      "text/html": [
       "<pre>recommendations finished on 10000/206209 queries. users per second: 2865.72</pre>"
      ],
      "text/plain": [
       "recommendations finished on 10000/206209 queries. users per second: 2865.72"
      ]
     },
     "metadata": {},
     "output_type": "display_data"
    },
    {
     "data": {
      "text/html": [
       "<pre>recommendations finished on 11000/206209 queries. users per second: 2859.32</pre>"
      ],
      "text/plain": [
       "recommendations finished on 11000/206209 queries. users per second: 2859.32"
      ]
     },
     "metadata": {},
     "output_type": "display_data"
    },
    {
     "data": {
      "text/html": [
       "<pre>recommendations finished on 12000/206209 queries. users per second: 2854.49</pre>"
      ],
      "text/plain": [
       "recommendations finished on 12000/206209 queries. users per second: 2854.49"
      ]
     },
     "metadata": {},
     "output_type": "display_data"
    },
    {
     "data": {
      "text/html": [
       "<pre>recommendations finished on 13000/206209 queries. users per second: 2854.31</pre>"
      ],
      "text/plain": [
       "recommendations finished on 13000/206209 queries. users per second: 2854.31"
      ]
     },
     "metadata": {},
     "output_type": "display_data"
    },
    {
     "data": {
      "text/html": [
       "<pre>recommendations finished on 14000/206209 queries. users per second: 2852.67</pre>"
      ],
      "text/plain": [
       "recommendations finished on 14000/206209 queries. users per second: 2852.67"
      ]
     },
     "metadata": {},
     "output_type": "display_data"
    },
    {
     "data": {
      "text/html": [
       "<pre>recommendations finished on 15000/206209 queries. users per second: 2852.46</pre>"
      ],
      "text/plain": [
       "recommendations finished on 15000/206209 queries. users per second: 2852.46"
      ]
     },
     "metadata": {},
     "output_type": "display_data"
    },
    {
     "data": {
      "text/html": [
       "<pre>recommendations finished on 16000/206209 queries. users per second: 2852.54</pre>"
      ],
      "text/plain": [
       "recommendations finished on 16000/206209 queries. users per second: 2852.54"
      ]
     },
     "metadata": {},
     "output_type": "display_data"
    },
    {
     "data": {
      "text/html": [
       "<pre>recommendations finished on 17000/206209 queries. users per second: 2852.61</pre>"
      ],
      "text/plain": [
       "recommendations finished on 17000/206209 queries. users per second: 2852.61"
      ]
     },
     "metadata": {},
     "output_type": "display_data"
    },
    {
     "data": {
      "text/html": [
       "<pre>recommendations finished on 18000/206209 queries. users per second: 2852.25</pre>"
      ],
      "text/plain": [
       "recommendations finished on 18000/206209 queries. users per second: 2852.25"
      ]
     },
     "metadata": {},
     "output_type": "display_data"
    },
    {
     "data": {
      "text/html": [
       "<pre>recommendations finished on 19000/206209 queries. users per second: 2826.7</pre>"
      ],
      "text/plain": [
       "recommendations finished on 19000/206209 queries. users per second: 2826.7"
      ]
     },
     "metadata": {},
     "output_type": "display_data"
    },
    {
     "data": {
      "text/html": [
       "<pre>recommendations finished on 20000/206209 queries. users per second: 2789.98</pre>"
      ],
      "text/plain": [
       "recommendations finished on 20000/206209 queries. users per second: 2789.98"
      ]
     },
     "metadata": {},
     "output_type": "display_data"
    },
    {
     "data": {
      "text/html": [
       "<pre>recommendations finished on 21000/206209 queries. users per second: 2751.21</pre>"
      ],
      "text/plain": [
       "recommendations finished on 21000/206209 queries. users per second: 2751.21"
      ]
     },
     "metadata": {},
     "output_type": "display_data"
    },
    {
     "data": {
      "text/html": [
       "<pre>recommendations finished on 22000/206209 queries. users per second: 2720.02</pre>"
      ],
      "text/plain": [
       "recommendations finished on 22000/206209 queries. users per second: 2720.02"
      ]
     },
     "metadata": {},
     "output_type": "display_data"
    },
    {
     "data": {
      "text/html": [
       "<pre>recommendations finished on 23000/206209 queries. users per second: 2703.39</pre>"
      ],
      "text/plain": [
       "recommendations finished on 23000/206209 queries. users per second: 2703.39"
      ]
     },
     "metadata": {},
     "output_type": "display_data"
    },
    {
     "data": {
      "text/html": [
       "<pre>recommendations finished on 24000/206209 queries. users per second: 2677.78</pre>"
      ],
      "text/plain": [
       "recommendations finished on 24000/206209 queries. users per second: 2677.78"
      ]
     },
     "metadata": {},
     "output_type": "display_data"
    },
    {
     "data": {
      "text/html": [
       "<pre>recommendations finished on 25000/206209 queries. users per second: 2653.75</pre>"
      ],
      "text/plain": [
       "recommendations finished on 25000/206209 queries. users per second: 2653.75"
      ]
     },
     "metadata": {},
     "output_type": "display_data"
    },
    {
     "data": {
      "text/html": [
       "<pre>recommendations finished on 26000/206209 queries. users per second: 2637.31</pre>"
      ],
      "text/plain": [
       "recommendations finished on 26000/206209 queries. users per second: 2637.31"
      ]
     },
     "metadata": {},
     "output_type": "display_data"
    },
    {
     "data": {
      "text/html": [
       "<pre>recommendations finished on 27000/206209 queries. users per second: 2612.52</pre>"
      ],
      "text/plain": [
       "recommendations finished on 27000/206209 queries. users per second: 2612.52"
      ]
     },
     "metadata": {},
     "output_type": "display_data"
    },
    {
     "data": {
      "text/html": [
       "<pre>recommendations finished on 28000/206209 queries. users per second: 2602.62</pre>"
      ],
      "text/plain": [
       "recommendations finished on 28000/206209 queries. users per second: 2602.62"
      ]
     },
     "metadata": {},
     "output_type": "display_data"
    },
    {
     "data": {
      "text/html": [
       "<pre>recommendations finished on 29000/206209 queries. users per second: 2599.22</pre>"
      ],
      "text/plain": [
       "recommendations finished on 29000/206209 queries. users per second: 2599.22"
      ]
     },
     "metadata": {},
     "output_type": "display_data"
    },
    {
     "data": {
      "text/html": [
       "<pre>recommendations finished on 30000/206209 queries. users per second: 2596.5</pre>"
      ],
      "text/plain": [
       "recommendations finished on 30000/206209 queries. users per second: 2596.5"
      ]
     },
     "metadata": {},
     "output_type": "display_data"
    },
    {
     "data": {
      "text/html": [
       "<pre>recommendations finished on 31000/206209 queries. users per second: 2586.44</pre>"
      ],
      "text/plain": [
       "recommendations finished on 31000/206209 queries. users per second: 2586.44"
      ]
     },
     "metadata": {},
     "output_type": "display_data"
    },
    {
     "data": {
      "text/html": [
       "<pre>recommendations finished on 32000/206209 queries. users per second: 2573.8</pre>"
      ],
      "text/plain": [
       "recommendations finished on 32000/206209 queries. users per second: 2573.8"
      ]
     },
     "metadata": {},
     "output_type": "display_data"
    },
    {
     "data": {
      "text/html": [
       "<pre>recommendations finished on 33000/206209 queries. users per second: 2559.02</pre>"
      ],
      "text/plain": [
       "recommendations finished on 33000/206209 queries. users per second: 2559.02"
      ]
     },
     "metadata": {},
     "output_type": "display_data"
    },
    {
     "data": {
      "text/html": [
       "<pre>recommendations finished on 34000/206209 queries. users per second: 2553.23</pre>"
      ],
      "text/plain": [
       "recommendations finished on 34000/206209 queries. users per second: 2553.23"
      ]
     },
     "metadata": {},
     "output_type": "display_data"
    },
    {
     "data": {
      "text/html": [
       "<pre>recommendations finished on 35000/206209 queries. users per second: 2540.63</pre>"
      ],
      "text/plain": [
       "recommendations finished on 35000/206209 queries. users per second: 2540.63"
      ]
     },
     "metadata": {},
     "output_type": "display_data"
    },
    {
     "data": {
      "text/html": [
       "<pre>recommendations finished on 36000/206209 queries. users per second: 2531.61</pre>"
      ],
      "text/plain": [
       "recommendations finished on 36000/206209 queries. users per second: 2531.61"
      ]
     },
     "metadata": {},
     "output_type": "display_data"
    },
    {
     "data": {
      "text/html": [
       "<pre>recommendations finished on 37000/206209 queries. users per second: 2520.26</pre>"
      ],
      "text/plain": [
       "recommendations finished on 37000/206209 queries. users per second: 2520.26"
      ]
     },
     "metadata": {},
     "output_type": "display_data"
    },
    {
     "data": {
      "text/html": [
       "<pre>recommendations finished on 38000/206209 queries. users per second: 2511.98</pre>"
      ],
      "text/plain": [
       "recommendations finished on 38000/206209 queries. users per second: 2511.98"
      ]
     },
     "metadata": {},
     "output_type": "display_data"
    },
    {
     "data": {
      "text/html": [
       "<pre>recommendations finished on 39000/206209 queries. users per second: 2506.51</pre>"
      ],
      "text/plain": [
       "recommendations finished on 39000/206209 queries. users per second: 2506.51"
      ]
     },
     "metadata": {},
     "output_type": "display_data"
    },
    {
     "data": {
      "text/html": [
       "<pre>recommendations finished on 40000/206209 queries. users per second: 2499.87</pre>"
      ],
      "text/plain": [
       "recommendations finished on 40000/206209 queries. users per second: 2499.87"
      ]
     },
     "metadata": {},
     "output_type": "display_data"
    },
    {
     "data": {
      "text/html": [
       "<pre>recommendations finished on 41000/206209 queries. users per second: 2493.37</pre>"
      ],
      "text/plain": [
       "recommendations finished on 41000/206209 queries. users per second: 2493.37"
      ]
     },
     "metadata": {},
     "output_type": "display_data"
    },
    {
     "data": {
      "text/html": [
       "<pre>recommendations finished on 42000/206209 queries. users per second: 2488.74</pre>"
      ],
      "text/plain": [
       "recommendations finished on 42000/206209 queries. users per second: 2488.74"
      ]
     },
     "metadata": {},
     "output_type": "display_data"
    },
    {
     "data": {
      "text/html": [
       "<pre>recommendations finished on 43000/206209 queries. users per second: 2489.36</pre>"
      ],
      "text/plain": [
       "recommendations finished on 43000/206209 queries. users per second: 2489.36"
      ]
     },
     "metadata": {},
     "output_type": "display_data"
    },
    {
     "data": {
      "text/html": [
       "<pre>recommendations finished on 44000/206209 queries. users per second: 2484.72</pre>"
      ],
      "text/plain": [
       "recommendations finished on 44000/206209 queries. users per second: 2484.72"
      ]
     },
     "metadata": {},
     "output_type": "display_data"
    },
    {
     "data": {
      "text/html": [
       "<pre>recommendations finished on 45000/206209 queries. users per second: 2474.97</pre>"
      ],
      "text/plain": [
       "recommendations finished on 45000/206209 queries. users per second: 2474.97"
      ]
     },
     "metadata": {},
     "output_type": "display_data"
    },
    {
     "data": {
      "text/html": [
       "<pre>recommendations finished on 46000/206209 queries. users per second: 2468.93</pre>"
      ],
      "text/plain": [
       "recommendations finished on 46000/206209 queries. users per second: 2468.93"
      ]
     },
     "metadata": {},
     "output_type": "display_data"
    },
    {
     "data": {
      "text/html": [
       "<pre>recommendations finished on 47000/206209 queries. users per second: 2475.63</pre>"
      ],
      "text/plain": [
       "recommendations finished on 47000/206209 queries. users per second: 2475.63"
      ]
     },
     "metadata": {},
     "output_type": "display_data"
    },
    {
     "data": {
      "text/html": [
       "<pre>recommendations finished on 48000/206209 queries. users per second: 2482.28</pre>"
      ],
      "text/plain": [
       "recommendations finished on 48000/206209 queries. users per second: 2482.28"
      ]
     },
     "metadata": {},
     "output_type": "display_data"
    },
    {
     "data": {
      "text/html": [
       "<pre>recommendations finished on 49000/206209 queries. users per second: 2488.63</pre>"
      ],
      "text/plain": [
       "recommendations finished on 49000/206209 queries. users per second: 2488.63"
      ]
     },
     "metadata": {},
     "output_type": "display_data"
    },
    {
     "data": {
      "text/html": [
       "<pre>recommendations finished on 50000/206209 queries. users per second: 2493.81</pre>"
      ],
      "text/plain": [
       "recommendations finished on 50000/206209 queries. users per second: 2493.81"
      ]
     },
     "metadata": {},
     "output_type": "display_data"
    },
    {
     "data": {
      "text/html": [
       "<pre>recommendations finished on 51000/206209 queries. users per second: 2499.66</pre>"
      ],
      "text/plain": [
       "recommendations finished on 51000/206209 queries. users per second: 2499.66"
      ]
     },
     "metadata": {},
     "output_type": "display_data"
    },
    {
     "data": {
      "text/html": [
       "<pre>recommendations finished on 52000/206209 queries. users per second: 2505.38</pre>"
      ],
      "text/plain": [
       "recommendations finished on 52000/206209 queries. users per second: 2505.38"
      ]
     },
     "metadata": {},
     "output_type": "display_data"
    },
    {
     "data": {
      "text/html": [
       "<pre>recommendations finished on 53000/206209 queries. users per second: 2510.88</pre>"
      ],
      "text/plain": [
       "recommendations finished on 53000/206209 queries. users per second: 2510.88"
      ]
     },
     "metadata": {},
     "output_type": "display_data"
    },
    {
     "data": {
      "text/html": [
       "<pre>recommendations finished on 54000/206209 queries. users per second: 2515.87</pre>"
      ],
      "text/plain": [
       "recommendations finished on 54000/206209 queries. users per second: 2515.87"
      ]
     },
     "metadata": {},
     "output_type": "display_data"
    },
    {
     "data": {
      "text/html": [
       "<pre>recommendations finished on 55000/206209 queries. users per second: 2520.9</pre>"
      ],
      "text/plain": [
       "recommendations finished on 55000/206209 queries. users per second: 2520.9"
      ]
     },
     "metadata": {},
     "output_type": "display_data"
    },
    {
     "data": {
      "text/html": [
       "<pre>recommendations finished on 56000/206209 queries. users per second: 2525.93</pre>"
      ],
      "text/plain": [
       "recommendations finished on 56000/206209 queries. users per second: 2525.93"
      ]
     },
     "metadata": {},
     "output_type": "display_data"
    },
    {
     "data": {
      "text/html": [
       "<pre>recommendations finished on 57000/206209 queries. users per second: 2530.83</pre>"
      ],
      "text/plain": [
       "recommendations finished on 57000/206209 queries. users per second: 2530.83"
      ]
     },
     "metadata": {},
     "output_type": "display_data"
    },
    {
     "data": {
      "text/html": [
       "<pre>recommendations finished on 58000/206209 queries. users per second: 2535.63</pre>"
      ],
      "text/plain": [
       "recommendations finished on 58000/206209 queries. users per second: 2535.63"
      ]
     },
     "metadata": {},
     "output_type": "display_data"
    },
    {
     "data": {
      "text/html": [
       "<pre>recommendations finished on 59000/206209 queries. users per second: 2540.28</pre>"
      ],
      "text/plain": [
       "recommendations finished on 59000/206209 queries. users per second: 2540.28"
      ]
     },
     "metadata": {},
     "output_type": "display_data"
    },
    {
     "data": {
      "text/html": [
       "<pre>recommendations finished on 60000/206209 queries. users per second: 2544.67</pre>"
      ],
      "text/plain": [
       "recommendations finished on 60000/206209 queries. users per second: 2544.67"
      ]
     },
     "metadata": {},
     "output_type": "display_data"
    },
    {
     "data": {
      "text/html": [
       "<pre>recommendations finished on 61000/206209 queries. users per second: 2548.98</pre>"
      ],
      "text/plain": [
       "recommendations finished on 61000/206209 queries. users per second: 2548.98"
      ]
     },
     "metadata": {},
     "output_type": "display_data"
    },
    {
     "data": {
      "text/html": [
       "<pre>recommendations finished on 62000/206209 queries. users per second: 2553.13</pre>"
      ],
      "text/plain": [
       "recommendations finished on 62000/206209 queries. users per second: 2553.13"
      ]
     },
     "metadata": {},
     "output_type": "display_data"
    },
    {
     "data": {
      "text/html": [
       "<pre>recommendations finished on 63000/206209 queries. users per second: 2557.17</pre>"
      ],
      "text/plain": [
       "recommendations finished on 63000/206209 queries. users per second: 2557.17"
      ]
     },
     "metadata": {},
     "output_type": "display_data"
    },
    {
     "data": {
      "text/html": [
       "<pre>recommendations finished on 64000/206209 queries. users per second: 2561.04</pre>"
      ],
      "text/plain": [
       "recommendations finished on 64000/206209 queries. users per second: 2561.04"
      ]
     },
     "metadata": {},
     "output_type": "display_data"
    },
    {
     "data": {
      "text/html": [
       "<pre>recommendations finished on 65000/206209 queries. users per second: 2564.83</pre>"
      ],
      "text/plain": [
       "recommendations finished on 65000/206209 queries. users per second: 2564.83"
      ]
     },
     "metadata": {},
     "output_type": "display_data"
    },
    {
     "data": {
      "text/html": [
       "<pre>recommendations finished on 66000/206209 queries. users per second: 2568.59</pre>"
      ],
      "text/plain": [
       "recommendations finished on 66000/206209 queries. users per second: 2568.59"
      ]
     },
     "metadata": {},
     "output_type": "display_data"
    },
    {
     "data": {
      "text/html": [
       "<pre>recommendations finished on 67000/206209 queries. users per second: 2566.03</pre>"
      ],
      "text/plain": [
       "recommendations finished on 67000/206209 queries. users per second: 2566.03"
      ]
     },
     "metadata": {},
     "output_type": "display_data"
    },
    {
     "data": {
      "text/html": [
       "<pre>recommendations finished on 68000/206209 queries. users per second: 2560.22</pre>"
      ],
      "text/plain": [
       "recommendations finished on 68000/206209 queries. users per second: 2560.22"
      ]
     },
     "metadata": {},
     "output_type": "display_data"
    },
    {
     "data": {
      "text/html": [
       "<pre>recommendations finished on 69000/206209 queries. users per second: 2556.75</pre>"
      ],
      "text/plain": [
       "recommendations finished on 69000/206209 queries. users per second: 2556.75"
      ]
     },
     "metadata": {},
     "output_type": "display_data"
    },
    {
     "data": {
      "text/html": [
       "<pre>recommendations finished on 70000/206209 queries. users per second: 2554.96</pre>"
      ],
      "text/plain": [
       "recommendations finished on 70000/206209 queries. users per second: 2554.96"
      ]
     },
     "metadata": {},
     "output_type": "display_data"
    },
    {
     "data": {
      "text/html": [
       "<pre>recommendations finished on 71000/206209 queries. users per second: 2549.85</pre>"
      ],
      "text/plain": [
       "recommendations finished on 71000/206209 queries. users per second: 2549.85"
      ]
     },
     "metadata": {},
     "output_type": "display_data"
    },
    {
     "data": {
      "text/html": [
       "<pre>recommendations finished on 72000/206209 queries. users per second: 2548.63</pre>"
      ],
      "text/plain": [
       "recommendations finished on 72000/206209 queries. users per second: 2548.63"
      ]
     },
     "metadata": {},
     "output_type": "display_data"
    },
    {
     "data": {
      "text/html": [
       "<pre>recommendations finished on 73000/206209 queries. users per second: 2543.22</pre>"
      ],
      "text/plain": [
       "recommendations finished on 73000/206209 queries. users per second: 2543.22"
      ]
     },
     "metadata": {},
     "output_type": "display_data"
    },
    {
     "data": {
      "text/html": [
       "<pre>recommendations finished on 74000/206209 queries. users per second: 2539.2</pre>"
      ],
      "text/plain": [
       "recommendations finished on 74000/206209 queries. users per second: 2539.2"
      ]
     },
     "metadata": {},
     "output_type": "display_data"
    },
    {
     "data": {
      "text/html": [
       "<pre>recommendations finished on 75000/206209 queries. users per second: 2531.86</pre>"
      ],
      "text/plain": [
       "recommendations finished on 75000/206209 queries. users per second: 2531.86"
      ]
     },
     "metadata": {},
     "output_type": "display_data"
    },
    {
     "data": {
      "text/html": [
       "<pre>recommendations finished on 76000/206209 queries. users per second: 2520.76</pre>"
      ],
      "text/plain": [
       "recommendations finished on 76000/206209 queries. users per second: 2520.76"
      ]
     },
     "metadata": {},
     "output_type": "display_data"
    },
    {
     "data": {
      "text/html": [
       "<pre>recommendations finished on 77000/206209 queries. users per second: 2508.14</pre>"
      ],
      "text/plain": [
       "recommendations finished on 77000/206209 queries. users per second: 2508.14"
      ]
     },
     "metadata": {},
     "output_type": "display_data"
    },
    {
     "data": {
      "text/html": [
       "<pre>recommendations finished on 78000/206209 queries. users per second: 2500.17</pre>"
      ],
      "text/plain": [
       "recommendations finished on 78000/206209 queries. users per second: 2500.17"
      ]
     },
     "metadata": {},
     "output_type": "display_data"
    },
    {
     "data": {
      "text/html": [
       "<pre>recommendations finished on 79000/206209 queries. users per second: 2491.63</pre>"
      ],
      "text/plain": [
       "recommendations finished on 79000/206209 queries. users per second: 2491.63"
      ]
     },
     "metadata": {},
     "output_type": "display_data"
    },
    {
     "data": {
      "text/html": [
       "<pre>recommendations finished on 80000/206209 queries. users per second: 2480.87</pre>"
      ],
      "text/plain": [
       "recommendations finished on 80000/206209 queries. users per second: 2480.87"
      ]
     },
     "metadata": {},
     "output_type": "display_data"
    },
    {
     "data": {
      "text/html": [
       "<pre>recommendations finished on 81000/206209 queries. users per second: 2474.43</pre>"
      ],
      "text/plain": [
       "recommendations finished on 81000/206209 queries. users per second: 2474.43"
      ]
     },
     "metadata": {},
     "output_type": "display_data"
    },
    {
     "data": {
      "text/html": [
       "<pre>recommendations finished on 82000/206209 queries. users per second: 2463.83</pre>"
      ],
      "text/plain": [
       "recommendations finished on 82000/206209 queries. users per second: 2463.83"
      ]
     },
     "metadata": {},
     "output_type": "display_data"
    },
    {
     "data": {
      "text/html": [
       "<pre>recommendations finished on 83000/206209 queries. users per second: 2455.61</pre>"
      ],
      "text/plain": [
       "recommendations finished on 83000/206209 queries. users per second: 2455.61"
      ]
     },
     "metadata": {},
     "output_type": "display_data"
    },
    {
     "data": {
      "text/html": [
       "<pre>recommendations finished on 84000/206209 queries. users per second: 2446.11</pre>"
      ],
      "text/plain": [
       "recommendations finished on 84000/206209 queries. users per second: 2446.11"
      ]
     },
     "metadata": {},
     "output_type": "display_data"
    },
    {
     "data": {
      "text/html": [
       "<pre>recommendations finished on 85000/206209 queries. users per second: 2440.21</pre>"
      ],
      "text/plain": [
       "recommendations finished on 85000/206209 queries. users per second: 2440.21"
      ]
     },
     "metadata": {},
     "output_type": "display_data"
    },
    {
     "data": {
      "text/html": [
       "<pre>recommendations finished on 86000/206209 queries. users per second: 2434.04</pre>"
      ],
      "text/plain": [
       "recommendations finished on 86000/206209 queries. users per second: 2434.04"
      ]
     },
     "metadata": {},
     "output_type": "display_data"
    },
    {
     "data": {
      "text/html": [
       "<pre>recommendations finished on 87000/206209 queries. users per second: 2427.61</pre>"
      ],
      "text/plain": [
       "recommendations finished on 87000/206209 queries. users per second: 2427.61"
      ]
     },
     "metadata": {},
     "output_type": "display_data"
    },
    {
     "data": {
      "text/html": [
       "<pre>recommendations finished on 88000/206209 queries. users per second: 2426.42</pre>"
      ],
      "text/plain": [
       "recommendations finished on 88000/206209 queries. users per second: 2426.42"
      ]
     },
     "metadata": {},
     "output_type": "display_data"
    },
    {
     "data": {
      "text/html": [
       "<pre>recommendations finished on 89000/206209 queries. users per second: 2426.52</pre>"
      ],
      "text/plain": [
       "recommendations finished on 89000/206209 queries. users per second: 2426.52"
      ]
     },
     "metadata": {},
     "output_type": "display_data"
    },
    {
     "data": {
      "text/html": [
       "<pre>recommendations finished on 90000/206209 queries. users per second: 2424.88</pre>"
      ],
      "text/plain": [
       "recommendations finished on 90000/206209 queries. users per second: 2424.88"
      ]
     },
     "metadata": {},
     "output_type": "display_data"
    },
    {
     "data": {
      "text/html": [
       "<pre>recommendations finished on 91000/206209 queries. users per second: 2423.69</pre>"
      ],
      "text/plain": [
       "recommendations finished on 91000/206209 queries. users per second: 2423.69"
      ]
     },
     "metadata": {},
     "output_type": "display_data"
    },
    {
     "data": {
      "text/html": [
       "<pre>recommendations finished on 92000/206209 queries. users per second: 2422.57</pre>"
      ],
      "text/plain": [
       "recommendations finished on 92000/206209 queries. users per second: 2422.57"
      ]
     },
     "metadata": {},
     "output_type": "display_data"
    },
    {
     "data": {
      "text/html": [
       "<pre>recommendations finished on 93000/206209 queries. users per second: 2422.14</pre>"
      ],
      "text/plain": [
       "recommendations finished on 93000/206209 queries. users per second: 2422.14"
      ]
     },
     "metadata": {},
     "output_type": "display_data"
    },
    {
     "data": {
      "text/html": [
       "<pre>recommendations finished on 94000/206209 queries. users per second: 2421.34</pre>"
      ],
      "text/plain": [
       "recommendations finished on 94000/206209 queries. users per second: 2421.34"
      ]
     },
     "metadata": {},
     "output_type": "display_data"
    },
    {
     "data": {
      "text/html": [
       "<pre>recommendations finished on 95000/206209 queries. users per second: 2418.8</pre>"
      ],
      "text/plain": [
       "recommendations finished on 95000/206209 queries. users per second: 2418.8"
      ]
     },
     "metadata": {},
     "output_type": "display_data"
    },
    {
     "data": {
      "text/html": [
       "<pre>recommendations finished on 96000/206209 queries. users per second: 2417.48</pre>"
      ],
      "text/plain": [
       "recommendations finished on 96000/206209 queries. users per second: 2417.48"
      ]
     },
     "metadata": {},
     "output_type": "display_data"
    },
    {
     "data": {
      "text/html": [
       "<pre>recommendations finished on 97000/206209 queries. users per second: 2418.17</pre>"
      ],
      "text/plain": [
       "recommendations finished on 97000/206209 queries. users per second: 2418.17"
      ]
     },
     "metadata": {},
     "output_type": "display_data"
    },
    {
     "data": {
      "text/html": [
       "<pre>recommendations finished on 98000/206209 queries. users per second: 2419.1</pre>"
      ],
      "text/plain": [
       "recommendations finished on 98000/206209 queries. users per second: 2419.1"
      ]
     },
     "metadata": {},
     "output_type": "display_data"
    },
    {
     "data": {
      "text/html": [
       "<pre>recommendations finished on 99000/206209 queries. users per second: 2417.61</pre>"
      ],
      "text/plain": [
       "recommendations finished on 99000/206209 queries. users per second: 2417.61"
      ]
     },
     "metadata": {},
     "output_type": "display_data"
    },
    {
     "data": {
      "text/html": [
       "<pre>recommendations finished on 100000/206209 queries. users per second: 2418.53</pre>"
      ],
      "text/plain": [
       "recommendations finished on 100000/206209 queries. users per second: 2418.53"
      ]
     },
     "metadata": {},
     "output_type": "display_data"
    },
    {
     "data": {
      "text/html": [
       "<pre>recommendations finished on 101000/206209 queries. users per second: 2416.77</pre>"
      ],
      "text/plain": [
       "recommendations finished on 101000/206209 queries. users per second: 2416.77"
      ]
     },
     "metadata": {},
     "output_type": "display_data"
    },
    {
     "data": {
      "text/html": [
       "<pre>recommendations finished on 102000/206209 queries. users per second: 2416.74</pre>"
      ],
      "text/plain": [
       "recommendations finished on 102000/206209 queries. users per second: 2416.74"
      ]
     },
     "metadata": {},
     "output_type": "display_data"
    },
    {
     "data": {
      "text/html": [
       "<pre>recommendations finished on 103000/206209 queries. users per second: 2414.2</pre>"
      ],
      "text/plain": [
       "recommendations finished on 103000/206209 queries. users per second: 2414.2"
      ]
     },
     "metadata": {},
     "output_type": "display_data"
    },
    {
     "data": {
      "text/html": [
       "<pre>recommendations finished on 104000/206209 queries. users per second: 2411.85</pre>"
      ],
      "text/plain": [
       "recommendations finished on 104000/206209 queries. users per second: 2411.85"
      ]
     },
     "metadata": {},
     "output_type": "display_data"
    },
    {
     "data": {
      "text/html": [
       "<pre>recommendations finished on 105000/206209 queries. users per second: 2409.03</pre>"
      ],
      "text/plain": [
       "recommendations finished on 105000/206209 queries. users per second: 2409.03"
      ]
     },
     "metadata": {},
     "output_type": "display_data"
    },
    {
     "data": {
      "text/html": [
       "<pre>recommendations finished on 106000/206209 queries. users per second: 2408.17</pre>"
      ],
      "text/plain": [
       "recommendations finished on 106000/206209 queries. users per second: 2408.17"
      ]
     },
     "metadata": {},
     "output_type": "display_data"
    },
    {
     "data": {
      "text/html": [
       "<pre>recommendations finished on 107000/206209 queries. users per second: 2406.03</pre>"
      ],
      "text/plain": [
       "recommendations finished on 107000/206209 queries. users per second: 2406.03"
      ]
     },
     "metadata": {},
     "output_type": "display_data"
    },
    {
     "data": {
      "text/html": [
       "<pre>recommendations finished on 108000/206209 queries. users per second: 2404.06</pre>"
      ],
      "text/plain": [
       "recommendations finished on 108000/206209 queries. users per second: 2404.06"
      ]
     },
     "metadata": {},
     "output_type": "display_data"
    },
    {
     "data": {
      "text/html": [
       "<pre>recommendations finished on 109000/206209 queries. users per second: 2403.27</pre>"
      ],
      "text/plain": [
       "recommendations finished on 109000/206209 queries. users per second: 2403.27"
      ]
     },
     "metadata": {},
     "output_type": "display_data"
    },
    {
     "data": {
      "text/html": [
       "<pre>recommendations finished on 110000/206209 queries. users per second: 2401.32</pre>"
      ],
      "text/plain": [
       "recommendations finished on 110000/206209 queries. users per second: 2401.32"
      ]
     },
     "metadata": {},
     "output_type": "display_data"
    },
    {
     "data": {
      "text/html": [
       "<pre>recommendations finished on 111000/206209 queries. users per second: 2400.07</pre>"
      ],
      "text/plain": [
       "recommendations finished on 111000/206209 queries. users per second: 2400.07"
      ]
     },
     "metadata": {},
     "output_type": "display_data"
    },
    {
     "data": {
      "text/html": [
       "<pre>recommendations finished on 112000/206209 queries. users per second: 2398.74</pre>"
      ],
      "text/plain": [
       "recommendations finished on 112000/206209 queries. users per second: 2398.74"
      ]
     },
     "metadata": {},
     "output_type": "display_data"
    },
    {
     "data": {
      "text/html": [
       "<pre>recommendations finished on 113000/206209 queries. users per second: 2399.54</pre>"
      ],
      "text/plain": [
       "recommendations finished on 113000/206209 queries. users per second: 2399.54"
      ]
     },
     "metadata": {},
     "output_type": "display_data"
    },
    {
     "data": {
      "text/html": [
       "<pre>recommendations finished on 114000/206209 queries. users per second: 2400.53</pre>"
      ],
      "text/plain": [
       "recommendations finished on 114000/206209 queries. users per second: 2400.53"
      ]
     },
     "metadata": {},
     "output_type": "display_data"
    },
    {
     "data": {
      "text/html": [
       "<pre>recommendations finished on 115000/206209 queries. users per second: 2398.82</pre>"
      ],
      "text/plain": [
       "recommendations finished on 115000/206209 queries. users per second: 2398.82"
      ]
     },
     "metadata": {},
     "output_type": "display_data"
    },
    {
     "data": {
      "text/html": [
       "<pre>recommendations finished on 116000/206209 queries. users per second: 2398.35</pre>"
      ],
      "text/plain": [
       "recommendations finished on 116000/206209 queries. users per second: 2398.35"
      ]
     },
     "metadata": {},
     "output_type": "display_data"
    },
    {
     "data": {
      "text/html": [
       "<pre>recommendations finished on 117000/206209 queries. users per second: 2397.66</pre>"
      ],
      "text/plain": [
       "recommendations finished on 117000/206209 queries. users per second: 2397.66"
      ]
     },
     "metadata": {},
     "output_type": "display_data"
    },
    {
     "data": {
      "text/html": [
       "<pre>recommendations finished on 118000/206209 queries. users per second: 2396.27</pre>"
      ],
      "text/plain": [
       "recommendations finished on 118000/206209 queries. users per second: 2396.27"
      ]
     },
     "metadata": {},
     "output_type": "display_data"
    },
    {
     "data": {
      "text/html": [
       "<pre>recommendations finished on 119000/206209 queries. users per second: 2396.58</pre>"
      ],
      "text/plain": [
       "recommendations finished on 119000/206209 queries. users per second: 2396.58"
      ]
     },
     "metadata": {},
     "output_type": "display_data"
    },
    {
     "data": {
      "text/html": [
       "<pre>recommendations finished on 120000/206209 queries. users per second: 2395.04</pre>"
      ],
      "text/plain": [
       "recommendations finished on 120000/206209 queries. users per second: 2395.04"
      ]
     },
     "metadata": {},
     "output_type": "display_data"
    },
    {
     "data": {
      "text/html": [
       "<pre>recommendations finished on 121000/206209 queries. users per second: 2393.92</pre>"
      ],
      "text/plain": [
       "recommendations finished on 121000/206209 queries. users per second: 2393.92"
      ]
     },
     "metadata": {},
     "output_type": "display_data"
    },
    {
     "data": {
      "text/html": [
       "<pre>recommendations finished on 122000/206209 queries. users per second: 2392.15</pre>"
      ],
      "text/plain": [
       "recommendations finished on 122000/206209 queries. users per second: 2392.15"
      ]
     },
     "metadata": {},
     "output_type": "display_data"
    },
    {
     "data": {
      "text/html": [
       "<pre>recommendations finished on 123000/206209 queries. users per second: 2390.98</pre>"
      ],
      "text/plain": [
       "recommendations finished on 123000/206209 queries. users per second: 2390.98"
      ]
     },
     "metadata": {},
     "output_type": "display_data"
    },
    {
     "data": {
      "text/html": [
       "<pre>recommendations finished on 124000/206209 queries. users per second: 2388.93</pre>"
      ],
      "text/plain": [
       "recommendations finished on 124000/206209 queries. users per second: 2388.93"
      ]
     },
     "metadata": {},
     "output_type": "display_data"
    },
    {
     "data": {
      "text/html": [
       "<pre>recommendations finished on 125000/206209 queries. users per second: 2388.48</pre>"
      ],
      "text/plain": [
       "recommendations finished on 125000/206209 queries. users per second: 2388.48"
      ]
     },
     "metadata": {},
     "output_type": "display_data"
    },
    {
     "data": {
      "text/html": [
       "<pre>recommendations finished on 126000/206209 queries. users per second: 2387.33</pre>"
      ],
      "text/plain": [
       "recommendations finished on 126000/206209 queries. users per second: 2387.33"
      ]
     },
     "metadata": {},
     "output_type": "display_data"
    },
    {
     "data": {
      "text/html": [
       "<pre>recommendations finished on 127000/206209 queries. users per second: 2385.5</pre>"
      ],
      "text/plain": [
       "recommendations finished on 127000/206209 queries. users per second: 2385.5"
      ]
     },
     "metadata": {},
     "output_type": "display_data"
    },
    {
     "data": {
      "text/html": [
       "<pre>recommendations finished on 128000/206209 queries. users per second: 2385.27</pre>"
      ],
      "text/plain": [
       "recommendations finished on 128000/206209 queries. users per second: 2385.27"
      ]
     },
     "metadata": {},
     "output_type": "display_data"
    },
    {
     "data": {
      "text/html": [
       "<pre>recommendations finished on 129000/206209 queries. users per second: 2386.18</pre>"
      ],
      "text/plain": [
       "recommendations finished on 129000/206209 queries. users per second: 2386.18"
      ]
     },
     "metadata": {},
     "output_type": "display_data"
    },
    {
     "data": {
      "text/html": [
       "<pre>recommendations finished on 130000/206209 queries. users per second: 2385.57</pre>"
      ],
      "text/plain": [
       "recommendations finished on 130000/206209 queries. users per second: 2385.57"
      ]
     },
     "metadata": {},
     "output_type": "display_data"
    },
    {
     "data": {
      "text/html": [
       "<pre>recommendations finished on 131000/206209 queries. users per second: 2384.96</pre>"
      ],
      "text/plain": [
       "recommendations finished on 131000/206209 queries. users per second: 2384.96"
      ]
     },
     "metadata": {},
     "output_type": "display_data"
    },
    {
     "data": {
      "text/html": [
       "<pre>recommendations finished on 132000/206209 queries. users per second: 2385.34</pre>"
      ],
      "text/plain": [
       "recommendations finished on 132000/206209 queries. users per second: 2385.34"
      ]
     },
     "metadata": {},
     "output_type": "display_data"
    },
    {
     "data": {
      "text/html": [
       "<pre>recommendations finished on 133000/206209 queries. users per second: 2385.23</pre>"
      ],
      "text/plain": [
       "recommendations finished on 133000/206209 queries. users per second: 2385.23"
      ]
     },
     "metadata": {},
     "output_type": "display_data"
    },
    {
     "data": {
      "text/html": [
       "<pre>recommendations finished on 134000/206209 queries. users per second: 2384.67</pre>"
      ],
      "text/plain": [
       "recommendations finished on 134000/206209 queries. users per second: 2384.67"
      ]
     },
     "metadata": {},
     "output_type": "display_data"
    },
    {
     "data": {
      "text/html": [
       "<pre>recommendations finished on 135000/206209 queries. users per second: 2384.2</pre>"
      ],
      "text/plain": [
       "recommendations finished on 135000/206209 queries. users per second: 2384.2"
      ]
     },
     "metadata": {},
     "output_type": "display_data"
    },
    {
     "data": {
      "text/html": [
       "<pre>recommendations finished on 136000/206209 queries. users per second: 2383.64</pre>"
      ],
      "text/plain": [
       "recommendations finished on 136000/206209 queries. users per second: 2383.64"
      ]
     },
     "metadata": {},
     "output_type": "display_data"
    },
    {
     "data": {
      "text/html": [
       "<pre>recommendations finished on 137000/206209 queries. users per second: 2382.53</pre>"
      ],
      "text/plain": [
       "recommendations finished on 137000/206209 queries. users per second: 2382.53"
      ]
     },
     "metadata": {},
     "output_type": "display_data"
    },
    {
     "data": {
      "text/html": [
       "<pre>recommendations finished on 138000/206209 queries. users per second: 2382.04</pre>"
      ],
      "text/plain": [
       "recommendations finished on 138000/206209 queries. users per second: 2382.04"
      ]
     },
     "metadata": {},
     "output_type": "display_data"
    },
    {
     "data": {
      "text/html": [
       "<pre>recommendations finished on 139000/206209 queries. users per second: 2381.42</pre>"
      ],
      "text/plain": [
       "recommendations finished on 139000/206209 queries. users per second: 2381.42"
      ]
     },
     "metadata": {},
     "output_type": "display_data"
    },
    {
     "data": {
      "text/html": [
       "<pre>recommendations finished on 140000/206209 queries. users per second: 2381.72</pre>"
      ],
      "text/plain": [
       "recommendations finished on 140000/206209 queries. users per second: 2381.72"
      ]
     },
     "metadata": {},
     "output_type": "display_data"
    },
    {
     "data": {
      "text/html": [
       "<pre>recommendations finished on 141000/206209 queries. users per second: 2381.91</pre>"
      ],
      "text/plain": [
       "recommendations finished on 141000/206209 queries. users per second: 2381.91"
      ]
     },
     "metadata": {},
     "output_type": "display_data"
    },
    {
     "data": {
      "text/html": [
       "<pre>recommendations finished on 142000/206209 queries. users per second: 2380.58</pre>"
      ],
      "text/plain": [
       "recommendations finished on 142000/206209 queries. users per second: 2380.58"
      ]
     },
     "metadata": {},
     "output_type": "display_data"
    },
    {
     "data": {
      "text/html": [
       "<pre>recommendations finished on 143000/206209 queries. users per second: 2380.49</pre>"
      ],
      "text/plain": [
       "recommendations finished on 143000/206209 queries. users per second: 2380.49"
      ]
     },
     "metadata": {},
     "output_type": "display_data"
    },
    {
     "data": {
      "text/html": [
       "<pre>recommendations finished on 144000/206209 queries. users per second: 2381.1</pre>"
      ],
      "text/plain": [
       "recommendations finished on 144000/206209 queries. users per second: 2381.1"
      ]
     },
     "metadata": {},
     "output_type": "display_data"
    },
    {
     "data": {
      "text/html": [
       "<pre>recommendations finished on 145000/206209 queries. users per second: 2380.65</pre>"
      ],
      "text/plain": [
       "recommendations finished on 145000/206209 queries. users per second: 2380.65"
      ]
     },
     "metadata": {},
     "output_type": "display_data"
    },
    {
     "data": {
      "text/html": [
       "<pre>recommendations finished on 146000/206209 queries. users per second: 2379.57</pre>"
      ],
      "text/plain": [
       "recommendations finished on 146000/206209 queries. users per second: 2379.57"
      ]
     },
     "metadata": {},
     "output_type": "display_data"
    },
    {
     "data": {
      "text/html": [
       "<pre>recommendations finished on 147000/206209 queries. users per second: 2379.24</pre>"
      ],
      "text/plain": [
       "recommendations finished on 147000/206209 queries. users per second: 2379.24"
      ]
     },
     "metadata": {},
     "output_type": "display_data"
    },
    {
     "data": {
      "text/html": [
       "<pre>recommendations finished on 148000/206209 queries. users per second: 2378.68</pre>"
      ],
      "text/plain": [
       "recommendations finished on 148000/206209 queries. users per second: 2378.68"
      ]
     },
     "metadata": {},
     "output_type": "display_data"
    },
    {
     "data": {
      "text/html": [
       "<pre>recommendations finished on 149000/206209 queries. users per second: 2377.82</pre>"
      ],
      "text/plain": [
       "recommendations finished on 149000/206209 queries. users per second: 2377.82"
      ]
     },
     "metadata": {},
     "output_type": "display_data"
    },
    {
     "data": {
      "text/html": [
       "<pre>recommendations finished on 150000/206209 queries. users per second: 2376.74</pre>"
      ],
      "text/plain": [
       "recommendations finished on 150000/206209 queries. users per second: 2376.74"
      ]
     },
     "metadata": {},
     "output_type": "display_data"
    },
    {
     "data": {
      "text/html": [
       "<pre>recommendations finished on 151000/206209 queries. users per second: 2376.88</pre>"
      ],
      "text/plain": [
       "recommendations finished on 151000/206209 queries. users per second: 2376.88"
      ]
     },
     "metadata": {},
     "output_type": "display_data"
    },
    {
     "data": {
      "text/html": [
       "<pre>recommendations finished on 152000/206209 queries. users per second: 2375.79</pre>"
      ],
      "text/plain": [
       "recommendations finished on 152000/206209 queries. users per second: 2375.79"
      ]
     },
     "metadata": {},
     "output_type": "display_data"
    },
    {
     "data": {
      "text/html": [
       "<pre>recommendations finished on 153000/206209 queries. users per second: 2375.6</pre>"
      ],
      "text/plain": [
       "recommendations finished on 153000/206209 queries. users per second: 2375.6"
      ]
     },
     "metadata": {},
     "output_type": "display_data"
    },
    {
     "data": {
      "text/html": [
       "<pre>recommendations finished on 154000/206209 queries. users per second: 2373.03</pre>"
      ],
      "text/plain": [
       "recommendations finished on 154000/206209 queries. users per second: 2373.03"
      ]
     },
     "metadata": {},
     "output_type": "display_data"
    },
    {
     "data": {
      "text/html": [
       "<pre>recommendations finished on 155000/206209 queries. users per second: 2369.91</pre>"
      ],
      "text/plain": [
       "recommendations finished on 155000/206209 queries. users per second: 2369.91"
      ]
     },
     "metadata": {},
     "output_type": "display_data"
    },
    {
     "data": {
      "text/html": [
       "<pre>recommendations finished on 156000/206209 queries. users per second: 2367.03</pre>"
      ],
      "text/plain": [
       "recommendations finished on 156000/206209 queries. users per second: 2367.03"
      ]
     },
     "metadata": {},
     "output_type": "display_data"
    },
    {
     "data": {
      "text/html": [
       "<pre>recommendations finished on 157000/206209 queries. users per second: 2364.05</pre>"
      ],
      "text/plain": [
       "recommendations finished on 157000/206209 queries. users per second: 2364.05"
      ]
     },
     "metadata": {},
     "output_type": "display_data"
    },
    {
     "data": {
      "text/html": [
       "<pre>recommendations finished on 158000/206209 queries. users per second: 2361.23</pre>"
      ],
      "text/plain": [
       "recommendations finished on 158000/206209 queries. users per second: 2361.23"
      ]
     },
     "metadata": {},
     "output_type": "display_data"
    },
    {
     "data": {
      "text/html": [
       "<pre>recommendations finished on 159000/206209 queries. users per second: 2360.05</pre>"
      ],
      "text/plain": [
       "recommendations finished on 159000/206209 queries. users per second: 2360.05"
      ]
     },
     "metadata": {},
     "output_type": "display_data"
    },
    {
     "data": {
      "text/html": [
       "<pre>recommendations finished on 160000/206209 queries. users per second: 2357</pre>"
      ],
      "text/plain": [
       "recommendations finished on 160000/206209 queries. users per second: 2357"
      ]
     },
     "metadata": {},
     "output_type": "display_data"
    },
    {
     "data": {
      "text/html": [
       "<pre>recommendations finished on 161000/206209 queries. users per second: 2354.03</pre>"
      ],
      "text/plain": [
       "recommendations finished on 161000/206209 queries. users per second: 2354.03"
      ]
     },
     "metadata": {},
     "output_type": "display_data"
    },
    {
     "data": {
      "text/html": [
       "<pre>recommendations finished on 162000/206209 queries. users per second: 2351.86</pre>"
      ],
      "text/plain": [
       "recommendations finished on 162000/206209 queries. users per second: 2351.86"
      ]
     },
     "metadata": {},
     "output_type": "display_data"
    },
    {
     "data": {
      "text/html": [
       "<pre>recommendations finished on 163000/206209 queries. users per second: 2349.79</pre>"
      ],
      "text/plain": [
       "recommendations finished on 163000/206209 queries. users per second: 2349.79"
      ]
     },
     "metadata": {},
     "output_type": "display_data"
    },
    {
     "data": {
      "text/html": [
       "<pre>recommendations finished on 164000/206209 queries. users per second: 2348.26</pre>"
      ],
      "text/plain": [
       "recommendations finished on 164000/206209 queries. users per second: 2348.26"
      ]
     },
     "metadata": {},
     "output_type": "display_data"
    },
    {
     "data": {
      "text/html": [
       "<pre>recommendations finished on 165000/206209 queries. users per second: 2345.94</pre>"
      ],
      "text/plain": [
       "recommendations finished on 165000/206209 queries. users per second: 2345.94"
      ]
     },
     "metadata": {},
     "output_type": "display_data"
    },
    {
     "data": {
      "text/html": [
       "<pre>recommendations finished on 166000/206209 queries. users per second: 2344.08</pre>"
      ],
      "text/plain": [
       "recommendations finished on 166000/206209 queries. users per second: 2344.08"
      ]
     },
     "metadata": {},
     "output_type": "display_data"
    },
    {
     "data": {
      "text/html": [
       "<pre>recommendations finished on 167000/206209 queries. users per second: 2343.26</pre>"
      ],
      "text/plain": [
       "recommendations finished on 167000/206209 queries. users per second: 2343.26"
      ]
     },
     "metadata": {},
     "output_type": "display_data"
    },
    {
     "data": {
      "text/html": [
       "<pre>recommendations finished on 168000/206209 queries. users per second: 2342.02</pre>"
      ],
      "text/plain": [
       "recommendations finished on 168000/206209 queries. users per second: 2342.02"
      ]
     },
     "metadata": {},
     "output_type": "display_data"
    },
    {
     "data": {
      "text/html": [
       "<pre>recommendations finished on 169000/206209 queries. users per second: 2341.72</pre>"
      ],
      "text/plain": [
       "recommendations finished on 169000/206209 queries. users per second: 2341.72"
      ]
     },
     "metadata": {},
     "output_type": "display_data"
    },
    {
     "data": {
      "text/html": [
       "<pre>recommendations finished on 170000/206209 queries. users per second: 2342.59</pre>"
      ],
      "text/plain": [
       "recommendations finished on 170000/206209 queries. users per second: 2342.59"
      ]
     },
     "metadata": {},
     "output_type": "display_data"
    },
    {
     "data": {
      "text/html": [
       "<pre>recommendations finished on 171000/206209 queries. users per second: 2343.36</pre>"
      ],
      "text/plain": [
       "recommendations finished on 171000/206209 queries. users per second: 2343.36"
      ]
     },
     "metadata": {},
     "output_type": "display_data"
    },
    {
     "data": {
      "text/html": [
       "<pre>recommendations finished on 172000/206209 queries. users per second: 2343.42</pre>"
      ],
      "text/plain": [
       "recommendations finished on 172000/206209 queries. users per second: 2343.42"
      ]
     },
     "metadata": {},
     "output_type": "display_data"
    },
    {
     "data": {
      "text/html": [
       "<pre>recommendations finished on 173000/206209 queries. users per second: 2343.39</pre>"
      ],
      "text/plain": [
       "recommendations finished on 173000/206209 queries. users per second: 2343.39"
      ]
     },
     "metadata": {},
     "output_type": "display_data"
    },
    {
     "data": {
      "text/html": [
       "<pre>recommendations finished on 174000/206209 queries. users per second: 2343.12</pre>"
      ],
      "text/plain": [
       "recommendations finished on 174000/206209 queries. users per second: 2343.12"
      ]
     },
     "metadata": {},
     "output_type": "display_data"
    },
    {
     "data": {
      "text/html": [
       "<pre>recommendations finished on 175000/206209 queries. users per second: 2342.45</pre>"
      ],
      "text/plain": [
       "recommendations finished on 175000/206209 queries. users per second: 2342.45"
      ]
     },
     "metadata": {},
     "output_type": "display_data"
    },
    {
     "data": {
      "text/html": [
       "<pre>recommendations finished on 176000/206209 queries. users per second: 2342.31</pre>"
      ],
      "text/plain": [
       "recommendations finished on 176000/206209 queries. users per second: 2342.31"
      ]
     },
     "metadata": {},
     "output_type": "display_data"
    },
    {
     "data": {
      "text/html": [
       "<pre>recommendations finished on 177000/206209 queries. users per second: 2342.46</pre>"
      ],
      "text/plain": [
       "recommendations finished on 177000/206209 queries. users per second: 2342.46"
      ]
     },
     "metadata": {},
     "output_type": "display_data"
    },
    {
     "data": {
      "text/html": [
       "<pre>recommendations finished on 178000/206209 queries. users per second: 2341.95</pre>"
      ],
      "text/plain": [
       "recommendations finished on 178000/206209 queries. users per second: 2341.95"
      ]
     },
     "metadata": {},
     "output_type": "display_data"
    },
    {
     "data": {
      "text/html": [
       "<pre>recommendations finished on 179000/206209 queries. users per second: 2342.67</pre>"
      ],
      "text/plain": [
       "recommendations finished on 179000/206209 queries. users per second: 2342.67"
      ]
     },
     "metadata": {},
     "output_type": "display_data"
    },
    {
     "data": {
      "text/html": [
       "<pre>recommendations finished on 180000/206209 queries. users per second: 2341.65</pre>"
      ],
      "text/plain": [
       "recommendations finished on 180000/206209 queries. users per second: 2341.65"
      ]
     },
     "metadata": {},
     "output_type": "display_data"
    },
    {
     "data": {
      "text/html": [
       "<pre>recommendations finished on 181000/206209 queries. users per second: 2341.46</pre>"
      ],
      "text/plain": [
       "recommendations finished on 181000/206209 queries. users per second: 2341.46"
      ]
     },
     "metadata": {},
     "output_type": "display_data"
    },
    {
     "data": {
      "text/html": [
       "<pre>recommendations finished on 182000/206209 queries. users per second: 2340.43</pre>"
      ],
      "text/plain": [
       "recommendations finished on 182000/206209 queries. users per second: 2340.43"
      ]
     },
     "metadata": {},
     "output_type": "display_data"
    },
    {
     "data": {
      "text/html": [
       "<pre>recommendations finished on 183000/206209 queries. users per second: 2341.18</pre>"
      ],
      "text/plain": [
       "recommendations finished on 183000/206209 queries. users per second: 2341.18"
      ]
     },
     "metadata": {},
     "output_type": "display_data"
    },
    {
     "data": {
      "text/html": [
       "<pre>recommendations finished on 184000/206209 queries. users per second: 2341.09</pre>"
      ],
      "text/plain": [
       "recommendations finished on 184000/206209 queries. users per second: 2341.09"
      ]
     },
     "metadata": {},
     "output_type": "display_data"
    },
    {
     "data": {
      "text/html": [
       "<pre>recommendations finished on 185000/206209 queries. users per second: 2341.02</pre>"
      ],
      "text/plain": [
       "recommendations finished on 185000/206209 queries. users per second: 2341.02"
      ]
     },
     "metadata": {},
     "output_type": "display_data"
    },
    {
     "data": {
      "text/html": [
       "<pre>recommendations finished on 186000/206209 queries. users per second: 2341.84</pre>"
      ],
      "text/plain": [
       "recommendations finished on 186000/206209 queries. users per second: 2341.84"
      ]
     },
     "metadata": {},
     "output_type": "display_data"
    },
    {
     "data": {
      "text/html": [
       "<pre>recommendations finished on 187000/206209 queries. users per second: 2341.39</pre>"
      ],
      "text/plain": [
       "recommendations finished on 187000/206209 queries. users per second: 2341.39"
      ]
     },
     "metadata": {},
     "output_type": "display_data"
    },
    {
     "data": {
      "text/html": [
       "<pre>recommendations finished on 188000/206209 queries. users per second: 2341.21</pre>"
      ],
      "text/plain": [
       "recommendations finished on 188000/206209 queries. users per second: 2341.21"
      ]
     },
     "metadata": {},
     "output_type": "display_data"
    },
    {
     "data": {
      "text/html": [
       "<pre>recommendations finished on 189000/206209 queries. users per second: 2340.4</pre>"
      ],
      "text/plain": [
       "recommendations finished on 189000/206209 queries. users per second: 2340.4"
      ]
     },
     "metadata": {},
     "output_type": "display_data"
    },
    {
     "data": {
      "text/html": [
       "<pre>recommendations finished on 190000/206209 queries. users per second: 2341.23</pre>"
      ],
      "text/plain": [
       "recommendations finished on 190000/206209 queries. users per second: 2341.23"
      ]
     },
     "metadata": {},
     "output_type": "display_data"
    },
    {
     "data": {
      "text/html": [
       "<pre>recommendations finished on 191000/206209 queries. users per second: 2341.34</pre>"
      ],
      "text/plain": [
       "recommendations finished on 191000/206209 queries. users per second: 2341.34"
      ]
     },
     "metadata": {},
     "output_type": "display_data"
    },
    {
     "data": {
      "text/html": [
       "<pre>recommendations finished on 192000/206209 queries. users per second: 2340.73</pre>"
      ],
      "text/plain": [
       "recommendations finished on 192000/206209 queries. users per second: 2340.73"
      ]
     },
     "metadata": {},
     "output_type": "display_data"
    },
    {
     "data": {
      "text/html": [
       "<pre>recommendations finished on 193000/206209 queries. users per second: 2340.42</pre>"
      ],
      "text/plain": [
       "recommendations finished on 193000/206209 queries. users per second: 2340.42"
      ]
     },
     "metadata": {},
     "output_type": "display_data"
    },
    {
     "data": {
      "text/html": [
       "<pre>recommendations finished on 194000/206209 queries. users per second: 2339.98</pre>"
      ],
      "text/plain": [
       "recommendations finished on 194000/206209 queries. users per second: 2339.98"
      ]
     },
     "metadata": {},
     "output_type": "display_data"
    },
    {
     "data": {
      "text/html": [
       "<pre>recommendations finished on 195000/206209 queries. users per second: 2339.17</pre>"
      ],
      "text/plain": [
       "recommendations finished on 195000/206209 queries. users per second: 2339.17"
      ]
     },
     "metadata": {},
     "output_type": "display_data"
    },
    {
     "data": {
      "text/html": [
       "<pre>recommendations finished on 196000/206209 queries. users per second: 2339.74</pre>"
      ],
      "text/plain": [
       "recommendations finished on 196000/206209 queries. users per second: 2339.74"
      ]
     },
     "metadata": {},
     "output_type": "display_data"
    },
    {
     "data": {
      "text/html": [
       "<pre>recommendations finished on 197000/206209 queries. users per second: 2339.67</pre>"
      ],
      "text/plain": [
       "recommendations finished on 197000/206209 queries. users per second: 2339.67"
      ]
     },
     "metadata": {},
     "output_type": "display_data"
    },
    {
     "data": {
      "text/html": [
       "<pre>recommendations finished on 198000/206209 queries. users per second: 2338.73</pre>"
      ],
      "text/plain": [
       "recommendations finished on 198000/206209 queries. users per second: 2338.73"
      ]
     },
     "metadata": {},
     "output_type": "display_data"
    },
    {
     "data": {
      "text/html": [
       "<pre>recommendations finished on 199000/206209 queries. users per second: 2339.48</pre>"
      ],
      "text/plain": [
       "recommendations finished on 199000/206209 queries. users per second: 2339.48"
      ]
     },
     "metadata": {},
     "output_type": "display_data"
    },
    {
     "data": {
      "text/html": [
       "<pre>recommendations finished on 200000/206209 queries. users per second: 2340.23</pre>"
      ],
      "text/plain": [
       "recommendations finished on 200000/206209 queries. users per second: 2340.23"
      ]
     },
     "metadata": {},
     "output_type": "display_data"
    },
    {
     "data": {
      "text/html": [
       "<pre>recommendations finished on 201000/206209 queries. users per second: 2340.8</pre>"
      ],
      "text/plain": [
       "recommendations finished on 201000/206209 queries. users per second: 2340.8"
      ]
     },
     "metadata": {},
     "output_type": "display_data"
    },
    {
     "data": {
      "text/html": [
       "<pre>recommendations finished on 202000/206209 queries. users per second: 2340.24</pre>"
      ],
      "text/plain": [
       "recommendations finished on 202000/206209 queries. users per second: 2340.24"
      ]
     },
     "metadata": {},
     "output_type": "display_data"
    },
    {
     "data": {
      "text/html": [
       "<pre>recommendations finished on 203000/206209 queries. users per second: 2340.08</pre>"
      ],
      "text/plain": [
       "recommendations finished on 203000/206209 queries. users per second: 2340.08"
      ]
     },
     "metadata": {},
     "output_type": "display_data"
    },
    {
     "data": {
      "text/html": [
       "<pre>recommendations finished on 204000/206209 queries. users per second: 2339.26</pre>"
      ],
      "text/plain": [
       "recommendations finished on 204000/206209 queries. users per second: 2339.26"
      ]
     },
     "metadata": {},
     "output_type": "display_data"
    },
    {
     "data": {
      "text/html": [
       "<pre>recommendations finished on 205000/206209 queries. users per second: 2338.37</pre>"
      ],
      "text/plain": [
       "recommendations finished on 205000/206209 queries. users per second: 2338.37"
      ]
     },
     "metadata": {},
     "output_type": "display_data"
    },
    {
     "data": {
      "text/html": [
       "<pre>recommendations finished on 206000/206209 queries. users per second: 2337.51</pre>"
      ],
      "text/plain": [
       "recommendations finished on 206000/206209 queries. users per second: 2337.51"
      ]
     },
     "metadata": {},
     "output_type": "display_data"
    },
    {
     "name": "stdout",
     "output_type": "stream",
     "text": [
      "+---------+------------+--------------------+------+\n",
      "| user_id | product_id |       score        | rank |\n",
      "+---------+------------+--------------------+------+\n",
      "|    1    |    6433    |        17.0        |  1   |\n",
      "|    1    |    2075    |        14.5        |  2   |\n",
      "|    1    |   43553    |        13.0        |  3   |\n",
      "|    1    |   27740    |       12.625       |  4   |\n",
      "|    1    |   14609    | 11.666666666666666 |  5   |\n",
      "|    1    |   13875    |       11.25        |  6   |\n",
      "|    1    |   39992    |        11.0        |  7   |\n",
      "|    1    |    5868    |        10.0        |  8   |\n",
      "|    1    |   35604    |        10.0        |  9   |\n",
      "|    1    |   31418    |        10.0        |  10  |\n",
      "|    2    |    6433    |        17.0        |  1   |\n",
      "|    2    |    2075    |        14.5        |  2   |\n",
      "|    2    |   43553    |        13.0        |  3   |\n",
      "|    2    |   27740    |       12.625       |  4   |\n",
      "|    2    |   14609    | 11.666666666666666 |  5   |\n",
      "|    2    |   13875    |       11.25        |  6   |\n",
      "|    2    |   39992    |        11.0        |  7   |\n",
      "|    2    |    5868    |        10.0        |  8   |\n",
      "|    2    |   35604    |        10.0        |  9   |\n",
      "|    2    |   31418    |        10.0        |  10  |\n",
      "|    3    |    6433    |        17.0        |  1   |\n",
      "|    3    |    2075    |        14.5        |  2   |\n",
      "|    3    |   43553    |        13.0        |  3   |\n",
      "|    3    |   27740    |       12.625       |  4   |\n",
      "|    3    |   14609    | 11.666666666666666 |  5   |\n",
      "|    3    |   13875    |       11.25        |  6   |\n",
      "|    3    |   39992    |        11.0        |  7   |\n",
      "|    3    |    5868    |        10.0        |  8   |\n",
      "|    3    |   35604    |        10.0        |  9   |\n",
      "|    3    |   31418    |        10.0        |  10  |\n",
      "+---------+------------+--------------------+------+\n",
      "[2062090 rows x 4 columns]\n",
      "\n"
     ]
    }
   ],
   "source": [
    "name = 'popularity'\n",
    "popularity = model(train_data, name, user_id, product_id, target, users_to_recommend, n_rec, n_display)"
   ]
  },
  {
   "cell_type": "code",
   "execution_count": 67,
   "metadata": {},
   "outputs": [
    {
     "data": {
      "text/html": [
       "<pre>Preparing data set.</pre>"
      ],
      "text/plain": [
       "Preparing data set."
      ]
     },
     "metadata": {},
     "output_type": "display_data"
    },
    {
     "data": {
      "text/html": [
       "<pre>    Data has 13307953 observations with 206209 users and 49677 items.</pre>"
      ],
      "text/plain": [
       "    Data has 13307953 observations with 206209 users and 49677 items."
      ]
     },
     "metadata": {},
     "output_type": "display_data"
    },
    {
     "data": {
      "text/html": [
       "<pre>    Data prepared in: 10.8932s</pre>"
      ],
      "text/plain": [
       "    Data prepared in: 10.8932s"
      ]
     },
     "metadata": {},
     "output_type": "display_data"
    },
    {
     "data": {
      "text/html": [
       "<pre>13307953 observations to process; with 49677 unique items.</pre>"
      ],
      "text/plain": [
       "13307953 observations to process; with 49677 unique items."
      ]
     },
     "metadata": {},
     "output_type": "display_data"
    },
    {
     "data": {
      "text/html": [
       "<pre>recommendations finished on 1000/206209 queries. users per second: 2271.11</pre>"
      ],
      "text/plain": [
       "recommendations finished on 1000/206209 queries. users per second: 2271.11"
      ]
     },
     "metadata": {},
     "output_type": "display_data"
    },
    {
     "data": {
      "text/html": [
       "<pre>recommendations finished on 2000/206209 queries. users per second: 2316.35</pre>"
      ],
      "text/plain": [
       "recommendations finished on 2000/206209 queries. users per second: 2316.35"
      ]
     },
     "metadata": {},
     "output_type": "display_data"
    },
    {
     "data": {
      "text/html": [
       "<pre>recommendations finished on 3000/206209 queries. users per second: 2387.08</pre>"
      ],
      "text/plain": [
       "recommendations finished on 3000/206209 queries. users per second: 2387.08"
      ]
     },
     "metadata": {},
     "output_type": "display_data"
    },
    {
     "data": {
      "text/html": [
       "<pre>recommendations finished on 4000/206209 queries. users per second: 2425.24</pre>"
      ],
      "text/plain": [
       "recommendations finished on 4000/206209 queries. users per second: 2425.24"
      ]
     },
     "metadata": {},
     "output_type": "display_data"
    },
    {
     "data": {
      "text/html": [
       "<pre>recommendations finished on 5000/206209 queries. users per second: 2448.28</pre>"
      ],
      "text/plain": [
       "recommendations finished on 5000/206209 queries. users per second: 2448.28"
      ]
     },
     "metadata": {},
     "output_type": "display_data"
    },
    {
     "data": {
      "text/html": [
       "<pre>recommendations finished on 6000/206209 queries. users per second: 2461</pre>"
      ],
      "text/plain": [
       "recommendations finished on 6000/206209 queries. users per second: 2461"
      ]
     },
     "metadata": {},
     "output_type": "display_data"
    },
    {
     "data": {
      "text/html": [
       "<pre>recommendations finished on 7000/206209 queries. users per second: 2449.78</pre>"
      ],
      "text/plain": [
       "recommendations finished on 7000/206209 queries. users per second: 2449.78"
      ]
     },
     "metadata": {},
     "output_type": "display_data"
    },
    {
     "data": {
      "text/html": [
       "<pre>recommendations finished on 8000/206209 queries. users per second: 2424.93</pre>"
      ],
      "text/plain": [
       "recommendations finished on 8000/206209 queries. users per second: 2424.93"
      ]
     },
     "metadata": {},
     "output_type": "display_data"
    },
    {
     "data": {
      "text/html": [
       "<pre>recommendations finished on 9000/206209 queries. users per second: 2416.37</pre>"
      ],
      "text/plain": [
       "recommendations finished on 9000/206209 queries. users per second: 2416.37"
      ]
     },
     "metadata": {},
     "output_type": "display_data"
    },
    {
     "data": {
      "text/html": [
       "<pre>recommendations finished on 10000/206209 queries. users per second: 2397.9</pre>"
      ],
      "text/plain": [
       "recommendations finished on 10000/206209 queries. users per second: 2397.9"
      ]
     },
     "metadata": {},
     "output_type": "display_data"
    },
    {
     "data": {
      "text/html": [
       "<pre>recommendations finished on 11000/206209 queries. users per second: 2394.19</pre>"
      ],
      "text/plain": [
       "recommendations finished on 11000/206209 queries. users per second: 2394.19"
      ]
     },
     "metadata": {},
     "output_type": "display_data"
    },
    {
     "data": {
      "text/html": [
       "<pre>recommendations finished on 12000/206209 queries. users per second: 2378.46</pre>"
      ],
      "text/plain": [
       "recommendations finished on 12000/206209 queries. users per second: 2378.46"
      ]
     },
     "metadata": {},
     "output_type": "display_data"
    },
    {
     "data": {
      "text/html": [
       "<pre>recommendations finished on 13000/206209 queries. users per second: 2378.33</pre>"
      ],
      "text/plain": [
       "recommendations finished on 13000/206209 queries. users per second: 2378.33"
      ]
     },
     "metadata": {},
     "output_type": "display_data"
    },
    {
     "data": {
      "text/html": [
       "<pre>recommendations finished on 14000/206209 queries. users per second: 2365.67</pre>"
      ],
      "text/plain": [
       "recommendations finished on 14000/206209 queries. users per second: 2365.67"
      ]
     },
     "metadata": {},
     "output_type": "display_data"
    },
    {
     "data": {
      "text/html": [
       "<pre>recommendations finished on 15000/206209 queries. users per second: 2360.7</pre>"
      ],
      "text/plain": [
       "recommendations finished on 15000/206209 queries. users per second: 2360.7"
      ]
     },
     "metadata": {},
     "output_type": "display_data"
    },
    {
     "data": {
      "text/html": [
       "<pre>recommendations finished on 16000/206209 queries. users per second: 2356.56</pre>"
      ],
      "text/plain": [
       "recommendations finished on 16000/206209 queries. users per second: 2356.56"
      ]
     },
     "metadata": {},
     "output_type": "display_data"
    },
    {
     "data": {
      "text/html": [
       "<pre>recommendations finished on 17000/206209 queries. users per second: 2354.85</pre>"
      ],
      "text/plain": [
       "recommendations finished on 17000/206209 queries. users per second: 2354.85"
      ]
     },
     "metadata": {},
     "output_type": "display_data"
    },
    {
     "data": {
      "text/html": [
       "<pre>recommendations finished on 18000/206209 queries. users per second: 2351.65</pre>"
      ],
      "text/plain": [
       "recommendations finished on 18000/206209 queries. users per second: 2351.65"
      ]
     },
     "metadata": {},
     "output_type": "display_data"
    },
    {
     "data": {
      "text/html": [
       "<pre>recommendations finished on 19000/206209 queries. users per second: 2346.81</pre>"
      ],
      "text/plain": [
       "recommendations finished on 19000/206209 queries. users per second: 2346.81"
      ]
     },
     "metadata": {},
     "output_type": "display_data"
    },
    {
     "data": {
      "text/html": [
       "<pre>recommendations finished on 20000/206209 queries. users per second: 2342.97</pre>"
      ],
      "text/plain": [
       "recommendations finished on 20000/206209 queries. users per second: 2342.97"
      ]
     },
     "metadata": {},
     "output_type": "display_data"
    },
    {
     "data": {
      "text/html": [
       "<pre>recommendations finished on 21000/206209 queries. users per second: 2337.75</pre>"
      ],
      "text/plain": [
       "recommendations finished on 21000/206209 queries. users per second: 2337.75"
      ]
     },
     "metadata": {},
     "output_type": "display_data"
    },
    {
     "data": {
      "text/html": [
       "<pre>recommendations finished on 22000/206209 queries. users per second: 2339.85</pre>"
      ],
      "text/plain": [
       "recommendations finished on 22000/206209 queries. users per second: 2339.85"
      ]
     },
     "metadata": {},
     "output_type": "display_data"
    },
    {
     "data": {
      "text/html": [
       "<pre>recommendations finished on 23000/206209 queries. users per second: 2346.49</pre>"
      ],
      "text/plain": [
       "recommendations finished on 23000/206209 queries. users per second: 2346.49"
      ]
     },
     "metadata": {},
     "output_type": "display_data"
    },
    {
     "data": {
      "text/html": [
       "<pre>recommendations finished on 24000/206209 queries. users per second: 2342.02</pre>"
      ],
      "text/plain": [
       "recommendations finished on 24000/206209 queries. users per second: 2342.02"
      ]
     },
     "metadata": {},
     "output_type": "display_data"
    },
    {
     "data": {
      "text/html": [
       "<pre>recommendations finished on 25000/206209 queries. users per second: 2336.32</pre>"
      ],
      "text/plain": [
       "recommendations finished on 25000/206209 queries. users per second: 2336.32"
      ]
     },
     "metadata": {},
     "output_type": "display_data"
    },
    {
     "data": {
      "text/html": [
       "<pre>recommendations finished on 26000/206209 queries. users per second: 2342.25</pre>"
      ],
      "text/plain": [
       "recommendations finished on 26000/206209 queries. users per second: 2342.25"
      ]
     },
     "metadata": {},
     "output_type": "display_data"
    },
    {
     "data": {
      "text/html": [
       "<pre>recommendations finished on 27000/206209 queries. users per second: 2348.16</pre>"
      ],
      "text/plain": [
       "recommendations finished on 27000/206209 queries. users per second: 2348.16"
      ]
     },
     "metadata": {},
     "output_type": "display_data"
    },
    {
     "data": {
      "text/html": [
       "<pre>recommendations finished on 28000/206209 queries. users per second: 2348.47</pre>"
      ],
      "text/plain": [
       "recommendations finished on 28000/206209 queries. users per second: 2348.47"
      ]
     },
     "metadata": {},
     "output_type": "display_data"
    },
    {
     "data": {
      "text/html": [
       "<pre>recommendations finished on 29000/206209 queries. users per second: 2341.99</pre>"
      ],
      "text/plain": [
       "recommendations finished on 29000/206209 queries. users per second: 2341.99"
      ]
     },
     "metadata": {},
     "output_type": "display_data"
    },
    {
     "data": {
      "text/html": [
       "<pre>recommendations finished on 30000/206209 queries. users per second: 2345.03</pre>"
      ],
      "text/plain": [
       "recommendations finished on 30000/206209 queries. users per second: 2345.03"
      ]
     },
     "metadata": {},
     "output_type": "display_data"
    },
    {
     "data": {
      "text/html": [
       "<pre>recommendations finished on 31000/206209 queries. users per second: 2350.12</pre>"
      ],
      "text/plain": [
       "recommendations finished on 31000/206209 queries. users per second: 2350.12"
      ]
     },
     "metadata": {},
     "output_type": "display_data"
    },
    {
     "data": {
      "text/html": [
       "<pre>recommendations finished on 32000/206209 queries. users per second: 2353.19</pre>"
      ],
      "text/plain": [
       "recommendations finished on 32000/206209 queries. users per second: 2353.19"
      ]
     },
     "metadata": {},
     "output_type": "display_data"
    },
    {
     "data": {
      "text/html": [
       "<pre>recommendations finished on 33000/206209 queries. users per second: 2347.36</pre>"
      ],
      "text/plain": [
       "recommendations finished on 33000/206209 queries. users per second: 2347.36"
      ]
     },
     "metadata": {},
     "output_type": "display_data"
    },
    {
     "data": {
      "text/html": [
       "<pre>recommendations finished on 34000/206209 queries. users per second: 2345.75</pre>"
      ],
      "text/plain": [
       "recommendations finished on 34000/206209 queries. users per second: 2345.75"
      ]
     },
     "metadata": {},
     "output_type": "display_data"
    },
    {
     "data": {
      "text/html": [
       "<pre>recommendations finished on 35000/206209 queries. users per second: 2344.06</pre>"
      ],
      "text/plain": [
       "recommendations finished on 35000/206209 queries. users per second: 2344.06"
      ]
     },
     "metadata": {},
     "output_type": "display_data"
    },
    {
     "data": {
      "text/html": [
       "<pre>recommendations finished on 36000/206209 queries. users per second: 2341.41</pre>"
      ],
      "text/plain": [
       "recommendations finished on 36000/206209 queries. users per second: 2341.41"
      ]
     },
     "metadata": {},
     "output_type": "display_data"
    },
    {
     "data": {
      "text/html": [
       "<pre>recommendations finished on 37000/206209 queries. users per second: 2338.84</pre>"
      ],
      "text/plain": [
       "recommendations finished on 37000/206209 queries. users per second: 2338.84"
      ]
     },
     "metadata": {},
     "output_type": "display_data"
    },
    {
     "data": {
      "text/html": [
       "<pre>recommendations finished on 38000/206209 queries. users per second: 2336.67</pre>"
      ],
      "text/plain": [
       "recommendations finished on 38000/206209 queries. users per second: 2336.67"
      ]
     },
     "metadata": {},
     "output_type": "display_data"
    },
    {
     "data": {
      "text/html": [
       "<pre>recommendations finished on 39000/206209 queries. users per second: 2333.28</pre>"
      ],
      "text/plain": [
       "recommendations finished on 39000/206209 queries. users per second: 2333.28"
      ]
     },
     "metadata": {},
     "output_type": "display_data"
    },
    {
     "data": {
      "text/html": [
       "<pre>recommendations finished on 40000/206209 queries. users per second: 2332.18</pre>"
      ],
      "text/plain": [
       "recommendations finished on 40000/206209 queries. users per second: 2332.18"
      ]
     },
     "metadata": {},
     "output_type": "display_data"
    },
    {
     "data": {
      "text/html": [
       "<pre>recommendations finished on 41000/206209 queries. users per second: 2328.17</pre>"
      ],
      "text/plain": [
       "recommendations finished on 41000/206209 queries. users per second: 2328.17"
      ]
     },
     "metadata": {},
     "output_type": "display_data"
    },
    {
     "data": {
      "text/html": [
       "<pre>recommendations finished on 42000/206209 queries. users per second: 2328.17</pre>"
      ],
      "text/plain": [
       "recommendations finished on 42000/206209 queries. users per second: 2328.17"
      ]
     },
     "metadata": {},
     "output_type": "display_data"
    },
    {
     "data": {
      "text/html": [
       "<pre>recommendations finished on 43000/206209 queries. users per second: 2324.4</pre>"
      ],
      "text/plain": [
       "recommendations finished on 43000/206209 queries. users per second: 2324.4"
      ]
     },
     "metadata": {},
     "output_type": "display_data"
    },
    {
     "data": {
      "text/html": [
       "<pre>recommendations finished on 44000/206209 queries. users per second: 2323.9</pre>"
      ],
      "text/plain": [
       "recommendations finished on 44000/206209 queries. users per second: 2323.9"
      ]
     },
     "metadata": {},
     "output_type": "display_data"
    },
    {
     "data": {
      "text/html": [
       "<pre>recommendations finished on 45000/206209 queries. users per second: 2320.2</pre>"
      ],
      "text/plain": [
       "recommendations finished on 45000/206209 queries. users per second: 2320.2"
      ]
     },
     "metadata": {},
     "output_type": "display_data"
    },
    {
     "data": {
      "text/html": [
       "<pre>recommendations finished on 46000/206209 queries. users per second: 2319.99</pre>"
      ],
      "text/plain": [
       "recommendations finished on 46000/206209 queries. users per second: 2319.99"
      ]
     },
     "metadata": {},
     "output_type": "display_data"
    },
    {
     "data": {
      "text/html": [
       "<pre>recommendations finished on 47000/206209 queries. users per second: 2316.97</pre>"
      ],
      "text/plain": [
       "recommendations finished on 47000/206209 queries. users per second: 2316.97"
      ]
     },
     "metadata": {},
     "output_type": "display_data"
    },
    {
     "data": {
      "text/html": [
       "<pre>recommendations finished on 48000/206209 queries. users per second: 2315.83</pre>"
      ],
      "text/plain": [
       "recommendations finished on 48000/206209 queries. users per second: 2315.83"
      ]
     },
     "metadata": {},
     "output_type": "display_data"
    },
    {
     "data": {
      "text/html": [
       "<pre>recommendations finished on 49000/206209 queries. users per second: 2312.87</pre>"
      ],
      "text/plain": [
       "recommendations finished on 49000/206209 queries. users per second: 2312.87"
      ]
     },
     "metadata": {},
     "output_type": "display_data"
    },
    {
     "data": {
      "text/html": [
       "<pre>recommendations finished on 50000/206209 queries. users per second: 2312.87</pre>"
      ],
      "text/plain": [
       "recommendations finished on 50000/206209 queries. users per second: 2312.87"
      ]
     },
     "metadata": {},
     "output_type": "display_data"
    },
    {
     "data": {
      "text/html": [
       "<pre>recommendations finished on 51000/206209 queries. users per second: 2309.89</pre>"
      ],
      "text/plain": [
       "recommendations finished on 51000/206209 queries. users per second: 2309.89"
      ]
     },
     "metadata": {},
     "output_type": "display_data"
    },
    {
     "data": {
      "text/html": [
       "<pre>recommendations finished on 52000/206209 queries. users per second: 2310.07</pre>"
      ],
      "text/plain": [
       "recommendations finished on 52000/206209 queries. users per second: 2310.07"
      ]
     },
     "metadata": {},
     "output_type": "display_data"
    },
    {
     "data": {
      "text/html": [
       "<pre>recommendations finished on 53000/206209 queries. users per second: 2313.59</pre>"
      ],
      "text/plain": [
       "recommendations finished on 53000/206209 queries. users per second: 2313.59"
      ]
     },
     "metadata": {},
     "output_type": "display_data"
    },
    {
     "data": {
      "text/html": [
       "<pre>recommendations finished on 54000/206209 queries. users per second: 2316.72</pre>"
      ],
      "text/plain": [
       "recommendations finished on 54000/206209 queries. users per second: 2316.72"
      ]
     },
     "metadata": {},
     "output_type": "display_data"
    },
    {
     "data": {
      "text/html": [
       "<pre>recommendations finished on 55000/206209 queries. users per second: 2315.08</pre>"
      ],
      "text/plain": [
       "recommendations finished on 55000/206209 queries. users per second: 2315.08"
      ]
     },
     "metadata": {},
     "output_type": "display_data"
    },
    {
     "data": {
      "text/html": [
       "<pre>recommendations finished on 56000/206209 queries. users per second: 2313.68</pre>"
      ],
      "text/plain": [
       "recommendations finished on 56000/206209 queries. users per second: 2313.68"
      ]
     },
     "metadata": {},
     "output_type": "display_data"
    },
    {
     "data": {
      "text/html": [
       "<pre>recommendations finished on 57000/206209 queries. users per second: 2316.81</pre>"
      ],
      "text/plain": [
       "recommendations finished on 57000/206209 queries. users per second: 2316.81"
      ]
     },
     "metadata": {},
     "output_type": "display_data"
    },
    {
     "data": {
      "text/html": [
       "<pre>recommendations finished on 58000/206209 queries. users per second: 2319.9</pre>"
      ],
      "text/plain": [
       "recommendations finished on 58000/206209 queries. users per second: 2319.9"
      ]
     },
     "metadata": {},
     "output_type": "display_data"
    },
    {
     "data": {
      "text/html": [
       "<pre>recommendations finished on 59000/206209 queries. users per second: 2319.47</pre>"
      ],
      "text/plain": [
       "recommendations finished on 59000/206209 queries. users per second: 2319.47"
      ]
     },
     "metadata": {},
     "output_type": "display_data"
    },
    {
     "data": {
      "text/html": [
       "<pre>recommendations finished on 60000/206209 queries. users per second: 2317.01</pre>"
      ],
      "text/plain": [
       "recommendations finished on 60000/206209 queries. users per second: 2317.01"
      ]
     },
     "metadata": {},
     "output_type": "display_data"
    },
    {
     "data": {
      "text/html": [
       "<pre>recommendations finished on 61000/206209 queries. users per second: 2318.03</pre>"
      ],
      "text/plain": [
       "recommendations finished on 61000/206209 queries. users per second: 2318.03"
      ]
     },
     "metadata": {},
     "output_type": "display_data"
    },
    {
     "data": {
      "text/html": [
       "<pre>recommendations finished on 62000/206209 queries. users per second: 2319.42</pre>"
      ],
      "text/plain": [
       "recommendations finished on 62000/206209 queries. users per second: 2319.42"
      ]
     },
     "metadata": {},
     "output_type": "display_data"
    },
    {
     "data": {
      "text/html": [
       "<pre>recommendations finished on 63000/206209 queries. users per second: 2322.32</pre>"
      ],
      "text/plain": [
       "recommendations finished on 63000/206209 queries. users per second: 2322.32"
      ]
     },
     "metadata": {},
     "output_type": "display_data"
    },
    {
     "data": {
      "text/html": [
       "<pre>recommendations finished on 64000/206209 queries. users per second: 2320.42</pre>"
      ],
      "text/plain": [
       "recommendations finished on 64000/206209 queries. users per second: 2320.42"
      ]
     },
     "metadata": {},
     "output_type": "display_data"
    },
    {
     "data": {
      "text/html": [
       "<pre>recommendations finished on 65000/206209 queries. users per second: 2320.86</pre>"
      ],
      "text/plain": [
       "recommendations finished on 65000/206209 queries. users per second: 2320.86"
      ]
     },
     "metadata": {},
     "output_type": "display_data"
    },
    {
     "data": {
      "text/html": [
       "<pre>recommendations finished on 66000/206209 queries. users per second: 2320.12</pre>"
      ],
      "text/plain": [
       "recommendations finished on 66000/206209 queries. users per second: 2320.12"
      ]
     },
     "metadata": {},
     "output_type": "display_data"
    },
    {
     "data": {
      "text/html": [
       "<pre>recommendations finished on 67000/206209 queries. users per second: 2320.22</pre>"
      ],
      "text/plain": [
       "recommendations finished on 67000/206209 queries. users per second: 2320.22"
      ]
     },
     "metadata": {},
     "output_type": "display_data"
    },
    {
     "data": {
      "text/html": [
       "<pre>recommendations finished on 68000/206209 queries. users per second: 2318.16</pre>"
      ],
      "text/plain": [
       "recommendations finished on 68000/206209 queries. users per second: 2318.16"
      ]
     },
     "metadata": {},
     "output_type": "display_data"
    },
    {
     "data": {
      "text/html": [
       "<pre>recommendations finished on 69000/206209 queries. users per second: 2320.73</pre>"
      ],
      "text/plain": [
       "recommendations finished on 69000/206209 queries. users per second: 2320.73"
      ]
     },
     "metadata": {},
     "output_type": "display_data"
    },
    {
     "data": {
      "text/html": [
       "<pre>recommendations finished on 70000/206209 queries. users per second: 2322.97</pre>"
      ],
      "text/plain": [
       "recommendations finished on 70000/206209 queries. users per second: 2322.97"
      ]
     },
     "metadata": {},
     "output_type": "display_data"
    },
    {
     "data": {
      "text/html": [
       "<pre>recommendations finished on 71000/206209 queries. users per second: 2322.68</pre>"
      ],
      "text/plain": [
       "recommendations finished on 71000/206209 queries. users per second: 2322.68"
      ]
     },
     "metadata": {},
     "output_type": "display_data"
    },
    {
     "data": {
      "text/html": [
       "<pre>recommendations finished on 72000/206209 queries. users per second: 2320.66</pre>"
      ],
      "text/plain": [
       "recommendations finished on 72000/206209 queries. users per second: 2320.66"
      ]
     },
     "metadata": {},
     "output_type": "display_data"
    },
    {
     "data": {
      "text/html": [
       "<pre>recommendations finished on 73000/206209 queries. users per second: 2322.24</pre>"
      ],
      "text/plain": [
       "recommendations finished on 73000/206209 queries. users per second: 2322.24"
      ]
     },
     "metadata": {},
     "output_type": "display_data"
    },
    {
     "data": {
      "text/html": [
       "<pre>recommendations finished on 74000/206209 queries. users per second: 2322.74</pre>"
      ],
      "text/plain": [
       "recommendations finished on 74000/206209 queries. users per second: 2322.74"
      ]
     },
     "metadata": {},
     "output_type": "display_data"
    },
    {
     "data": {
      "text/html": [
       "<pre>recommendations finished on 75000/206209 queries. users per second: 2322.94</pre>"
      ],
      "text/plain": [
       "recommendations finished on 75000/206209 queries. users per second: 2322.94"
      ]
     },
     "metadata": {},
     "output_type": "display_data"
    },
    {
     "data": {
      "text/html": [
       "<pre>recommendations finished on 76000/206209 queries. users per second: 2323.21</pre>"
      ],
      "text/plain": [
       "recommendations finished on 76000/206209 queries. users per second: 2323.21"
      ]
     },
     "metadata": {},
     "output_type": "display_data"
    },
    {
     "data": {
      "text/html": [
       "<pre>recommendations finished on 77000/206209 queries. users per second: 2322.77</pre>"
      ],
      "text/plain": [
       "recommendations finished on 77000/206209 queries. users per second: 2322.77"
      ]
     },
     "metadata": {},
     "output_type": "display_data"
    },
    {
     "data": {
      "text/html": [
       "<pre>recommendations finished on 78000/206209 queries. users per second: 2324.91</pre>"
      ],
      "text/plain": [
       "recommendations finished on 78000/206209 queries. users per second: 2324.91"
      ]
     },
     "metadata": {},
     "output_type": "display_data"
    },
    {
     "data": {
      "text/html": [
       "<pre>recommendations finished on 79000/206209 queries. users per second: 2325.27</pre>"
      ],
      "text/plain": [
       "recommendations finished on 79000/206209 queries. users per second: 2325.27"
      ]
     },
     "metadata": {},
     "output_type": "display_data"
    },
    {
     "data": {
      "text/html": [
       "<pre>recommendations finished on 80000/206209 queries. users per second: 2327.26</pre>"
      ],
      "text/plain": [
       "recommendations finished on 80000/206209 queries. users per second: 2327.26"
      ]
     },
     "metadata": {},
     "output_type": "display_data"
    },
    {
     "data": {
      "text/html": [
       "<pre>recommendations finished on 81000/206209 queries. users per second: 2325.54</pre>"
      ],
      "text/plain": [
       "recommendations finished on 81000/206209 queries. users per second: 2325.54"
      ]
     },
     "metadata": {},
     "output_type": "display_data"
    },
    {
     "data": {
      "text/html": [
       "<pre>recommendations finished on 82000/206209 queries. users per second: 2326.31</pre>"
      ],
      "text/plain": [
       "recommendations finished on 82000/206209 queries. users per second: 2326.31"
      ]
     },
     "metadata": {},
     "output_type": "display_data"
    },
    {
     "data": {
      "text/html": [
       "<pre>recommendations finished on 83000/206209 queries. users per second: 2328.36</pre>"
      ],
      "text/plain": [
       "recommendations finished on 83000/206209 queries. users per second: 2328.36"
      ]
     },
     "metadata": {},
     "output_type": "display_data"
    },
    {
     "data": {
      "text/html": [
       "<pre>recommendations finished on 84000/206209 queries. users per second: 2330.33</pre>"
      ],
      "text/plain": [
       "recommendations finished on 84000/206209 queries. users per second: 2330.33"
      ]
     },
     "metadata": {},
     "output_type": "display_data"
    },
    {
     "data": {
      "text/html": [
       "<pre>recommendations finished on 85000/206209 queries. users per second: 2332.2</pre>"
      ],
      "text/plain": [
       "recommendations finished on 85000/206209 queries. users per second: 2332.2"
      ]
     },
     "metadata": {},
     "output_type": "display_data"
    },
    {
     "data": {
      "text/html": [
       "<pre>recommendations finished on 86000/206209 queries. users per second: 2334.07</pre>"
      ],
      "text/plain": [
       "recommendations finished on 86000/206209 queries. users per second: 2334.07"
      ]
     },
     "metadata": {},
     "output_type": "display_data"
    },
    {
     "data": {
      "text/html": [
       "<pre>recommendations finished on 87000/206209 queries. users per second: 2335.64</pre>"
      ],
      "text/plain": [
       "recommendations finished on 87000/206209 queries. users per second: 2335.64"
      ]
     },
     "metadata": {},
     "output_type": "display_data"
    },
    {
     "data": {
      "text/html": [
       "<pre>recommendations finished on 88000/206209 queries. users per second: 2336.08</pre>"
      ],
      "text/plain": [
       "recommendations finished on 88000/206209 queries. users per second: 2336.08"
      ]
     },
     "metadata": {},
     "output_type": "display_data"
    },
    {
     "data": {
      "text/html": [
       "<pre>recommendations finished on 89000/206209 queries. users per second: 2335.96</pre>"
      ],
      "text/plain": [
       "recommendations finished on 89000/206209 queries. users per second: 2335.96"
      ]
     },
     "metadata": {},
     "output_type": "display_data"
    },
    {
     "data": {
      "text/html": [
       "<pre>recommendations finished on 90000/206209 queries. users per second: 2336.22</pre>"
      ],
      "text/plain": [
       "recommendations finished on 90000/206209 queries. users per second: 2336.22"
      ]
     },
     "metadata": {},
     "output_type": "display_data"
    },
    {
     "data": {
      "text/html": [
       "<pre>recommendations finished on 91000/206209 queries. users per second: 2336.44</pre>"
      ],
      "text/plain": [
       "recommendations finished on 91000/206209 queries. users per second: 2336.44"
      ]
     },
     "metadata": {},
     "output_type": "display_data"
    },
    {
     "data": {
      "text/html": [
       "<pre>recommendations finished on 92000/206209 queries. users per second: 2334.64</pre>"
      ],
      "text/plain": [
       "recommendations finished on 92000/206209 queries. users per second: 2334.64"
      ]
     },
     "metadata": {},
     "output_type": "display_data"
    },
    {
     "data": {
      "text/html": [
       "<pre>recommendations finished on 93000/206209 queries. users per second: 2332.92</pre>"
      ],
      "text/plain": [
       "recommendations finished on 93000/206209 queries. users per second: 2332.92"
      ]
     },
     "metadata": {},
     "output_type": "display_data"
    },
    {
     "data": {
      "text/html": [
       "<pre>recommendations finished on 94000/206209 queries. users per second: 2332.15</pre>"
      ],
      "text/plain": [
       "recommendations finished on 94000/206209 queries. users per second: 2332.15"
      ]
     },
     "metadata": {},
     "output_type": "display_data"
    },
    {
     "data": {
      "text/html": [
       "<pre>recommendations finished on 95000/206209 queries. users per second: 2330.26</pre>"
      ],
      "text/plain": [
       "recommendations finished on 95000/206209 queries. users per second: 2330.26"
      ]
     },
     "metadata": {},
     "output_type": "display_data"
    },
    {
     "data": {
      "text/html": [
       "<pre>recommendations finished on 96000/206209 queries. users per second: 2331.01</pre>"
      ],
      "text/plain": [
       "recommendations finished on 96000/206209 queries. users per second: 2331.01"
      ]
     },
     "metadata": {},
     "output_type": "display_data"
    },
    {
     "data": {
      "text/html": [
       "<pre>recommendations finished on 97000/206209 queries. users per second: 2330.65</pre>"
      ],
      "text/plain": [
       "recommendations finished on 97000/206209 queries. users per second: 2330.65"
      ]
     },
     "metadata": {},
     "output_type": "display_data"
    },
    {
     "data": {
      "text/html": [
       "<pre>recommendations finished on 98000/206209 queries. users per second: 2329.12</pre>"
      ],
      "text/plain": [
       "recommendations finished on 98000/206209 queries. users per second: 2329.12"
      ]
     },
     "metadata": {},
     "output_type": "display_data"
    },
    {
     "data": {
      "text/html": [
       "<pre>recommendations finished on 99000/206209 queries. users per second: 2327.54</pre>"
      ],
      "text/plain": [
       "recommendations finished on 99000/206209 queries. users per second: 2327.54"
      ]
     },
     "metadata": {},
     "output_type": "display_data"
    },
    {
     "data": {
      "text/html": [
       "<pre>recommendations finished on 100000/206209 queries. users per second: 2325.93</pre>"
      ],
      "text/plain": [
       "recommendations finished on 100000/206209 queries. users per second: 2325.93"
      ]
     },
     "metadata": {},
     "output_type": "display_data"
    },
    {
     "data": {
      "text/html": [
       "<pre>recommendations finished on 101000/206209 queries. users per second: 2325.81</pre>"
      ],
      "text/plain": [
       "recommendations finished on 101000/206209 queries. users per second: 2325.81"
      ]
     },
     "metadata": {},
     "output_type": "display_data"
    },
    {
     "data": {
      "text/html": [
       "<pre>recommendations finished on 102000/206209 queries. users per second: 2325.67</pre>"
      ],
      "text/plain": [
       "recommendations finished on 102000/206209 queries. users per second: 2325.67"
      ]
     },
     "metadata": {},
     "output_type": "display_data"
    },
    {
     "data": {
      "text/html": [
       "<pre>recommendations finished on 103000/206209 queries. users per second: 2324.22</pre>"
      ],
      "text/plain": [
       "recommendations finished on 103000/206209 queries. users per second: 2324.22"
      ]
     },
     "metadata": {},
     "output_type": "display_data"
    },
    {
     "data": {
      "text/html": [
       "<pre>recommendations finished on 104000/206209 queries. users per second: 2324.07</pre>"
      ],
      "text/plain": [
       "recommendations finished on 104000/206209 queries. users per second: 2324.07"
      ]
     },
     "metadata": {},
     "output_type": "display_data"
    },
    {
     "data": {
      "text/html": [
       "<pre>recommendations finished on 105000/206209 queries. users per second: 2324.39</pre>"
      ],
      "text/plain": [
       "recommendations finished on 105000/206209 queries. users per second: 2324.39"
      ]
     },
     "metadata": {},
     "output_type": "display_data"
    },
    {
     "data": {
      "text/html": [
       "<pre>recommendations finished on 106000/206209 queries. users per second: 2324.4</pre>"
      ],
      "text/plain": [
       "recommendations finished on 106000/206209 queries. users per second: 2324.4"
      ]
     },
     "metadata": {},
     "output_type": "display_data"
    },
    {
     "data": {
      "text/html": [
       "<pre>recommendations finished on 107000/206209 queries. users per second: 2323</pre>"
      ],
      "text/plain": [
       "recommendations finished on 107000/206209 queries. users per second: 2323"
      ]
     },
     "metadata": {},
     "output_type": "display_data"
    },
    {
     "data": {
      "text/html": [
       "<pre>recommendations finished on 108000/206209 queries. users per second: 2324.44</pre>"
      ],
      "text/plain": [
       "recommendations finished on 108000/206209 queries. users per second: 2324.44"
      ]
     },
     "metadata": {},
     "output_type": "display_data"
    },
    {
     "data": {
      "text/html": [
       "<pre>recommendations finished on 109000/206209 queries. users per second: 2324.01</pre>"
      ],
      "text/plain": [
       "recommendations finished on 109000/206209 queries. users per second: 2324.01"
      ]
     },
     "metadata": {},
     "output_type": "display_data"
    },
    {
     "data": {
      "text/html": [
       "<pre>recommendations finished on 110000/206209 queries. users per second: 2325.41</pre>"
      ],
      "text/plain": [
       "recommendations finished on 110000/206209 queries. users per second: 2325.41"
      ]
     },
     "metadata": {},
     "output_type": "display_data"
    },
    {
     "data": {
      "text/html": [
       "<pre>recommendations finished on 111000/206209 queries. users per second: 2326.8</pre>"
      ],
      "text/plain": [
       "recommendations finished on 111000/206209 queries. users per second: 2326.8"
      ]
     },
     "metadata": {},
     "output_type": "display_data"
    },
    {
     "data": {
      "text/html": [
       "<pre>recommendations finished on 112000/206209 queries. users per second: 2325.51</pre>"
      ],
      "text/plain": [
       "recommendations finished on 112000/206209 queries. users per second: 2325.51"
      ]
     },
     "metadata": {},
     "output_type": "display_data"
    },
    {
     "data": {
      "text/html": [
       "<pre>recommendations finished on 113000/206209 queries. users per second: 2325.5</pre>"
      ],
      "text/plain": [
       "recommendations finished on 113000/206209 queries. users per second: 2325.5"
      ]
     },
     "metadata": {},
     "output_type": "display_data"
    },
    {
     "data": {
      "text/html": [
       "<pre>recommendations finished on 114000/206209 queries. users per second: 2324.9</pre>"
      ],
      "text/plain": [
       "recommendations finished on 114000/206209 queries. users per second: 2324.9"
      ]
     },
     "metadata": {},
     "output_type": "display_data"
    },
    {
     "data": {
      "text/html": [
       "<pre>recommendations finished on 115000/206209 queries. users per second: 2323.65</pre>"
      ],
      "text/plain": [
       "recommendations finished on 115000/206209 queries. users per second: 2323.65"
      ]
     },
     "metadata": {},
     "output_type": "display_data"
    },
    {
     "data": {
      "text/html": [
       "<pre>recommendations finished on 116000/206209 queries. users per second: 2323.65</pre>"
      ],
      "text/plain": [
       "recommendations finished on 116000/206209 queries. users per second: 2323.65"
      ]
     },
     "metadata": {},
     "output_type": "display_data"
    },
    {
     "data": {
      "text/html": [
       "<pre>recommendations finished on 117000/206209 queries. users per second: 2322.2</pre>"
      ],
      "text/plain": [
       "recommendations finished on 117000/206209 queries. users per second: 2322.2"
      ]
     },
     "metadata": {},
     "output_type": "display_data"
    },
    {
     "data": {
      "text/html": [
       "<pre>recommendations finished on 118000/206209 queries. users per second: 2320.96</pre>"
      ],
      "text/plain": [
       "recommendations finished on 118000/206209 queries. users per second: 2320.96"
      ]
     },
     "metadata": {},
     "output_type": "display_data"
    },
    {
     "data": {
      "text/html": [
       "<pre>recommendations finished on 119000/206209 queries. users per second: 2320.89</pre>"
      ],
      "text/plain": [
       "recommendations finished on 119000/206209 queries. users per second: 2320.89"
      ]
     },
     "metadata": {},
     "output_type": "display_data"
    },
    {
     "data": {
      "text/html": [
       "<pre>recommendations finished on 120000/206209 queries. users per second: 2322.23</pre>"
      ],
      "text/plain": [
       "recommendations finished on 120000/206209 queries. users per second: 2322.23"
      ]
     },
     "metadata": {},
     "output_type": "display_data"
    },
    {
     "data": {
      "text/html": [
       "<pre>recommendations finished on 121000/206209 queries. users per second: 2322.49</pre>"
      ],
      "text/plain": [
       "recommendations finished on 121000/206209 queries. users per second: 2322.49"
      ]
     },
     "metadata": {},
     "output_type": "display_data"
    },
    {
     "data": {
      "text/html": [
       "<pre>recommendations finished on 122000/206209 queries. users per second: 2321.64</pre>"
      ],
      "text/plain": [
       "recommendations finished on 122000/206209 queries. users per second: 2321.64"
      ]
     },
     "metadata": {},
     "output_type": "display_data"
    },
    {
     "data": {
      "text/html": [
       "<pre>recommendations finished on 123000/206209 queries. users per second: 2319.52</pre>"
      ],
      "text/plain": [
       "recommendations finished on 123000/206209 queries. users per second: 2319.52"
      ]
     },
     "metadata": {},
     "output_type": "display_data"
    },
    {
     "data": {
      "text/html": [
       "<pre>recommendations finished on 124000/206209 queries. users per second: 2320.77</pre>"
      ],
      "text/plain": [
       "recommendations finished on 124000/206209 queries. users per second: 2320.77"
      ]
     },
     "metadata": {},
     "output_type": "display_data"
    },
    {
     "data": {
      "text/html": [
       "<pre>recommendations finished on 125000/206209 queries. users per second: 2319.48</pre>"
      ],
      "text/plain": [
       "recommendations finished on 125000/206209 queries. users per second: 2319.48"
      ]
     },
     "metadata": {},
     "output_type": "display_data"
    },
    {
     "data": {
      "text/html": [
       "<pre>recommendations finished on 126000/206209 queries. users per second: 2319.49</pre>"
      ],
      "text/plain": [
       "recommendations finished on 126000/206209 queries. users per second: 2319.49"
      ]
     },
     "metadata": {},
     "output_type": "display_data"
    },
    {
     "data": {
      "text/html": [
       "<pre>recommendations finished on 127000/206209 queries. users per second: 2319.76</pre>"
      ],
      "text/plain": [
       "recommendations finished on 127000/206209 queries. users per second: 2319.76"
      ]
     },
     "metadata": {},
     "output_type": "display_data"
    },
    {
     "data": {
      "text/html": [
       "<pre>recommendations finished on 128000/206209 queries. users per second: 2319.64</pre>"
      ],
      "text/plain": [
       "recommendations finished on 128000/206209 queries. users per second: 2319.64"
      ]
     },
     "metadata": {},
     "output_type": "display_data"
    },
    {
     "data": {
      "text/html": [
       "<pre>recommendations finished on 129000/206209 queries. users per second: 2320.61</pre>"
      ],
      "text/plain": [
       "recommendations finished on 129000/206209 queries. users per second: 2320.61"
      ]
     },
     "metadata": {},
     "output_type": "display_data"
    },
    {
     "data": {
      "text/html": [
       "<pre>recommendations finished on 130000/206209 queries. users per second: 2321.91</pre>"
      ],
      "text/plain": [
       "recommendations finished on 130000/206209 queries. users per second: 2321.91"
      ]
     },
     "metadata": {},
     "output_type": "display_data"
    },
    {
     "data": {
      "text/html": [
       "<pre>recommendations finished on 131000/206209 queries. users per second: 2320.95</pre>"
      ],
      "text/plain": [
       "recommendations finished on 131000/206209 queries. users per second: 2320.95"
      ]
     },
     "metadata": {},
     "output_type": "display_data"
    },
    {
     "data": {
      "text/html": [
       "<pre>recommendations finished on 132000/206209 queries. users per second: 2320.97</pre>"
      ],
      "text/plain": [
       "recommendations finished on 132000/206209 queries. users per second: 2320.97"
      ]
     },
     "metadata": {},
     "output_type": "display_data"
    },
    {
     "data": {
      "text/html": [
       "<pre>recommendations finished on 133000/206209 queries. users per second: 2319.68</pre>"
      ],
      "text/plain": [
       "recommendations finished on 133000/206209 queries. users per second: 2319.68"
      ]
     },
     "metadata": {},
     "output_type": "display_data"
    },
    {
     "data": {
      "text/html": [
       "<pre>recommendations finished on 134000/206209 queries. users per second: 2319.94</pre>"
      ],
      "text/plain": [
       "recommendations finished on 134000/206209 queries. users per second: 2319.94"
      ]
     },
     "metadata": {},
     "output_type": "display_data"
    },
    {
     "data": {
      "text/html": [
       "<pre>recommendations finished on 135000/206209 queries. users per second: 2318.8</pre>"
      ],
      "text/plain": [
       "recommendations finished on 135000/206209 queries. users per second: 2318.8"
      ]
     },
     "metadata": {},
     "output_type": "display_data"
    },
    {
     "data": {
      "text/html": [
       "<pre>recommendations finished on 136000/206209 queries. users per second: 2318.76</pre>"
      ],
      "text/plain": [
       "recommendations finished on 136000/206209 queries. users per second: 2318.76"
      ]
     },
     "metadata": {},
     "output_type": "display_data"
    },
    {
     "data": {
      "text/html": [
       "<pre>recommendations finished on 137000/206209 queries. users per second: 2318.45</pre>"
      ],
      "text/plain": [
       "recommendations finished on 137000/206209 queries. users per second: 2318.45"
      ]
     },
     "metadata": {},
     "output_type": "display_data"
    },
    {
     "data": {
      "text/html": [
       "<pre>recommendations finished on 138000/206209 queries. users per second: 2318.19</pre>"
      ],
      "text/plain": [
       "recommendations finished on 138000/206209 queries. users per second: 2318.19"
      ]
     },
     "metadata": {},
     "output_type": "display_data"
    },
    {
     "data": {
      "text/html": [
       "<pre>recommendations finished on 139000/206209 queries. users per second: 2317.96</pre>"
      ],
      "text/plain": [
       "recommendations finished on 139000/206209 queries. users per second: 2317.96"
      ]
     },
     "metadata": {},
     "output_type": "display_data"
    },
    {
     "data": {
      "text/html": [
       "<pre>recommendations finished on 140000/206209 queries. users per second: 2317.71</pre>"
      ],
      "text/plain": [
       "recommendations finished on 140000/206209 queries. users per second: 2317.71"
      ]
     },
     "metadata": {},
     "output_type": "display_data"
    },
    {
     "data": {
      "text/html": [
       "<pre>recommendations finished on 141000/206209 queries. users per second: 2317.12</pre>"
      ],
      "text/plain": [
       "recommendations finished on 141000/206209 queries. users per second: 2317.12"
      ]
     },
     "metadata": {},
     "output_type": "display_data"
    },
    {
     "data": {
      "text/html": [
       "<pre>recommendations finished on 142000/206209 queries. users per second: 2316.89</pre>"
      ],
      "text/plain": [
       "recommendations finished on 142000/206209 queries. users per second: 2316.89"
      ]
     },
     "metadata": {},
     "output_type": "display_data"
    },
    {
     "data": {
      "text/html": [
       "<pre>recommendations finished on 143000/206209 queries. users per second: 2316.86</pre>"
      ],
      "text/plain": [
       "recommendations finished on 143000/206209 queries. users per second: 2316.86"
      ]
     },
     "metadata": {},
     "output_type": "display_data"
    },
    {
     "data": {
      "text/html": [
       "<pre>recommendations finished on 144000/206209 queries. users per second: 2316.7</pre>"
      ],
      "text/plain": [
       "recommendations finished on 144000/206209 queries. users per second: 2316.7"
      ]
     },
     "metadata": {},
     "output_type": "display_data"
    },
    {
     "data": {
      "text/html": [
       "<pre>recommendations finished on 145000/206209 queries. users per second: 2316.22</pre>"
      ],
      "text/plain": [
       "recommendations finished on 145000/206209 queries. users per second: 2316.22"
      ]
     },
     "metadata": {},
     "output_type": "display_data"
    },
    {
     "data": {
      "text/html": [
       "<pre>recommendations finished on 146000/206209 queries. users per second: 2316.43</pre>"
      ],
      "text/plain": [
       "recommendations finished on 146000/206209 queries. users per second: 2316.43"
      ]
     },
     "metadata": {},
     "output_type": "display_data"
    },
    {
     "data": {
      "text/html": [
       "<pre>recommendations finished on 147000/206209 queries. users per second: 2315.7</pre>"
      ],
      "text/plain": [
       "recommendations finished on 147000/206209 queries. users per second: 2315.7"
      ]
     },
     "metadata": {},
     "output_type": "display_data"
    },
    {
     "data": {
      "text/html": [
       "<pre>recommendations finished on 148000/206209 queries. users per second: 2315.25</pre>"
      ],
      "text/plain": [
       "recommendations finished on 148000/206209 queries. users per second: 2315.25"
      ]
     },
     "metadata": {},
     "output_type": "display_data"
    },
    {
     "data": {
      "text/html": [
       "<pre>recommendations finished on 149000/206209 queries. users per second: 2314.17</pre>"
      ],
      "text/plain": [
       "recommendations finished on 149000/206209 queries. users per second: 2314.17"
      ]
     },
     "metadata": {},
     "output_type": "display_data"
    },
    {
     "data": {
      "text/html": [
       "<pre>recommendations finished on 150000/206209 queries. users per second: 2314.07</pre>"
      ],
      "text/plain": [
       "recommendations finished on 150000/206209 queries. users per second: 2314.07"
      ]
     },
     "metadata": {},
     "output_type": "display_data"
    },
    {
     "data": {
      "text/html": [
       "<pre>recommendations finished on 151000/206209 queries. users per second: 2313.48</pre>"
      ],
      "text/plain": [
       "recommendations finished on 151000/206209 queries. users per second: 2313.48"
      ]
     },
     "metadata": {},
     "output_type": "display_data"
    },
    {
     "data": {
      "text/html": [
       "<pre>recommendations finished on 152000/206209 queries. users per second: 2313.67</pre>"
      ],
      "text/plain": [
       "recommendations finished on 152000/206209 queries. users per second: 2313.67"
      ]
     },
     "metadata": {},
     "output_type": "display_data"
    },
    {
     "data": {
      "text/html": [
       "<pre>recommendations finished on 153000/206209 queries. users per second: 2312.6</pre>"
      ],
      "text/plain": [
       "recommendations finished on 153000/206209 queries. users per second: 2312.6"
      ]
     },
     "metadata": {},
     "output_type": "display_data"
    },
    {
     "data": {
      "text/html": [
       "<pre>recommendations finished on 154000/206209 queries. users per second: 2312.77</pre>"
      ],
      "text/plain": [
       "recommendations finished on 154000/206209 queries. users per second: 2312.77"
      ]
     },
     "metadata": {},
     "output_type": "display_data"
    },
    {
     "data": {
      "text/html": [
       "<pre>recommendations finished on 155000/206209 queries. users per second: 2313.37</pre>"
      ],
      "text/plain": [
       "recommendations finished on 155000/206209 queries. users per second: 2313.37"
      ]
     },
     "metadata": {},
     "output_type": "display_data"
    },
    {
     "data": {
      "text/html": [
       "<pre>recommendations finished on 156000/206209 queries. users per second: 2312.33</pre>"
      ],
      "text/plain": [
       "recommendations finished on 156000/206209 queries. users per second: 2312.33"
      ]
     },
     "metadata": {},
     "output_type": "display_data"
    },
    {
     "data": {
      "text/html": [
       "<pre>recommendations finished on 157000/206209 queries. users per second: 2312.57</pre>"
      ],
      "text/plain": [
       "recommendations finished on 157000/206209 queries. users per second: 2312.57"
      ]
     },
     "metadata": {},
     "output_type": "display_data"
    },
    {
     "data": {
      "text/html": [
       "<pre>recommendations finished on 158000/206209 queries. users per second: 2312.99</pre>"
      ],
      "text/plain": [
       "recommendations finished on 158000/206209 queries. users per second: 2312.99"
      ]
     },
     "metadata": {},
     "output_type": "display_data"
    },
    {
     "data": {
      "text/html": [
       "<pre>recommendations finished on 159000/206209 queries. users per second: 2313.15</pre>"
      ],
      "text/plain": [
       "recommendations finished on 159000/206209 queries. users per second: 2313.15"
      ]
     },
     "metadata": {},
     "output_type": "display_data"
    },
    {
     "data": {
      "text/html": [
       "<pre>recommendations finished on 160000/206209 queries. users per second: 2312.78</pre>"
      ],
      "text/plain": [
       "recommendations finished on 160000/206209 queries. users per second: 2312.78"
      ]
     },
     "metadata": {},
     "output_type": "display_data"
    },
    {
     "data": {
      "text/html": [
       "<pre>recommendations finished on 161000/206209 queries. users per second: 2312.13</pre>"
      ],
      "text/plain": [
       "recommendations finished on 161000/206209 queries. users per second: 2312.13"
      ]
     },
     "metadata": {},
     "output_type": "display_data"
    },
    {
     "data": {
      "text/html": [
       "<pre>recommendations finished on 162000/206209 queries. users per second: 2312.12</pre>"
      ],
      "text/plain": [
       "recommendations finished on 162000/206209 queries. users per second: 2312.12"
      ]
     },
     "metadata": {},
     "output_type": "display_data"
    },
    {
     "data": {
      "text/html": [
       "<pre>recommendations finished on 163000/206209 queries. users per second: 2313.19</pre>"
      ],
      "text/plain": [
       "recommendations finished on 163000/206209 queries. users per second: 2313.19"
      ]
     },
     "metadata": {},
     "output_type": "display_data"
    },
    {
     "data": {
      "text/html": [
       "<pre>recommendations finished on 164000/206209 queries. users per second: 2312.99</pre>"
      ],
      "text/plain": [
       "recommendations finished on 164000/206209 queries. users per second: 2312.99"
      ]
     },
     "metadata": {},
     "output_type": "display_data"
    },
    {
     "data": {
      "text/html": [
       "<pre>recommendations finished on 165000/206209 queries. users per second: 2312.74</pre>"
      ],
      "text/plain": [
       "recommendations finished on 165000/206209 queries. users per second: 2312.74"
      ]
     },
     "metadata": {},
     "output_type": "display_data"
    },
    {
     "data": {
      "text/html": [
       "<pre>recommendations finished on 166000/206209 queries. users per second: 2313.74</pre>"
      ],
      "text/plain": [
       "recommendations finished on 166000/206209 queries. users per second: 2313.74"
      ]
     },
     "metadata": {},
     "output_type": "display_data"
    },
    {
     "data": {
      "text/html": [
       "<pre>recommendations finished on 167000/206209 queries. users per second: 2314.79</pre>"
      ],
      "text/plain": [
       "recommendations finished on 167000/206209 queries. users per second: 2314.79"
      ]
     },
     "metadata": {},
     "output_type": "display_data"
    },
    {
     "data": {
      "text/html": [
       "<pre>recommendations finished on 168000/206209 queries. users per second: 2314.75</pre>"
      ],
      "text/plain": [
       "recommendations finished on 168000/206209 queries. users per second: 2314.75"
      ]
     },
     "metadata": {},
     "output_type": "display_data"
    },
    {
     "data": {
      "text/html": [
       "<pre>recommendations finished on 169000/206209 queries. users per second: 2315.56</pre>"
      ],
      "text/plain": [
       "recommendations finished on 169000/206209 queries. users per second: 2315.56"
      ]
     },
     "metadata": {},
     "output_type": "display_data"
    },
    {
     "data": {
      "text/html": [
       "<pre>recommendations finished on 170000/206209 queries. users per second: 2315.92</pre>"
      ],
      "text/plain": [
       "recommendations finished on 170000/206209 queries. users per second: 2315.92"
      ]
     },
     "metadata": {},
     "output_type": "display_data"
    },
    {
     "data": {
      "text/html": [
       "<pre>recommendations finished on 171000/206209 queries. users per second: 2316.89</pre>"
      ],
      "text/plain": [
       "recommendations finished on 171000/206209 queries. users per second: 2316.89"
      ]
     },
     "metadata": {},
     "output_type": "display_data"
    },
    {
     "data": {
      "text/html": [
       "<pre>recommendations finished on 172000/206209 queries. users per second: 2317.22</pre>"
      ],
      "text/plain": [
       "recommendations finished on 172000/206209 queries. users per second: 2317.22"
      ]
     },
     "metadata": {},
     "output_type": "display_data"
    },
    {
     "data": {
      "text/html": [
       "<pre>recommendations finished on 173000/206209 queries. users per second: 2316.25</pre>"
      ],
      "text/plain": [
       "recommendations finished on 173000/206209 queries. users per second: 2316.25"
      ]
     },
     "metadata": {},
     "output_type": "display_data"
    },
    {
     "data": {
      "text/html": [
       "<pre>recommendations finished on 174000/206209 queries. users per second: 2316.03</pre>"
      ],
      "text/plain": [
       "recommendations finished on 174000/206209 queries. users per second: 2316.03"
      ]
     },
     "metadata": {},
     "output_type": "display_data"
    },
    {
     "data": {
      "text/html": [
       "<pre>recommendations finished on 175000/206209 queries. users per second: 2316.99</pre>"
      ],
      "text/plain": [
       "recommendations finished on 175000/206209 queries. users per second: 2316.99"
      ]
     },
     "metadata": {},
     "output_type": "display_data"
    },
    {
     "data": {
      "text/html": [
       "<pre>recommendations finished on 176000/206209 queries. users per second: 2317.96</pre>"
      ],
      "text/plain": [
       "recommendations finished on 176000/206209 queries. users per second: 2317.96"
      ]
     },
     "metadata": {},
     "output_type": "display_data"
    },
    {
     "data": {
      "text/html": [
       "<pre>recommendations finished on 177000/206209 queries. users per second: 2318.91</pre>"
      ],
      "text/plain": [
       "recommendations finished on 177000/206209 queries. users per second: 2318.91"
      ]
     },
     "metadata": {},
     "output_type": "display_data"
    },
    {
     "data": {
      "text/html": [
       "<pre>recommendations finished on 178000/206209 queries. users per second: 2318.83</pre>"
      ],
      "text/plain": [
       "recommendations finished on 178000/206209 queries. users per second: 2318.83"
      ]
     },
     "metadata": {},
     "output_type": "display_data"
    },
    {
     "data": {
      "text/html": [
       "<pre>recommendations finished on 179000/206209 queries. users per second: 2318.24</pre>"
      ],
      "text/plain": [
       "recommendations finished on 179000/206209 queries. users per second: 2318.24"
      ]
     },
     "metadata": {},
     "output_type": "display_data"
    },
    {
     "data": {
      "text/html": [
       "<pre>recommendations finished on 180000/206209 queries. users per second: 2317.7</pre>"
      ],
      "text/plain": [
       "recommendations finished on 180000/206209 queries. users per second: 2317.7"
      ]
     },
     "metadata": {},
     "output_type": "display_data"
    },
    {
     "data": {
      "text/html": [
       "<pre>recommendations finished on 181000/206209 queries. users per second: 2317.09</pre>"
      ],
      "text/plain": [
       "recommendations finished on 181000/206209 queries. users per second: 2317.09"
      ]
     },
     "metadata": {},
     "output_type": "display_data"
    },
    {
     "data": {
      "text/html": [
       "<pre>recommendations finished on 182000/206209 queries. users per second: 2316.45</pre>"
      ],
      "text/plain": [
       "recommendations finished on 182000/206209 queries. users per second: 2316.45"
      ]
     },
     "metadata": {},
     "output_type": "display_data"
    },
    {
     "data": {
      "text/html": [
       "<pre>recommendations finished on 183000/206209 queries. users per second: 2315.88</pre>"
      ],
      "text/plain": [
       "recommendations finished on 183000/206209 queries. users per second: 2315.88"
      ]
     },
     "metadata": {},
     "output_type": "display_data"
    },
    {
     "data": {
      "text/html": [
       "<pre>recommendations finished on 184000/206209 queries. users per second: 2315.51</pre>"
      ],
      "text/plain": [
       "recommendations finished on 184000/206209 queries. users per second: 2315.51"
      ]
     },
     "metadata": {},
     "output_type": "display_data"
    },
    {
     "data": {
      "text/html": [
       "<pre>recommendations finished on 185000/206209 queries. users per second: 2314.6</pre>"
      ],
      "text/plain": [
       "recommendations finished on 185000/206209 queries. users per second: 2314.6"
      ]
     },
     "metadata": {},
     "output_type": "display_data"
    },
    {
     "data": {
      "text/html": [
       "<pre>recommendations finished on 186000/206209 queries. users per second: 2313.93</pre>"
      ],
      "text/plain": [
       "recommendations finished on 186000/206209 queries. users per second: 2313.93"
      ]
     },
     "metadata": {},
     "output_type": "display_data"
    },
    {
     "data": {
      "text/html": [
       "<pre>recommendations finished on 187000/206209 queries. users per second: 2314.89</pre>"
      ],
      "text/plain": [
       "recommendations finished on 187000/206209 queries. users per second: 2314.89"
      ]
     },
     "metadata": {},
     "output_type": "display_data"
    },
    {
     "data": {
      "text/html": [
       "<pre>recommendations finished on 188000/206209 queries. users per second: 2315.26</pre>"
      ],
      "text/plain": [
       "recommendations finished on 188000/206209 queries. users per second: 2315.26"
      ]
     },
     "metadata": {},
     "output_type": "display_data"
    },
    {
     "data": {
      "text/html": [
       "<pre>recommendations finished on 189000/206209 queries. users per second: 2314.96</pre>"
      ],
      "text/plain": [
       "recommendations finished on 189000/206209 queries. users per second: 2314.96"
      ]
     },
     "metadata": {},
     "output_type": "display_data"
    },
    {
     "data": {
      "text/html": [
       "<pre>recommendations finished on 190000/206209 queries. users per second: 2315.15</pre>"
      ],
      "text/plain": [
       "recommendations finished on 190000/206209 queries. users per second: 2315.15"
      ]
     },
     "metadata": {},
     "output_type": "display_data"
    },
    {
     "data": {
      "text/html": [
       "<pre>recommendations finished on 191000/206209 queries. users per second: 2314.86</pre>"
      ],
      "text/plain": [
       "recommendations finished on 191000/206209 queries. users per second: 2314.86"
      ]
     },
     "metadata": {},
     "output_type": "display_data"
    },
    {
     "data": {
      "text/html": [
       "<pre>recommendations finished on 192000/206209 queries. users per second: 2315.11</pre>"
      ],
      "text/plain": [
       "recommendations finished on 192000/206209 queries. users per second: 2315.11"
      ]
     },
     "metadata": {},
     "output_type": "display_data"
    },
    {
     "data": {
      "text/html": [
       "<pre>recommendations finished on 193000/206209 queries. users per second: 2315.03</pre>"
      ],
      "text/plain": [
       "recommendations finished on 193000/206209 queries. users per second: 2315.03"
      ]
     },
     "metadata": {},
     "output_type": "display_data"
    },
    {
     "data": {
      "text/html": [
       "<pre>recommendations finished on 194000/206209 queries. users per second: 2315.89</pre>"
      ],
      "text/plain": [
       "recommendations finished on 194000/206209 queries. users per second: 2315.89"
      ]
     },
     "metadata": {},
     "output_type": "display_data"
    },
    {
     "data": {
      "text/html": [
       "<pre>recommendations finished on 195000/206209 queries. users per second: 2315.84</pre>"
      ],
      "text/plain": [
       "recommendations finished on 195000/206209 queries. users per second: 2315.84"
      ]
     },
     "metadata": {},
     "output_type": "display_data"
    },
    {
     "data": {
      "text/html": [
       "<pre>recommendations finished on 196000/206209 queries. users per second: 2315.04</pre>"
      ],
      "text/plain": [
       "recommendations finished on 196000/206209 queries. users per second: 2315.04"
      ]
     },
     "metadata": {},
     "output_type": "display_data"
    },
    {
     "data": {
      "text/html": [
       "<pre>recommendations finished on 197000/206209 queries. users per second: 2315.53</pre>"
      ],
      "text/plain": [
       "recommendations finished on 197000/206209 queries. users per second: 2315.53"
      ]
     },
     "metadata": {},
     "output_type": "display_data"
    },
    {
     "data": {
      "text/html": [
       "<pre>recommendations finished on 198000/206209 queries. users per second: 2315.58</pre>"
      ],
      "text/plain": [
       "recommendations finished on 198000/206209 queries. users per second: 2315.58"
      ]
     },
     "metadata": {},
     "output_type": "display_data"
    },
    {
     "data": {
      "text/html": [
       "<pre>recommendations finished on 199000/206209 queries. users per second: 2315.53</pre>"
      ],
      "text/plain": [
       "recommendations finished on 199000/206209 queries. users per second: 2315.53"
      ]
     },
     "metadata": {},
     "output_type": "display_data"
    },
    {
     "data": {
      "text/html": [
       "<pre>recommendations finished on 200000/206209 queries. users per second: 2314.79</pre>"
      ],
      "text/plain": [
       "recommendations finished on 200000/206209 queries. users per second: 2314.79"
      ]
     },
     "metadata": {},
     "output_type": "display_data"
    },
    {
     "data": {
      "text/html": [
       "<pre>recommendations finished on 201000/206209 queries. users per second: 2314.06</pre>"
      ],
      "text/plain": [
       "recommendations finished on 201000/206209 queries. users per second: 2314.06"
      ]
     },
     "metadata": {},
     "output_type": "display_data"
    },
    {
     "data": {
      "text/html": [
       "<pre>recommendations finished on 202000/206209 queries. users per second: 2313.33</pre>"
      ],
      "text/plain": [
       "recommendations finished on 202000/206209 queries. users per second: 2313.33"
      ]
     },
     "metadata": {},
     "output_type": "display_data"
    },
    {
     "data": {
      "text/html": [
       "<pre>recommendations finished on 203000/206209 queries. users per second: 2312.65</pre>"
      ],
      "text/plain": [
       "recommendations finished on 203000/206209 queries. users per second: 2312.65"
      ]
     },
     "metadata": {},
     "output_type": "display_data"
    },
    {
     "data": {
      "text/html": [
       "<pre>recommendations finished on 204000/206209 queries. users per second: 2311.1</pre>"
      ],
      "text/plain": [
       "recommendations finished on 204000/206209 queries. users per second: 2311.1"
      ]
     },
     "metadata": {},
     "output_type": "display_data"
    },
    {
     "data": {
      "text/html": [
       "<pre>recommendations finished on 205000/206209 queries. users per second: 2304.78</pre>"
      ],
      "text/plain": [
       "recommendations finished on 205000/206209 queries. users per second: 2304.78"
      ]
     },
     "metadata": {},
     "output_type": "display_data"
    },
    {
     "data": {
      "text/html": [
       "<pre>recommendations finished on 206000/206209 queries. users per second: 2295.69</pre>"
      ],
      "text/plain": [
       "recommendations finished on 206000/206209 queries. users per second: 2295.69"
      ]
     },
     "metadata": {},
     "output_type": "display_data"
    },
    {
     "name": "stdout",
     "output_type": "stream",
     "text": [
      "+---------+------------+---------------------+------+\n",
      "| user_id | product_id |        score        | rank |\n",
      "+---------+------------+---------------------+------+\n",
      "|    1    |    6433    | 0.16326530612244897 |  1   |\n",
      "|    1    |    2075    |  0.1377551020408163 |  2   |\n",
      "|    1    |   43553    | 0.12244897959183672 |  3   |\n",
      "|    1    |   27740    | 0.11862244897959183 |  4   |\n",
      "|    1    |   14609    | 0.10884353741496598 |  5   |\n",
      "|    1    |   13875    | 0.10459183673469385 |  6   |\n",
      "|    1    |   39992    |  0.1020408163265306 |  7   |\n",
      "|    1    |    5868    | 0.09183673469387754 |  8   |\n",
      "|    1    |   35604    | 0.09183673469387754 |  9   |\n",
      "|    1    |   31418    | 0.09183673469387754 |  10  |\n",
      "|    2    |    6433    | 0.16326530612244897 |  1   |\n",
      "|    2    |    2075    |  0.1377551020408163 |  2   |\n",
      "|    2    |   43553    | 0.12244897959183672 |  3   |\n",
      "|    2    |   27740    | 0.11862244897959183 |  4   |\n",
      "|    2    |   14609    | 0.10884353741496598 |  5   |\n",
      "|    2    |   13875    | 0.10459183673469385 |  6   |\n",
      "|    2    |   39992    |  0.1020408163265306 |  7   |\n",
      "|    2    |    5868    | 0.09183673469387754 |  8   |\n",
      "|    2    |   35604    | 0.09183673469387754 |  9   |\n",
      "|    2    |   31418    | 0.09183673469387754 |  10  |\n",
      "|    3    |    6433    | 0.16326530612244897 |  1   |\n",
      "|    3    |    2075    |  0.1377551020408163 |  2   |\n",
      "|    3    |   43553    | 0.12244897959183672 |  3   |\n",
      "|    3    |   27740    | 0.11862244897959183 |  4   |\n",
      "|    3    |   14609    | 0.10884353741496598 |  5   |\n",
      "|    3    |   13875    | 0.10459183673469385 |  6   |\n",
      "|    3    |   39992    |  0.1020408163265306 |  7   |\n",
      "|    3    |    5868    | 0.09183673469387754 |  8   |\n",
      "|    3    |   35604    | 0.09183673469387754 |  9   |\n",
      "|    3    |   31418    | 0.09183673469387754 |  10  |\n",
      "+---------+------------+---------------------+------+\n",
      "[2062090 rows x 4 columns]\n",
      "\n"
     ]
    }
   ],
   "source": [
    "name = 'popularity'\n",
    "target = 'quantity'\n",
    "pop_norm = model(data_norm, name, user_id, product_id, target, users_to_recommend, n_rec, n_display)"
   ]
  },
  {
   "cell_type": "code",
   "execution_count": 68,
   "metadata": {},
   "outputs": [
    {
     "data": {
      "text/html": [
       "<pre>Preparing data set.</pre>"
      ],
      "text/plain": [
       "Preparing data set."
      ]
     },
     "metadata": {},
     "output_type": "display_data"
    },
    {
     "data": {
      "text/html": [
       "<pre>    Data has 13307953 observations with 206209 users and 49677 items.</pre>"
      ],
      "text/plain": [
       "    Data has 13307953 observations with 206209 users and 49677 items."
      ]
     },
     "metadata": {},
     "output_type": "display_data"
    },
    {
     "data": {
      "text/html": [
       "<pre>    Data prepared in: 9.23394s</pre>"
      ],
      "text/plain": [
       "    Data prepared in: 9.23394s"
      ]
     },
     "metadata": {},
     "output_type": "display_data"
    },
    {
     "data": {
      "text/html": [
       "<pre>Training model from provided data.</pre>"
      ],
      "text/plain": [
       "Training model from provided data."
      ]
     },
     "metadata": {},
     "output_type": "display_data"
    },
    {
     "data": {
      "text/html": [
       "<pre>Gathering per-item and per-user statistics.</pre>"
      ],
      "text/plain": [
       "Gathering per-item and per-user statistics."
      ]
     },
     "metadata": {},
     "output_type": "display_data"
    },
    {
     "data": {
      "text/html": [
       "<pre>+--------------------------------+------------+</pre>"
      ],
      "text/plain": [
       "+--------------------------------+------------+"
      ]
     },
     "metadata": {},
     "output_type": "display_data"
    },
    {
     "data": {
      "text/html": [
       "<pre>| Elapsed Time (Item Statistics) | % Complete |</pre>"
      ],
      "text/plain": [
       "| Elapsed Time (Item Statistics) | % Complete |"
      ]
     },
     "metadata": {},
     "output_type": "display_data"
    },
    {
     "data": {
      "text/html": [
       "<pre>+--------------------------------+------------+</pre>"
      ],
      "text/plain": [
       "+--------------------------------+------------+"
      ]
     },
     "metadata": {},
     "output_type": "display_data"
    },
    {
     "data": {
      "text/html": [
       "<pre>| 2.031ms                        | 0.25       |</pre>"
      ],
      "text/plain": [
       "| 2.031ms                        | 0.25       |"
      ]
     },
     "metadata": {},
     "output_type": "display_data"
    },
    {
     "data": {
      "text/html": [
       "<pre>| 268.352ms                      | 100        |</pre>"
      ],
      "text/plain": [
       "| 268.352ms                      | 100        |"
      ]
     },
     "metadata": {},
     "output_type": "display_data"
    },
    {
     "data": {
      "text/html": [
       "<pre>+--------------------------------+------------+</pre>"
      ],
      "text/plain": [
       "+--------------------------------+------------+"
      ]
     },
     "metadata": {},
     "output_type": "display_data"
    },
    {
     "data": {
      "text/html": [
       "<pre>Setting up lookup tables.</pre>"
      ],
      "text/plain": [
       "Setting up lookup tables."
      ]
     },
     "metadata": {},
     "output_type": "display_data"
    },
    {
     "data": {
      "text/html": [
       "<pre>Processing data in 2 passes using dense lookup tables.</pre>"
      ],
      "text/plain": [
       "Processing data in 2 passes using dense lookup tables."
      ]
     },
     "metadata": {},
     "output_type": "display_data"
    },
    {
     "data": {
      "text/html": [
       "<pre>+-------------------------------------+------------------+-----------------+</pre>"
      ],
      "text/plain": [
       "+-------------------------------------+------------------+-----------------+"
      ]
     },
     "metadata": {},
     "output_type": "display_data"
    },
    {
     "data": {
      "text/html": [
       "<pre>| Elapsed Time (Constructing Lookups) | Total % Complete | Items Processed |</pre>"
      ],
      "text/plain": [
       "| Elapsed Time (Constructing Lookups) | Total % Complete | Items Processed |"
      ]
     },
     "metadata": {},
     "output_type": "display_data"
    },
    {
     "data": {
      "text/html": [
       "<pre>+-------------------------------------+------------------+-----------------+</pre>"
      ],
      "text/plain": [
       "+-------------------------------------+------------------+-----------------+"
      ]
     },
     "metadata": {},
     "output_type": "display_data"
    },
    {
     "data": {
      "text/html": [
       "<pre>| 2.57s                               | 0                | 0               |</pre>"
      ],
      "text/plain": [
       "| 2.57s                               | 0                | 0               |"
      ]
     },
     "metadata": {},
     "output_type": "display_data"
    },
    {
     "data": {
      "text/html": [
       "<pre>| 5.57s                               | 7.5              | 3807            |</pre>"
      ],
      "text/plain": [
       "| 5.57s                               | 7.5              | 3807            |"
      ]
     },
     "metadata": {},
     "output_type": "display_data"
    },
    {
     "data": {
      "text/html": [
       "<pre>| 8.57s                               | 14.5             | 7293            |</pre>"
      ],
      "text/plain": [
       "| 8.57s                               | 14.5             | 7293            |"
      ]
     },
     "metadata": {},
     "output_type": "display_data"
    },
    {
     "data": {
      "text/html": [
       "<pre>| 11.57s                              | 20.75            | 10370           |</pre>"
      ],
      "text/plain": [
       "| 11.57s                              | 20.75            | 10370           |"
      ]
     },
     "metadata": {},
     "output_type": "display_data"
    },
    {
     "data": {
      "text/html": [
       "<pre>| 14.57s                              | 28               | 13950           |</pre>"
      ],
      "text/plain": [
       "| 14.57s                              | 28               | 13950           |"
      ]
     },
     "metadata": {},
     "output_type": "display_data"
    },
    {
     "data": {
      "text/html": [
       "<pre>| 17.57s                              | 35               | 17501           |</pre>"
      ],
      "text/plain": [
       "| 17.57s                              | 35               | 17501           |"
      ]
     },
     "metadata": {},
     "output_type": "display_data"
    },
    {
     "data": {
      "text/html": [
       "<pre>| 20.58s                              | 42.25            | 21052           |</pre>"
      ],
      "text/plain": [
       "| 20.58s                              | 42.25            | 21052           |"
      ]
     },
     "metadata": {},
     "output_type": "display_data"
    },
    {
     "data": {
      "text/html": [
       "<pre>| 23.58s                              | 49.25            | 24572           |</pre>"
      ],
      "text/plain": [
       "| 23.58s                              | 49.25            | 24572           |"
      ]
     },
     "metadata": {},
     "output_type": "display_data"
    },
    {
     "data": {
      "text/html": [
       "<pre>| 34.91s                              | 49.75            | 24836           |</pre>"
      ],
      "text/plain": [
       "| 34.91s                              | 49.75            | 24836           |"
      ]
     },
     "metadata": {},
     "output_type": "display_data"
    },
    {
     "data": {
      "text/html": [
       "<pre>| 36.20s                              | 100              | 49677           |</pre>"
      ],
      "text/plain": [
       "| 36.20s                              | 100              | 49677           |"
      ]
     },
     "metadata": {},
     "output_type": "display_data"
    },
    {
     "data": {
      "text/html": [
       "<pre>+-------------------------------------+------------------+-----------------+</pre>"
      ],
      "text/plain": [
       "+-------------------------------------+------------------+-----------------+"
      ]
     },
     "metadata": {},
     "output_type": "display_data"
    },
    {
     "data": {
      "text/html": [
       "<pre>Finalizing lookup tables.</pre>"
      ],
      "text/plain": [
       "Finalizing lookup tables."
      ]
     },
     "metadata": {},
     "output_type": "display_data"
    },
    {
     "data": {
      "text/html": [
       "<pre>Generating candidate set for working with new users.</pre>"
      ],
      "text/plain": [
       "Generating candidate set for working with new users."
      ]
     },
     "metadata": {},
     "output_type": "display_data"
    },
    {
     "data": {
      "text/html": [
       "<pre>Finished training in 37.7279s</pre>"
      ],
      "text/plain": [
       "Finished training in 37.7279s"
      ]
     },
     "metadata": {},
     "output_type": "display_data"
    },
    {
     "data": {
      "text/html": [
       "<pre>recommendations finished on 1000/206209 queries. users per second: 2542.79</pre>"
      ],
      "text/plain": [
       "recommendations finished on 1000/206209 queries. users per second: 2542.79"
      ]
     },
     "metadata": {},
     "output_type": "display_data"
    },
    {
     "data": {
      "text/html": [
       "<pre>recommendations finished on 2000/206209 queries. users per second: 2531.86</pre>"
      ],
      "text/plain": [
       "recommendations finished on 2000/206209 queries. users per second: 2531.86"
      ]
     },
     "metadata": {},
     "output_type": "display_data"
    },
    {
     "data": {
      "text/html": [
       "<pre>recommendations finished on 3000/206209 queries. users per second: 2523.83</pre>"
      ],
      "text/plain": [
       "recommendations finished on 3000/206209 queries. users per second: 2523.83"
      ]
     },
     "metadata": {},
     "output_type": "display_data"
    },
    {
     "data": {
      "text/html": [
       "<pre>recommendations finished on 4000/206209 queries. users per second: 2516.91</pre>"
      ],
      "text/plain": [
       "recommendations finished on 4000/206209 queries. users per second: 2516.91"
      ]
     },
     "metadata": {},
     "output_type": "display_data"
    },
    {
     "data": {
      "text/html": [
       "<pre>recommendations finished on 5000/206209 queries. users per second: 2511.88</pre>"
      ],
      "text/plain": [
       "recommendations finished on 5000/206209 queries. users per second: 2511.88"
      ]
     },
     "metadata": {},
     "output_type": "display_data"
    },
    {
     "data": {
      "text/html": [
       "<pre>recommendations finished on 6000/206209 queries. users per second: 2507.17</pre>"
      ],
      "text/plain": [
       "recommendations finished on 6000/206209 queries. users per second: 2507.17"
      ]
     },
     "metadata": {},
     "output_type": "display_data"
    },
    {
     "data": {
      "text/html": [
       "<pre>recommendations finished on 7000/206209 queries. users per second: 2502.33</pre>"
      ],
      "text/plain": [
       "recommendations finished on 7000/206209 queries. users per second: 2502.33"
      ]
     },
     "metadata": {},
     "output_type": "display_data"
    },
    {
     "data": {
      "text/html": [
       "<pre>recommendations finished on 8000/206209 queries. users per second: 2497.97</pre>"
      ],
      "text/plain": [
       "recommendations finished on 8000/206209 queries. users per second: 2497.97"
      ]
     },
     "metadata": {},
     "output_type": "display_data"
    },
    {
     "data": {
      "text/html": [
       "<pre>recommendations finished on 9000/206209 queries. users per second: 2494.97</pre>"
      ],
      "text/plain": [
       "recommendations finished on 9000/206209 queries. users per second: 2494.97"
      ]
     },
     "metadata": {},
     "output_type": "display_data"
    },
    {
     "data": {
      "text/html": [
       "<pre>recommendations finished on 10000/206209 queries. users per second: 2493.62</pre>"
      ],
      "text/plain": [
       "recommendations finished on 10000/206209 queries. users per second: 2493.62"
      ]
     },
     "metadata": {},
     "output_type": "display_data"
    },
    {
     "data": {
      "text/html": [
       "<pre>recommendations finished on 11000/206209 queries. users per second: 2491.56</pre>"
      ],
      "text/plain": [
       "recommendations finished on 11000/206209 queries. users per second: 2491.56"
      ]
     },
     "metadata": {},
     "output_type": "display_data"
    },
    {
     "data": {
      "text/html": [
       "<pre>recommendations finished on 12000/206209 queries. users per second: 2489.78</pre>"
      ],
      "text/plain": [
       "recommendations finished on 12000/206209 queries. users per second: 2489.78"
      ]
     },
     "metadata": {},
     "output_type": "display_data"
    },
    {
     "data": {
      "text/html": [
       "<pre>recommendations finished on 13000/206209 queries. users per second: 2488.54</pre>"
      ],
      "text/plain": [
       "recommendations finished on 13000/206209 queries. users per second: 2488.54"
      ]
     },
     "metadata": {},
     "output_type": "display_data"
    },
    {
     "data": {
      "text/html": [
       "<pre>recommendations finished on 14000/206209 queries. users per second: 2486.51</pre>"
      ],
      "text/plain": [
       "recommendations finished on 14000/206209 queries. users per second: 2486.51"
      ]
     },
     "metadata": {},
     "output_type": "display_data"
    },
    {
     "data": {
      "text/html": [
       "<pre>recommendations finished on 15000/206209 queries. users per second: 2482.36</pre>"
      ],
      "text/plain": [
       "recommendations finished on 15000/206209 queries. users per second: 2482.36"
      ]
     },
     "metadata": {},
     "output_type": "display_data"
    },
    {
     "data": {
      "text/html": [
       "<pre>recommendations finished on 16000/206209 queries. users per second: 2462.11</pre>"
      ],
      "text/plain": [
       "recommendations finished on 16000/206209 queries. users per second: 2462.11"
      ]
     },
     "metadata": {},
     "output_type": "display_data"
    },
    {
     "data": {
      "text/html": [
       "<pre>recommendations finished on 17000/206209 queries. users per second: 2433.2</pre>"
      ],
      "text/plain": [
       "recommendations finished on 17000/206209 queries. users per second: 2433.2"
      ]
     },
     "metadata": {},
     "output_type": "display_data"
    },
    {
     "data": {
      "text/html": [
       "<pre>recommendations finished on 18000/206209 queries. users per second: 2416.64</pre>"
      ],
      "text/plain": [
       "recommendations finished on 18000/206209 queries. users per second: 2416.64"
      ]
     },
     "metadata": {},
     "output_type": "display_data"
    },
    {
     "data": {
      "text/html": [
       "<pre>recommendations finished on 19000/206209 queries. users per second: 2386.58</pre>"
      ],
      "text/plain": [
       "recommendations finished on 19000/206209 queries. users per second: 2386.58"
      ]
     },
     "metadata": {},
     "output_type": "display_data"
    },
    {
     "data": {
      "text/html": [
       "<pre>recommendations finished on 20000/206209 queries. users per second: 2373.7</pre>"
      ],
      "text/plain": [
       "recommendations finished on 20000/206209 queries. users per second: 2373.7"
      ]
     },
     "metadata": {},
     "output_type": "display_data"
    },
    {
     "data": {
      "text/html": [
       "<pre>recommendations finished on 21000/206209 queries. users per second: 2354.22</pre>"
      ],
      "text/plain": [
       "recommendations finished on 21000/206209 queries. users per second: 2354.22"
      ]
     },
     "metadata": {},
     "output_type": "display_data"
    },
    {
     "data": {
      "text/html": [
       "<pre>recommendations finished on 22000/206209 queries. users per second: 2337.28</pre>"
      ],
      "text/plain": [
       "recommendations finished on 22000/206209 queries. users per second: 2337.28"
      ]
     },
     "metadata": {},
     "output_type": "display_data"
    },
    {
     "data": {
      "text/html": [
       "<pre>recommendations finished on 23000/206209 queries. users per second: 2314.96</pre>"
      ],
      "text/plain": [
       "recommendations finished on 23000/206209 queries. users per second: 2314.96"
      ]
     },
     "metadata": {},
     "output_type": "display_data"
    },
    {
     "data": {
      "text/html": [
       "<pre>recommendations finished on 24000/206209 queries. users per second: 2306.59</pre>"
      ],
      "text/plain": [
       "recommendations finished on 24000/206209 queries. users per second: 2306.59"
      ]
     },
     "metadata": {},
     "output_type": "display_data"
    },
    {
     "data": {
      "text/html": [
       "<pre>recommendations finished on 25000/206209 queries. users per second: 2300.22</pre>"
      ],
      "text/plain": [
       "recommendations finished on 25000/206209 queries. users per second: 2300.22"
      ]
     },
     "metadata": {},
     "output_type": "display_data"
    },
    {
     "data": {
      "text/html": [
       "<pre>recommendations finished on 26000/206209 queries. users per second: 2293.09</pre>"
      ],
      "text/plain": [
       "recommendations finished on 26000/206209 queries. users per second: 2293.09"
      ]
     },
     "metadata": {},
     "output_type": "display_data"
    },
    {
     "data": {
      "text/html": [
       "<pre>recommendations finished on 27000/206209 queries. users per second: 2289.26</pre>"
      ],
      "text/plain": [
       "recommendations finished on 27000/206209 queries. users per second: 2289.26"
      ]
     },
     "metadata": {},
     "output_type": "display_data"
    },
    {
     "data": {
      "text/html": [
       "<pre>recommendations finished on 28000/206209 queries. users per second: 2294.66</pre>"
      ],
      "text/plain": [
       "recommendations finished on 28000/206209 queries. users per second: 2294.66"
      ]
     },
     "metadata": {},
     "output_type": "display_data"
    },
    {
     "data": {
      "text/html": [
       "<pre>recommendations finished on 29000/206209 queries. users per second: 2299.92</pre>"
      ],
      "text/plain": [
       "recommendations finished on 29000/206209 queries. users per second: 2299.92"
      ]
     },
     "metadata": {},
     "output_type": "display_data"
    },
    {
     "data": {
      "text/html": [
       "<pre>recommendations finished on 30000/206209 queries. users per second: 2304.78</pre>"
      ],
      "text/plain": [
       "recommendations finished on 30000/206209 queries. users per second: 2304.78"
      ]
     },
     "metadata": {},
     "output_type": "display_data"
    },
    {
     "data": {
      "text/html": [
       "<pre>recommendations finished on 31000/206209 queries. users per second: 2309.04</pre>"
      ],
      "text/plain": [
       "recommendations finished on 31000/206209 queries. users per second: 2309.04"
      ]
     },
     "metadata": {},
     "output_type": "display_data"
    },
    {
     "data": {
      "text/html": [
       "<pre>recommendations finished on 32000/206209 queries. users per second: 2313.53</pre>"
      ],
      "text/plain": [
       "recommendations finished on 32000/206209 queries. users per second: 2313.53"
      ]
     },
     "metadata": {},
     "output_type": "display_data"
    },
    {
     "data": {
      "text/html": [
       "<pre>recommendations finished on 33000/206209 queries. users per second: 2317.58</pre>"
      ],
      "text/plain": [
       "recommendations finished on 33000/206209 queries. users per second: 2317.58"
      ]
     },
     "metadata": {},
     "output_type": "display_data"
    },
    {
     "data": {
      "text/html": [
       "<pre>recommendations finished on 34000/206209 queries. users per second: 2321.06</pre>"
      ],
      "text/plain": [
       "recommendations finished on 34000/206209 queries. users per second: 2321.06"
      ]
     },
     "metadata": {},
     "output_type": "display_data"
    },
    {
     "data": {
      "text/html": [
       "<pre>recommendations finished on 35000/206209 queries. users per second: 2323.14</pre>"
      ],
      "text/plain": [
       "recommendations finished on 35000/206209 queries. users per second: 2323.14"
      ]
     },
     "metadata": {},
     "output_type": "display_data"
    },
    {
     "data": {
      "text/html": [
       "<pre>recommendations finished on 36000/206209 queries. users per second: 2326.77</pre>"
      ],
      "text/plain": [
       "recommendations finished on 36000/206209 queries. users per second: 2326.77"
      ]
     },
     "metadata": {},
     "output_type": "display_data"
    },
    {
     "data": {
      "text/html": [
       "<pre>recommendations finished on 37000/206209 queries. users per second: 2330.17</pre>"
      ],
      "text/plain": [
       "recommendations finished on 37000/206209 queries. users per second: 2330.17"
      ]
     },
     "metadata": {},
     "output_type": "display_data"
    },
    {
     "data": {
      "text/html": [
       "<pre>recommendations finished on 38000/206209 queries. users per second: 2333.61</pre>"
      ],
      "text/plain": [
       "recommendations finished on 38000/206209 queries. users per second: 2333.61"
      ]
     },
     "metadata": {},
     "output_type": "display_data"
    },
    {
     "data": {
      "text/html": [
       "<pre>recommendations finished on 39000/206209 queries. users per second: 2336.3</pre>"
      ],
      "text/plain": [
       "recommendations finished on 39000/206209 queries. users per second: 2336.3"
      ]
     },
     "metadata": {},
     "output_type": "display_data"
    },
    {
     "data": {
      "text/html": [
       "<pre>recommendations finished on 40000/206209 queries. users per second: 2332.83</pre>"
      ],
      "text/plain": [
       "recommendations finished on 40000/206209 queries. users per second: 2332.83"
      ]
     },
     "metadata": {},
     "output_type": "display_data"
    },
    {
     "data": {
      "text/html": [
       "<pre>recommendations finished on 41000/206209 queries. users per second: 2320.09</pre>"
      ],
      "text/plain": [
       "recommendations finished on 41000/206209 queries. users per second: 2320.09"
      ]
     },
     "metadata": {},
     "output_type": "display_data"
    },
    {
     "data": {
      "text/html": [
       "<pre>recommendations finished on 42000/206209 queries. users per second: 2303.15</pre>"
      ],
      "text/plain": [
       "recommendations finished on 42000/206209 queries. users per second: 2303.15"
      ]
     },
     "metadata": {},
     "output_type": "display_data"
    },
    {
     "data": {
      "text/html": [
       "<pre>recommendations finished on 43000/206209 queries. users per second: 2277.63</pre>"
      ],
      "text/plain": [
       "recommendations finished on 43000/206209 queries. users per second: 2277.63"
      ]
     },
     "metadata": {},
     "output_type": "display_data"
    },
    {
     "data": {
      "text/html": [
       "<pre>recommendations finished on 44000/206209 queries. users per second: 2259.66</pre>"
      ],
      "text/plain": [
       "recommendations finished on 44000/206209 queries. users per second: 2259.66"
      ]
     },
     "metadata": {},
     "output_type": "display_data"
    },
    {
     "data": {
      "text/html": [
       "<pre>recommendations finished on 45000/206209 queries. users per second: 2236.27</pre>"
      ],
      "text/plain": [
       "recommendations finished on 45000/206209 queries. users per second: 2236.27"
      ]
     },
     "metadata": {},
     "output_type": "display_data"
    },
    {
     "data": {
      "text/html": [
       "<pre>recommendations finished on 46000/206209 queries. users per second: 2217.22</pre>"
      ],
      "text/plain": [
       "recommendations finished on 46000/206209 queries. users per second: 2217.22"
      ]
     },
     "metadata": {},
     "output_type": "display_data"
    },
    {
     "data": {
      "text/html": [
       "<pre>recommendations finished on 47000/206209 queries. users per second: 2202.64</pre>"
      ],
      "text/plain": [
       "recommendations finished on 47000/206209 queries. users per second: 2202.64"
      ]
     },
     "metadata": {},
     "output_type": "display_data"
    },
    {
     "data": {
      "text/html": [
       "<pre>recommendations finished on 48000/206209 queries. users per second: 2184.35</pre>"
      ],
      "text/plain": [
       "recommendations finished on 48000/206209 queries. users per second: 2184.35"
      ]
     },
     "metadata": {},
     "output_type": "display_data"
    },
    {
     "data": {
      "text/html": [
       "<pre>recommendations finished on 49000/206209 queries. users per second: 2167.78</pre>"
      ],
      "text/plain": [
       "recommendations finished on 49000/206209 queries. users per second: 2167.78"
      ]
     },
     "metadata": {},
     "output_type": "display_data"
    },
    {
     "data": {
      "text/html": [
       "<pre>recommendations finished on 50000/206209 queries. users per second: 2148.48</pre>"
      ],
      "text/plain": [
       "recommendations finished on 50000/206209 queries. users per second: 2148.48"
      ]
     },
     "metadata": {},
     "output_type": "display_data"
    },
    {
     "data": {
      "text/html": [
       "<pre>recommendations finished on 51000/206209 queries. users per second: 2132.83</pre>"
      ],
      "text/plain": [
       "recommendations finished on 51000/206209 queries. users per second: 2132.83"
      ]
     },
     "metadata": {},
     "output_type": "display_data"
    },
    {
     "data": {
      "text/html": [
       "<pre>recommendations finished on 52000/206209 queries. users per second: 2119.27</pre>"
      ],
      "text/plain": [
       "recommendations finished on 52000/206209 queries. users per second: 2119.27"
      ]
     },
     "metadata": {},
     "output_type": "display_data"
    },
    {
     "data": {
      "text/html": [
       "<pre>recommendations finished on 53000/206209 queries. users per second: 2110.41</pre>"
      ],
      "text/plain": [
       "recommendations finished on 53000/206209 queries. users per second: 2110.41"
      ]
     },
     "metadata": {},
     "output_type": "display_data"
    },
    {
     "data": {
      "text/html": [
       "<pre>recommendations finished on 54000/206209 queries. users per second: 2100.24</pre>"
      ],
      "text/plain": [
       "recommendations finished on 54000/206209 queries. users per second: 2100.24"
      ]
     },
     "metadata": {},
     "output_type": "display_data"
    },
    {
     "data": {
      "text/html": [
       "<pre>recommendations finished on 55000/206209 queries. users per second: 2088.54</pre>"
      ],
      "text/plain": [
       "recommendations finished on 55000/206209 queries. users per second: 2088.54"
      ]
     },
     "metadata": {},
     "output_type": "display_data"
    },
    {
     "data": {
      "text/html": [
       "<pre>recommendations finished on 56000/206209 queries. users per second: 2075</pre>"
      ],
      "text/plain": [
       "recommendations finished on 56000/206209 queries. users per second: 2075"
      ]
     },
     "metadata": {},
     "output_type": "display_data"
    },
    {
     "data": {
      "text/html": [
       "<pre>recommendations finished on 57000/206209 queries. users per second: 2065.12</pre>"
      ],
      "text/plain": [
       "recommendations finished on 57000/206209 queries. users per second: 2065.12"
      ]
     },
     "metadata": {},
     "output_type": "display_data"
    },
    {
     "data": {
      "text/html": [
       "<pre>recommendations finished on 58000/206209 queries. users per second: 2054.88</pre>"
      ],
      "text/plain": [
       "recommendations finished on 58000/206209 queries. users per second: 2054.88"
      ]
     },
     "metadata": {},
     "output_type": "display_data"
    },
    {
     "data": {
      "text/html": [
       "<pre>recommendations finished on 59000/206209 queries. users per second: 2045.13</pre>"
      ],
      "text/plain": [
       "recommendations finished on 59000/206209 queries. users per second: 2045.13"
      ]
     },
     "metadata": {},
     "output_type": "display_data"
    },
    {
     "data": {
      "text/html": [
       "<pre>recommendations finished on 60000/206209 queries. users per second: 2039.08</pre>"
      ],
      "text/plain": [
       "recommendations finished on 60000/206209 queries. users per second: 2039.08"
      ]
     },
     "metadata": {},
     "output_type": "display_data"
    },
    {
     "data": {
      "text/html": [
       "<pre>recommendations finished on 61000/206209 queries. users per second: 2028.39</pre>"
      ],
      "text/plain": [
       "recommendations finished on 61000/206209 queries. users per second: 2028.39"
      ]
     },
     "metadata": {},
     "output_type": "display_data"
    },
    {
     "data": {
      "text/html": [
       "<pre>recommendations finished on 62000/206209 queries. users per second: 2018.49</pre>"
      ],
      "text/plain": [
       "recommendations finished on 62000/206209 queries. users per second: 2018.49"
      ]
     },
     "metadata": {},
     "output_type": "display_data"
    },
    {
     "data": {
      "text/html": [
       "<pre>recommendations finished on 63000/206209 queries. users per second: 2009.32</pre>"
      ],
      "text/plain": [
       "recommendations finished on 63000/206209 queries. users per second: 2009.32"
      ]
     },
     "metadata": {},
     "output_type": "display_data"
    },
    {
     "data": {
      "text/html": [
       "<pre>recommendations finished on 64000/206209 queries. users per second: 1997.9</pre>"
      ],
      "text/plain": [
       "recommendations finished on 64000/206209 queries. users per second: 1997.9"
      ]
     },
     "metadata": {},
     "output_type": "display_data"
    },
    {
     "data": {
      "text/html": [
       "<pre>recommendations finished on 65000/206209 queries. users per second: 1991.1</pre>"
      ],
      "text/plain": [
       "recommendations finished on 65000/206209 queries. users per second: 1991.1"
      ]
     },
     "metadata": {},
     "output_type": "display_data"
    },
    {
     "data": {
      "text/html": [
       "<pre>recommendations finished on 66000/206209 queries. users per second: 1986.43</pre>"
      ],
      "text/plain": [
       "recommendations finished on 66000/206209 queries. users per second: 1986.43"
      ]
     },
     "metadata": {},
     "output_type": "display_data"
    },
    {
     "data": {
      "text/html": [
       "<pre>recommendations finished on 67000/206209 queries. users per second: 1980.94</pre>"
      ],
      "text/plain": [
       "recommendations finished on 67000/206209 queries. users per second: 1980.94"
      ]
     },
     "metadata": {},
     "output_type": "display_data"
    },
    {
     "data": {
      "text/html": [
       "<pre>recommendations finished on 68000/206209 queries. users per second: 1975.06</pre>"
      ],
      "text/plain": [
       "recommendations finished on 68000/206209 queries. users per second: 1975.06"
      ]
     },
     "metadata": {},
     "output_type": "display_data"
    },
    {
     "data": {
      "text/html": [
       "<pre>recommendations finished on 69000/206209 queries. users per second: 1964.62</pre>"
      ],
      "text/plain": [
       "recommendations finished on 69000/206209 queries. users per second: 1964.62"
      ]
     },
     "metadata": {},
     "output_type": "display_data"
    },
    {
     "data": {
      "text/html": [
       "<pre>recommendations finished on 70000/206209 queries. users per second: 1950.66</pre>"
      ],
      "text/plain": [
       "recommendations finished on 70000/206209 queries. users per second: 1950.66"
      ]
     },
     "metadata": {},
     "output_type": "display_data"
    },
    {
     "data": {
      "text/html": [
       "<pre>recommendations finished on 71000/206209 queries. users per second: 1943.3</pre>"
      ],
      "text/plain": [
       "recommendations finished on 71000/206209 queries. users per second: 1943.3"
      ]
     },
     "metadata": {},
     "output_type": "display_data"
    },
    {
     "data": {
      "text/html": [
       "<pre>recommendations finished on 72000/206209 queries. users per second: 1938.62</pre>"
      ],
      "text/plain": [
       "recommendations finished on 72000/206209 queries. users per second: 1938.62"
      ]
     },
     "metadata": {},
     "output_type": "display_data"
    },
    {
     "data": {
      "text/html": [
       "<pre>recommendations finished on 73000/206209 queries. users per second: 1931.13</pre>"
      ],
      "text/plain": [
       "recommendations finished on 73000/206209 queries. users per second: 1931.13"
      ]
     },
     "metadata": {},
     "output_type": "display_data"
    },
    {
     "data": {
      "text/html": [
       "<pre>recommendations finished on 74000/206209 queries. users per second: 1924.9</pre>"
      ],
      "text/plain": [
       "recommendations finished on 74000/206209 queries. users per second: 1924.9"
      ]
     },
     "metadata": {},
     "output_type": "display_data"
    },
    {
     "data": {
      "text/html": [
       "<pre>recommendations finished on 75000/206209 queries. users per second: 1918.1</pre>"
      ],
      "text/plain": [
       "recommendations finished on 75000/206209 queries. users per second: 1918.1"
      ]
     },
     "metadata": {},
     "output_type": "display_data"
    },
    {
     "data": {
      "text/html": [
       "<pre>recommendations finished on 76000/206209 queries. users per second: 1913.66</pre>"
      ],
      "text/plain": [
       "recommendations finished on 76000/206209 queries. users per second: 1913.66"
      ]
     },
     "metadata": {},
     "output_type": "display_data"
    },
    {
     "data": {
      "text/html": [
       "<pre>recommendations finished on 77000/206209 queries. users per second: 1908.31</pre>"
      ],
      "text/plain": [
       "recommendations finished on 77000/206209 queries. users per second: 1908.31"
      ]
     },
     "metadata": {},
     "output_type": "display_data"
    },
    {
     "data": {
      "text/html": [
       "<pre>recommendations finished on 78000/206209 queries. users per second: 1904.93</pre>"
      ],
      "text/plain": [
       "recommendations finished on 78000/206209 queries. users per second: 1904.93"
      ]
     },
     "metadata": {},
     "output_type": "display_data"
    },
    {
     "data": {
      "text/html": [
       "<pre>recommendations finished on 79000/206209 queries. users per second: 1902.93</pre>"
      ],
      "text/plain": [
       "recommendations finished on 79000/206209 queries. users per second: 1902.93"
      ]
     },
     "metadata": {},
     "output_type": "display_data"
    },
    {
     "data": {
      "text/html": [
       "<pre>recommendations finished on 80000/206209 queries. users per second: 1901.3</pre>"
      ],
      "text/plain": [
       "recommendations finished on 80000/206209 queries. users per second: 1901.3"
      ]
     },
     "metadata": {},
     "output_type": "display_data"
    },
    {
     "data": {
      "text/html": [
       "<pre>recommendations finished on 81000/206209 queries. users per second: 1902.12</pre>"
      ],
      "text/plain": [
       "recommendations finished on 81000/206209 queries. users per second: 1902.12"
      ]
     },
     "metadata": {},
     "output_type": "display_data"
    },
    {
     "data": {
      "text/html": [
       "<pre>recommendations finished on 82000/206209 queries. users per second: 1903.09</pre>"
      ],
      "text/plain": [
       "recommendations finished on 82000/206209 queries. users per second: 1903.09"
      ]
     },
     "metadata": {},
     "output_type": "display_data"
    },
    {
     "data": {
      "text/html": [
       "<pre>recommendations finished on 83000/206209 queries. users per second: 1903.77</pre>"
      ],
      "text/plain": [
       "recommendations finished on 83000/206209 queries. users per second: 1903.77"
      ]
     },
     "metadata": {},
     "output_type": "display_data"
    },
    {
     "data": {
      "text/html": [
       "<pre>recommendations finished on 84000/206209 queries. users per second: 1904.44</pre>"
      ],
      "text/plain": [
       "recommendations finished on 84000/206209 queries. users per second: 1904.44"
      ]
     },
     "metadata": {},
     "output_type": "display_data"
    },
    {
     "data": {
      "text/html": [
       "<pre>recommendations finished on 85000/206209 queries. users per second: 1903.9</pre>"
      ],
      "text/plain": [
       "recommendations finished on 85000/206209 queries. users per second: 1903.9"
      ]
     },
     "metadata": {},
     "output_type": "display_data"
    },
    {
     "data": {
      "text/html": [
       "<pre>recommendations finished on 86000/206209 queries. users per second: 1903.99</pre>"
      ],
      "text/plain": [
       "recommendations finished on 86000/206209 queries. users per second: 1903.99"
      ]
     },
     "metadata": {},
     "output_type": "display_data"
    },
    {
     "data": {
      "text/html": [
       "<pre>recommendations finished on 87000/206209 queries. users per second: 1903.34</pre>"
      ],
      "text/plain": [
       "recommendations finished on 87000/206209 queries. users per second: 1903.34"
      ]
     },
     "metadata": {},
     "output_type": "display_data"
    },
    {
     "data": {
      "text/html": [
       "<pre>recommendations finished on 88000/206209 queries. users per second: 1903.51</pre>"
      ],
      "text/plain": [
       "recommendations finished on 88000/206209 queries. users per second: 1903.51"
      ]
     },
     "metadata": {},
     "output_type": "display_data"
    },
    {
     "data": {
      "text/html": [
       "<pre>recommendations finished on 89000/206209 queries. users per second: 1903.91</pre>"
      ],
      "text/plain": [
       "recommendations finished on 89000/206209 queries. users per second: 1903.91"
      ]
     },
     "metadata": {},
     "output_type": "display_data"
    },
    {
     "data": {
      "text/html": [
       "<pre>recommendations finished on 90000/206209 queries. users per second: 1904.48</pre>"
      ],
      "text/plain": [
       "recommendations finished on 90000/206209 queries. users per second: 1904.48"
      ]
     },
     "metadata": {},
     "output_type": "display_data"
    },
    {
     "data": {
      "text/html": [
       "<pre>recommendations finished on 91000/206209 queries. users per second: 1906.76</pre>"
      ],
      "text/plain": [
       "recommendations finished on 91000/206209 queries. users per second: 1906.76"
      ]
     },
     "metadata": {},
     "output_type": "display_data"
    },
    {
     "data": {
      "text/html": [
       "<pre>recommendations finished on 92000/206209 queries. users per second: 1907.87</pre>"
      ],
      "text/plain": [
       "recommendations finished on 92000/206209 queries. users per second: 1907.87"
      ]
     },
     "metadata": {},
     "output_type": "display_data"
    },
    {
     "data": {
      "text/html": [
       "<pre>recommendations finished on 93000/206209 queries. users per second: 1908.59</pre>"
      ],
      "text/plain": [
       "recommendations finished on 93000/206209 queries. users per second: 1908.59"
      ]
     },
     "metadata": {},
     "output_type": "display_data"
    },
    {
     "data": {
      "text/html": [
       "<pre>recommendations finished on 94000/206209 queries. users per second: 1908.44</pre>"
      ],
      "text/plain": [
       "recommendations finished on 94000/206209 queries. users per second: 1908.44"
      ]
     },
     "metadata": {},
     "output_type": "display_data"
    },
    {
     "data": {
      "text/html": [
       "<pre>recommendations finished on 95000/206209 queries. users per second: 1909.06</pre>"
      ],
      "text/plain": [
       "recommendations finished on 95000/206209 queries. users per second: 1909.06"
      ]
     },
     "metadata": {},
     "output_type": "display_data"
    },
    {
     "data": {
      "text/html": [
       "<pre>recommendations finished on 96000/206209 queries. users per second: 1910.06</pre>"
      ],
      "text/plain": [
       "recommendations finished on 96000/206209 queries. users per second: 1910.06"
      ]
     },
     "metadata": {},
     "output_type": "display_data"
    },
    {
     "data": {
      "text/html": [
       "<pre>recommendations finished on 97000/206209 queries. users per second: 1909.7</pre>"
      ],
      "text/plain": [
       "recommendations finished on 97000/206209 queries. users per second: 1909.7"
      ]
     },
     "metadata": {},
     "output_type": "display_data"
    },
    {
     "data": {
      "text/html": [
       "<pre>recommendations finished on 98000/206209 queries. users per second: 1909.07</pre>"
      ],
      "text/plain": [
       "recommendations finished on 98000/206209 queries. users per second: 1909.07"
      ]
     },
     "metadata": {},
     "output_type": "display_data"
    },
    {
     "data": {
      "text/html": [
       "<pre>recommendations finished on 99000/206209 queries. users per second: 1910.02</pre>"
      ],
      "text/plain": [
       "recommendations finished on 99000/206209 queries. users per second: 1910.02"
      ]
     },
     "metadata": {},
     "output_type": "display_data"
    },
    {
     "data": {
      "text/html": [
       "<pre>recommendations finished on 100000/206209 queries. users per second: 1909.99</pre>"
      ],
      "text/plain": [
       "recommendations finished on 100000/206209 queries. users per second: 1909.99"
      ]
     },
     "metadata": {},
     "output_type": "display_data"
    },
    {
     "data": {
      "text/html": [
       "<pre>recommendations finished on 101000/206209 queries. users per second: 1910.42</pre>"
      ],
      "text/plain": [
       "recommendations finished on 101000/206209 queries. users per second: 1910.42"
      ]
     },
     "metadata": {},
     "output_type": "display_data"
    },
    {
     "data": {
      "text/html": [
       "<pre>recommendations finished on 102000/206209 queries. users per second: 1909.87</pre>"
      ],
      "text/plain": [
       "recommendations finished on 102000/206209 queries. users per second: 1909.87"
      ]
     },
     "metadata": {},
     "output_type": "display_data"
    },
    {
     "data": {
      "text/html": [
       "<pre>recommendations finished on 103000/206209 queries. users per second: 1910.53</pre>"
      ],
      "text/plain": [
       "recommendations finished on 103000/206209 queries. users per second: 1910.53"
      ]
     },
     "metadata": {},
     "output_type": "display_data"
    },
    {
     "data": {
      "text/html": [
       "<pre>recommendations finished on 104000/206209 queries. users per second: 1910.74</pre>"
      ],
      "text/plain": [
       "recommendations finished on 104000/206209 queries. users per second: 1910.74"
      ]
     },
     "metadata": {},
     "output_type": "display_data"
    },
    {
     "data": {
      "text/html": [
       "<pre>recommendations finished on 105000/206209 queries. users per second: 1910.86</pre>"
      ],
      "text/plain": [
       "recommendations finished on 105000/206209 queries. users per second: 1910.86"
      ]
     },
     "metadata": {},
     "output_type": "display_data"
    },
    {
     "data": {
      "text/html": [
       "<pre>recommendations finished on 106000/206209 queries. users per second: 1910.63</pre>"
      ],
      "text/plain": [
       "recommendations finished on 106000/206209 queries. users per second: 1910.63"
      ]
     },
     "metadata": {},
     "output_type": "display_data"
    },
    {
     "data": {
      "text/html": [
       "<pre>recommendations finished on 107000/206209 queries. users per second: 1910.79</pre>"
      ],
      "text/plain": [
       "recommendations finished on 107000/206209 queries. users per second: 1910.79"
      ]
     },
     "metadata": {},
     "output_type": "display_data"
    },
    {
     "data": {
      "text/html": [
       "<pre>recommendations finished on 108000/206209 queries. users per second: 1911.8</pre>"
      ],
      "text/plain": [
       "recommendations finished on 108000/206209 queries. users per second: 1911.8"
      ]
     },
     "metadata": {},
     "output_type": "display_data"
    },
    {
     "data": {
      "text/html": [
       "<pre>recommendations finished on 109000/206209 queries. users per second: 1913.72</pre>"
      ],
      "text/plain": [
       "recommendations finished on 109000/206209 queries. users per second: 1913.72"
      ]
     },
     "metadata": {},
     "output_type": "display_data"
    },
    {
     "data": {
      "text/html": [
       "<pre>recommendations finished on 110000/206209 queries. users per second: 1915.07</pre>"
      ],
      "text/plain": [
       "recommendations finished on 110000/206209 queries. users per second: 1915.07"
      ]
     },
     "metadata": {},
     "output_type": "display_data"
    },
    {
     "data": {
      "text/html": [
       "<pre>recommendations finished on 111000/206209 queries. users per second: 1915.95</pre>"
      ],
      "text/plain": [
       "recommendations finished on 111000/206209 queries. users per second: 1915.95"
      ]
     },
     "metadata": {},
     "output_type": "display_data"
    },
    {
     "data": {
      "text/html": [
       "<pre>recommendations finished on 112000/206209 queries. users per second: 1915.74</pre>"
      ],
      "text/plain": [
       "recommendations finished on 112000/206209 queries. users per second: 1915.74"
      ]
     },
     "metadata": {},
     "output_type": "display_data"
    },
    {
     "data": {
      "text/html": [
       "<pre>recommendations finished on 113000/206209 queries. users per second: 1915.43</pre>"
      ],
      "text/plain": [
       "recommendations finished on 113000/206209 queries. users per second: 1915.43"
      ]
     },
     "metadata": {},
     "output_type": "display_data"
    },
    {
     "data": {
      "text/html": [
       "<pre>recommendations finished on 114000/206209 queries. users per second: 1916.6</pre>"
      ],
      "text/plain": [
       "recommendations finished on 114000/206209 queries. users per second: 1916.6"
      ]
     },
     "metadata": {},
     "output_type": "display_data"
    },
    {
     "data": {
      "text/html": [
       "<pre>recommendations finished on 115000/206209 queries. users per second: 1915.74</pre>"
      ],
      "text/plain": [
       "recommendations finished on 115000/206209 queries. users per second: 1915.74"
      ]
     },
     "metadata": {},
     "output_type": "display_data"
    },
    {
     "data": {
      "text/html": [
       "<pre>recommendations finished on 116000/206209 queries. users per second: 1915.5</pre>"
      ],
      "text/plain": [
       "recommendations finished on 116000/206209 queries. users per second: 1915.5"
      ]
     },
     "metadata": {},
     "output_type": "display_data"
    },
    {
     "data": {
      "text/html": [
       "<pre>recommendations finished on 117000/206209 queries. users per second: 1915.17</pre>"
      ],
      "text/plain": [
       "recommendations finished on 117000/206209 queries. users per second: 1915.17"
      ]
     },
     "metadata": {},
     "output_type": "display_data"
    },
    {
     "data": {
      "text/html": [
       "<pre>recommendations finished on 118000/206209 queries. users per second: 1915.87</pre>"
      ],
      "text/plain": [
       "recommendations finished on 118000/206209 queries. users per second: 1915.87"
      ]
     },
     "metadata": {},
     "output_type": "display_data"
    },
    {
     "data": {
      "text/html": [
       "<pre>recommendations finished on 119000/206209 queries. users per second: 1916.29</pre>"
      ],
      "text/plain": [
       "recommendations finished on 119000/206209 queries. users per second: 1916.29"
      ]
     },
     "metadata": {},
     "output_type": "display_data"
    },
    {
     "data": {
      "text/html": [
       "<pre>recommendations finished on 120000/206209 queries. users per second: 1916</pre>"
      ],
      "text/plain": [
       "recommendations finished on 120000/206209 queries. users per second: 1916"
      ]
     },
     "metadata": {},
     "output_type": "display_data"
    },
    {
     "data": {
      "text/html": [
       "<pre>recommendations finished on 121000/206209 queries. users per second: 1915.2</pre>"
      ],
      "text/plain": [
       "recommendations finished on 121000/206209 queries. users per second: 1915.2"
      ]
     },
     "metadata": {},
     "output_type": "display_data"
    },
    {
     "data": {
      "text/html": [
       "<pre>recommendations finished on 122000/206209 queries. users per second: 1914.56</pre>"
      ],
      "text/plain": [
       "recommendations finished on 122000/206209 queries. users per second: 1914.56"
      ]
     },
     "metadata": {},
     "output_type": "display_data"
    },
    {
     "data": {
      "text/html": [
       "<pre>recommendations finished on 123000/206209 queries. users per second: 1914.63</pre>"
      ],
      "text/plain": [
       "recommendations finished on 123000/206209 queries. users per second: 1914.63"
      ]
     },
     "metadata": {},
     "output_type": "display_data"
    },
    {
     "data": {
      "text/html": [
       "<pre>recommendations finished on 124000/206209 queries. users per second: 1914.99</pre>"
      ],
      "text/plain": [
       "recommendations finished on 124000/206209 queries. users per second: 1914.99"
      ]
     },
     "metadata": {},
     "output_type": "display_data"
    },
    {
     "data": {
      "text/html": [
       "<pre>recommendations finished on 125000/206209 queries. users per second: 1915.26</pre>"
      ],
      "text/plain": [
       "recommendations finished on 125000/206209 queries. users per second: 1915.26"
      ]
     },
     "metadata": {},
     "output_type": "display_data"
    },
    {
     "data": {
      "text/html": [
       "<pre>recommendations finished on 126000/206209 queries. users per second: 1915.18</pre>"
      ],
      "text/plain": [
       "recommendations finished on 126000/206209 queries. users per second: 1915.18"
      ]
     },
     "metadata": {},
     "output_type": "display_data"
    },
    {
     "data": {
      "text/html": [
       "<pre>recommendations finished on 127000/206209 queries. users per second: 1914.5</pre>"
      ],
      "text/plain": [
       "recommendations finished on 127000/206209 queries. users per second: 1914.5"
      ]
     },
     "metadata": {},
     "output_type": "display_data"
    },
    {
     "data": {
      "text/html": [
       "<pre>recommendations finished on 128000/206209 queries. users per second: 1915.01</pre>"
      ],
      "text/plain": [
       "recommendations finished on 128000/206209 queries. users per second: 1915.01"
      ]
     },
     "metadata": {},
     "output_type": "display_data"
    },
    {
     "data": {
      "text/html": [
       "<pre>recommendations finished on 129000/206209 queries. users per second: 1915.89</pre>"
      ],
      "text/plain": [
       "recommendations finished on 129000/206209 queries. users per second: 1915.89"
      ]
     },
     "metadata": {},
     "output_type": "display_data"
    },
    {
     "data": {
      "text/html": [
       "<pre>recommendations finished on 130000/206209 queries. users per second: 1917.51</pre>"
      ],
      "text/plain": [
       "recommendations finished on 130000/206209 queries. users per second: 1917.51"
      ]
     },
     "metadata": {},
     "output_type": "display_data"
    },
    {
     "data": {
      "text/html": [
       "<pre>recommendations finished on 131000/206209 queries. users per second: 1917.91</pre>"
      ],
      "text/plain": [
       "recommendations finished on 131000/206209 queries. users per second: 1917.91"
      ]
     },
     "metadata": {},
     "output_type": "display_data"
    },
    {
     "data": {
      "text/html": [
       "<pre>recommendations finished on 132000/206209 queries. users per second: 1918.84</pre>"
      ],
      "text/plain": [
       "recommendations finished on 132000/206209 queries. users per second: 1918.84"
      ]
     },
     "metadata": {},
     "output_type": "display_data"
    },
    {
     "data": {
      "text/html": [
       "<pre>recommendations finished on 133000/206209 queries. users per second: 1919.86</pre>"
      ],
      "text/plain": [
       "recommendations finished on 133000/206209 queries. users per second: 1919.86"
      ]
     },
     "metadata": {},
     "output_type": "display_data"
    },
    {
     "data": {
      "text/html": [
       "<pre>recommendations finished on 134000/206209 queries. users per second: 1920.09</pre>"
      ],
      "text/plain": [
       "recommendations finished on 134000/206209 queries. users per second: 1920.09"
      ]
     },
     "metadata": {},
     "output_type": "display_data"
    },
    {
     "data": {
      "text/html": [
       "<pre>recommendations finished on 135000/206209 queries. users per second: 1920.37</pre>"
      ],
      "text/plain": [
       "recommendations finished on 135000/206209 queries. users per second: 1920.37"
      ]
     },
     "metadata": {},
     "output_type": "display_data"
    },
    {
     "data": {
      "text/html": [
       "<pre>recommendations finished on 136000/206209 queries. users per second: 1921.08</pre>"
      ],
      "text/plain": [
       "recommendations finished on 136000/206209 queries. users per second: 1921.08"
      ]
     },
     "metadata": {},
     "output_type": "display_data"
    },
    {
     "data": {
      "text/html": [
       "<pre>recommendations finished on 137000/206209 queries. users per second: 1922.71</pre>"
      ],
      "text/plain": [
       "recommendations finished on 137000/206209 queries. users per second: 1922.71"
      ]
     },
     "metadata": {},
     "output_type": "display_data"
    },
    {
     "data": {
      "text/html": [
       "<pre>recommendations finished on 138000/206209 queries. users per second: 1923.25</pre>"
      ],
      "text/plain": [
       "recommendations finished on 138000/206209 queries. users per second: 1923.25"
      ]
     },
     "metadata": {},
     "output_type": "display_data"
    },
    {
     "data": {
      "text/html": [
       "<pre>recommendations finished on 139000/206209 queries. users per second: 1923.8</pre>"
      ],
      "text/plain": [
       "recommendations finished on 139000/206209 queries. users per second: 1923.8"
      ]
     },
     "metadata": {},
     "output_type": "display_data"
    },
    {
     "data": {
      "text/html": [
       "<pre>recommendations finished on 140000/206209 queries. users per second: 1923.62</pre>"
      ],
      "text/plain": [
       "recommendations finished on 140000/206209 queries. users per second: 1923.62"
      ]
     },
     "metadata": {},
     "output_type": "display_data"
    },
    {
     "data": {
      "text/html": [
       "<pre>recommendations finished on 141000/206209 queries. users per second: 1923.99</pre>"
      ],
      "text/plain": [
       "recommendations finished on 141000/206209 queries. users per second: 1923.99"
      ]
     },
     "metadata": {},
     "output_type": "display_data"
    },
    {
     "data": {
      "text/html": [
       "<pre>recommendations finished on 142000/206209 queries. users per second: 1924.34</pre>"
      ],
      "text/plain": [
       "recommendations finished on 142000/206209 queries. users per second: 1924.34"
      ]
     },
     "metadata": {},
     "output_type": "display_data"
    },
    {
     "data": {
      "text/html": [
       "<pre>recommendations finished on 143000/206209 queries. users per second: 1924.6</pre>"
      ],
      "text/plain": [
       "recommendations finished on 143000/206209 queries. users per second: 1924.6"
      ]
     },
     "metadata": {},
     "output_type": "display_data"
    },
    {
     "data": {
      "text/html": [
       "<pre>recommendations finished on 144000/206209 queries. users per second: 1925.22</pre>"
      ],
      "text/plain": [
       "recommendations finished on 144000/206209 queries. users per second: 1925.22"
      ]
     },
     "metadata": {},
     "output_type": "display_data"
    },
    {
     "data": {
      "text/html": [
       "<pre>recommendations finished on 145000/206209 queries. users per second: 1925.73</pre>"
      ],
      "text/plain": [
       "recommendations finished on 145000/206209 queries. users per second: 1925.73"
      ]
     },
     "metadata": {},
     "output_type": "display_data"
    },
    {
     "data": {
      "text/html": [
       "<pre>recommendations finished on 146000/206209 queries. users per second: 1926.02</pre>"
      ],
      "text/plain": [
       "recommendations finished on 146000/206209 queries. users per second: 1926.02"
      ]
     },
     "metadata": {},
     "output_type": "display_data"
    },
    {
     "data": {
      "text/html": [
       "<pre>recommendations finished on 147000/206209 queries. users per second: 1926.11</pre>"
      ],
      "text/plain": [
       "recommendations finished on 147000/206209 queries. users per second: 1926.11"
      ]
     },
     "metadata": {},
     "output_type": "display_data"
    },
    {
     "data": {
      "text/html": [
       "<pre>recommendations finished on 148000/206209 queries. users per second: 1926.25</pre>"
      ],
      "text/plain": [
       "recommendations finished on 148000/206209 queries. users per second: 1926.25"
      ]
     },
     "metadata": {},
     "output_type": "display_data"
    },
    {
     "data": {
      "text/html": [
       "<pre>recommendations finished on 149000/206209 queries. users per second: 1925.82</pre>"
      ],
      "text/plain": [
       "recommendations finished on 149000/206209 queries. users per second: 1925.82"
      ]
     },
     "metadata": {},
     "output_type": "display_data"
    },
    {
     "data": {
      "text/html": [
       "<pre>recommendations finished on 150000/206209 queries. users per second: 1925.64</pre>"
      ],
      "text/plain": [
       "recommendations finished on 150000/206209 queries. users per second: 1925.64"
      ]
     },
     "metadata": {},
     "output_type": "display_data"
    },
    {
     "data": {
      "text/html": [
       "<pre>recommendations finished on 151000/206209 queries. users per second: 1925.73</pre>"
      ],
      "text/plain": [
       "recommendations finished on 151000/206209 queries. users per second: 1925.73"
      ]
     },
     "metadata": {},
     "output_type": "display_data"
    },
    {
     "data": {
      "text/html": [
       "<pre>recommendations finished on 152000/206209 queries. users per second: 1926.02</pre>"
      ],
      "text/plain": [
       "recommendations finished on 152000/206209 queries. users per second: 1926.02"
      ]
     },
     "metadata": {},
     "output_type": "display_data"
    },
    {
     "data": {
      "text/html": [
       "<pre>recommendations finished on 153000/206209 queries. users per second: 1927.02</pre>"
      ],
      "text/plain": [
       "recommendations finished on 153000/206209 queries. users per second: 1927.02"
      ]
     },
     "metadata": {},
     "output_type": "display_data"
    },
    {
     "data": {
      "text/html": [
       "<pre>recommendations finished on 154000/206209 queries. users per second: 1928.19</pre>"
      ],
      "text/plain": [
       "recommendations finished on 154000/206209 queries. users per second: 1928.19"
      ]
     },
     "metadata": {},
     "output_type": "display_data"
    },
    {
     "data": {
      "text/html": [
       "<pre>recommendations finished on 155000/206209 queries. users per second: 1928.67</pre>"
      ],
      "text/plain": [
       "recommendations finished on 155000/206209 queries. users per second: 1928.67"
      ]
     },
     "metadata": {},
     "output_type": "display_data"
    },
    {
     "data": {
      "text/html": [
       "<pre>recommendations finished on 156000/206209 queries. users per second: 1928.16</pre>"
      ],
      "text/plain": [
       "recommendations finished on 156000/206209 queries. users per second: 1928.16"
      ]
     },
     "metadata": {},
     "output_type": "display_data"
    },
    {
     "data": {
      "text/html": [
       "<pre>recommendations finished on 157000/206209 queries. users per second: 1928.53</pre>"
      ],
      "text/plain": [
       "recommendations finished on 157000/206209 queries. users per second: 1928.53"
      ]
     },
     "metadata": {},
     "output_type": "display_data"
    },
    {
     "data": {
      "text/html": [
       "<pre>recommendations finished on 158000/206209 queries. users per second: 1928.94</pre>"
      ],
      "text/plain": [
       "recommendations finished on 158000/206209 queries. users per second: 1928.94"
      ]
     },
     "metadata": {},
     "output_type": "display_data"
    },
    {
     "data": {
      "text/html": [
       "<pre>recommendations finished on 159000/206209 queries. users per second: 1929.37</pre>"
      ],
      "text/plain": [
       "recommendations finished on 159000/206209 queries. users per second: 1929.37"
      ]
     },
     "metadata": {},
     "output_type": "display_data"
    },
    {
     "data": {
      "text/html": [
       "<pre>recommendations finished on 160000/206209 queries. users per second: 1929.61</pre>"
      ],
      "text/plain": [
       "recommendations finished on 160000/206209 queries. users per second: 1929.61"
      ]
     },
     "metadata": {},
     "output_type": "display_data"
    },
    {
     "data": {
      "text/html": [
       "<pre>recommendations finished on 161000/206209 queries. users per second: 1930.2</pre>"
      ],
      "text/plain": [
       "recommendations finished on 161000/206209 queries. users per second: 1930.2"
      ]
     },
     "metadata": {},
     "output_type": "display_data"
    },
    {
     "data": {
      "text/html": [
       "<pre>recommendations finished on 162000/206209 queries. users per second: 1931.41</pre>"
      ],
      "text/plain": [
       "recommendations finished on 162000/206209 queries. users per second: 1931.41"
      ]
     },
     "metadata": {},
     "output_type": "display_data"
    },
    {
     "data": {
      "text/html": [
       "<pre>recommendations finished on 163000/206209 queries. users per second: 1931.39</pre>"
      ],
      "text/plain": [
       "recommendations finished on 163000/206209 queries. users per second: 1931.39"
      ]
     },
     "metadata": {},
     "output_type": "display_data"
    },
    {
     "data": {
      "text/html": [
       "<pre>recommendations finished on 164000/206209 queries. users per second: 1932.57</pre>"
      ],
      "text/plain": [
       "recommendations finished on 164000/206209 queries. users per second: 1932.57"
      ]
     },
     "metadata": {},
     "output_type": "display_data"
    },
    {
     "data": {
      "text/html": [
       "<pre>recommendations finished on 165000/206209 queries. users per second: 1930.04</pre>"
      ],
      "text/plain": [
       "recommendations finished on 165000/206209 queries. users per second: 1930.04"
      ]
     },
     "metadata": {},
     "output_type": "display_data"
    },
    {
     "data": {
      "text/html": [
       "<pre>recommendations finished on 166000/206209 queries. users per second: 1929.11</pre>"
      ],
      "text/plain": [
       "recommendations finished on 166000/206209 queries. users per second: 1929.11"
      ]
     },
     "metadata": {},
     "output_type": "display_data"
    },
    {
     "data": {
      "text/html": [
       "<pre>recommendations finished on 167000/206209 queries. users per second: 1927.8</pre>"
      ],
      "text/plain": [
       "recommendations finished on 167000/206209 queries. users per second: 1927.8"
      ]
     },
     "metadata": {},
     "output_type": "display_data"
    },
    {
     "data": {
      "text/html": [
       "<pre>recommendations finished on 168000/206209 queries. users per second: 1926.64</pre>"
      ],
      "text/plain": [
       "recommendations finished on 168000/206209 queries. users per second: 1926.64"
      ]
     },
     "metadata": {},
     "output_type": "display_data"
    },
    {
     "data": {
      "text/html": [
       "<pre>recommendations finished on 169000/206209 queries. users per second: 1926.11</pre>"
      ],
      "text/plain": [
       "recommendations finished on 169000/206209 queries. users per second: 1926.11"
      ]
     },
     "metadata": {},
     "output_type": "display_data"
    },
    {
     "data": {
      "text/html": [
       "<pre>recommendations finished on 170000/206209 queries. users per second: 1924.77</pre>"
      ],
      "text/plain": [
       "recommendations finished on 170000/206209 queries. users per second: 1924.77"
      ]
     },
     "metadata": {},
     "output_type": "display_data"
    },
    {
     "data": {
      "text/html": [
       "<pre>recommendations finished on 171000/206209 queries. users per second: 1922.02</pre>"
      ],
      "text/plain": [
       "recommendations finished on 171000/206209 queries. users per second: 1922.02"
      ]
     },
     "metadata": {},
     "output_type": "display_data"
    },
    {
     "data": {
      "text/html": [
       "<pre>recommendations finished on 172000/206209 queries. users per second: 1920.44</pre>"
      ],
      "text/plain": [
       "recommendations finished on 172000/206209 queries. users per second: 1920.44"
      ]
     },
     "metadata": {},
     "output_type": "display_data"
    },
    {
     "data": {
      "text/html": [
       "<pre>recommendations finished on 173000/206209 queries. users per second: 1917.55</pre>"
      ],
      "text/plain": [
       "recommendations finished on 173000/206209 queries. users per second: 1917.55"
      ]
     },
     "metadata": {},
     "output_type": "display_data"
    },
    {
     "data": {
      "text/html": [
       "<pre>recommendations finished on 174000/206209 queries. users per second: 1914.7</pre>"
      ],
      "text/plain": [
       "recommendations finished on 174000/206209 queries. users per second: 1914.7"
      ]
     },
     "metadata": {},
     "output_type": "display_data"
    },
    {
     "data": {
      "text/html": [
       "<pre>recommendations finished on 175000/206209 queries. users per second: 1912.09</pre>"
      ],
      "text/plain": [
       "recommendations finished on 175000/206209 queries. users per second: 1912.09"
      ]
     },
     "metadata": {},
     "output_type": "display_data"
    },
    {
     "data": {
      "text/html": [
       "<pre>recommendations finished on 176000/206209 queries. users per second: 1909.33</pre>"
      ],
      "text/plain": [
       "recommendations finished on 176000/206209 queries. users per second: 1909.33"
      ]
     },
     "metadata": {},
     "output_type": "display_data"
    },
    {
     "data": {
      "text/html": [
       "<pre>recommendations finished on 177000/206209 queries. users per second: 1906.62</pre>"
      ],
      "text/plain": [
       "recommendations finished on 177000/206209 queries. users per second: 1906.62"
      ]
     },
     "metadata": {},
     "output_type": "display_data"
    },
    {
     "data": {
      "text/html": [
       "<pre>recommendations finished on 178000/206209 queries. users per second: 1905.15</pre>"
      ],
      "text/plain": [
       "recommendations finished on 178000/206209 queries. users per second: 1905.15"
      ]
     },
     "metadata": {},
     "output_type": "display_data"
    },
    {
     "data": {
      "text/html": [
       "<pre>recommendations finished on 179000/206209 queries. users per second: 1903.51</pre>"
      ],
      "text/plain": [
       "recommendations finished on 179000/206209 queries. users per second: 1903.51"
      ]
     },
     "metadata": {},
     "output_type": "display_data"
    },
    {
     "data": {
      "text/html": [
       "<pre>recommendations finished on 180000/206209 queries. users per second: 1902.76</pre>"
      ],
      "text/plain": [
       "recommendations finished on 180000/206209 queries. users per second: 1902.76"
      ]
     },
     "metadata": {},
     "output_type": "display_data"
    },
    {
     "data": {
      "text/html": [
       "<pre>recommendations finished on 181000/206209 queries. users per second: 1901.63</pre>"
      ],
      "text/plain": [
       "recommendations finished on 181000/206209 queries. users per second: 1901.63"
      ]
     },
     "metadata": {},
     "output_type": "display_data"
    },
    {
     "data": {
      "text/html": [
       "<pre>recommendations finished on 182000/206209 queries. users per second: 1898.82</pre>"
      ],
      "text/plain": [
       "recommendations finished on 182000/206209 queries. users per second: 1898.82"
      ]
     },
     "metadata": {},
     "output_type": "display_data"
    },
    {
     "data": {
      "text/html": [
       "<pre>recommendations finished on 183000/206209 queries. users per second: 1896.94</pre>"
      ],
      "text/plain": [
       "recommendations finished on 183000/206209 queries. users per second: 1896.94"
      ]
     },
     "metadata": {},
     "output_type": "display_data"
    },
    {
     "data": {
      "text/html": [
       "<pre>recommendations finished on 184000/206209 queries. users per second: 1895.7</pre>"
      ],
      "text/plain": [
       "recommendations finished on 184000/206209 queries. users per second: 1895.7"
      ]
     },
     "metadata": {},
     "output_type": "display_data"
    },
    {
     "data": {
      "text/html": [
       "<pre>recommendations finished on 185000/206209 queries. users per second: 1894.94</pre>"
      ],
      "text/plain": [
       "recommendations finished on 185000/206209 queries. users per second: 1894.94"
      ]
     },
     "metadata": {},
     "output_type": "display_data"
    },
    {
     "data": {
      "text/html": [
       "<pre>recommendations finished on 186000/206209 queries. users per second: 1894.61</pre>"
      ],
      "text/plain": [
       "recommendations finished on 186000/206209 queries. users per second: 1894.61"
      ]
     },
     "metadata": {},
     "output_type": "display_data"
    },
    {
     "data": {
      "text/html": [
       "<pre>recommendations finished on 187000/206209 queries. users per second: 1893.27</pre>"
      ],
      "text/plain": [
       "recommendations finished on 187000/206209 queries. users per second: 1893.27"
      ]
     },
     "metadata": {},
     "output_type": "display_data"
    },
    {
     "data": {
      "text/html": [
       "<pre>recommendations finished on 188000/206209 queries. users per second: 1892.53</pre>"
      ],
      "text/plain": [
       "recommendations finished on 188000/206209 queries. users per second: 1892.53"
      ]
     },
     "metadata": {},
     "output_type": "display_data"
    },
    {
     "data": {
      "text/html": [
       "<pre>recommendations finished on 189000/206209 queries. users per second: 1890.57</pre>"
      ],
      "text/plain": [
       "recommendations finished on 189000/206209 queries. users per second: 1890.57"
      ]
     },
     "metadata": {},
     "output_type": "display_data"
    },
    {
     "data": {
      "text/html": [
       "<pre>recommendations finished on 190000/206209 queries. users per second: 1888.91</pre>"
      ],
      "text/plain": [
       "recommendations finished on 190000/206209 queries. users per second: 1888.91"
      ]
     },
     "metadata": {},
     "output_type": "display_data"
    },
    {
     "data": {
      "text/html": [
       "<pre>recommendations finished on 191000/206209 queries. users per second: 1889.47</pre>"
      ],
      "text/plain": [
       "recommendations finished on 191000/206209 queries. users per second: 1889.47"
      ]
     },
     "metadata": {},
     "output_type": "display_data"
    },
    {
     "data": {
      "text/html": [
       "<pre>recommendations finished on 192000/206209 queries. users per second: 1889.93</pre>"
      ],
      "text/plain": [
       "recommendations finished on 192000/206209 queries. users per second: 1889.93"
      ]
     },
     "metadata": {},
     "output_type": "display_data"
    },
    {
     "data": {
      "text/html": [
       "<pre>recommendations finished on 193000/206209 queries. users per second: 1890.38</pre>"
      ],
      "text/plain": [
       "recommendations finished on 193000/206209 queries. users per second: 1890.38"
      ]
     },
     "metadata": {},
     "output_type": "display_data"
    },
    {
     "data": {
      "text/html": [
       "<pre>recommendations finished on 194000/206209 queries. users per second: 1890.26</pre>"
      ],
      "text/plain": [
       "recommendations finished on 194000/206209 queries. users per second: 1890.26"
      ]
     },
     "metadata": {},
     "output_type": "display_data"
    },
    {
     "data": {
      "text/html": [
       "<pre>recommendations finished on 195000/206209 queries. users per second: 1890.88</pre>"
      ],
      "text/plain": [
       "recommendations finished on 195000/206209 queries. users per second: 1890.88"
      ]
     },
     "metadata": {},
     "output_type": "display_data"
    },
    {
     "data": {
      "text/html": [
       "<pre>recommendations finished on 196000/206209 queries. users per second: 1891.29</pre>"
      ],
      "text/plain": [
       "recommendations finished on 196000/206209 queries. users per second: 1891.29"
      ]
     },
     "metadata": {},
     "output_type": "display_data"
    },
    {
     "data": {
      "text/html": [
       "<pre>recommendations finished on 197000/206209 queries. users per second: 1891.7</pre>"
      ],
      "text/plain": [
       "recommendations finished on 197000/206209 queries. users per second: 1891.7"
      ]
     },
     "metadata": {},
     "output_type": "display_data"
    },
    {
     "data": {
      "text/html": [
       "<pre>recommendations finished on 198000/206209 queries. users per second: 1892.19</pre>"
      ],
      "text/plain": [
       "recommendations finished on 198000/206209 queries. users per second: 1892.19"
      ]
     },
     "metadata": {},
     "output_type": "display_data"
    },
    {
     "data": {
      "text/html": [
       "<pre>recommendations finished on 199000/206209 queries. users per second: 1892.31</pre>"
      ],
      "text/plain": [
       "recommendations finished on 199000/206209 queries. users per second: 1892.31"
      ]
     },
     "metadata": {},
     "output_type": "display_data"
    },
    {
     "data": {
      "text/html": [
       "<pre>recommendations finished on 200000/206209 queries. users per second: 1892.58</pre>"
      ],
      "text/plain": [
       "recommendations finished on 200000/206209 queries. users per second: 1892.58"
      ]
     },
     "metadata": {},
     "output_type": "display_data"
    },
    {
     "data": {
      "text/html": [
       "<pre>recommendations finished on 201000/206209 queries. users per second: 1892.88</pre>"
      ],
      "text/plain": [
       "recommendations finished on 201000/206209 queries. users per second: 1892.88"
      ]
     },
     "metadata": {},
     "output_type": "display_data"
    },
    {
     "data": {
      "text/html": [
       "<pre>recommendations finished on 202000/206209 queries. users per second: 1893.26</pre>"
      ],
      "text/plain": [
       "recommendations finished on 202000/206209 queries. users per second: 1893.26"
      ]
     },
     "metadata": {},
     "output_type": "display_data"
    },
    {
     "data": {
      "text/html": [
       "<pre>recommendations finished on 203000/206209 queries. users per second: 1893.11</pre>"
      ],
      "text/plain": [
       "recommendations finished on 203000/206209 queries. users per second: 1893.11"
      ]
     },
     "metadata": {},
     "output_type": "display_data"
    },
    {
     "data": {
      "text/html": [
       "<pre>recommendations finished on 204000/206209 queries. users per second: 1893.01</pre>"
      ],
      "text/plain": [
       "recommendations finished on 204000/206209 queries. users per second: 1893.01"
      ]
     },
     "metadata": {},
     "output_type": "display_data"
    },
    {
     "data": {
      "text/html": [
       "<pre>recommendations finished on 205000/206209 queries. users per second: 1893.05</pre>"
      ],
      "text/plain": [
       "recommendations finished on 205000/206209 queries. users per second: 1893.05"
      ]
     },
     "metadata": {},
     "output_type": "display_data"
    },
    {
     "data": {
      "text/html": [
       "<pre>recommendations finished on 206000/206209 queries. users per second: 1884.58</pre>"
      ],
      "text/plain": [
       "recommendations finished on 206000/206209 queries. users per second: 1884.58"
      ]
     },
     "metadata": {},
     "output_type": "display_data"
    },
    {
     "name": "stdout",
     "output_type": "stream",
     "text": [
      "+---------+------------+---------------------+------+\n",
      "| user_id | product_id |        score        | rank |\n",
      "+---------+------------+---------------------+------+\n",
      "|    1    |   37710    |  0.689309322171741  |  1   |\n",
      "|    1    |    6184    |  0.6667063170009189 |  2   |\n",
      "|    1    |   11759    |  0.5261774957180023 |  3   |\n",
      "|    1    |   41400    | 0.46802163786358303 |  4   |\n",
      "|    1    |   18023    |  0.4671127398808797 |  5   |\n",
      "|    1    |   45051    | 0.46666069163216484 |  6   |\n",
      "|    1    |    8843    |  0.4628487295574612 |  7   |\n",
      "|    1    |   13575    |  0.4477006097634633 |  8   |\n",
      "|    1    |   31651    | 0.44746193289756775 |  9   |\n",
      "|    1    |   46562    | 0.43764450152715045 |  10  |\n",
      "|    2    |   21137    | 0.30878585635447037 |  1   |\n",
      "|    2    |   21903    |  0.2719903547389835 |  2   |\n",
      "|    2    |   26209    | 0.23687154522129134 |  3   |\n",
      "|    2    |   47626    | 0.22843356401312584 |  4   |\n",
      "|    2    |    8277    | 0.20857900556396036 |  5   |\n",
      "|    2    |   22935    | 0.20542147930930643 |  6   |\n",
      "|    2    |   24964    | 0.19983717507007076 |  7   |\n",
      "|    2    |   42415    |  0.1997866244877086 |  8   |\n",
      "|    2    |   42265    | 0.19625006645333534 |  9   |\n",
      "|    2    |   40706    |  0.1958452562491099 |  10  |\n",
      "|    3    |   24852    |  0.7421573436621464 |  1   |\n",
      "|    3    |   26209    |  0.5891412442380731 |  2   |\n",
      "|    3    |   47209    |  0.5838213364283243 |  3   |\n",
      "|    3    |   47626    |  0.5793453653653463 |  4   |\n",
      "|    3    |   13176    |  0.5407598434072552 |  5   |\n",
      "|    3    |   24964    |  0.5179811607707631 |  6   |\n",
      "|    3    |   22935    |  0.5084987969109507 |  7   |\n",
      "|    3    |   45007    |  0.5011910922599562 |  8   |\n",
      "|    3    |   40706    |  0.4882884459062056 |  9   |\n",
      "|    3    |   39275    |  0.4599907741402135 |  10  |\n",
      "+---------+------------+---------------------+------+\n",
      "[2062090 rows x 4 columns]\n",
      "\n"
     ]
    }
   ],
   "source": [
    "name = 'cosine'\n",
    "target = 'quantity'\n",
    "cos = model(train_data, name, user_id, product_id, target, users_to_recommend, n_rec, n_display)"
   ]
  },
  {
   "cell_type": "code",
   "execution_count": 69,
   "metadata": {},
   "outputs": [
    {
     "data": {
      "text/html": [
       "<pre>Preparing data set.</pre>"
      ],
      "text/plain": [
       "Preparing data set."
      ]
     },
     "metadata": {},
     "output_type": "display_data"
    },
    {
     "data": {
      "text/html": [
       "<pre>    Data has 13307953 observations with 206209 users and 49677 items.</pre>"
      ],
      "text/plain": [
       "    Data has 13307953 observations with 206209 users and 49677 items."
      ]
     },
     "metadata": {},
     "output_type": "display_data"
    },
    {
     "data": {
      "text/html": [
       "<pre>    Data prepared in: 11.08s</pre>"
      ],
      "text/plain": [
       "    Data prepared in: 11.08s"
      ]
     },
     "metadata": {},
     "output_type": "display_data"
    },
    {
     "data": {
      "text/html": [
       "<pre>Training model from provided data.</pre>"
      ],
      "text/plain": [
       "Training model from provided data."
      ]
     },
     "metadata": {},
     "output_type": "display_data"
    },
    {
     "data": {
      "text/html": [
       "<pre>Gathering per-item and per-user statistics.</pre>"
      ],
      "text/plain": [
       "Gathering per-item and per-user statistics."
      ]
     },
     "metadata": {},
     "output_type": "display_data"
    },
    {
     "data": {
      "text/html": [
       "<pre>+--------------------------------+------------+</pre>"
      ],
      "text/plain": [
       "+--------------------------------+------------+"
      ]
     },
     "metadata": {},
     "output_type": "display_data"
    },
    {
     "data": {
      "text/html": [
       "<pre>| Elapsed Time (Item Statistics) | % Complete |</pre>"
      ],
      "text/plain": [
       "| Elapsed Time (Item Statistics) | % Complete |"
      ]
     },
     "metadata": {},
     "output_type": "display_data"
    },
    {
     "data": {
      "text/html": [
       "<pre>+--------------------------------+------------+</pre>"
      ],
      "text/plain": [
       "+--------------------------------+------------+"
      ]
     },
     "metadata": {},
     "output_type": "display_data"
    },
    {
     "data": {
      "text/html": [
       "<pre>| 2.918ms                        | 0.25       |</pre>"
      ],
      "text/plain": [
       "| 2.918ms                        | 0.25       |"
      ]
     },
     "metadata": {},
     "output_type": "display_data"
    },
    {
     "data": {
      "text/html": [
       "<pre>| 369.143ms                      | 100        |</pre>"
      ],
      "text/plain": [
       "| 369.143ms                      | 100        |"
      ]
     },
     "metadata": {},
     "output_type": "display_data"
    },
    {
     "data": {
      "text/html": [
       "<pre>+--------------------------------+------------+</pre>"
      ],
      "text/plain": [
       "+--------------------------------+------------+"
      ]
     },
     "metadata": {},
     "output_type": "display_data"
    },
    {
     "data": {
      "text/html": [
       "<pre>Setting up lookup tables.</pre>"
      ],
      "text/plain": [
       "Setting up lookup tables."
      ]
     },
     "metadata": {},
     "output_type": "display_data"
    },
    {
     "data": {
      "text/html": [
       "<pre>Processing data in 2 passes using dense lookup tables.</pre>"
      ],
      "text/plain": [
       "Processing data in 2 passes using dense lookup tables."
      ]
     },
     "metadata": {},
     "output_type": "display_data"
    },
    {
     "data": {
      "text/html": [
       "<pre>+-------------------------------------+------------------+-----------------+</pre>"
      ],
      "text/plain": [
       "+-------------------------------------+------------------+-----------------+"
      ]
     },
     "metadata": {},
     "output_type": "display_data"
    },
    {
     "data": {
      "text/html": [
       "<pre>| Elapsed Time (Constructing Lookups) | Total % Complete | Items Processed |</pre>"
      ],
      "text/plain": [
       "| Elapsed Time (Constructing Lookups) | Total % Complete | Items Processed |"
      ]
     },
     "metadata": {},
     "output_type": "display_data"
    },
    {
     "data": {
      "text/html": [
       "<pre>+-------------------------------------+------------------+-----------------+</pre>"
      ],
      "text/plain": [
       "+-------------------------------------+------------------+-----------------+"
      ]
     },
     "metadata": {},
     "output_type": "display_data"
    },
    {
     "data": {
      "text/html": [
       "<pre>| 2.70s                               | 0                | 0               |</pre>"
      ],
      "text/plain": [
       "| 2.70s                               | 0                | 0               |"
      ]
     },
     "metadata": {},
     "output_type": "display_data"
    },
    {
     "data": {
      "text/html": [
       "<pre>| 5.70s                               | 6                | 3046            |</pre>"
      ],
      "text/plain": [
       "| 5.70s                               | 6                | 3046            |"
      ]
     },
     "metadata": {},
     "output_type": "display_data"
    },
    {
     "data": {
      "text/html": [
       "<pre>| 8.70s                               | 12               | 6039            |</pre>"
      ],
      "text/plain": [
       "| 8.70s                               | 12               | 6039            |"
      ]
     },
     "metadata": {},
     "output_type": "display_data"
    },
    {
     "data": {
      "text/html": [
       "<pre>| 11.70s                              | 18               | 9019            |</pre>"
      ],
      "text/plain": [
       "| 11.70s                              | 18               | 9019            |"
      ]
     },
     "metadata": {},
     "output_type": "display_data"
    },
    {
     "data": {
      "text/html": [
       "<pre>| 14.70s                              | 24.5             | 12202           |</pre>"
      ],
      "text/plain": [
       "| 14.70s                              | 24.5             | 12202           |"
      ]
     },
     "metadata": {},
     "output_type": "display_data"
    },
    {
     "data": {
      "text/html": [
       "<pre>| 17.70s                              | 30.25            | 15131           |</pre>"
      ],
      "text/plain": [
       "| 17.70s                              | 30.25            | 15131           |"
      ]
     },
     "metadata": {},
     "output_type": "display_data"
    },
    {
     "data": {
      "text/html": [
       "<pre>| 20.70s                              | 35.75            | 17855           |</pre>"
      ],
      "text/plain": [
       "| 20.70s                              | 35.75            | 17855           |"
      ]
     },
     "metadata": {},
     "output_type": "display_data"
    },
    {
     "data": {
      "text/html": [
       "<pre>| 23.70s                              | 41.75            | 20813           |</pre>"
      ],
      "text/plain": [
       "| 23.70s                              | 41.75            | 20813           |"
      ]
     },
     "metadata": {},
     "output_type": "display_data"
    },
    {
     "data": {
      "text/html": [
       "<pre>| 26.70s                              | 48               | 23870           |</pre>"
      ],
      "text/plain": [
       "| 26.70s                              | 48               | 23870           |"
      ]
     },
     "metadata": {},
     "output_type": "display_data"
    },
    {
     "data": {
      "text/html": [
       "<pre>| 41.80s                              | 49.75            | 24836           |</pre>"
      ],
      "text/plain": [
       "| 41.80s                              | 49.75            | 24836           |"
      ]
     },
     "metadata": {},
     "output_type": "display_data"
    },
    {
     "data": {
      "text/html": [
       "<pre>| 43.30s                              | 100              | 49677           |</pre>"
      ],
      "text/plain": [
       "| 43.30s                              | 100              | 49677           |"
      ]
     },
     "metadata": {},
     "output_type": "display_data"
    },
    {
     "data": {
      "text/html": [
       "<pre>+-------------------------------------+------------------+-----------------+</pre>"
      ],
      "text/plain": [
       "+-------------------------------------+------------------+-----------------+"
      ]
     },
     "metadata": {},
     "output_type": "display_data"
    },
    {
     "data": {
      "text/html": [
       "<pre>Finalizing lookup tables.</pre>"
      ],
      "text/plain": [
       "Finalizing lookup tables."
      ]
     },
     "metadata": {},
     "output_type": "display_data"
    },
    {
     "data": {
      "text/html": [
       "<pre>Generating candidate set for working with new users.</pre>"
      ],
      "text/plain": [
       "Generating candidate set for working with new users."
      ]
     },
     "metadata": {},
     "output_type": "display_data"
    },
    {
     "data": {
      "text/html": [
       "<pre>Finished training in 44.1354s</pre>"
      ],
      "text/plain": [
       "Finished training in 44.1354s"
      ]
     },
     "metadata": {},
     "output_type": "display_data"
    },
    {
     "data": {
      "text/html": [
       "<pre>recommendations finished on 1000/206209 queries. users per second: 2081.19</pre>"
      ],
      "text/plain": [
       "recommendations finished on 1000/206209 queries. users per second: 2081.19"
      ]
     },
     "metadata": {},
     "output_type": "display_data"
    },
    {
     "data": {
      "text/html": [
       "<pre>recommendations finished on 2000/206209 queries. users per second: 2023.77</pre>"
      ],
      "text/plain": [
       "recommendations finished on 2000/206209 queries. users per second: 2023.77"
      ]
     },
     "metadata": {},
     "output_type": "display_data"
    },
    {
     "data": {
      "text/html": [
       "<pre>recommendations finished on 3000/206209 queries. users per second: 1992.24</pre>"
      ],
      "text/plain": [
       "recommendations finished on 3000/206209 queries. users per second: 1992.24"
      ]
     },
     "metadata": {},
     "output_type": "display_data"
    },
    {
     "data": {
      "text/html": [
       "<pre>recommendations finished on 4000/206209 queries. users per second: 2026.85</pre>"
      ],
      "text/plain": [
       "recommendations finished on 4000/206209 queries. users per second: 2026.85"
      ]
     },
     "metadata": {},
     "output_type": "display_data"
    },
    {
     "data": {
      "text/html": [
       "<pre>recommendations finished on 5000/206209 queries. users per second: 2025.36</pre>"
      ],
      "text/plain": [
       "recommendations finished on 5000/206209 queries. users per second: 2025.36"
      ]
     },
     "metadata": {},
     "output_type": "display_data"
    },
    {
     "data": {
      "text/html": [
       "<pre>recommendations finished on 6000/206209 queries. users per second: 2015.82</pre>"
      ],
      "text/plain": [
       "recommendations finished on 6000/206209 queries. users per second: 2015.82"
      ]
     },
     "metadata": {},
     "output_type": "display_data"
    },
    {
     "data": {
      "text/html": [
       "<pre>recommendations finished on 7000/206209 queries. users per second: 2003.89</pre>"
      ],
      "text/plain": [
       "recommendations finished on 7000/206209 queries. users per second: 2003.89"
      ]
     },
     "metadata": {},
     "output_type": "display_data"
    },
    {
     "data": {
      "text/html": [
       "<pre>recommendations finished on 8000/206209 queries. users per second: 2023.7</pre>"
      ],
      "text/plain": [
       "recommendations finished on 8000/206209 queries. users per second: 2023.7"
      ]
     },
     "metadata": {},
     "output_type": "display_data"
    },
    {
     "data": {
      "text/html": [
       "<pre>recommendations finished on 9000/206209 queries. users per second: 2029.89</pre>"
      ],
      "text/plain": [
       "recommendations finished on 9000/206209 queries. users per second: 2029.89"
      ]
     },
     "metadata": {},
     "output_type": "display_data"
    },
    {
     "data": {
      "text/html": [
       "<pre>recommendations finished on 10000/206209 queries. users per second: 2027.83</pre>"
      ],
      "text/plain": [
       "recommendations finished on 10000/206209 queries. users per second: 2027.83"
      ]
     },
     "metadata": {},
     "output_type": "display_data"
    },
    {
     "data": {
      "text/html": [
       "<pre>recommendations finished on 11000/206209 queries. users per second: 2032.23</pre>"
      ],
      "text/plain": [
       "recommendations finished on 11000/206209 queries. users per second: 2032.23"
      ]
     },
     "metadata": {},
     "output_type": "display_data"
    },
    {
     "data": {
      "text/html": [
       "<pre>recommendations finished on 12000/206209 queries. users per second: 2034.74</pre>"
      ],
      "text/plain": [
       "recommendations finished on 12000/206209 queries. users per second: 2034.74"
      ]
     },
     "metadata": {},
     "output_type": "display_data"
    },
    {
     "data": {
      "text/html": [
       "<pre>recommendations finished on 13000/206209 queries. users per second: 2028.93</pre>"
      ],
      "text/plain": [
       "recommendations finished on 13000/206209 queries. users per second: 2028.93"
      ]
     },
     "metadata": {},
     "output_type": "display_data"
    },
    {
     "data": {
      "text/html": [
       "<pre>recommendations finished on 14000/206209 queries. users per second: 2023.83</pre>"
      ],
      "text/plain": [
       "recommendations finished on 14000/206209 queries. users per second: 2023.83"
      ]
     },
     "metadata": {},
     "output_type": "display_data"
    },
    {
     "data": {
      "text/html": [
       "<pre>recommendations finished on 15000/206209 queries. users per second: 2025.85</pre>"
      ],
      "text/plain": [
       "recommendations finished on 15000/206209 queries. users per second: 2025.85"
      ]
     },
     "metadata": {},
     "output_type": "display_data"
    },
    {
     "data": {
      "text/html": [
       "<pre>recommendations finished on 16000/206209 queries. users per second: 2027.77</pre>"
      ],
      "text/plain": [
       "recommendations finished on 16000/206209 queries. users per second: 2027.77"
      ]
     },
     "metadata": {},
     "output_type": "display_data"
    },
    {
     "data": {
      "text/html": [
       "<pre>recommendations finished on 17000/206209 queries. users per second: 2019.22</pre>"
      ],
      "text/plain": [
       "recommendations finished on 17000/206209 queries. users per second: 2019.22"
      ]
     },
     "metadata": {},
     "output_type": "display_data"
    },
    {
     "data": {
      "text/html": [
       "<pre>recommendations finished on 18000/206209 queries. users per second: 2016.48</pre>"
      ],
      "text/plain": [
       "recommendations finished on 18000/206209 queries. users per second: 2016.48"
      ]
     },
     "metadata": {},
     "output_type": "display_data"
    },
    {
     "data": {
      "text/html": [
       "<pre>recommendations finished on 19000/206209 queries. users per second: 2015.19</pre>"
      ],
      "text/plain": [
       "recommendations finished on 19000/206209 queries. users per second: 2015.19"
      ]
     },
     "metadata": {},
     "output_type": "display_data"
    },
    {
     "data": {
      "text/html": [
       "<pre>recommendations finished on 20000/206209 queries. users per second: 2015.22</pre>"
      ],
      "text/plain": [
       "recommendations finished on 20000/206209 queries. users per second: 2015.22"
      ]
     },
     "metadata": {},
     "output_type": "display_data"
    },
    {
     "data": {
      "text/html": [
       "<pre>recommendations finished on 21000/206209 queries. users per second: 2016.92</pre>"
      ],
      "text/plain": [
       "recommendations finished on 21000/206209 queries. users per second: 2016.92"
      ]
     },
     "metadata": {},
     "output_type": "display_data"
    },
    {
     "data": {
      "text/html": [
       "<pre>recommendations finished on 22000/206209 queries. users per second: 2012.5</pre>"
      ],
      "text/plain": [
       "recommendations finished on 22000/206209 queries. users per second: 2012.5"
      ]
     },
     "metadata": {},
     "output_type": "display_data"
    },
    {
     "data": {
      "text/html": [
       "<pre>recommendations finished on 23000/206209 queries. users per second: 2006.9</pre>"
      ],
      "text/plain": [
       "recommendations finished on 23000/206209 queries. users per second: 2006.9"
      ]
     },
     "metadata": {},
     "output_type": "display_data"
    },
    {
     "data": {
      "text/html": [
       "<pre>recommendations finished on 24000/206209 queries. users per second: 2006.08</pre>"
      ],
      "text/plain": [
       "recommendations finished on 24000/206209 queries. users per second: 2006.08"
      ]
     },
     "metadata": {},
     "output_type": "display_data"
    },
    {
     "data": {
      "text/html": [
       "<pre>recommendations finished on 25000/206209 queries. users per second: 2004.2</pre>"
      ],
      "text/plain": [
       "recommendations finished on 25000/206209 queries. users per second: 2004.2"
      ]
     },
     "metadata": {},
     "output_type": "display_data"
    },
    {
     "data": {
      "text/html": [
       "<pre>recommendations finished on 26000/206209 queries. users per second: 1999.2</pre>"
      ],
      "text/plain": [
       "recommendations finished on 26000/206209 queries. users per second: 1999.2"
      ]
     },
     "metadata": {},
     "output_type": "display_data"
    },
    {
     "data": {
      "text/html": [
       "<pre>recommendations finished on 27000/206209 queries. users per second: 1999.14</pre>"
      ],
      "text/plain": [
       "recommendations finished on 27000/206209 queries. users per second: 1999.14"
      ]
     },
     "metadata": {},
     "output_type": "display_data"
    },
    {
     "data": {
      "text/html": [
       "<pre>recommendations finished on 28000/206209 queries. users per second: 1999.37</pre>"
      ],
      "text/plain": [
       "recommendations finished on 28000/206209 queries. users per second: 1999.37"
      ]
     },
     "metadata": {},
     "output_type": "display_data"
    },
    {
     "data": {
      "text/html": [
       "<pre>recommendations finished on 29000/206209 queries. users per second: 1998.36</pre>"
      ],
      "text/plain": [
       "recommendations finished on 29000/206209 queries. users per second: 1998.36"
      ]
     },
     "metadata": {},
     "output_type": "display_data"
    },
    {
     "data": {
      "text/html": [
       "<pre>recommendations finished on 30000/206209 queries. users per second: 1997.18</pre>"
      ],
      "text/plain": [
       "recommendations finished on 30000/206209 queries. users per second: 1997.18"
      ]
     },
     "metadata": {},
     "output_type": "display_data"
    },
    {
     "data": {
      "text/html": [
       "<pre>recommendations finished on 31000/206209 queries. users per second: 1996.34</pre>"
      ],
      "text/plain": [
       "recommendations finished on 31000/206209 queries. users per second: 1996.34"
      ]
     },
     "metadata": {},
     "output_type": "display_data"
    },
    {
     "data": {
      "text/html": [
       "<pre>recommendations finished on 32000/206209 queries. users per second: 1995.04</pre>"
      ],
      "text/plain": [
       "recommendations finished on 32000/206209 queries. users per second: 1995.04"
      ]
     },
     "metadata": {},
     "output_type": "display_data"
    },
    {
     "data": {
      "text/html": [
       "<pre>recommendations finished on 33000/206209 queries. users per second: 1994.03</pre>"
      ],
      "text/plain": [
       "recommendations finished on 33000/206209 queries. users per second: 1994.03"
      ]
     },
     "metadata": {},
     "output_type": "display_data"
    },
    {
     "data": {
      "text/html": [
       "<pre>recommendations finished on 34000/206209 queries. users per second: 1993.97</pre>"
      ],
      "text/plain": [
       "recommendations finished on 34000/206209 queries. users per second: 1993.97"
      ]
     },
     "metadata": {},
     "output_type": "display_data"
    },
    {
     "data": {
      "text/html": [
       "<pre>recommendations finished on 35000/206209 queries. users per second: 1990.93</pre>"
      ],
      "text/plain": [
       "recommendations finished on 35000/206209 queries. users per second: 1990.93"
      ]
     },
     "metadata": {},
     "output_type": "display_data"
    },
    {
     "data": {
      "text/html": [
       "<pre>recommendations finished on 36000/206209 queries. users per second: 1991.67</pre>"
      ],
      "text/plain": [
       "recommendations finished on 36000/206209 queries. users per second: 1991.67"
      ]
     },
     "metadata": {},
     "output_type": "display_data"
    },
    {
     "data": {
      "text/html": [
       "<pre>recommendations finished on 37000/206209 queries. users per second: 1988.29</pre>"
      ],
      "text/plain": [
       "recommendations finished on 37000/206209 queries. users per second: 1988.29"
      ]
     },
     "metadata": {},
     "output_type": "display_data"
    },
    {
     "data": {
      "text/html": [
       "<pre>recommendations finished on 38000/206209 queries. users per second: 1988.15</pre>"
      ],
      "text/plain": [
       "recommendations finished on 38000/206209 queries. users per second: 1988.15"
      ]
     },
     "metadata": {},
     "output_type": "display_data"
    },
    {
     "data": {
      "text/html": [
       "<pre>recommendations finished on 39000/206209 queries. users per second: 1988</pre>"
      ],
      "text/plain": [
       "recommendations finished on 39000/206209 queries. users per second: 1988"
      ]
     },
     "metadata": {},
     "output_type": "display_data"
    },
    {
     "data": {
      "text/html": [
       "<pre>recommendations finished on 40000/206209 queries. users per second: 1987.59</pre>"
      ],
      "text/plain": [
       "recommendations finished on 40000/206209 queries. users per second: 1987.59"
      ]
     },
     "metadata": {},
     "output_type": "display_data"
    },
    {
     "data": {
      "text/html": [
       "<pre>recommendations finished on 41000/206209 queries. users per second: 1990.79</pre>"
      ],
      "text/plain": [
       "recommendations finished on 41000/206209 queries. users per second: 1990.79"
      ]
     },
     "metadata": {},
     "output_type": "display_data"
    },
    {
     "data": {
      "text/html": [
       "<pre>recommendations finished on 42000/206209 queries. users per second: 1988.15</pre>"
      ],
      "text/plain": [
       "recommendations finished on 42000/206209 queries. users per second: 1988.15"
      ]
     },
     "metadata": {},
     "output_type": "display_data"
    },
    {
     "data": {
      "text/html": [
       "<pre>recommendations finished on 43000/206209 queries. users per second: 1982.08</pre>"
      ],
      "text/plain": [
       "recommendations finished on 43000/206209 queries. users per second: 1982.08"
      ]
     },
     "metadata": {},
     "output_type": "display_data"
    },
    {
     "data": {
      "text/html": [
       "<pre>recommendations finished on 44000/206209 queries. users per second: 1971.88</pre>"
      ],
      "text/plain": [
       "recommendations finished on 44000/206209 queries. users per second: 1971.88"
      ]
     },
     "metadata": {},
     "output_type": "display_data"
    },
    {
     "data": {
      "text/html": [
       "<pre>recommendations finished on 45000/206209 queries. users per second: 1965.51</pre>"
      ],
      "text/plain": [
       "recommendations finished on 45000/206209 queries. users per second: 1965.51"
      ]
     },
     "metadata": {},
     "output_type": "display_data"
    },
    {
     "data": {
      "text/html": [
       "<pre>recommendations finished on 46000/206209 queries. users per second: 1956.71</pre>"
      ],
      "text/plain": [
       "recommendations finished on 46000/206209 queries. users per second: 1956.71"
      ]
     },
     "metadata": {},
     "output_type": "display_data"
    },
    {
     "data": {
      "text/html": [
       "<pre>recommendations finished on 47000/206209 queries. users per second: 1954.18</pre>"
      ],
      "text/plain": [
       "recommendations finished on 47000/206209 queries. users per second: 1954.18"
      ]
     },
     "metadata": {},
     "output_type": "display_data"
    },
    {
     "data": {
      "text/html": [
       "<pre>recommendations finished on 48000/206209 queries. users per second: 1952.27</pre>"
      ],
      "text/plain": [
       "recommendations finished on 48000/206209 queries. users per second: 1952.27"
      ]
     },
     "metadata": {},
     "output_type": "display_data"
    },
    {
     "data": {
      "text/html": [
       "<pre>recommendations finished on 49000/206209 queries. users per second: 1944.76</pre>"
      ],
      "text/plain": [
       "recommendations finished on 49000/206209 queries. users per second: 1944.76"
      ]
     },
     "metadata": {},
     "output_type": "display_data"
    },
    {
     "data": {
      "text/html": [
       "<pre>recommendations finished on 50000/206209 queries. users per second: 1940.13</pre>"
      ],
      "text/plain": [
       "recommendations finished on 50000/206209 queries. users per second: 1940.13"
      ]
     },
     "metadata": {},
     "output_type": "display_data"
    },
    {
     "data": {
      "text/html": [
       "<pre>recommendations finished on 51000/206209 queries. users per second: 1936.56</pre>"
      ],
      "text/plain": [
       "recommendations finished on 51000/206209 queries. users per second: 1936.56"
      ]
     },
     "metadata": {},
     "output_type": "display_data"
    },
    {
     "data": {
      "text/html": [
       "<pre>recommendations finished on 52000/206209 queries. users per second: 1930.81</pre>"
      ],
      "text/plain": [
       "recommendations finished on 52000/206209 queries. users per second: 1930.81"
      ]
     },
     "metadata": {},
     "output_type": "display_data"
    },
    {
     "data": {
      "text/html": [
       "<pre>recommendations finished on 53000/206209 queries. users per second: 1925.39</pre>"
      ],
      "text/plain": [
       "recommendations finished on 53000/206209 queries. users per second: 1925.39"
      ]
     },
     "metadata": {},
     "output_type": "display_data"
    },
    {
     "data": {
      "text/html": [
       "<pre>recommendations finished on 54000/206209 queries. users per second: 1927.53</pre>"
      ],
      "text/plain": [
       "recommendations finished on 54000/206209 queries. users per second: 1927.53"
      ]
     },
     "metadata": {},
     "output_type": "display_data"
    },
    {
     "data": {
      "text/html": [
       "<pre>recommendations finished on 55000/206209 queries. users per second: 1928.51</pre>"
      ],
      "text/plain": [
       "recommendations finished on 55000/206209 queries. users per second: 1928.51"
      ]
     },
     "metadata": {},
     "output_type": "display_data"
    },
    {
     "data": {
      "text/html": [
       "<pre>recommendations finished on 56000/206209 queries. users per second: 1927.57</pre>"
      ],
      "text/plain": [
       "recommendations finished on 56000/206209 queries. users per second: 1927.57"
      ]
     },
     "metadata": {},
     "output_type": "display_data"
    },
    {
     "data": {
      "text/html": [
       "<pre>recommendations finished on 57000/206209 queries. users per second: 1926.6</pre>"
      ],
      "text/plain": [
       "recommendations finished on 57000/206209 queries. users per second: 1926.6"
      ]
     },
     "metadata": {},
     "output_type": "display_data"
    },
    {
     "data": {
      "text/html": [
       "<pre>recommendations finished on 58000/206209 queries. users per second: 1926.67</pre>"
      ],
      "text/plain": [
       "recommendations finished on 58000/206209 queries. users per second: 1926.67"
      ]
     },
     "metadata": {},
     "output_type": "display_data"
    },
    {
     "data": {
      "text/html": [
       "<pre>recommendations finished on 59000/206209 queries. users per second: 1927.68</pre>"
      ],
      "text/plain": [
       "recommendations finished on 59000/206209 queries. users per second: 1927.68"
      ]
     },
     "metadata": {},
     "output_type": "display_data"
    },
    {
     "data": {
      "text/html": [
       "<pre>recommendations finished on 60000/206209 queries. users per second: 1926.85</pre>"
      ],
      "text/plain": [
       "recommendations finished on 60000/206209 queries. users per second: 1926.85"
      ]
     },
     "metadata": {},
     "output_type": "display_data"
    },
    {
     "data": {
      "text/html": [
       "<pre>recommendations finished on 61000/206209 queries. users per second: 1926.01</pre>"
      ],
      "text/plain": [
       "recommendations finished on 61000/206209 queries. users per second: 1926.01"
      ]
     },
     "metadata": {},
     "output_type": "display_data"
    },
    {
     "data": {
      "text/html": [
       "<pre>recommendations finished on 62000/206209 queries. users per second: 1925.23</pre>"
      ],
      "text/plain": [
       "recommendations finished on 62000/206209 queries. users per second: 1925.23"
      ]
     },
     "metadata": {},
     "output_type": "display_data"
    },
    {
     "data": {
      "text/html": [
       "<pre>recommendations finished on 63000/206209 queries. users per second: 1924.32</pre>"
      ],
      "text/plain": [
       "recommendations finished on 63000/206209 queries. users per second: 1924.32"
      ]
     },
     "metadata": {},
     "output_type": "display_data"
    },
    {
     "data": {
      "text/html": [
       "<pre>recommendations finished on 64000/206209 queries. users per second: 1924.01</pre>"
      ],
      "text/plain": [
       "recommendations finished on 64000/206209 queries. users per second: 1924.01"
      ]
     },
     "metadata": {},
     "output_type": "display_data"
    },
    {
     "data": {
      "text/html": [
       "<pre>recommendations finished on 65000/206209 queries. users per second: 1924.1</pre>"
      ],
      "text/plain": [
       "recommendations finished on 65000/206209 queries. users per second: 1924.1"
      ]
     },
     "metadata": {},
     "output_type": "display_data"
    },
    {
     "data": {
      "text/html": [
       "<pre>recommendations finished on 66000/206209 queries. users per second: 1924.6</pre>"
      ],
      "text/plain": [
       "recommendations finished on 66000/206209 queries. users per second: 1924.6"
      ]
     },
     "metadata": {},
     "output_type": "display_data"
    },
    {
     "data": {
      "text/html": [
       "<pre>recommendations finished on 67000/206209 queries. users per second: 1924.35</pre>"
      ],
      "text/plain": [
       "recommendations finished on 67000/206209 queries. users per second: 1924.35"
      ]
     },
     "metadata": {},
     "output_type": "display_data"
    },
    {
     "data": {
      "text/html": [
       "<pre>recommendations finished on 68000/206209 queries. users per second: 1924.63</pre>"
      ],
      "text/plain": [
       "recommendations finished on 68000/206209 queries. users per second: 1924.63"
      ]
     },
     "metadata": {},
     "output_type": "display_data"
    },
    {
     "data": {
      "text/html": [
       "<pre>recommendations finished on 69000/206209 queries. users per second: 1925.08</pre>"
      ],
      "text/plain": [
       "recommendations finished on 69000/206209 queries. users per second: 1925.08"
      ]
     },
     "metadata": {},
     "output_type": "display_data"
    },
    {
     "data": {
      "text/html": [
       "<pre>recommendations finished on 70000/206209 queries. users per second: 1925.36</pre>"
      ],
      "text/plain": [
       "recommendations finished on 70000/206209 queries. users per second: 1925.36"
      ]
     },
     "metadata": {},
     "output_type": "display_data"
    },
    {
     "data": {
      "text/html": [
       "<pre>recommendations finished on 71000/206209 queries. users per second: 1925.15</pre>"
      ],
      "text/plain": [
       "recommendations finished on 71000/206209 queries. users per second: 1925.15"
      ]
     },
     "metadata": {},
     "output_type": "display_data"
    },
    {
     "data": {
      "text/html": [
       "<pre>recommendations finished on 72000/206209 queries. users per second: 1927.89</pre>"
      ],
      "text/plain": [
       "recommendations finished on 72000/206209 queries. users per second: 1927.89"
      ]
     },
     "metadata": {},
     "output_type": "display_data"
    },
    {
     "data": {
      "text/html": [
       "<pre>recommendations finished on 73000/206209 queries. users per second: 1928.61</pre>"
      ],
      "text/plain": [
       "recommendations finished on 73000/206209 queries. users per second: 1928.61"
      ]
     },
     "metadata": {},
     "output_type": "display_data"
    },
    {
     "data": {
      "text/html": [
       "<pre>recommendations finished on 74000/206209 queries. users per second: 1929.54</pre>"
      ],
      "text/plain": [
       "recommendations finished on 74000/206209 queries. users per second: 1929.54"
      ]
     },
     "metadata": {},
     "output_type": "display_data"
    },
    {
     "data": {
      "text/html": [
       "<pre>recommendations finished on 75000/206209 queries. users per second: 1930.35</pre>"
      ],
      "text/plain": [
       "recommendations finished on 75000/206209 queries. users per second: 1930.35"
      ]
     },
     "metadata": {},
     "output_type": "display_data"
    },
    {
     "data": {
      "text/html": [
       "<pre>recommendations finished on 76000/206209 queries. users per second: 1930.51</pre>"
      ],
      "text/plain": [
       "recommendations finished on 76000/206209 queries. users per second: 1930.51"
      ]
     },
     "metadata": {},
     "output_type": "display_data"
    },
    {
     "data": {
      "text/html": [
       "<pre>recommendations finished on 77000/206209 queries. users per second: 1930.91</pre>"
      ],
      "text/plain": [
       "recommendations finished on 77000/206209 queries. users per second: 1930.91"
      ]
     },
     "metadata": {},
     "output_type": "display_data"
    },
    {
     "data": {
      "text/html": [
       "<pre>recommendations finished on 78000/206209 queries. users per second: 1933.28</pre>"
      ],
      "text/plain": [
       "recommendations finished on 78000/206209 queries. users per second: 1933.28"
      ]
     },
     "metadata": {},
     "output_type": "display_data"
    },
    {
     "data": {
      "text/html": [
       "<pre>recommendations finished on 79000/206209 queries. users per second: 1932.68</pre>"
      ],
      "text/plain": [
       "recommendations finished on 79000/206209 queries. users per second: 1932.68"
      ]
     },
     "metadata": {},
     "output_type": "display_data"
    },
    {
     "data": {
      "text/html": [
       "<pre>recommendations finished on 80000/206209 queries. users per second: 1933.84</pre>"
      ],
      "text/plain": [
       "recommendations finished on 80000/206209 queries. users per second: 1933.84"
      ]
     },
     "metadata": {},
     "output_type": "display_data"
    },
    {
     "data": {
      "text/html": [
       "<pre>recommendations finished on 81000/206209 queries. users per second: 1933.08</pre>"
      ],
      "text/plain": [
       "recommendations finished on 81000/206209 queries. users per second: 1933.08"
      ]
     },
     "metadata": {},
     "output_type": "display_data"
    },
    {
     "data": {
      "text/html": [
       "<pre>recommendations finished on 82000/206209 queries. users per second: 1934.27</pre>"
      ],
      "text/plain": [
       "recommendations finished on 82000/206209 queries. users per second: 1934.27"
      ]
     },
     "metadata": {},
     "output_type": "display_data"
    },
    {
     "data": {
      "text/html": [
       "<pre>recommendations finished on 83000/206209 queries. users per second: 1933.52</pre>"
      ],
      "text/plain": [
       "recommendations finished on 83000/206209 queries. users per second: 1933.52"
      ]
     },
     "metadata": {},
     "output_type": "display_data"
    },
    {
     "data": {
      "text/html": [
       "<pre>recommendations finished on 84000/206209 queries. users per second: 1934.33</pre>"
      ],
      "text/plain": [
       "recommendations finished on 84000/206209 queries. users per second: 1934.33"
      ]
     },
     "metadata": {},
     "output_type": "display_data"
    },
    {
     "data": {
      "text/html": [
       "<pre>recommendations finished on 85000/206209 queries. users per second: 1935.46</pre>"
      ],
      "text/plain": [
       "recommendations finished on 85000/206209 queries. users per second: 1935.46"
      ]
     },
     "metadata": {},
     "output_type": "display_data"
    },
    {
     "data": {
      "text/html": [
       "<pre>recommendations finished on 86000/206209 queries. users per second: 1935.96</pre>"
      ],
      "text/plain": [
       "recommendations finished on 86000/206209 queries. users per second: 1935.96"
      ]
     },
     "metadata": {},
     "output_type": "display_data"
    },
    {
     "data": {
      "text/html": [
       "<pre>recommendations finished on 87000/206209 queries. users per second: 1935.41</pre>"
      ],
      "text/plain": [
       "recommendations finished on 87000/206209 queries. users per second: 1935.41"
      ]
     },
     "metadata": {},
     "output_type": "display_data"
    },
    {
     "data": {
      "text/html": [
       "<pre>recommendations finished on 88000/206209 queries. users per second: 1937.2</pre>"
      ],
      "text/plain": [
       "recommendations finished on 88000/206209 queries. users per second: 1937.2"
      ]
     },
     "metadata": {},
     "output_type": "display_data"
    },
    {
     "data": {
      "text/html": [
       "<pre>recommendations finished on 89000/206209 queries. users per second: 1936.91</pre>"
      ],
      "text/plain": [
       "recommendations finished on 89000/206209 queries. users per second: 1936.91"
      ]
     },
     "metadata": {},
     "output_type": "display_data"
    },
    {
     "data": {
      "text/html": [
       "<pre>recommendations finished on 90000/206209 queries. users per second: 1937.46</pre>"
      ],
      "text/plain": [
       "recommendations finished on 90000/206209 queries. users per second: 1937.46"
      ]
     },
     "metadata": {},
     "output_type": "display_data"
    },
    {
     "data": {
      "text/html": [
       "<pre>recommendations finished on 91000/206209 queries. users per second: 1938.16</pre>"
      ],
      "text/plain": [
       "recommendations finished on 91000/206209 queries. users per second: 1938.16"
      ]
     },
     "metadata": {},
     "output_type": "display_data"
    },
    {
     "data": {
      "text/html": [
       "<pre>recommendations finished on 92000/206209 queries. users per second: 1937.35</pre>"
      ],
      "text/plain": [
       "recommendations finished on 92000/206209 queries. users per second: 1937.35"
      ]
     },
     "metadata": {},
     "output_type": "display_data"
    },
    {
     "data": {
      "text/html": [
       "<pre>recommendations finished on 93000/206209 queries. users per second: 1936.88</pre>"
      ],
      "text/plain": [
       "recommendations finished on 93000/206209 queries. users per second: 1936.88"
      ]
     },
     "metadata": {},
     "output_type": "display_data"
    },
    {
     "data": {
      "text/html": [
       "<pre>recommendations finished on 94000/206209 queries. users per second: 1936.16</pre>"
      ],
      "text/plain": [
       "recommendations finished on 94000/206209 queries. users per second: 1936.16"
      ]
     },
     "metadata": {},
     "output_type": "display_data"
    },
    {
     "data": {
      "text/html": [
       "<pre>recommendations finished on 95000/206209 queries. users per second: 1935.46</pre>"
      ],
      "text/plain": [
       "recommendations finished on 95000/206209 queries. users per second: 1935.46"
      ]
     },
     "metadata": {},
     "output_type": "display_data"
    },
    {
     "data": {
      "text/html": [
       "<pre>recommendations finished on 96000/206209 queries. users per second: 1935.92</pre>"
      ],
      "text/plain": [
       "recommendations finished on 96000/206209 queries. users per second: 1935.92"
      ]
     },
     "metadata": {},
     "output_type": "display_data"
    },
    {
     "data": {
      "text/html": [
       "<pre>recommendations finished on 97000/206209 queries. users per second: 1935.34</pre>"
      ],
      "text/plain": [
       "recommendations finished on 97000/206209 queries. users per second: 1935.34"
      ]
     },
     "metadata": {},
     "output_type": "display_data"
    },
    {
     "data": {
      "text/html": [
       "<pre>recommendations finished on 98000/206209 queries. users per second: 1936.26</pre>"
      ],
      "text/plain": [
       "recommendations finished on 98000/206209 queries. users per second: 1936.26"
      ]
     },
     "metadata": {},
     "output_type": "display_data"
    },
    {
     "data": {
      "text/html": [
       "<pre>recommendations finished on 99000/206209 queries. users per second: 1937.79</pre>"
      ],
      "text/plain": [
       "recommendations finished on 99000/206209 queries. users per second: 1937.79"
      ]
     },
     "metadata": {},
     "output_type": "display_data"
    },
    {
     "data": {
      "text/html": [
       "<pre>recommendations finished on 100000/206209 queries. users per second: 1939.81</pre>"
      ],
      "text/plain": [
       "recommendations finished on 100000/206209 queries. users per second: 1939.81"
      ]
     },
     "metadata": {},
     "output_type": "display_data"
    },
    {
     "data": {
      "text/html": [
       "<pre>recommendations finished on 101000/206209 queries. users per second: 1939.59</pre>"
      ],
      "text/plain": [
       "recommendations finished on 101000/206209 queries. users per second: 1939.59"
      ]
     },
     "metadata": {},
     "output_type": "display_data"
    },
    {
     "data": {
      "text/html": [
       "<pre>recommendations finished on 102000/206209 queries. users per second: 1938.87</pre>"
      ],
      "text/plain": [
       "recommendations finished on 102000/206209 queries. users per second: 1938.87"
      ]
     },
     "metadata": {},
     "output_type": "display_data"
    },
    {
     "data": {
      "text/html": [
       "<pre>recommendations finished on 103000/206209 queries. users per second: 1938.11</pre>"
      ],
      "text/plain": [
       "recommendations finished on 103000/206209 queries. users per second: 1938.11"
      ]
     },
     "metadata": {},
     "output_type": "display_data"
    },
    {
     "data": {
      "text/html": [
       "<pre>recommendations finished on 104000/206209 queries. users per second: 1937.35</pre>"
      ],
      "text/plain": [
       "recommendations finished on 104000/206209 queries. users per second: 1937.35"
      ]
     },
     "metadata": {},
     "output_type": "display_data"
    },
    {
     "data": {
      "text/html": [
       "<pre>recommendations finished on 105000/206209 queries. users per second: 1938.15</pre>"
      ],
      "text/plain": [
       "recommendations finished on 105000/206209 queries. users per second: 1938.15"
      ]
     },
     "metadata": {},
     "output_type": "display_data"
    },
    {
     "data": {
      "text/html": [
       "<pre>recommendations finished on 106000/206209 queries. users per second: 1940.08</pre>"
      ],
      "text/plain": [
       "recommendations finished on 106000/206209 queries. users per second: 1940.08"
      ]
     },
     "metadata": {},
     "output_type": "display_data"
    },
    {
     "data": {
      "text/html": [
       "<pre>recommendations finished on 107000/206209 queries. users per second: 1941.92</pre>"
      ],
      "text/plain": [
       "recommendations finished on 107000/206209 queries. users per second: 1941.92"
      ]
     },
     "metadata": {},
     "output_type": "display_data"
    },
    {
     "data": {
      "text/html": [
       "<pre>recommendations finished on 108000/206209 queries. users per second: 1941.98</pre>"
      ],
      "text/plain": [
       "recommendations finished on 108000/206209 queries. users per second: 1941.98"
      ]
     },
     "metadata": {},
     "output_type": "display_data"
    },
    {
     "data": {
      "text/html": [
       "<pre>recommendations finished on 109000/206209 queries. users per second: 1942.3</pre>"
      ],
      "text/plain": [
       "recommendations finished on 109000/206209 queries. users per second: 1942.3"
      ]
     },
     "metadata": {},
     "output_type": "display_data"
    },
    {
     "data": {
      "text/html": [
       "<pre>recommendations finished on 110000/206209 queries. users per second: 1941.85</pre>"
      ],
      "text/plain": [
       "recommendations finished on 110000/206209 queries. users per second: 1941.85"
      ]
     },
     "metadata": {},
     "output_type": "display_data"
    },
    {
     "data": {
      "text/html": [
       "<pre>recommendations finished on 111000/206209 queries. users per second: 1941.88</pre>"
      ],
      "text/plain": [
       "recommendations finished on 111000/206209 queries. users per second: 1941.88"
      ]
     },
     "metadata": {},
     "output_type": "display_data"
    },
    {
     "data": {
      "text/html": [
       "<pre>recommendations finished on 112000/206209 queries. users per second: 1942.72</pre>"
      ],
      "text/plain": [
       "recommendations finished on 112000/206209 queries. users per second: 1942.72"
      ]
     },
     "metadata": {},
     "output_type": "display_data"
    },
    {
     "data": {
      "text/html": [
       "<pre>recommendations finished on 113000/206209 queries. users per second: 1943.66</pre>"
      ],
      "text/plain": [
       "recommendations finished on 113000/206209 queries. users per second: 1943.66"
      ]
     },
     "metadata": {},
     "output_type": "display_data"
    },
    {
     "data": {
      "text/html": [
       "<pre>recommendations finished on 114000/206209 queries. users per second: 1945.07</pre>"
      ],
      "text/plain": [
       "recommendations finished on 114000/206209 queries. users per second: 1945.07"
      ]
     },
     "metadata": {},
     "output_type": "display_data"
    },
    {
     "data": {
      "text/html": [
       "<pre>recommendations finished on 115000/206209 queries. users per second: 1946.96</pre>"
      ],
      "text/plain": [
       "recommendations finished on 115000/206209 queries. users per second: 1946.96"
      ]
     },
     "metadata": {},
     "output_type": "display_data"
    },
    {
     "data": {
      "text/html": [
       "<pre>recommendations finished on 116000/206209 queries. users per second: 1948.85</pre>"
      ],
      "text/plain": [
       "recommendations finished on 116000/206209 queries. users per second: 1948.85"
      ]
     },
     "metadata": {},
     "output_type": "display_data"
    },
    {
     "data": {
      "text/html": [
       "<pre>recommendations finished on 117000/206209 queries. users per second: 1950.29</pre>"
      ],
      "text/plain": [
       "recommendations finished on 117000/206209 queries. users per second: 1950.29"
      ]
     },
     "metadata": {},
     "output_type": "display_data"
    },
    {
     "data": {
      "text/html": [
       "<pre>recommendations finished on 118000/206209 queries. users per second: 1950.84</pre>"
      ],
      "text/plain": [
       "recommendations finished on 118000/206209 queries. users per second: 1950.84"
      ]
     },
     "metadata": {},
     "output_type": "display_data"
    },
    {
     "data": {
      "text/html": [
       "<pre>recommendations finished on 119000/206209 queries. users per second: 1951.2</pre>"
      ],
      "text/plain": [
       "recommendations finished on 119000/206209 queries. users per second: 1951.2"
      ]
     },
     "metadata": {},
     "output_type": "display_data"
    },
    {
     "data": {
      "text/html": [
       "<pre>recommendations finished on 120000/206209 queries. users per second: 1951.75</pre>"
      ],
      "text/plain": [
       "recommendations finished on 120000/206209 queries. users per second: 1951.75"
      ]
     },
     "metadata": {},
     "output_type": "display_data"
    },
    {
     "data": {
      "text/html": [
       "<pre>recommendations finished on 121000/206209 queries. users per second: 1952.72</pre>"
      ],
      "text/plain": [
       "recommendations finished on 121000/206209 queries. users per second: 1952.72"
      ]
     },
     "metadata": {},
     "output_type": "display_data"
    },
    {
     "data": {
      "text/html": [
       "<pre>recommendations finished on 122000/206209 queries. users per second: 1953.35</pre>"
      ],
      "text/plain": [
       "recommendations finished on 122000/206209 queries. users per second: 1953.35"
      ]
     },
     "metadata": {},
     "output_type": "display_data"
    },
    {
     "data": {
      "text/html": [
       "<pre>recommendations finished on 123000/206209 queries. users per second: 1954.31</pre>"
      ],
      "text/plain": [
       "recommendations finished on 123000/206209 queries. users per second: 1954.31"
      ]
     },
     "metadata": {},
     "output_type": "display_data"
    },
    {
     "data": {
      "text/html": [
       "<pre>recommendations finished on 124000/206209 queries. users per second: 1954.76</pre>"
      ],
      "text/plain": [
       "recommendations finished on 124000/206209 queries. users per second: 1954.76"
      ]
     },
     "metadata": {},
     "output_type": "display_data"
    },
    {
     "data": {
      "text/html": [
       "<pre>recommendations finished on 125000/206209 queries. users per second: 1955.28</pre>"
      ],
      "text/plain": [
       "recommendations finished on 125000/206209 queries. users per second: 1955.28"
      ]
     },
     "metadata": {},
     "output_type": "display_data"
    },
    {
     "data": {
      "text/html": [
       "<pre>recommendations finished on 126000/206209 queries. users per second: 1956.16</pre>"
      ],
      "text/plain": [
       "recommendations finished on 126000/206209 queries. users per second: 1956.16"
      ]
     },
     "metadata": {},
     "output_type": "display_data"
    },
    {
     "data": {
      "text/html": [
       "<pre>recommendations finished on 127000/206209 queries. users per second: 1955.98</pre>"
      ],
      "text/plain": [
       "recommendations finished on 127000/206209 queries. users per second: 1955.98"
      ]
     },
     "metadata": {},
     "output_type": "display_data"
    },
    {
     "data": {
      "text/html": [
       "<pre>recommendations finished on 128000/206209 queries. users per second: 1956.6</pre>"
      ],
      "text/plain": [
       "recommendations finished on 128000/206209 queries. users per second: 1956.6"
      ]
     },
     "metadata": {},
     "output_type": "display_data"
    },
    {
     "data": {
      "text/html": [
       "<pre>recommendations finished on 129000/206209 queries. users per second: 1957</pre>"
      ],
      "text/plain": [
       "recommendations finished on 129000/206209 queries. users per second: 1957"
      ]
     },
     "metadata": {},
     "output_type": "display_data"
    },
    {
     "data": {
      "text/html": [
       "<pre>recommendations finished on 130000/206209 queries. users per second: 1957.28</pre>"
      ],
      "text/plain": [
       "recommendations finished on 130000/206209 queries. users per second: 1957.28"
      ]
     },
     "metadata": {},
     "output_type": "display_data"
    },
    {
     "data": {
      "text/html": [
       "<pre>recommendations finished on 131000/206209 queries. users per second: 1958.42</pre>"
      ],
      "text/plain": [
       "recommendations finished on 131000/206209 queries. users per second: 1958.42"
      ]
     },
     "metadata": {},
     "output_type": "display_data"
    },
    {
     "data": {
      "text/html": [
       "<pre>recommendations finished on 132000/206209 queries. users per second: 1958.79</pre>"
      ],
      "text/plain": [
       "recommendations finished on 132000/206209 queries. users per second: 1958.79"
      ]
     },
     "metadata": {},
     "output_type": "display_data"
    },
    {
     "data": {
      "text/html": [
       "<pre>recommendations finished on 133000/206209 queries. users per second: 1959.82</pre>"
      ],
      "text/plain": [
       "recommendations finished on 133000/206209 queries. users per second: 1959.82"
      ]
     },
     "metadata": {},
     "output_type": "display_data"
    },
    {
     "data": {
      "text/html": [
       "<pre>recommendations finished on 134000/206209 queries. users per second: 1960.25</pre>"
      ],
      "text/plain": [
       "recommendations finished on 134000/206209 queries. users per second: 1960.25"
      ]
     },
     "metadata": {},
     "output_type": "display_data"
    },
    {
     "data": {
      "text/html": [
       "<pre>recommendations finished on 135000/206209 queries. users per second: 1960.37</pre>"
      ],
      "text/plain": [
       "recommendations finished on 135000/206209 queries. users per second: 1960.37"
      ]
     },
     "metadata": {},
     "output_type": "display_data"
    },
    {
     "data": {
      "text/html": [
       "<pre>recommendations finished on 136000/206209 queries. users per second: 1960.02</pre>"
      ],
      "text/plain": [
       "recommendations finished on 136000/206209 queries. users per second: 1960.02"
      ]
     },
     "metadata": {},
     "output_type": "display_data"
    },
    {
     "data": {
      "text/html": [
       "<pre>recommendations finished on 137000/206209 queries. users per second: 1960.23</pre>"
      ],
      "text/plain": [
       "recommendations finished on 137000/206209 queries. users per second: 1960.23"
      ]
     },
     "metadata": {},
     "output_type": "display_data"
    },
    {
     "data": {
      "text/html": [
       "<pre>recommendations finished on 138000/206209 queries. users per second: 1959.37</pre>"
      ],
      "text/plain": [
       "recommendations finished on 138000/206209 queries. users per second: 1959.37"
      ]
     },
     "metadata": {},
     "output_type": "display_data"
    },
    {
     "data": {
      "text/html": [
       "<pre>recommendations finished on 139000/206209 queries. users per second: 1958.16</pre>"
      ],
      "text/plain": [
       "recommendations finished on 139000/206209 queries. users per second: 1958.16"
      ]
     },
     "metadata": {},
     "output_type": "display_data"
    },
    {
     "data": {
      "text/html": [
       "<pre>recommendations finished on 140000/206209 queries. users per second: 1958.41</pre>"
      ],
      "text/plain": [
       "recommendations finished on 140000/206209 queries. users per second: 1958.41"
      ]
     },
     "metadata": {},
     "output_type": "display_data"
    },
    {
     "data": {
      "text/html": [
       "<pre>recommendations finished on 141000/206209 queries. users per second: 1959.02</pre>"
      ],
      "text/plain": [
       "recommendations finished on 141000/206209 queries. users per second: 1959.02"
      ]
     },
     "metadata": {},
     "output_type": "display_data"
    },
    {
     "data": {
      "text/html": [
       "<pre>recommendations finished on 142000/206209 queries. users per second: 1957.92</pre>"
      ],
      "text/plain": [
       "recommendations finished on 142000/206209 queries. users per second: 1957.92"
      ]
     },
     "metadata": {},
     "output_type": "display_data"
    },
    {
     "data": {
      "text/html": [
       "<pre>recommendations finished on 143000/206209 queries. users per second: 1957.23</pre>"
      ],
      "text/plain": [
       "recommendations finished on 143000/206209 queries. users per second: 1957.23"
      ]
     },
     "metadata": {},
     "output_type": "display_data"
    },
    {
     "data": {
      "text/html": [
       "<pre>recommendations finished on 144000/206209 queries. users per second: 1957.17</pre>"
      ],
      "text/plain": [
       "recommendations finished on 144000/206209 queries. users per second: 1957.17"
      ]
     },
     "metadata": {},
     "output_type": "display_data"
    },
    {
     "data": {
      "text/html": [
       "<pre>recommendations finished on 145000/206209 queries. users per second: 1957.08</pre>"
      ],
      "text/plain": [
       "recommendations finished on 145000/206209 queries. users per second: 1957.08"
      ]
     },
     "metadata": {},
     "output_type": "display_data"
    },
    {
     "data": {
      "text/html": [
       "<pre>recommendations finished on 146000/206209 queries. users per second: 1956.74</pre>"
      ],
      "text/plain": [
       "recommendations finished on 146000/206209 queries. users per second: 1956.74"
      ]
     },
     "metadata": {},
     "output_type": "display_data"
    },
    {
     "data": {
      "text/html": [
       "<pre>recommendations finished on 147000/206209 queries. users per second: 1956.16</pre>"
      ],
      "text/plain": [
       "recommendations finished on 147000/206209 queries. users per second: 1956.16"
      ]
     },
     "metadata": {},
     "output_type": "display_data"
    },
    {
     "data": {
      "text/html": [
       "<pre>recommendations finished on 148000/206209 queries. users per second: 1956.55</pre>"
      ],
      "text/plain": [
       "recommendations finished on 148000/206209 queries. users per second: 1956.55"
      ]
     },
     "metadata": {},
     "output_type": "display_data"
    },
    {
     "data": {
      "text/html": [
       "<pre>recommendations finished on 149000/206209 queries. users per second: 1956.6</pre>"
      ],
      "text/plain": [
       "recommendations finished on 149000/206209 queries. users per second: 1956.6"
      ]
     },
     "metadata": {},
     "output_type": "display_data"
    },
    {
     "data": {
      "text/html": [
       "<pre>recommendations finished on 150000/206209 queries. users per second: 1957.32</pre>"
      ],
      "text/plain": [
       "recommendations finished on 150000/206209 queries. users per second: 1957.32"
      ]
     },
     "metadata": {},
     "output_type": "display_data"
    },
    {
     "data": {
      "text/html": [
       "<pre>recommendations finished on 151000/206209 queries. users per second: 1958.25</pre>"
      ],
      "text/plain": [
       "recommendations finished on 151000/206209 queries. users per second: 1958.25"
      ]
     },
     "metadata": {},
     "output_type": "display_data"
    },
    {
     "data": {
      "text/html": [
       "<pre>recommendations finished on 152000/206209 queries. users per second: 1957.34</pre>"
      ],
      "text/plain": [
       "recommendations finished on 152000/206209 queries. users per second: 1957.34"
      ]
     },
     "metadata": {},
     "output_type": "display_data"
    },
    {
     "data": {
      "text/html": [
       "<pre>recommendations finished on 153000/206209 queries. users per second: 1957.14</pre>"
      ],
      "text/plain": [
       "recommendations finished on 153000/206209 queries. users per second: 1957.14"
      ]
     },
     "metadata": {},
     "output_type": "display_data"
    },
    {
     "data": {
      "text/html": [
       "<pre>recommendations finished on 154000/206209 queries. users per second: 1957.36</pre>"
      ],
      "text/plain": [
       "recommendations finished on 154000/206209 queries. users per second: 1957.36"
      ]
     },
     "metadata": {},
     "output_type": "display_data"
    },
    {
     "data": {
      "text/html": [
       "<pre>recommendations finished on 155000/206209 queries. users per second: 1957.02</pre>"
      ],
      "text/plain": [
       "recommendations finished on 155000/206209 queries. users per second: 1957.02"
      ]
     },
     "metadata": {},
     "output_type": "display_data"
    },
    {
     "data": {
      "text/html": [
       "<pre>recommendations finished on 156000/206209 queries. users per second: 1957.14</pre>"
      ],
      "text/plain": [
       "recommendations finished on 156000/206209 queries. users per second: 1957.14"
      ]
     },
     "metadata": {},
     "output_type": "display_data"
    },
    {
     "data": {
      "text/html": [
       "<pre>recommendations finished on 157000/206209 queries. users per second: 1957</pre>"
      ],
      "text/plain": [
       "recommendations finished on 157000/206209 queries. users per second: 1957"
      ]
     },
     "metadata": {},
     "output_type": "display_data"
    },
    {
     "data": {
      "text/html": [
       "<pre>recommendations finished on 158000/206209 queries. users per second: 1957.41</pre>"
      ],
      "text/plain": [
       "recommendations finished on 158000/206209 queries. users per second: 1957.41"
      ]
     },
     "metadata": {},
     "output_type": "display_data"
    },
    {
     "data": {
      "text/html": [
       "<pre>recommendations finished on 159000/206209 queries. users per second: 1957.93</pre>"
      ],
      "text/plain": [
       "recommendations finished on 159000/206209 queries. users per second: 1957.93"
      ]
     },
     "metadata": {},
     "output_type": "display_data"
    },
    {
     "data": {
      "text/html": [
       "<pre>recommendations finished on 160000/206209 queries. users per second: 1959.16</pre>"
      ],
      "text/plain": [
       "recommendations finished on 160000/206209 queries. users per second: 1959.16"
      ]
     },
     "metadata": {},
     "output_type": "display_data"
    },
    {
     "data": {
      "text/html": [
       "<pre>recommendations finished on 161000/206209 queries. users per second: 1960.37</pre>"
      ],
      "text/plain": [
       "recommendations finished on 161000/206209 queries. users per second: 1960.37"
      ]
     },
     "metadata": {},
     "output_type": "display_data"
    },
    {
     "data": {
      "text/html": [
       "<pre>recommendations finished on 162000/206209 queries. users per second: 1961.05</pre>"
      ],
      "text/plain": [
       "recommendations finished on 162000/206209 queries. users per second: 1961.05"
      ]
     },
     "metadata": {},
     "output_type": "display_data"
    },
    {
     "data": {
      "text/html": [
       "<pre>recommendations finished on 163000/206209 queries. users per second: 1961.01</pre>"
      ],
      "text/plain": [
       "recommendations finished on 163000/206209 queries. users per second: 1961.01"
      ]
     },
     "metadata": {},
     "output_type": "display_data"
    },
    {
     "data": {
      "text/html": [
       "<pre>recommendations finished on 164000/206209 queries. users per second: 1960.53</pre>"
      ],
      "text/plain": [
       "recommendations finished on 164000/206209 queries. users per second: 1960.53"
      ]
     },
     "metadata": {},
     "output_type": "display_data"
    },
    {
     "data": {
      "text/html": [
       "<pre>recommendations finished on 165000/206209 queries. users per second: 1960.76</pre>"
      ],
      "text/plain": [
       "recommendations finished on 165000/206209 queries. users per second: 1960.76"
      ]
     },
     "metadata": {},
     "output_type": "display_data"
    },
    {
     "data": {
      "text/html": [
       "<pre>recommendations finished on 166000/206209 queries. users per second: 1960.77</pre>"
      ],
      "text/plain": [
       "recommendations finished on 166000/206209 queries. users per second: 1960.77"
      ]
     },
     "metadata": {},
     "output_type": "display_data"
    },
    {
     "data": {
      "text/html": [
       "<pre>recommendations finished on 167000/206209 queries. users per second: 1960.24</pre>"
      ],
      "text/plain": [
       "recommendations finished on 167000/206209 queries. users per second: 1960.24"
      ]
     },
     "metadata": {},
     "output_type": "display_data"
    },
    {
     "data": {
      "text/html": [
       "<pre>recommendations finished on 168000/206209 queries. users per second: 1959.87</pre>"
      ],
      "text/plain": [
       "recommendations finished on 168000/206209 queries. users per second: 1959.87"
      ]
     },
     "metadata": {},
     "output_type": "display_data"
    },
    {
     "data": {
      "text/html": [
       "<pre>recommendations finished on 169000/206209 queries. users per second: 1959.39</pre>"
      ],
      "text/plain": [
       "recommendations finished on 169000/206209 queries. users per second: 1959.39"
      ]
     },
     "metadata": {},
     "output_type": "display_data"
    },
    {
     "data": {
      "text/html": [
       "<pre>recommendations finished on 170000/206209 queries. users per second: 1959.35</pre>"
      ],
      "text/plain": [
       "recommendations finished on 170000/206209 queries. users per second: 1959.35"
      ]
     },
     "metadata": {},
     "output_type": "display_data"
    },
    {
     "data": {
      "text/html": [
       "<pre>recommendations finished on 171000/206209 queries. users per second: 1959.49</pre>"
      ],
      "text/plain": [
       "recommendations finished on 171000/206209 queries. users per second: 1959.49"
      ]
     },
     "metadata": {},
     "output_type": "display_data"
    },
    {
     "data": {
      "text/html": [
       "<pre>recommendations finished on 172000/206209 queries. users per second: 1958.97</pre>"
      ],
      "text/plain": [
       "recommendations finished on 172000/206209 queries. users per second: 1958.97"
      ]
     },
     "metadata": {},
     "output_type": "display_data"
    },
    {
     "data": {
      "text/html": [
       "<pre>recommendations finished on 173000/206209 queries. users per second: 1958.91</pre>"
      ],
      "text/plain": [
       "recommendations finished on 173000/206209 queries. users per second: 1958.91"
      ]
     },
     "metadata": {},
     "output_type": "display_data"
    },
    {
     "data": {
      "text/html": [
       "<pre>recommendations finished on 174000/206209 queries. users per second: 1957.13</pre>"
      ],
      "text/plain": [
       "recommendations finished on 174000/206209 queries. users per second: 1957.13"
      ]
     },
     "metadata": {},
     "output_type": "display_data"
    },
    {
     "data": {
      "text/html": [
       "<pre>recommendations finished on 175000/206209 queries. users per second: 1954.64</pre>"
      ],
      "text/plain": [
       "recommendations finished on 175000/206209 queries. users per second: 1954.64"
      ]
     },
     "metadata": {},
     "output_type": "display_data"
    },
    {
     "data": {
      "text/html": [
       "<pre>recommendations finished on 176000/206209 queries. users per second: 1951.19</pre>"
      ],
      "text/plain": [
       "recommendations finished on 176000/206209 queries. users per second: 1951.19"
      ]
     },
     "metadata": {},
     "output_type": "display_data"
    },
    {
     "data": {
      "text/html": [
       "<pre>recommendations finished on 177000/206209 queries. users per second: 1948.51</pre>"
      ],
      "text/plain": [
       "recommendations finished on 177000/206209 queries. users per second: 1948.51"
      ]
     },
     "metadata": {},
     "output_type": "display_data"
    },
    {
     "data": {
      "text/html": [
       "<pre>recommendations finished on 178000/206209 queries. users per second: 1945.73</pre>"
      ],
      "text/plain": [
       "recommendations finished on 178000/206209 queries. users per second: 1945.73"
      ]
     },
     "metadata": {},
     "output_type": "display_data"
    },
    {
     "data": {
      "text/html": [
       "<pre>recommendations finished on 179000/206209 queries. users per second: 1943.79</pre>"
      ],
      "text/plain": [
       "recommendations finished on 179000/206209 queries. users per second: 1943.79"
      ]
     },
     "metadata": {},
     "output_type": "display_data"
    },
    {
     "data": {
      "text/html": [
       "<pre>recommendations finished on 180000/206209 queries. users per second: 1943.04</pre>"
      ],
      "text/plain": [
       "recommendations finished on 180000/206209 queries. users per second: 1943.04"
      ]
     },
     "metadata": {},
     "output_type": "display_data"
    },
    {
     "data": {
      "text/html": [
       "<pre>recommendations finished on 181000/206209 queries. users per second: 1940.37</pre>"
      ],
      "text/plain": [
       "recommendations finished on 181000/206209 queries. users per second: 1940.37"
      ]
     },
     "metadata": {},
     "output_type": "display_data"
    },
    {
     "data": {
      "text/html": [
       "<pre>recommendations finished on 182000/206209 queries. users per second: 1938.65</pre>"
      ],
      "text/plain": [
       "recommendations finished on 182000/206209 queries. users per second: 1938.65"
      ]
     },
     "metadata": {},
     "output_type": "display_data"
    },
    {
     "data": {
      "text/html": [
       "<pre>recommendations finished on 183000/206209 queries. users per second: 1937.53</pre>"
      ],
      "text/plain": [
       "recommendations finished on 183000/206209 queries. users per second: 1937.53"
      ]
     },
     "metadata": {},
     "output_type": "display_data"
    },
    {
     "data": {
      "text/html": [
       "<pre>recommendations finished on 184000/206209 queries. users per second: 1935.38</pre>"
      ],
      "text/plain": [
       "recommendations finished on 184000/206209 queries. users per second: 1935.38"
      ]
     },
     "metadata": {},
     "output_type": "display_data"
    },
    {
     "data": {
      "text/html": [
       "<pre>recommendations finished on 185000/206209 queries. users per second: 1934.1</pre>"
      ],
      "text/plain": [
       "recommendations finished on 185000/206209 queries. users per second: 1934.1"
      ]
     },
     "metadata": {},
     "output_type": "display_data"
    },
    {
     "data": {
      "text/html": [
       "<pre>recommendations finished on 186000/206209 queries. users per second: 1932.46</pre>"
      ],
      "text/plain": [
       "recommendations finished on 186000/206209 queries. users per second: 1932.46"
      ]
     },
     "metadata": {},
     "output_type": "display_data"
    },
    {
     "data": {
      "text/html": [
       "<pre>recommendations finished on 187000/206209 queries. users per second: 1931.3</pre>"
      ],
      "text/plain": [
       "recommendations finished on 187000/206209 queries. users per second: 1931.3"
      ]
     },
     "metadata": {},
     "output_type": "display_data"
    },
    {
     "data": {
      "text/html": [
       "<pre>recommendations finished on 188000/206209 queries. users per second: 1929.53</pre>"
      ],
      "text/plain": [
       "recommendations finished on 188000/206209 queries. users per second: 1929.53"
      ]
     },
     "metadata": {},
     "output_type": "display_data"
    },
    {
     "data": {
      "text/html": [
       "<pre>recommendations finished on 189000/206209 queries. users per second: 1928.25</pre>"
      ],
      "text/plain": [
       "recommendations finished on 189000/206209 queries. users per second: 1928.25"
      ]
     },
     "metadata": {},
     "output_type": "display_data"
    },
    {
     "data": {
      "text/html": [
       "<pre>recommendations finished on 190000/206209 queries. users per second: 1927.83</pre>"
      ],
      "text/plain": [
       "recommendations finished on 190000/206209 queries. users per second: 1927.83"
      ]
     },
     "metadata": {},
     "output_type": "display_data"
    },
    {
     "data": {
      "text/html": [
       "<pre>recommendations finished on 191000/206209 queries. users per second: 1926.87</pre>"
      ],
      "text/plain": [
       "recommendations finished on 191000/206209 queries. users per second: 1926.87"
      ]
     },
     "metadata": {},
     "output_type": "display_data"
    },
    {
     "data": {
      "text/html": [
       "<pre>recommendations finished on 192000/206209 queries. users per second: 1925.24</pre>"
      ],
      "text/plain": [
       "recommendations finished on 192000/206209 queries. users per second: 1925.24"
      ]
     },
     "metadata": {},
     "output_type": "display_data"
    },
    {
     "data": {
      "text/html": [
       "<pre>recommendations finished on 193000/206209 queries. users per second: 1924.16</pre>"
      ],
      "text/plain": [
       "recommendations finished on 193000/206209 queries. users per second: 1924.16"
      ]
     },
     "metadata": {},
     "output_type": "display_data"
    },
    {
     "data": {
      "text/html": [
       "<pre>recommendations finished on 194000/206209 queries. users per second: 1922.37</pre>"
      ],
      "text/plain": [
       "recommendations finished on 194000/206209 queries. users per second: 1922.37"
      ]
     },
     "metadata": {},
     "output_type": "display_data"
    },
    {
     "data": {
      "text/html": [
       "<pre>recommendations finished on 195000/206209 queries. users per second: 1920.48</pre>"
      ],
      "text/plain": [
       "recommendations finished on 195000/206209 queries. users per second: 1920.48"
      ]
     },
     "metadata": {},
     "output_type": "display_data"
    },
    {
     "data": {
      "text/html": [
       "<pre>recommendations finished on 196000/206209 queries. users per second: 1918.32</pre>"
      ],
      "text/plain": [
       "recommendations finished on 196000/206209 queries. users per second: 1918.32"
      ]
     },
     "metadata": {},
     "output_type": "display_data"
    },
    {
     "data": {
      "text/html": [
       "<pre>recommendations finished on 197000/206209 queries. users per second: 1917.24</pre>"
      ],
      "text/plain": [
       "recommendations finished on 197000/206209 queries. users per second: 1917.24"
      ]
     },
     "metadata": {},
     "output_type": "display_data"
    },
    {
     "data": {
      "text/html": [
       "<pre>recommendations finished on 198000/206209 queries. users per second: 1915.69</pre>"
      ],
      "text/plain": [
       "recommendations finished on 198000/206209 queries. users per second: 1915.69"
      ]
     },
     "metadata": {},
     "output_type": "display_data"
    },
    {
     "data": {
      "text/html": [
       "<pre>recommendations finished on 199000/206209 queries. users per second: 1914.27</pre>"
      ],
      "text/plain": [
       "recommendations finished on 199000/206209 queries. users per second: 1914.27"
      ]
     },
     "metadata": {},
     "output_type": "display_data"
    },
    {
     "data": {
      "text/html": [
       "<pre>recommendations finished on 200000/206209 queries. users per second: 1913.51</pre>"
      ],
      "text/plain": [
       "recommendations finished on 200000/206209 queries. users per second: 1913.51"
      ]
     },
     "metadata": {},
     "output_type": "display_data"
    },
    {
     "data": {
      "text/html": [
       "<pre>recommendations finished on 201000/206209 queries. users per second: 1913.49</pre>"
      ],
      "text/plain": [
       "recommendations finished on 201000/206209 queries. users per second: 1913.49"
      ]
     },
     "metadata": {},
     "output_type": "display_data"
    },
    {
     "data": {
      "text/html": [
       "<pre>recommendations finished on 202000/206209 queries. users per second: 1913.33</pre>"
      ],
      "text/plain": [
       "recommendations finished on 202000/206209 queries. users per second: 1913.33"
      ]
     },
     "metadata": {},
     "output_type": "display_data"
    },
    {
     "data": {
      "text/html": [
       "<pre>recommendations finished on 203000/206209 queries. users per second: 1913.12</pre>"
      ],
      "text/plain": [
       "recommendations finished on 203000/206209 queries. users per second: 1913.12"
      ]
     },
     "metadata": {},
     "output_type": "display_data"
    },
    {
     "data": {
      "text/html": [
       "<pre>recommendations finished on 204000/206209 queries. users per second: 1912.89</pre>"
      ],
      "text/plain": [
       "recommendations finished on 204000/206209 queries. users per second: 1912.89"
      ]
     },
     "metadata": {},
     "output_type": "display_data"
    },
    {
     "data": {
      "text/html": [
       "<pre>recommendations finished on 205000/206209 queries. users per second: 1911.59</pre>"
      ],
      "text/plain": [
       "recommendations finished on 205000/206209 queries. users per second: 1911.59"
      ]
     },
     "metadata": {},
     "output_type": "display_data"
    },
    {
     "data": {
      "text/html": [
       "<pre>recommendations finished on 206000/206209 queries. users per second: 1905.4</pre>"
      ],
      "text/plain": [
       "recommendations finished on 206000/206209 queries. users per second: 1905.4"
      ]
     },
     "metadata": {},
     "output_type": "display_data"
    },
    {
     "name": "stdout",
     "output_type": "stream",
     "text": [
      "+---------+------------+-----------------------+------+\n",
      "| user_id | product_id |         score         | rank |\n",
      "+---------+------------+-----------------------+------+\n",
      "|    1    |   37710    | 0.0040131476190355085 |  1   |\n",
      "|    1    |    6184    | 0.0036865373452504477 |  2   |\n",
      "|    1    |   31651    |  0.003203484747144911 |  3   |\n",
      "|    1    |   13424    | 0.0031906399461958143 |  4   |\n",
      "|    1    |   13042    |  0.002799040741390652 |  5   |\n",
      "|    1    |   41400    | 0.0026418169339497886 |  6   |\n",
      "|    1    |   45051    | 0.0026229421297709146 |  7   |\n",
      "|    1    |   13575    |  0.002553145090738932 |  8   |\n",
      "|    1    |   31759    | 0.0025433897972106934 |  9   |\n",
      "|    1    |   18023    | 0.0025031036800808376 |  10  |\n",
      "|    2    |   21137    | 0.0009905123243144915 |  1   |\n",
      "|    2    |   18926    | 0.0007580173950569302 |  2   |\n",
      "|    2    |   21903    | 0.0007492432407304353 |  3   |\n",
      "|    2    |   33787    | 0.0006588714964249555 |  4   |\n",
      "|    2    |   47626    | 0.0006080556149576224 |  5   |\n",
      "|    2    |   14917    | 0.0005650315798965155 |  6   |\n",
      "|    2    |    8277    |  0.000561452963772942 |  7   |\n",
      "|    2    |   26209    | 0.0005547223137874229 |  8   |\n",
      "|    2    |   22035    | 0.0005475691720551136 |  9   |\n",
      "|    2    |   42265    | 0.0005213963050468295 |  10  |\n",
      "|    3    |   24852    |  0.002623064951463179 |  1   |\n",
      "|    3    |   47626    | 0.0022047938722552676 |  2   |\n",
      "|    3    |   24964    | 0.0017227638851512563 |  3   |\n",
      "|    3    |   26209    | 0.0017198902187925396 |  4   |\n",
      "|    3    |   13176    | 0.0016098636569398823 |  5   |\n",
      "|    3    |   45007    | 0.0015121445511326645 |  6   |\n",
      "|    3    |   40706    | 0.0014582366654367158 |  7   |\n",
      "|    3    |   22935    | 0.0013950936722032952 |  8   |\n",
      "|    3    |   47209    | 0.0013490265065973456 |  9   |\n",
      "|    3    |   39275    |  0.001314338409539425 |  10  |\n",
      "+---------+------------+-----------------------+------+\n",
      "[2062090 rows x 4 columns]\n",
      "\n"
     ]
    }
   ],
   "source": [
    "name = 'cosine' \n",
    "target = 'quantity' \n",
    "cos_norm = model(data_norm, name, user_id, product_id, target, users_to_recommend, n_rec, n_display)"
   ]
  },
  {
   "cell_type": "code",
   "execution_count": 70,
   "metadata": {},
   "outputs": [
    {
     "data": {
      "text/html": [
       "<pre>Preparing data set.</pre>"
      ],
      "text/plain": [
       "Preparing data set."
      ]
     },
     "metadata": {},
     "output_type": "display_data"
    },
    {
     "data": {
      "text/html": [
       "<pre>    Data has 13307953 observations with 206209 users and 49677 items.</pre>"
      ],
      "text/plain": [
       "    Data has 13307953 observations with 206209 users and 49677 items."
      ]
     },
     "metadata": {},
     "output_type": "display_data"
    },
    {
     "data": {
      "text/html": [
       "<pre>    Data prepared in: 11.7212s</pre>"
      ],
      "text/plain": [
       "    Data prepared in: 11.7212s"
      ]
     },
     "metadata": {},
     "output_type": "display_data"
    },
    {
     "data": {
      "text/html": [
       "<pre>Training model from provided data.</pre>"
      ],
      "text/plain": [
       "Training model from provided data."
      ]
     },
     "metadata": {},
     "output_type": "display_data"
    },
    {
     "data": {
      "text/html": [
       "<pre>Gathering per-item and per-user statistics.</pre>"
      ],
      "text/plain": [
       "Gathering per-item and per-user statistics."
      ]
     },
     "metadata": {},
     "output_type": "display_data"
    },
    {
     "data": {
      "text/html": [
       "<pre>+--------------------------------+------------+</pre>"
      ],
      "text/plain": [
       "+--------------------------------+------------+"
      ]
     },
     "metadata": {},
     "output_type": "display_data"
    },
    {
     "data": {
      "text/html": [
       "<pre>| Elapsed Time (Item Statistics) | % Complete |</pre>"
      ],
      "text/plain": [
       "| Elapsed Time (Item Statistics) | % Complete |"
      ]
     },
     "metadata": {},
     "output_type": "display_data"
    },
    {
     "data": {
      "text/html": [
       "<pre>+--------------------------------+------------+</pre>"
      ],
      "text/plain": [
       "+--------------------------------+------------+"
      ]
     },
     "metadata": {},
     "output_type": "display_data"
    },
    {
     "data": {
      "text/html": [
       "<pre>| 6.601ms                        | 0.25       |</pre>"
      ],
      "text/plain": [
       "| 6.601ms                        | 0.25       |"
      ]
     },
     "metadata": {},
     "output_type": "display_data"
    },
    {
     "data": {
      "text/html": [
       "<pre>| 1.36s                          | 100        |</pre>"
      ],
      "text/plain": [
       "| 1.36s                          | 100        |"
      ]
     },
     "metadata": {},
     "output_type": "display_data"
    },
    {
     "data": {
      "text/html": [
       "<pre>+--------------------------------+------------+</pre>"
      ],
      "text/plain": [
       "+--------------------------------+------------+"
      ]
     },
     "metadata": {},
     "output_type": "display_data"
    },
    {
     "data": {
      "text/html": [
       "<pre>Setting up lookup tables.</pre>"
      ],
      "text/plain": [
       "Setting up lookup tables."
      ]
     },
     "metadata": {},
     "output_type": "display_data"
    },
    {
     "data": {
      "text/html": [
       "<pre>Processing data in 2 passes using dense lookup tables.</pre>"
      ],
      "text/plain": [
       "Processing data in 2 passes using dense lookup tables."
      ]
     },
     "metadata": {},
     "output_type": "display_data"
    },
    {
     "data": {
      "text/html": [
       "<pre>+-------------------------------------+------------------+-----------------+</pre>"
      ],
      "text/plain": [
       "+-------------------------------------+------------------+-----------------+"
      ]
     },
     "metadata": {},
     "output_type": "display_data"
    },
    {
     "data": {
      "text/html": [
       "<pre>| Elapsed Time (Constructing Lookups) | Total % Complete | Items Processed |</pre>"
      ],
      "text/plain": [
       "| Elapsed Time (Constructing Lookups) | Total % Complete | Items Processed |"
      ]
     },
     "metadata": {},
     "output_type": "display_data"
    },
    {
     "data": {
      "text/html": [
       "<pre>+-------------------------------------+------------------+-----------------+</pre>"
      ],
      "text/plain": [
       "+-------------------------------------+------------------+-----------------+"
      ]
     },
     "metadata": {},
     "output_type": "display_data"
    },
    {
     "data": {
      "text/html": [
       "<pre>| 3.96s                               | 0                | 0               |</pre>"
      ],
      "text/plain": [
       "| 3.96s                               | 0                | 0               |"
      ]
     },
     "metadata": {},
     "output_type": "display_data"
    },
    {
     "data": {
      "text/html": [
       "<pre>| 6.97s                               | 2.5              | 1267            |</pre>"
      ],
      "text/plain": [
       "| 6.97s                               | 2.5              | 1267            |"
      ]
     },
     "metadata": {},
     "output_type": "display_data"
    },
    {
     "data": {
      "text/html": [
       "<pre>| 9.96s                               | 4.5              | 2316            |</pre>"
      ],
      "text/plain": [
       "| 9.96s                               | 4.5              | 2316            |"
      ]
     },
     "metadata": {},
     "output_type": "display_data"
    },
    {
     "data": {
      "text/html": [
       "<pre>| 12.96s                              | 6.75             | 3405            |</pre>"
      ],
      "text/plain": [
       "| 12.96s                              | 6.75             | 3405            |"
      ]
     },
     "metadata": {},
     "output_type": "display_data"
    },
    {
     "data": {
      "text/html": [
       "<pre>| 15.97s                              | 8.5              | 4341            |</pre>"
      ],
      "text/plain": [
       "| 15.97s                              | 8.5              | 4341            |"
      ]
     },
     "metadata": {},
     "output_type": "display_data"
    },
    {
     "data": {
      "text/html": [
       "<pre>| 18.96s                              | 10.5             | 5312            |</pre>"
      ],
      "text/plain": [
       "| 18.96s                              | 10.5             | 5312            |"
      ]
     },
     "metadata": {},
     "output_type": "display_data"
    },
    {
     "data": {
      "text/html": [
       "<pre>| 21.97s                              | 12.5             | 6247            |</pre>"
      ],
      "text/plain": [
       "| 21.97s                              | 12.5             | 6247            |"
      ]
     },
     "metadata": {},
     "output_type": "display_data"
    },
    {
     "data": {
      "text/html": [
       "<pre>| 24.96s                              | 14.25            | 7150            |</pre>"
      ],
      "text/plain": [
       "| 24.96s                              | 14.25            | 7150            |"
      ]
     },
     "metadata": {},
     "output_type": "display_data"
    },
    {
     "data": {
      "text/html": [
       "<pre>| 27.97s                              | 16.25            | 8123            |</pre>"
      ],
      "text/plain": [
       "| 27.97s                              | 16.25            | 8123            |"
      ]
     },
     "metadata": {},
     "output_type": "display_data"
    },
    {
     "data": {
      "text/html": [
       "<pre>| 30.97s                              | 18.25            | 9099            |</pre>"
      ],
      "text/plain": [
       "| 30.97s                              | 18.25            | 9099            |"
      ]
     },
     "metadata": {},
     "output_type": "display_data"
    },
    {
     "data": {
      "text/html": [
       "<pre>| 33.97s                              | 20               | 9998            |</pre>"
      ],
      "text/plain": [
       "| 33.97s                              | 20               | 9998            |"
      ]
     },
     "metadata": {},
     "output_type": "display_data"
    },
    {
     "data": {
      "text/html": [
       "<pre>| 36.98s                              | 21.75            | 10925           |</pre>"
      ],
      "text/plain": [
       "| 36.98s                              | 21.75            | 10925           |"
      ]
     },
     "metadata": {},
     "output_type": "display_data"
    },
    {
     "data": {
      "text/html": [
       "<pre>| 39.97s                              | 23.75            | 11914           |</pre>"
      ],
      "text/plain": [
       "| 39.97s                              | 23.75            | 11914           |"
      ]
     },
     "metadata": {},
     "output_type": "display_data"
    },
    {
     "data": {
      "text/html": [
       "<pre>| 42.97s                              | 26               | 12931           |</pre>"
      ],
      "text/plain": [
       "| 42.97s                              | 26               | 12931           |"
      ]
     },
     "metadata": {},
     "output_type": "display_data"
    },
    {
     "data": {
      "text/html": [
       "<pre>| 45.97s                              | 28.25            | 14060           |</pre>"
      ],
      "text/plain": [
       "| 45.97s                              | 28.25            | 14060           |"
      ]
     },
     "metadata": {},
     "output_type": "display_data"
    },
    {
     "data": {
      "text/html": [
       "<pre>| 48.97s                              | 29.75            | 14820           |</pre>"
      ],
      "text/plain": [
       "| 48.97s                              | 29.75            | 14820           |"
      ]
     },
     "metadata": {},
     "output_type": "display_data"
    },
    {
     "data": {
      "text/html": [
       "<pre>| 51.97s                              | 31.5             | 15657           |</pre>"
      ],
      "text/plain": [
       "| 51.97s                              | 31.5             | 15657           |"
      ]
     },
     "metadata": {},
     "output_type": "display_data"
    },
    {
     "data": {
      "text/html": [
       "<pre>| 54.97s                              | 34.25            | 17021           |</pre>"
      ],
      "text/plain": [
       "| 54.97s                              | 34.25            | 17021           |"
      ]
     },
     "metadata": {},
     "output_type": "display_data"
    },
    {
     "data": {
      "text/html": [
       "<pre>| 57.97s                              | 36.75            | 18269           |</pre>"
      ],
      "text/plain": [
       "| 57.97s                              | 36.75            | 18269           |"
      ]
     },
     "metadata": {},
     "output_type": "display_data"
    },
    {
     "data": {
      "text/html": [
       "<pre>| 1m 0s                               | 39               | 19379           |</pre>"
      ],
      "text/plain": [
       "| 1m 0s                               | 39               | 19379           |"
      ]
     },
     "metadata": {},
     "output_type": "display_data"
    },
    {
     "data": {
      "text/html": [
       "<pre>| 1m 3s                               | 41.25            | 20608           |</pre>"
      ],
      "text/plain": [
       "| 1m 3s                               | 41.25            | 20608           |"
      ]
     },
     "metadata": {},
     "output_type": "display_data"
    },
    {
     "data": {
      "text/html": [
       "<pre>| 1m 6s                               | 44               | 21867           |</pre>"
      ],
      "text/plain": [
       "| 1m 6s                               | 44               | 21867           |"
      ]
     },
     "metadata": {},
     "output_type": "display_data"
    },
    {
     "data": {
      "text/html": [
       "<pre>| 1m 9s                               | 45.75            | 22747           |</pre>"
      ],
      "text/plain": [
       "| 1m 9s                               | 45.75            | 22747           |"
      ]
     },
     "metadata": {},
     "output_type": "display_data"
    },
    {
     "data": {
      "text/html": [
       "<pre>| 1m 12s                              | 47.25            | 23550           |</pre>"
      ],
      "text/plain": [
       "| 1m 12s                              | 47.25            | 23550           |"
      ]
     },
     "metadata": {},
     "output_type": "display_data"
    },
    {
     "data": {
      "text/html": [
       "<pre>| 1m 15s                              | 49               | 24412           |</pre>"
      ],
      "text/plain": [
       "| 1m 15s                              | 49               | 24412           |"
      ]
     },
     "metadata": {},
     "output_type": "display_data"
    },
    {
     "data": {
      "text/html": [
       "<pre>| 1m 36s                              | 49.75            | 24836           |</pre>"
      ],
      "text/plain": [
       "| 1m 36s                              | 49.75            | 24836           |"
      ]
     },
     "metadata": {},
     "output_type": "display_data"
    },
    {
     "data": {
      "text/html": [
       "<pre>| 1m 37s                              | 100              | 49677           |</pre>"
      ],
      "text/plain": [
       "| 1m 37s                              | 100              | 49677           |"
      ]
     },
     "metadata": {},
     "output_type": "display_data"
    },
    {
     "data": {
      "text/html": [
       "<pre>+-------------------------------------+------------------+-----------------+</pre>"
      ],
      "text/plain": [
       "+-------------------------------------+------------------+-----------------+"
      ]
     },
     "metadata": {},
     "output_type": "display_data"
    },
    {
     "data": {
      "text/html": [
       "<pre>Finalizing lookup tables.</pre>"
      ],
      "text/plain": [
       "Finalizing lookup tables."
      ]
     },
     "metadata": {},
     "output_type": "display_data"
    },
    {
     "data": {
      "text/html": [
       "<pre>Generating candidate set for working with new users.</pre>"
      ],
      "text/plain": [
       "Generating candidate set for working with new users."
      ]
     },
     "metadata": {},
     "output_type": "display_data"
    },
    {
     "data": {
      "text/html": [
       "<pre>Finished training in 98.8629s</pre>"
      ],
      "text/plain": [
       "Finished training in 98.8629s"
      ]
     },
     "metadata": {},
     "output_type": "display_data"
    },
    {
     "data": {
      "text/html": [
       "<pre>recommendations finished on 1000/206209 queries. users per second: 1842.11</pre>"
      ],
      "text/plain": [
       "recommendations finished on 1000/206209 queries. users per second: 1842.11"
      ]
     },
     "metadata": {},
     "output_type": "display_data"
    },
    {
     "data": {
      "text/html": [
       "<pre>recommendations finished on 2000/206209 queries. users per second: 1968.41</pre>"
      ],
      "text/plain": [
       "recommendations finished on 2000/206209 queries. users per second: 1968.41"
      ]
     },
     "metadata": {},
     "output_type": "display_data"
    },
    {
     "data": {
      "text/html": [
       "<pre>recommendations finished on 3000/206209 queries. users per second: 1943.13</pre>"
      ],
      "text/plain": [
       "recommendations finished on 3000/206209 queries. users per second: 1943.13"
      ]
     },
     "metadata": {},
     "output_type": "display_data"
    },
    {
     "data": {
      "text/html": [
       "<pre>recommendations finished on 4000/206209 queries. users per second: 1881.56</pre>"
      ],
      "text/plain": [
       "recommendations finished on 4000/206209 queries. users per second: 1881.56"
      ]
     },
     "metadata": {},
     "output_type": "display_data"
    },
    {
     "data": {
      "text/html": [
       "<pre>recommendations finished on 5000/206209 queries. users per second: 1911.39</pre>"
      ],
      "text/plain": [
       "recommendations finished on 5000/206209 queries. users per second: 1911.39"
      ]
     },
     "metadata": {},
     "output_type": "display_data"
    },
    {
     "data": {
      "text/html": [
       "<pre>recommendations finished on 6000/206209 queries. users per second: 1899.54</pre>"
      ],
      "text/plain": [
       "recommendations finished on 6000/206209 queries. users per second: 1899.54"
      ]
     },
     "metadata": {},
     "output_type": "display_data"
    },
    {
     "data": {
      "text/html": [
       "<pre>recommendations finished on 7000/206209 queries. users per second: 1880.73</pre>"
      ],
      "text/plain": [
       "recommendations finished on 7000/206209 queries. users per second: 1880.73"
      ]
     },
     "metadata": {},
     "output_type": "display_data"
    },
    {
     "data": {
      "text/html": [
       "<pre>recommendations finished on 8000/206209 queries. users per second: 1852.83</pre>"
      ],
      "text/plain": [
       "recommendations finished on 8000/206209 queries. users per second: 1852.83"
      ]
     },
     "metadata": {},
     "output_type": "display_data"
    },
    {
     "data": {
      "text/html": [
       "<pre>recommendations finished on 9000/206209 queries. users per second: 1838.95</pre>"
      ],
      "text/plain": [
       "recommendations finished on 9000/206209 queries. users per second: 1838.95"
      ]
     },
     "metadata": {},
     "output_type": "display_data"
    },
    {
     "data": {
      "text/html": [
       "<pre>recommendations finished on 10000/206209 queries. users per second: 1855.01</pre>"
      ],
      "text/plain": [
       "recommendations finished on 10000/206209 queries. users per second: 1855.01"
      ]
     },
     "metadata": {},
     "output_type": "display_data"
    },
    {
     "data": {
      "text/html": [
       "<pre>recommendations finished on 11000/206209 queries. users per second: 1853.99</pre>"
      ],
      "text/plain": [
       "recommendations finished on 11000/206209 queries. users per second: 1853.99"
      ]
     },
     "metadata": {},
     "output_type": "display_data"
    },
    {
     "data": {
      "text/html": [
       "<pre>recommendations finished on 12000/206209 queries. users per second: 1857.6</pre>"
      ],
      "text/plain": [
       "recommendations finished on 12000/206209 queries. users per second: 1857.6"
      ]
     },
     "metadata": {},
     "output_type": "display_data"
    },
    {
     "data": {
      "text/html": [
       "<pre>recommendations finished on 13000/206209 queries. users per second: 1853.47</pre>"
      ],
      "text/plain": [
       "recommendations finished on 13000/206209 queries. users per second: 1853.47"
      ]
     },
     "metadata": {},
     "output_type": "display_data"
    },
    {
     "data": {
      "text/html": [
       "<pre>recommendations finished on 14000/206209 queries. users per second: 1861.91</pre>"
      ],
      "text/plain": [
       "recommendations finished on 14000/206209 queries. users per second: 1861.91"
      ]
     },
     "metadata": {},
     "output_type": "display_data"
    },
    {
     "data": {
      "text/html": [
       "<pre>recommendations finished on 15000/206209 queries. users per second: 1868.35</pre>"
      ],
      "text/plain": [
       "recommendations finished on 15000/206209 queries. users per second: 1868.35"
      ]
     },
     "metadata": {},
     "output_type": "display_data"
    },
    {
     "data": {
      "text/html": [
       "<pre>recommendations finished on 16000/206209 queries. users per second: 1874.87</pre>"
      ],
      "text/plain": [
       "recommendations finished on 16000/206209 queries. users per second: 1874.87"
      ]
     },
     "metadata": {},
     "output_type": "display_data"
    },
    {
     "data": {
      "text/html": [
       "<pre>recommendations finished on 17000/206209 queries. users per second: 1880.24</pre>"
      ],
      "text/plain": [
       "recommendations finished on 17000/206209 queries. users per second: 1880.24"
      ]
     },
     "metadata": {},
     "output_type": "display_data"
    },
    {
     "data": {
      "text/html": [
       "<pre>recommendations finished on 18000/206209 queries. users per second: 1884.49</pre>"
      ],
      "text/plain": [
       "recommendations finished on 18000/206209 queries. users per second: 1884.49"
      ]
     },
     "metadata": {},
     "output_type": "display_data"
    },
    {
     "data": {
      "text/html": [
       "<pre>recommendations finished on 19000/206209 queries. users per second: 1884.83</pre>"
      ],
      "text/plain": [
       "recommendations finished on 19000/206209 queries. users per second: 1884.83"
      ]
     },
     "metadata": {},
     "output_type": "display_data"
    },
    {
     "data": {
      "text/html": [
       "<pre>recommendations finished on 20000/206209 queries. users per second: 1886.48</pre>"
      ],
      "text/plain": [
       "recommendations finished on 20000/206209 queries. users per second: 1886.48"
      ]
     },
     "metadata": {},
     "output_type": "display_data"
    },
    {
     "data": {
      "text/html": [
       "<pre>recommendations finished on 21000/206209 queries. users per second: 1877.37</pre>"
      ],
      "text/plain": [
       "recommendations finished on 21000/206209 queries. users per second: 1877.37"
      ]
     },
     "metadata": {},
     "output_type": "display_data"
    },
    {
     "data": {
      "text/html": [
       "<pre>recommendations finished on 22000/206209 queries. users per second: 1866.84</pre>"
      ],
      "text/plain": [
       "recommendations finished on 22000/206209 queries. users per second: 1866.84"
      ]
     },
     "metadata": {},
     "output_type": "display_data"
    },
    {
     "data": {
      "text/html": [
       "<pre>recommendations finished on 23000/206209 queries. users per second: 1859.17</pre>"
      ],
      "text/plain": [
       "recommendations finished on 23000/206209 queries. users per second: 1859.17"
      ]
     },
     "metadata": {},
     "output_type": "display_data"
    },
    {
     "data": {
      "text/html": [
       "<pre>recommendations finished on 24000/206209 queries. users per second: 1856.27</pre>"
      ],
      "text/plain": [
       "recommendations finished on 24000/206209 queries. users per second: 1856.27"
      ]
     },
     "metadata": {},
     "output_type": "display_data"
    },
    {
     "data": {
      "text/html": [
       "<pre>recommendations finished on 25000/206209 queries. users per second: 1866.26</pre>"
      ],
      "text/plain": [
       "recommendations finished on 25000/206209 queries. users per second: 1866.26"
      ]
     },
     "metadata": {},
     "output_type": "display_data"
    },
    {
     "data": {
      "text/html": [
       "<pre>recommendations finished on 26000/206209 queries. users per second: 1874.71</pre>"
      ],
      "text/plain": [
       "recommendations finished on 26000/206209 queries. users per second: 1874.71"
      ]
     },
     "metadata": {},
     "output_type": "display_data"
    },
    {
     "data": {
      "text/html": [
       "<pre>recommendations finished on 27000/206209 queries. users per second: 1874.27</pre>"
      ],
      "text/plain": [
       "recommendations finished on 27000/206209 queries. users per second: 1874.27"
      ]
     },
     "metadata": {},
     "output_type": "display_data"
    },
    {
     "data": {
      "text/html": [
       "<pre>recommendations finished on 28000/206209 queries. users per second: 1878.67</pre>"
      ],
      "text/plain": [
       "recommendations finished on 28000/206209 queries. users per second: 1878.67"
      ]
     },
     "metadata": {},
     "output_type": "display_data"
    },
    {
     "data": {
      "text/html": [
       "<pre>recommendations finished on 29000/206209 queries. users per second: 1880.8</pre>"
      ],
      "text/plain": [
       "recommendations finished on 29000/206209 queries. users per second: 1880.8"
      ]
     },
     "metadata": {},
     "output_type": "display_data"
    },
    {
     "data": {
      "text/html": [
       "<pre>recommendations finished on 30000/206209 queries. users per second: 1883.08</pre>"
      ],
      "text/plain": [
       "recommendations finished on 30000/206209 queries. users per second: 1883.08"
      ]
     },
     "metadata": {},
     "output_type": "display_data"
    },
    {
     "data": {
      "text/html": [
       "<pre>recommendations finished on 31000/206209 queries. users per second: 1888.98</pre>"
      ],
      "text/plain": [
       "recommendations finished on 31000/206209 queries. users per second: 1888.98"
      ]
     },
     "metadata": {},
     "output_type": "display_data"
    },
    {
     "data": {
      "text/html": [
       "<pre>recommendations finished on 32000/206209 queries. users per second: 1887.58</pre>"
      ],
      "text/plain": [
       "recommendations finished on 32000/206209 queries. users per second: 1887.58"
      ]
     },
     "metadata": {},
     "output_type": "display_data"
    },
    {
     "data": {
      "text/html": [
       "<pre>recommendations finished on 33000/206209 queries. users per second: 1886.86</pre>"
      ],
      "text/plain": [
       "recommendations finished on 33000/206209 queries. users per second: 1886.86"
      ]
     },
     "metadata": {},
     "output_type": "display_data"
    },
    {
     "data": {
      "text/html": [
       "<pre>recommendations finished on 34000/206209 queries. users per second: 1885.5</pre>"
      ],
      "text/plain": [
       "recommendations finished on 34000/206209 queries. users per second: 1885.5"
      ]
     },
     "metadata": {},
     "output_type": "display_data"
    },
    {
     "data": {
      "text/html": [
       "<pre>recommendations finished on 35000/206209 queries. users per second: 1885.93</pre>"
      ],
      "text/plain": [
       "recommendations finished on 35000/206209 queries. users per second: 1885.93"
      ]
     },
     "metadata": {},
     "output_type": "display_data"
    },
    {
     "data": {
      "text/html": [
       "<pre>recommendations finished on 36000/206209 queries. users per second: 1887.18</pre>"
      ],
      "text/plain": [
       "recommendations finished on 36000/206209 queries. users per second: 1887.18"
      ]
     },
     "metadata": {},
     "output_type": "display_data"
    },
    {
     "data": {
      "text/html": [
       "<pre>recommendations finished on 37000/206209 queries. users per second: 1884.25</pre>"
      ],
      "text/plain": [
       "recommendations finished on 37000/206209 queries. users per second: 1884.25"
      ]
     },
     "metadata": {},
     "output_type": "display_data"
    },
    {
     "data": {
      "text/html": [
       "<pre>recommendations finished on 38000/206209 queries. users per second: 1885.25</pre>"
      ],
      "text/plain": [
       "recommendations finished on 38000/206209 queries. users per second: 1885.25"
      ]
     },
     "metadata": {},
     "output_type": "display_data"
    },
    {
     "data": {
      "text/html": [
       "<pre>recommendations finished on 39000/206209 queries. users per second: 1883.29</pre>"
      ],
      "text/plain": [
       "recommendations finished on 39000/206209 queries. users per second: 1883.29"
      ]
     },
     "metadata": {},
     "output_type": "display_data"
    },
    {
     "data": {
      "text/html": [
       "<pre>recommendations finished on 40000/206209 queries. users per second: 1882.59</pre>"
      ],
      "text/plain": [
       "recommendations finished on 40000/206209 queries. users per second: 1882.59"
      ]
     },
     "metadata": {},
     "output_type": "display_data"
    },
    {
     "data": {
      "text/html": [
       "<pre>recommendations finished on 41000/206209 queries. users per second: 1881.62</pre>"
      ],
      "text/plain": [
       "recommendations finished on 41000/206209 queries. users per second: 1881.62"
      ]
     },
     "metadata": {},
     "output_type": "display_data"
    },
    {
     "data": {
      "text/html": [
       "<pre>recommendations finished on 42000/206209 queries. users per second: 1881.54</pre>"
      ],
      "text/plain": [
       "recommendations finished on 42000/206209 queries. users per second: 1881.54"
      ]
     },
     "metadata": {},
     "output_type": "display_data"
    },
    {
     "data": {
      "text/html": [
       "<pre>recommendations finished on 43000/206209 queries. users per second: 1881.85</pre>"
      ],
      "text/plain": [
       "recommendations finished on 43000/206209 queries. users per second: 1881.85"
      ]
     },
     "metadata": {},
     "output_type": "display_data"
    },
    {
     "data": {
      "text/html": [
       "<pre>recommendations finished on 44000/206209 queries. users per second: 1884.29</pre>"
      ],
      "text/plain": [
       "recommendations finished on 44000/206209 queries. users per second: 1884.29"
      ]
     },
     "metadata": {},
     "output_type": "display_data"
    },
    {
     "data": {
      "text/html": [
       "<pre>recommendations finished on 45000/206209 queries. users per second: 1888.88</pre>"
      ],
      "text/plain": [
       "recommendations finished on 45000/206209 queries. users per second: 1888.88"
      ]
     },
     "metadata": {},
     "output_type": "display_data"
    },
    {
     "data": {
      "text/html": [
       "<pre>recommendations finished on 46000/206209 queries. users per second: 1893.28</pre>"
      ],
      "text/plain": [
       "recommendations finished on 46000/206209 queries. users per second: 1893.28"
      ]
     },
     "metadata": {},
     "output_type": "display_data"
    },
    {
     "data": {
      "text/html": [
       "<pre>recommendations finished on 47000/206209 queries. users per second: 1897.54</pre>"
      ],
      "text/plain": [
       "recommendations finished on 47000/206209 queries. users per second: 1897.54"
      ]
     },
     "metadata": {},
     "output_type": "display_data"
    },
    {
     "data": {
      "text/html": [
       "<pre>recommendations finished on 48000/206209 queries. users per second: 1897.62</pre>"
      ],
      "text/plain": [
       "recommendations finished on 48000/206209 queries. users per second: 1897.62"
      ]
     },
     "metadata": {},
     "output_type": "display_data"
    },
    {
     "data": {
      "text/html": [
       "<pre>recommendations finished on 49000/206209 queries. users per second: 1897.61</pre>"
      ],
      "text/plain": [
       "recommendations finished on 49000/206209 queries. users per second: 1897.61"
      ]
     },
     "metadata": {},
     "output_type": "display_data"
    },
    {
     "data": {
      "text/html": [
       "<pre>recommendations finished on 50000/206209 queries. users per second: 1896.85</pre>"
      ],
      "text/plain": [
       "recommendations finished on 50000/206209 queries. users per second: 1896.85"
      ]
     },
     "metadata": {},
     "output_type": "display_data"
    },
    {
     "data": {
      "text/html": [
       "<pre>recommendations finished on 51000/206209 queries. users per second: 1896.04</pre>"
      ],
      "text/plain": [
       "recommendations finished on 51000/206209 queries. users per second: 1896.04"
      ]
     },
     "metadata": {},
     "output_type": "display_data"
    },
    {
     "data": {
      "text/html": [
       "<pre>recommendations finished on 52000/206209 queries. users per second: 1894.96</pre>"
      ],
      "text/plain": [
       "recommendations finished on 52000/206209 queries. users per second: 1894.96"
      ]
     },
     "metadata": {},
     "output_type": "display_data"
    },
    {
     "data": {
      "text/html": [
       "<pre>recommendations finished on 53000/206209 queries. users per second: 1894.26</pre>"
      ],
      "text/plain": [
       "recommendations finished on 53000/206209 queries. users per second: 1894.26"
      ]
     },
     "metadata": {},
     "output_type": "display_data"
    },
    {
     "data": {
      "text/html": [
       "<pre>recommendations finished on 54000/206209 queries. users per second: 1894.55</pre>"
      ],
      "text/plain": [
       "recommendations finished on 54000/206209 queries. users per second: 1894.55"
      ]
     },
     "metadata": {},
     "output_type": "display_data"
    },
    {
     "data": {
      "text/html": [
       "<pre>recommendations finished on 55000/206209 queries. users per second: 1893.18</pre>"
      ],
      "text/plain": [
       "recommendations finished on 55000/206209 queries. users per second: 1893.18"
      ]
     },
     "metadata": {},
     "output_type": "display_data"
    },
    {
     "data": {
      "text/html": [
       "<pre>recommendations finished on 56000/206209 queries. users per second: 1892.85</pre>"
      ],
      "text/plain": [
       "recommendations finished on 56000/206209 queries. users per second: 1892.85"
      ]
     },
     "metadata": {},
     "output_type": "display_data"
    },
    {
     "data": {
      "text/html": [
       "<pre>recommendations finished on 57000/206209 queries. users per second: 1892.37</pre>"
      ],
      "text/plain": [
       "recommendations finished on 57000/206209 queries. users per second: 1892.37"
      ]
     },
     "metadata": {},
     "output_type": "display_data"
    },
    {
     "data": {
      "text/html": [
       "<pre>recommendations finished on 58000/206209 queries. users per second: 1895.63</pre>"
      ],
      "text/plain": [
       "recommendations finished on 58000/206209 queries. users per second: 1895.63"
      ]
     },
     "metadata": {},
     "output_type": "display_data"
    },
    {
     "data": {
      "text/html": [
       "<pre>recommendations finished on 59000/206209 queries. users per second: 1895.52</pre>"
      ],
      "text/plain": [
       "recommendations finished on 59000/206209 queries. users per second: 1895.52"
      ]
     },
     "metadata": {},
     "output_type": "display_data"
    },
    {
     "data": {
      "text/html": [
       "<pre>recommendations finished on 60000/206209 queries. users per second: 1895.66</pre>"
      ],
      "text/plain": [
       "recommendations finished on 60000/206209 queries. users per second: 1895.66"
      ]
     },
     "metadata": {},
     "output_type": "display_data"
    },
    {
     "data": {
      "text/html": [
       "<pre>recommendations finished on 61000/206209 queries. users per second: 1895.51</pre>"
      ],
      "text/plain": [
       "recommendations finished on 61000/206209 queries. users per second: 1895.51"
      ]
     },
     "metadata": {},
     "output_type": "display_data"
    },
    {
     "data": {
      "text/html": [
       "<pre>recommendations finished on 62000/206209 queries. users per second: 1897.34</pre>"
      ],
      "text/plain": [
       "recommendations finished on 62000/206209 queries. users per second: 1897.34"
      ]
     },
     "metadata": {},
     "output_type": "display_data"
    },
    {
     "data": {
      "text/html": [
       "<pre>recommendations finished on 63000/206209 queries. users per second: 1897.09</pre>"
      ],
      "text/plain": [
       "recommendations finished on 63000/206209 queries. users per second: 1897.09"
      ]
     },
     "metadata": {},
     "output_type": "display_data"
    },
    {
     "data": {
      "text/html": [
       "<pre>recommendations finished on 64000/206209 queries. users per second: 1895.45</pre>"
      ],
      "text/plain": [
       "recommendations finished on 64000/206209 queries. users per second: 1895.45"
      ]
     },
     "metadata": {},
     "output_type": "display_data"
    },
    {
     "data": {
      "text/html": [
       "<pre>recommendations finished on 65000/206209 queries. users per second: 1896.04</pre>"
      ],
      "text/plain": [
       "recommendations finished on 65000/206209 queries. users per second: 1896.04"
      ]
     },
     "metadata": {},
     "output_type": "display_data"
    },
    {
     "data": {
      "text/html": [
       "<pre>recommendations finished on 66000/206209 queries. users per second: 1897.24</pre>"
      ],
      "text/plain": [
       "recommendations finished on 66000/206209 queries. users per second: 1897.24"
      ]
     },
     "metadata": {},
     "output_type": "display_data"
    },
    {
     "data": {
      "text/html": [
       "<pre>recommendations finished on 67000/206209 queries. users per second: 1896.33</pre>"
      ],
      "text/plain": [
       "recommendations finished on 67000/206209 queries. users per second: 1896.33"
      ]
     },
     "metadata": {},
     "output_type": "display_data"
    },
    {
     "data": {
      "text/html": [
       "<pre>recommendations finished on 68000/206209 queries. users per second: 1896.29</pre>"
      ],
      "text/plain": [
       "recommendations finished on 68000/206209 queries. users per second: 1896.29"
      ]
     },
     "metadata": {},
     "output_type": "display_data"
    },
    {
     "data": {
      "text/html": [
       "<pre>recommendations finished on 69000/206209 queries. users per second: 1895.85</pre>"
      ],
      "text/plain": [
       "recommendations finished on 69000/206209 queries. users per second: 1895.85"
      ]
     },
     "metadata": {},
     "output_type": "display_data"
    },
    {
     "data": {
      "text/html": [
       "<pre>recommendations finished on 70000/206209 queries. users per second: 1895.01</pre>"
      ],
      "text/plain": [
       "recommendations finished on 70000/206209 queries. users per second: 1895.01"
      ]
     },
     "metadata": {},
     "output_type": "display_data"
    },
    {
     "data": {
      "text/html": [
       "<pre>recommendations finished on 71000/206209 queries. users per second: 1894.75</pre>"
      ],
      "text/plain": [
       "recommendations finished on 71000/206209 queries. users per second: 1894.75"
      ]
     },
     "metadata": {},
     "output_type": "display_data"
    },
    {
     "data": {
      "text/html": [
       "<pre>recommendations finished on 72000/206209 queries. users per second: 1894.9</pre>"
      ],
      "text/plain": [
       "recommendations finished on 72000/206209 queries. users per second: 1894.9"
      ]
     },
     "metadata": {},
     "output_type": "display_data"
    },
    {
     "data": {
      "text/html": [
       "<pre>recommendations finished on 73000/206209 queries. users per second: 1895.37</pre>"
      ],
      "text/plain": [
       "recommendations finished on 73000/206209 queries. users per second: 1895.37"
      ]
     },
     "metadata": {},
     "output_type": "display_data"
    },
    {
     "data": {
      "text/html": [
       "<pre>recommendations finished on 74000/206209 queries. users per second: 1895.25</pre>"
      ],
      "text/plain": [
       "recommendations finished on 74000/206209 queries. users per second: 1895.25"
      ]
     },
     "metadata": {},
     "output_type": "display_data"
    },
    {
     "data": {
      "text/html": [
       "<pre>recommendations finished on 75000/206209 queries. users per second: 1894.15</pre>"
      ],
      "text/plain": [
       "recommendations finished on 75000/206209 queries. users per second: 1894.15"
      ]
     },
     "metadata": {},
     "output_type": "display_data"
    },
    {
     "data": {
      "text/html": [
       "<pre>recommendations finished on 76000/206209 queries. users per second: 1894.68</pre>"
      ],
      "text/plain": [
       "recommendations finished on 76000/206209 queries. users per second: 1894.68"
      ]
     },
     "metadata": {},
     "output_type": "display_data"
    },
    {
     "data": {
      "text/html": [
       "<pre>recommendations finished on 77000/206209 queries. users per second: 1894.47</pre>"
      ],
      "text/plain": [
       "recommendations finished on 77000/206209 queries. users per second: 1894.47"
      ]
     },
     "metadata": {},
     "output_type": "display_data"
    },
    {
     "data": {
      "text/html": [
       "<pre>recommendations finished on 78000/206209 queries. users per second: 1895.1</pre>"
      ],
      "text/plain": [
       "recommendations finished on 78000/206209 queries. users per second: 1895.1"
      ]
     },
     "metadata": {},
     "output_type": "display_data"
    },
    {
     "data": {
      "text/html": [
       "<pre>recommendations finished on 79000/206209 queries. users per second: 1894.53</pre>"
      ],
      "text/plain": [
       "recommendations finished on 79000/206209 queries. users per second: 1894.53"
      ]
     },
     "metadata": {},
     "output_type": "display_data"
    },
    {
     "data": {
      "text/html": [
       "<pre>recommendations finished on 80000/206209 queries. users per second: 1893.81</pre>"
      ],
      "text/plain": [
       "recommendations finished on 80000/206209 queries. users per second: 1893.81"
      ]
     },
     "metadata": {},
     "output_type": "display_data"
    },
    {
     "data": {
      "text/html": [
       "<pre>recommendations finished on 81000/206209 queries. users per second: 1891.26</pre>"
      ],
      "text/plain": [
       "recommendations finished on 81000/206209 queries. users per second: 1891.26"
      ]
     },
     "metadata": {},
     "output_type": "display_data"
    },
    {
     "data": {
      "text/html": [
       "<pre>recommendations finished on 82000/206209 queries. users per second: 1891.07</pre>"
      ],
      "text/plain": [
       "recommendations finished on 82000/206209 queries. users per second: 1891.07"
      ]
     },
     "metadata": {},
     "output_type": "display_data"
    },
    {
     "data": {
      "text/html": [
       "<pre>recommendations finished on 83000/206209 queries. users per second: 1890.93</pre>"
      ],
      "text/plain": [
       "recommendations finished on 83000/206209 queries. users per second: 1890.93"
      ]
     },
     "metadata": {},
     "output_type": "display_data"
    },
    {
     "data": {
      "text/html": [
       "<pre>recommendations finished on 84000/206209 queries. users per second: 1893.23</pre>"
      ],
      "text/plain": [
       "recommendations finished on 84000/206209 queries. users per second: 1893.23"
      ]
     },
     "metadata": {},
     "output_type": "display_data"
    },
    {
     "data": {
      "text/html": [
       "<pre>recommendations finished on 85000/206209 queries. users per second: 1893.23</pre>"
      ],
      "text/plain": [
       "recommendations finished on 85000/206209 queries. users per second: 1893.23"
      ]
     },
     "metadata": {},
     "output_type": "display_data"
    },
    {
     "data": {
      "text/html": [
       "<pre>recommendations finished on 86000/206209 queries. users per second: 1894.03</pre>"
      ],
      "text/plain": [
       "recommendations finished on 86000/206209 queries. users per second: 1894.03"
      ]
     },
     "metadata": {},
     "output_type": "display_data"
    },
    {
     "data": {
      "text/html": [
       "<pre>recommendations finished on 87000/206209 queries. users per second: 1892.24</pre>"
      ],
      "text/plain": [
       "recommendations finished on 87000/206209 queries. users per second: 1892.24"
      ]
     },
     "metadata": {},
     "output_type": "display_data"
    },
    {
     "data": {
      "text/html": [
       "<pre>recommendations finished on 88000/206209 queries. users per second: 1888.47</pre>"
      ],
      "text/plain": [
       "recommendations finished on 88000/206209 queries. users per second: 1888.47"
      ]
     },
     "metadata": {},
     "output_type": "display_data"
    },
    {
     "data": {
      "text/html": [
       "<pre>recommendations finished on 89000/206209 queries. users per second: 1886.52</pre>"
      ],
      "text/plain": [
       "recommendations finished on 89000/206209 queries. users per second: 1886.52"
      ]
     },
     "metadata": {},
     "output_type": "display_data"
    },
    {
     "data": {
      "text/html": [
       "<pre>recommendations finished on 90000/206209 queries. users per second: 1882.18</pre>"
      ],
      "text/plain": [
       "recommendations finished on 90000/206209 queries. users per second: 1882.18"
      ]
     },
     "metadata": {},
     "output_type": "display_data"
    },
    {
     "data": {
      "text/html": [
       "<pre>recommendations finished on 91000/206209 queries. users per second: 1878.06</pre>"
      ],
      "text/plain": [
       "recommendations finished on 91000/206209 queries. users per second: 1878.06"
      ]
     },
     "metadata": {},
     "output_type": "display_data"
    },
    {
     "data": {
      "text/html": [
       "<pre>recommendations finished on 92000/206209 queries. users per second: 1873.95</pre>"
      ],
      "text/plain": [
       "recommendations finished on 92000/206209 queries. users per second: 1873.95"
      ]
     },
     "metadata": {},
     "output_type": "display_data"
    },
    {
     "data": {
      "text/html": [
       "<pre>recommendations finished on 93000/206209 queries. users per second: 1871.07</pre>"
      ],
      "text/plain": [
       "recommendations finished on 93000/206209 queries. users per second: 1871.07"
      ]
     },
     "metadata": {},
     "output_type": "display_data"
    },
    {
     "data": {
      "text/html": [
       "<pre>recommendations finished on 94000/206209 queries. users per second: 1868.58</pre>"
      ],
      "text/plain": [
       "recommendations finished on 94000/206209 queries. users per second: 1868.58"
      ]
     },
     "metadata": {},
     "output_type": "display_data"
    },
    {
     "data": {
      "text/html": [
       "<pre>recommendations finished on 95000/206209 queries. users per second: 1866.32</pre>"
      ],
      "text/plain": [
       "recommendations finished on 95000/206209 queries. users per second: 1866.32"
      ]
     },
     "metadata": {},
     "output_type": "display_data"
    },
    {
     "data": {
      "text/html": [
       "<pre>recommendations finished on 96000/206209 queries. users per second: 1859.55</pre>"
      ],
      "text/plain": [
       "recommendations finished on 96000/206209 queries. users per second: 1859.55"
      ]
     },
     "metadata": {},
     "output_type": "display_data"
    },
    {
     "data": {
      "text/html": [
       "<pre>recommendations finished on 97000/206209 queries. users per second: 1856.47</pre>"
      ],
      "text/plain": [
       "recommendations finished on 97000/206209 queries. users per second: 1856.47"
      ]
     },
     "metadata": {},
     "output_type": "display_data"
    },
    {
     "data": {
      "text/html": [
       "<pre>recommendations finished on 98000/206209 queries. users per second: 1852.91</pre>"
      ],
      "text/plain": [
       "recommendations finished on 98000/206209 queries. users per second: 1852.91"
      ]
     },
     "metadata": {},
     "output_type": "display_data"
    },
    {
     "data": {
      "text/html": [
       "<pre>recommendations finished on 99000/206209 queries. users per second: 1842.06</pre>"
      ],
      "text/plain": [
       "recommendations finished on 99000/206209 queries. users per second: 1842.06"
      ]
     },
     "metadata": {},
     "output_type": "display_data"
    },
    {
     "data": {
      "text/html": [
       "<pre>recommendations finished on 100000/206209 queries. users per second: 1834.58</pre>"
      ],
      "text/plain": [
       "recommendations finished on 100000/206209 queries. users per second: 1834.58"
      ]
     },
     "metadata": {},
     "output_type": "display_data"
    },
    {
     "data": {
      "text/html": [
       "<pre>recommendations finished on 101000/206209 queries. users per second: 1831.09</pre>"
      ],
      "text/plain": [
       "recommendations finished on 101000/206209 queries. users per second: 1831.09"
      ]
     },
     "metadata": {},
     "output_type": "display_data"
    },
    {
     "data": {
      "text/html": [
       "<pre>recommendations finished on 102000/206209 queries. users per second: 1826.39</pre>"
      ],
      "text/plain": [
       "recommendations finished on 102000/206209 queries. users per second: 1826.39"
      ]
     },
     "metadata": {},
     "output_type": "display_data"
    },
    {
     "data": {
      "text/html": [
       "<pre>recommendations finished on 103000/206209 queries. users per second: 1822.44</pre>"
      ],
      "text/plain": [
       "recommendations finished on 103000/206209 queries. users per second: 1822.44"
      ]
     },
     "metadata": {},
     "output_type": "display_data"
    },
    {
     "data": {
      "text/html": [
       "<pre>recommendations finished on 104000/206209 queries. users per second: 1820.94</pre>"
      ],
      "text/plain": [
       "recommendations finished on 104000/206209 queries. users per second: 1820.94"
      ]
     },
     "metadata": {},
     "output_type": "display_data"
    },
    {
     "data": {
      "text/html": [
       "<pre>recommendations finished on 105000/206209 queries. users per second: 1815.87</pre>"
      ],
      "text/plain": [
       "recommendations finished on 105000/206209 queries. users per second: 1815.87"
      ]
     },
     "metadata": {},
     "output_type": "display_data"
    },
    {
     "data": {
      "text/html": [
       "<pre>recommendations finished on 106000/206209 queries. users per second: 1814.84</pre>"
      ],
      "text/plain": [
       "recommendations finished on 106000/206209 queries. users per second: 1814.84"
      ]
     },
     "metadata": {},
     "output_type": "display_data"
    },
    {
     "data": {
      "text/html": [
       "<pre>recommendations finished on 107000/206209 queries. users per second: 1815.73</pre>"
      ],
      "text/plain": [
       "recommendations finished on 107000/206209 queries. users per second: 1815.73"
      ]
     },
     "metadata": {},
     "output_type": "display_data"
    },
    {
     "data": {
      "text/html": [
       "<pre>recommendations finished on 108000/206209 queries. users per second: 1815.5</pre>"
      ],
      "text/plain": [
       "recommendations finished on 108000/206209 queries. users per second: 1815.5"
      ]
     },
     "metadata": {},
     "output_type": "display_data"
    },
    {
     "data": {
      "text/html": [
       "<pre>recommendations finished on 109000/206209 queries. users per second: 1815.07</pre>"
      ],
      "text/plain": [
       "recommendations finished on 109000/206209 queries. users per second: 1815.07"
      ]
     },
     "metadata": {},
     "output_type": "display_data"
    },
    {
     "data": {
      "text/html": [
       "<pre>recommendations finished on 110000/206209 queries. users per second: 1817.06</pre>"
      ],
      "text/plain": [
       "recommendations finished on 110000/206209 queries. users per second: 1817.06"
      ]
     },
     "metadata": {},
     "output_type": "display_data"
    },
    {
     "data": {
      "text/html": [
       "<pre>recommendations finished on 111000/206209 queries. users per second: 1819.18</pre>"
      ],
      "text/plain": [
       "recommendations finished on 111000/206209 queries. users per second: 1819.18"
      ]
     },
     "metadata": {},
     "output_type": "display_data"
    },
    {
     "data": {
      "text/html": [
       "<pre>recommendations finished on 112000/206209 queries. users per second: 1822.41</pre>"
      ],
      "text/plain": [
       "recommendations finished on 112000/206209 queries. users per second: 1822.41"
      ]
     },
     "metadata": {},
     "output_type": "display_data"
    },
    {
     "data": {
      "text/html": [
       "<pre>recommendations finished on 113000/206209 queries. users per second: 1826.27</pre>"
      ],
      "text/plain": [
       "recommendations finished on 113000/206209 queries. users per second: 1826.27"
      ]
     },
     "metadata": {},
     "output_type": "display_data"
    },
    {
     "data": {
      "text/html": [
       "<pre>recommendations finished on 114000/206209 queries. users per second: 1830.02</pre>"
      ],
      "text/plain": [
       "recommendations finished on 114000/206209 queries. users per second: 1830.02"
      ]
     },
     "metadata": {},
     "output_type": "display_data"
    },
    {
     "data": {
      "text/html": [
       "<pre>recommendations finished on 115000/206209 queries. users per second: 1832.86</pre>"
      ],
      "text/plain": [
       "recommendations finished on 115000/206209 queries. users per second: 1832.86"
      ]
     },
     "metadata": {},
     "output_type": "display_data"
    },
    {
     "data": {
      "text/html": [
       "<pre>recommendations finished on 116000/206209 queries. users per second: 1833.22</pre>"
      ],
      "text/plain": [
       "recommendations finished on 116000/206209 queries. users per second: 1833.22"
      ]
     },
     "metadata": {},
     "output_type": "display_data"
    },
    {
     "data": {
      "text/html": [
       "<pre>recommendations finished on 117000/206209 queries. users per second: 1833.96</pre>"
      ],
      "text/plain": [
       "recommendations finished on 117000/206209 queries. users per second: 1833.96"
      ]
     },
     "metadata": {},
     "output_type": "display_data"
    },
    {
     "data": {
      "text/html": [
       "<pre>recommendations finished on 118000/206209 queries. users per second: 1835.39</pre>"
      ],
      "text/plain": [
       "recommendations finished on 118000/206209 queries. users per second: 1835.39"
      ]
     },
     "metadata": {},
     "output_type": "display_data"
    },
    {
     "data": {
      "text/html": [
       "<pre>recommendations finished on 119000/206209 queries. users per second: 1835.97</pre>"
      ],
      "text/plain": [
       "recommendations finished on 119000/206209 queries. users per second: 1835.97"
      ]
     },
     "metadata": {},
     "output_type": "display_data"
    },
    {
     "data": {
      "text/html": [
       "<pre>recommendations finished on 120000/206209 queries. users per second: 1836.49</pre>"
      ],
      "text/plain": [
       "recommendations finished on 120000/206209 queries. users per second: 1836.49"
      ]
     },
     "metadata": {},
     "output_type": "display_data"
    },
    {
     "data": {
      "text/html": [
       "<pre>recommendations finished on 121000/206209 queries. users per second: 1836.83</pre>"
      ],
      "text/plain": [
       "recommendations finished on 121000/206209 queries. users per second: 1836.83"
      ]
     },
     "metadata": {},
     "output_type": "display_data"
    },
    {
     "data": {
      "text/html": [
       "<pre>recommendations finished on 122000/206209 queries. users per second: 1837.13</pre>"
      ],
      "text/plain": [
       "recommendations finished on 122000/206209 queries. users per second: 1837.13"
      ]
     },
     "metadata": {},
     "output_type": "display_data"
    },
    {
     "data": {
      "text/html": [
       "<pre>recommendations finished on 123000/206209 queries. users per second: 1838.71</pre>"
      ],
      "text/plain": [
       "recommendations finished on 123000/206209 queries. users per second: 1838.71"
      ]
     },
     "metadata": {},
     "output_type": "display_data"
    },
    {
     "data": {
      "text/html": [
       "<pre>recommendations finished on 124000/206209 queries. users per second: 1839.42</pre>"
      ],
      "text/plain": [
       "recommendations finished on 124000/206209 queries. users per second: 1839.42"
      ]
     },
     "metadata": {},
     "output_type": "display_data"
    },
    {
     "data": {
      "text/html": [
       "<pre>recommendations finished on 125000/206209 queries. users per second: 1842.77</pre>"
      ],
      "text/plain": [
       "recommendations finished on 125000/206209 queries. users per second: 1842.77"
      ]
     },
     "metadata": {},
     "output_type": "display_data"
    },
    {
     "data": {
      "text/html": [
       "<pre>recommendations finished on 126000/206209 queries. users per second: 1846.06</pre>"
      ],
      "text/plain": [
       "recommendations finished on 126000/206209 queries. users per second: 1846.06"
      ]
     },
     "metadata": {},
     "output_type": "display_data"
    },
    {
     "data": {
      "text/html": [
       "<pre>recommendations finished on 127000/206209 queries. users per second: 1849.21</pre>"
      ],
      "text/plain": [
       "recommendations finished on 127000/206209 queries. users per second: 1849.21"
      ]
     },
     "metadata": {},
     "output_type": "display_data"
    },
    {
     "data": {
      "text/html": [
       "<pre>recommendations finished on 128000/206209 queries. users per second: 1852.5</pre>"
      ],
      "text/plain": [
       "recommendations finished on 128000/206209 queries. users per second: 1852.5"
      ]
     },
     "metadata": {},
     "output_type": "display_data"
    },
    {
     "data": {
      "text/html": [
       "<pre>recommendations finished on 129000/206209 queries. users per second: 1855.7</pre>"
      ],
      "text/plain": [
       "recommendations finished on 129000/206209 queries. users per second: 1855.7"
      ]
     },
     "metadata": {},
     "output_type": "display_data"
    },
    {
     "data": {
      "text/html": [
       "<pre>recommendations finished on 130000/206209 queries. users per second: 1858.86</pre>"
      ],
      "text/plain": [
       "recommendations finished on 130000/206209 queries. users per second: 1858.86"
      ]
     },
     "metadata": {},
     "output_type": "display_data"
    },
    {
     "data": {
      "text/html": [
       "<pre>recommendations finished on 131000/206209 queries. users per second: 1861.97</pre>"
      ],
      "text/plain": [
       "recommendations finished on 131000/206209 queries. users per second: 1861.97"
      ]
     },
     "metadata": {},
     "output_type": "display_data"
    },
    {
     "data": {
      "text/html": [
       "<pre>recommendations finished on 132000/206209 queries. users per second: 1865.02</pre>"
      ],
      "text/plain": [
       "recommendations finished on 132000/206209 queries. users per second: 1865.02"
      ]
     },
     "metadata": {},
     "output_type": "display_data"
    },
    {
     "data": {
      "text/html": [
       "<pre>recommendations finished on 133000/206209 queries. users per second: 1868.09</pre>"
      ],
      "text/plain": [
       "recommendations finished on 133000/206209 queries. users per second: 1868.09"
      ]
     },
     "metadata": {},
     "output_type": "display_data"
    },
    {
     "data": {
      "text/html": [
       "<pre>recommendations finished on 134000/206209 queries. users per second: 1871.11</pre>"
      ],
      "text/plain": [
       "recommendations finished on 134000/206209 queries. users per second: 1871.11"
      ]
     },
     "metadata": {},
     "output_type": "display_data"
    },
    {
     "data": {
      "text/html": [
       "<pre>recommendations finished on 135000/206209 queries. users per second: 1874.09</pre>"
      ],
      "text/plain": [
       "recommendations finished on 135000/206209 queries. users per second: 1874.09"
      ]
     },
     "metadata": {},
     "output_type": "display_data"
    },
    {
     "data": {
      "text/html": [
       "<pre>recommendations finished on 136000/206209 queries. users per second: 1877.09</pre>"
      ],
      "text/plain": [
       "recommendations finished on 136000/206209 queries. users per second: 1877.09"
      ]
     },
     "metadata": {},
     "output_type": "display_data"
    },
    {
     "data": {
      "text/html": [
       "<pre>recommendations finished on 137000/206209 queries. users per second: 1880</pre>"
      ],
      "text/plain": [
       "recommendations finished on 137000/206209 queries. users per second: 1880"
      ]
     },
     "metadata": {},
     "output_type": "display_data"
    },
    {
     "data": {
      "text/html": [
       "<pre>recommendations finished on 138000/206209 queries. users per second: 1882.95</pre>"
      ],
      "text/plain": [
       "recommendations finished on 138000/206209 queries. users per second: 1882.95"
      ]
     },
     "metadata": {},
     "output_type": "display_data"
    },
    {
     "data": {
      "text/html": [
       "<pre>recommendations finished on 139000/206209 queries. users per second: 1885.8</pre>"
      ],
      "text/plain": [
       "recommendations finished on 139000/206209 queries. users per second: 1885.8"
      ]
     },
     "metadata": {},
     "output_type": "display_data"
    },
    {
     "data": {
      "text/html": [
       "<pre>recommendations finished on 140000/206209 queries. users per second: 1888.63</pre>"
      ],
      "text/plain": [
       "recommendations finished on 140000/206209 queries. users per second: 1888.63"
      ]
     },
     "metadata": {},
     "output_type": "display_data"
    },
    {
     "data": {
      "text/html": [
       "<pre>recommendations finished on 141000/206209 queries. users per second: 1891.45</pre>"
      ],
      "text/plain": [
       "recommendations finished on 141000/206209 queries. users per second: 1891.45"
      ]
     },
     "metadata": {},
     "output_type": "display_data"
    },
    {
     "data": {
      "text/html": [
       "<pre>recommendations finished on 142000/206209 queries. users per second: 1894.19</pre>"
      ],
      "text/plain": [
       "recommendations finished on 142000/206209 queries. users per second: 1894.19"
      ]
     },
     "metadata": {},
     "output_type": "display_data"
    },
    {
     "data": {
      "text/html": [
       "<pre>recommendations finished on 143000/206209 queries. users per second: 1896.93</pre>"
      ],
      "text/plain": [
       "recommendations finished on 143000/206209 queries. users per second: 1896.93"
      ]
     },
     "metadata": {},
     "output_type": "display_data"
    },
    {
     "data": {
      "text/html": [
       "<pre>recommendations finished on 144000/206209 queries. users per second: 1899.63</pre>"
      ],
      "text/plain": [
       "recommendations finished on 144000/206209 queries. users per second: 1899.63"
      ]
     },
     "metadata": {},
     "output_type": "display_data"
    },
    {
     "data": {
      "text/html": [
       "<pre>recommendations finished on 145000/206209 queries. users per second: 1902.29</pre>"
      ],
      "text/plain": [
       "recommendations finished on 145000/206209 queries. users per second: 1902.29"
      ]
     },
     "metadata": {},
     "output_type": "display_data"
    },
    {
     "data": {
      "text/html": [
       "<pre>recommendations finished on 146000/206209 queries. users per second: 1904.91</pre>"
      ],
      "text/plain": [
       "recommendations finished on 146000/206209 queries. users per second: 1904.91"
      ]
     },
     "metadata": {},
     "output_type": "display_data"
    },
    {
     "data": {
      "text/html": [
       "<pre>recommendations finished on 147000/206209 queries. users per second: 1907.44</pre>"
      ],
      "text/plain": [
       "recommendations finished on 147000/206209 queries. users per second: 1907.44"
      ]
     },
     "metadata": {},
     "output_type": "display_data"
    },
    {
     "data": {
      "text/html": [
       "<pre>recommendations finished on 148000/206209 queries. users per second: 1909.93</pre>"
      ],
      "text/plain": [
       "recommendations finished on 148000/206209 queries. users per second: 1909.93"
      ]
     },
     "metadata": {},
     "output_type": "display_data"
    },
    {
     "data": {
      "text/html": [
       "<pre>recommendations finished on 149000/206209 queries. users per second: 1912.49</pre>"
      ],
      "text/plain": [
       "recommendations finished on 149000/206209 queries. users per second: 1912.49"
      ]
     },
     "metadata": {},
     "output_type": "display_data"
    },
    {
     "data": {
      "text/html": [
       "<pre>recommendations finished on 150000/206209 queries. users per second: 1915.01</pre>"
      ],
      "text/plain": [
       "recommendations finished on 150000/206209 queries. users per second: 1915.01"
      ]
     },
     "metadata": {},
     "output_type": "display_data"
    },
    {
     "data": {
      "text/html": [
       "<pre>recommendations finished on 151000/206209 queries. users per second: 1917.48</pre>"
      ],
      "text/plain": [
       "recommendations finished on 151000/206209 queries. users per second: 1917.48"
      ]
     },
     "metadata": {},
     "output_type": "display_data"
    },
    {
     "data": {
      "text/html": [
       "<pre>recommendations finished on 152000/206209 queries. users per second: 1919.93</pre>"
      ],
      "text/plain": [
       "recommendations finished on 152000/206209 queries. users per second: 1919.93"
      ]
     },
     "metadata": {},
     "output_type": "display_data"
    },
    {
     "data": {
      "text/html": [
       "<pre>recommendations finished on 153000/206209 queries. users per second: 1922.36</pre>"
      ],
      "text/plain": [
       "recommendations finished on 153000/206209 queries. users per second: 1922.36"
      ]
     },
     "metadata": {},
     "output_type": "display_data"
    },
    {
     "data": {
      "text/html": [
       "<pre>recommendations finished on 154000/206209 queries. users per second: 1924.77</pre>"
      ],
      "text/plain": [
       "recommendations finished on 154000/206209 queries. users per second: 1924.77"
      ]
     },
     "metadata": {},
     "output_type": "display_data"
    },
    {
     "data": {
      "text/html": [
       "<pre>recommendations finished on 155000/206209 queries. users per second: 1927.15</pre>"
      ],
      "text/plain": [
       "recommendations finished on 155000/206209 queries. users per second: 1927.15"
      ]
     },
     "metadata": {},
     "output_type": "display_data"
    },
    {
     "data": {
      "text/html": [
       "<pre>recommendations finished on 156000/206209 queries. users per second: 1929.56</pre>"
      ],
      "text/plain": [
       "recommendations finished on 156000/206209 queries. users per second: 1929.56"
      ]
     },
     "metadata": {},
     "output_type": "display_data"
    },
    {
     "data": {
      "text/html": [
       "<pre>recommendations finished on 157000/206209 queries. users per second: 1931.91</pre>"
      ],
      "text/plain": [
       "recommendations finished on 157000/206209 queries. users per second: 1931.91"
      ]
     },
     "metadata": {},
     "output_type": "display_data"
    },
    {
     "data": {
      "text/html": [
       "<pre>recommendations finished on 158000/206209 queries. users per second: 1934.25</pre>"
      ],
      "text/plain": [
       "recommendations finished on 158000/206209 queries. users per second: 1934.25"
      ]
     },
     "metadata": {},
     "output_type": "display_data"
    },
    {
     "data": {
      "text/html": [
       "<pre>recommendations finished on 159000/206209 queries. users per second: 1936.58</pre>"
      ],
      "text/plain": [
       "recommendations finished on 159000/206209 queries. users per second: 1936.58"
      ]
     },
     "metadata": {},
     "output_type": "display_data"
    },
    {
     "data": {
      "text/html": [
       "<pre>recommendations finished on 160000/206209 queries. users per second: 1938.82</pre>"
      ],
      "text/plain": [
       "recommendations finished on 160000/206209 queries. users per second: 1938.82"
      ]
     },
     "metadata": {},
     "output_type": "display_data"
    },
    {
     "data": {
      "text/html": [
       "<pre>recommendations finished on 161000/206209 queries. users per second: 1941.08</pre>"
      ],
      "text/plain": [
       "recommendations finished on 161000/206209 queries. users per second: 1941.08"
      ]
     },
     "metadata": {},
     "output_type": "display_data"
    },
    {
     "data": {
      "text/html": [
       "<pre>recommendations finished on 162000/206209 queries. users per second: 1943.32</pre>"
      ],
      "text/plain": [
       "recommendations finished on 162000/206209 queries. users per second: 1943.32"
      ]
     },
     "metadata": {},
     "output_type": "display_data"
    },
    {
     "data": {
      "text/html": [
       "<pre>recommendations finished on 163000/206209 queries. users per second: 1945.55</pre>"
      ],
      "text/plain": [
       "recommendations finished on 163000/206209 queries. users per second: 1945.55"
      ]
     },
     "metadata": {},
     "output_type": "display_data"
    },
    {
     "data": {
      "text/html": [
       "<pre>recommendations finished on 164000/206209 queries. users per second: 1947.72</pre>"
      ],
      "text/plain": [
       "recommendations finished on 164000/206209 queries. users per second: 1947.72"
      ]
     },
     "metadata": {},
     "output_type": "display_data"
    },
    {
     "data": {
      "text/html": [
       "<pre>recommendations finished on 165000/206209 queries. users per second: 1949.86</pre>"
      ],
      "text/plain": [
       "recommendations finished on 165000/206209 queries. users per second: 1949.86"
      ]
     },
     "metadata": {},
     "output_type": "display_data"
    },
    {
     "data": {
      "text/html": [
       "<pre>recommendations finished on 166000/206209 queries. users per second: 1952.01</pre>"
      ],
      "text/plain": [
       "recommendations finished on 166000/206209 queries. users per second: 1952.01"
      ]
     },
     "metadata": {},
     "output_type": "display_data"
    },
    {
     "data": {
      "text/html": [
       "<pre>recommendations finished on 167000/206209 queries. users per second: 1954.11</pre>"
      ],
      "text/plain": [
       "recommendations finished on 167000/206209 queries. users per second: 1954.11"
      ]
     },
     "metadata": {},
     "output_type": "display_data"
    },
    {
     "data": {
      "text/html": [
       "<pre>recommendations finished on 168000/206209 queries. users per second: 1956.21</pre>"
      ],
      "text/plain": [
       "recommendations finished on 168000/206209 queries. users per second: 1956.21"
      ]
     },
     "metadata": {},
     "output_type": "display_data"
    },
    {
     "data": {
      "text/html": [
       "<pre>recommendations finished on 169000/206209 queries. users per second: 1958.27</pre>"
      ],
      "text/plain": [
       "recommendations finished on 169000/206209 queries. users per second: 1958.27"
      ]
     },
     "metadata": {},
     "output_type": "display_data"
    },
    {
     "data": {
      "text/html": [
       "<pre>recommendations finished on 170000/206209 queries. users per second: 1960.33</pre>"
      ],
      "text/plain": [
       "recommendations finished on 170000/206209 queries. users per second: 1960.33"
      ]
     },
     "metadata": {},
     "output_type": "display_data"
    },
    {
     "data": {
      "text/html": [
       "<pre>recommendations finished on 171000/206209 queries. users per second: 1962.38</pre>"
      ],
      "text/plain": [
       "recommendations finished on 171000/206209 queries. users per second: 1962.38"
      ]
     },
     "metadata": {},
     "output_type": "display_data"
    },
    {
     "data": {
      "text/html": [
       "<pre>recommendations finished on 172000/206209 queries. users per second: 1964.27</pre>"
      ],
      "text/plain": [
       "recommendations finished on 172000/206209 queries. users per second: 1964.27"
      ]
     },
     "metadata": {},
     "output_type": "display_data"
    },
    {
     "data": {
      "text/html": [
       "<pre>recommendations finished on 173000/206209 queries. users per second: 1966.27</pre>"
      ],
      "text/plain": [
       "recommendations finished on 173000/206209 queries. users per second: 1966.27"
      ]
     },
     "metadata": {},
     "output_type": "display_data"
    },
    {
     "data": {
      "text/html": [
       "<pre>recommendations finished on 174000/206209 queries. users per second: 1967.93</pre>"
      ],
      "text/plain": [
       "recommendations finished on 174000/206209 queries. users per second: 1967.93"
      ]
     },
     "metadata": {},
     "output_type": "display_data"
    },
    {
     "data": {
      "text/html": [
       "<pre>recommendations finished on 175000/206209 queries. users per second: 1969.86</pre>"
      ],
      "text/plain": [
       "recommendations finished on 175000/206209 queries. users per second: 1969.86"
      ]
     },
     "metadata": {},
     "output_type": "display_data"
    },
    {
     "data": {
      "text/html": [
       "<pre>recommendations finished on 176000/206209 queries. users per second: 1971.81</pre>"
      ],
      "text/plain": [
       "recommendations finished on 176000/206209 queries. users per second: 1971.81"
      ]
     },
     "metadata": {},
     "output_type": "display_data"
    },
    {
     "data": {
      "text/html": [
       "<pre>recommendations finished on 177000/206209 queries. users per second: 1973.73</pre>"
      ],
      "text/plain": [
       "recommendations finished on 177000/206209 queries. users per second: 1973.73"
      ]
     },
     "metadata": {},
     "output_type": "display_data"
    },
    {
     "data": {
      "text/html": [
       "<pre>recommendations finished on 178000/206209 queries. users per second: 1975.62</pre>"
      ],
      "text/plain": [
       "recommendations finished on 178000/206209 queries. users per second: 1975.62"
      ]
     },
     "metadata": {},
     "output_type": "display_data"
    },
    {
     "data": {
      "text/html": [
       "<pre>recommendations finished on 179000/206209 queries. users per second: 1977.57</pre>"
      ],
      "text/plain": [
       "recommendations finished on 179000/206209 queries. users per second: 1977.57"
      ]
     },
     "metadata": {},
     "output_type": "display_data"
    },
    {
     "data": {
      "text/html": [
       "<pre>recommendations finished on 180000/206209 queries. users per second: 1979.45</pre>"
      ],
      "text/plain": [
       "recommendations finished on 180000/206209 queries. users per second: 1979.45"
      ]
     },
     "metadata": {},
     "output_type": "display_data"
    },
    {
     "data": {
      "text/html": [
       "<pre>recommendations finished on 181000/206209 queries. users per second: 1981.3</pre>"
      ],
      "text/plain": [
       "recommendations finished on 181000/206209 queries. users per second: 1981.3"
      ]
     },
     "metadata": {},
     "output_type": "display_data"
    },
    {
     "data": {
      "text/html": [
       "<pre>recommendations finished on 182000/206209 queries. users per second: 1983.11</pre>"
      ],
      "text/plain": [
       "recommendations finished on 182000/206209 queries. users per second: 1983.11"
      ]
     },
     "metadata": {},
     "output_type": "display_data"
    },
    {
     "data": {
      "text/html": [
       "<pre>recommendations finished on 183000/206209 queries. users per second: 1984.98</pre>"
      ],
      "text/plain": [
       "recommendations finished on 183000/206209 queries. users per second: 1984.98"
      ]
     },
     "metadata": {},
     "output_type": "display_data"
    },
    {
     "data": {
      "text/html": [
       "<pre>recommendations finished on 184000/206209 queries. users per second: 1986.8</pre>"
      ],
      "text/plain": [
       "recommendations finished on 184000/206209 queries. users per second: 1986.8"
      ]
     },
     "metadata": {},
     "output_type": "display_data"
    },
    {
     "data": {
      "text/html": [
       "<pre>recommendations finished on 185000/206209 queries. users per second: 1988.59</pre>"
      ],
      "text/plain": [
       "recommendations finished on 185000/206209 queries. users per second: 1988.59"
      ]
     },
     "metadata": {},
     "output_type": "display_data"
    },
    {
     "data": {
      "text/html": [
       "<pre>recommendations finished on 186000/206209 queries. users per second: 1990.36</pre>"
      ],
      "text/plain": [
       "recommendations finished on 186000/206209 queries. users per second: 1990.36"
      ]
     },
     "metadata": {},
     "output_type": "display_data"
    },
    {
     "data": {
      "text/html": [
       "<pre>recommendations finished on 187000/206209 queries. users per second: 1992.08</pre>"
      ],
      "text/plain": [
       "recommendations finished on 187000/206209 queries. users per second: 1992.08"
      ]
     },
     "metadata": {},
     "output_type": "display_data"
    },
    {
     "data": {
      "text/html": [
       "<pre>recommendations finished on 188000/206209 queries. users per second: 1993.75</pre>"
      ],
      "text/plain": [
       "recommendations finished on 188000/206209 queries. users per second: 1993.75"
      ]
     },
     "metadata": {},
     "output_type": "display_data"
    },
    {
     "data": {
      "text/html": [
       "<pre>recommendations finished on 189000/206209 queries. users per second: 1995.41</pre>"
      ],
      "text/plain": [
       "recommendations finished on 189000/206209 queries. users per second: 1995.41"
      ]
     },
     "metadata": {},
     "output_type": "display_data"
    },
    {
     "data": {
      "text/html": [
       "<pre>recommendations finished on 190000/206209 queries. users per second: 1997.15</pre>"
      ],
      "text/plain": [
       "recommendations finished on 190000/206209 queries. users per second: 1997.15"
      ]
     },
     "metadata": {},
     "output_type": "display_data"
    },
    {
     "data": {
      "text/html": [
       "<pre>recommendations finished on 191000/206209 queries. users per second: 1998.86</pre>"
      ],
      "text/plain": [
       "recommendations finished on 191000/206209 queries. users per second: 1998.86"
      ]
     },
     "metadata": {},
     "output_type": "display_data"
    },
    {
     "data": {
      "text/html": [
       "<pre>recommendations finished on 192000/206209 queries. users per second: 2000.57</pre>"
      ],
      "text/plain": [
       "recommendations finished on 192000/206209 queries. users per second: 2000.57"
      ]
     },
     "metadata": {},
     "output_type": "display_data"
    },
    {
     "data": {
      "text/html": [
       "<pre>recommendations finished on 193000/206209 queries. users per second: 2002.22</pre>"
      ],
      "text/plain": [
       "recommendations finished on 193000/206209 queries. users per second: 2002.22"
      ]
     },
     "metadata": {},
     "output_type": "display_data"
    },
    {
     "data": {
      "text/html": [
       "<pre>recommendations finished on 194000/206209 queries. users per second: 2003.83</pre>"
      ],
      "text/plain": [
       "recommendations finished on 194000/206209 queries. users per second: 2003.83"
      ]
     },
     "metadata": {},
     "output_type": "display_data"
    },
    {
     "data": {
      "text/html": [
       "<pre>recommendations finished on 195000/206209 queries. users per second: 2005.46</pre>"
      ],
      "text/plain": [
       "recommendations finished on 195000/206209 queries. users per second: 2005.46"
      ]
     },
     "metadata": {},
     "output_type": "display_data"
    },
    {
     "data": {
      "text/html": [
       "<pre>recommendations finished on 196000/206209 queries. users per second: 2007.11</pre>"
      ],
      "text/plain": [
       "recommendations finished on 196000/206209 queries. users per second: 2007.11"
      ]
     },
     "metadata": {},
     "output_type": "display_data"
    },
    {
     "data": {
      "text/html": [
       "<pre>recommendations finished on 197000/206209 queries. users per second: 2008.71</pre>"
      ],
      "text/plain": [
       "recommendations finished on 197000/206209 queries. users per second: 2008.71"
      ]
     },
     "metadata": {},
     "output_type": "display_data"
    },
    {
     "data": {
      "text/html": [
       "<pre>recommendations finished on 198000/206209 queries. users per second: 2010.31</pre>"
      ],
      "text/plain": [
       "recommendations finished on 198000/206209 queries. users per second: 2010.31"
      ]
     },
     "metadata": {},
     "output_type": "display_data"
    },
    {
     "data": {
      "text/html": [
       "<pre>recommendations finished on 199000/206209 queries. users per second: 2011.9</pre>"
      ],
      "text/plain": [
       "recommendations finished on 199000/206209 queries. users per second: 2011.9"
      ]
     },
     "metadata": {},
     "output_type": "display_data"
    },
    {
     "data": {
      "text/html": [
       "<pre>recommendations finished on 200000/206209 queries. users per second: 2013.51</pre>"
      ],
      "text/plain": [
       "recommendations finished on 200000/206209 queries. users per second: 2013.51"
      ]
     },
     "metadata": {},
     "output_type": "display_data"
    },
    {
     "data": {
      "text/html": [
       "<pre>recommendations finished on 201000/206209 queries. users per second: 2015.07</pre>"
      ],
      "text/plain": [
       "recommendations finished on 201000/206209 queries. users per second: 2015.07"
      ]
     },
     "metadata": {},
     "output_type": "display_data"
    },
    {
     "data": {
      "text/html": [
       "<pre>recommendations finished on 202000/206209 queries. users per second: 2016.65</pre>"
      ],
      "text/plain": [
       "recommendations finished on 202000/206209 queries. users per second: 2016.65"
      ]
     },
     "metadata": {},
     "output_type": "display_data"
    },
    {
     "data": {
      "text/html": [
       "<pre>recommendations finished on 203000/206209 queries. users per second: 2017.68</pre>"
      ],
      "text/plain": [
       "recommendations finished on 203000/206209 queries. users per second: 2017.68"
      ]
     },
     "metadata": {},
     "output_type": "display_data"
    },
    {
     "data": {
      "text/html": [
       "<pre>recommendations finished on 204000/206209 queries. users per second: 2017.9</pre>"
      ],
      "text/plain": [
       "recommendations finished on 204000/206209 queries. users per second: 2017.9"
      ]
     },
     "metadata": {},
     "output_type": "display_data"
    },
    {
     "data": {
      "text/html": [
       "<pre>recommendations finished on 205000/206209 queries. users per second: 2014.5</pre>"
      ],
      "text/plain": [
       "recommendations finished on 205000/206209 queries. users per second: 2014.5"
      ]
     },
     "metadata": {},
     "output_type": "display_data"
    },
    {
     "data": {
      "text/html": [
       "<pre>recommendations finished on 206000/206209 queries. users per second: 2002.04</pre>"
      ],
      "text/plain": [
       "recommendations finished on 206000/206209 queries. users per second: 2002.04"
      ]
     },
     "metadata": {},
     "output_type": "display_data"
    },
    {
     "name": "stdout",
     "output_type": "stream",
     "text": [
      "+---------+------------+--------------------+------+\n",
      "| user_id | product_id |       score        | rank |\n",
      "+---------+------------+--------------------+------+\n",
      "|    1    |    6433    |        17.0        |  1   |\n",
      "|    1    |    2075    |        14.5        |  2   |\n",
      "|    1    |   43553    |        13.0        |  3   |\n",
      "|    1    |   27740    | 12.625000000000004 |  4   |\n",
      "|    1    |   14609    | 11.666666666666668 |  5   |\n",
      "|    1    |   13875    |       11.25        |  6   |\n",
      "|    1    |   39992    |        11.0        |  7   |\n",
      "|    1    |    5868    |        10.0        |  8   |\n",
      "|    1    |   35604    |        10.0        |  9   |\n",
      "|    1    |   31418    |        10.0        |  10  |\n",
      "|    2    |    6433    |        17.0        |  1   |\n",
      "|    2    |    2075    |        14.5        |  2   |\n",
      "|    2    |   43553    |        13.0        |  3   |\n",
      "|    2    |   27740    | 12.625000000000004 |  4   |\n",
      "|    2    |   14609    | 11.666666666666668 |  5   |\n",
      "|    2    |   13875    |       11.25        |  6   |\n",
      "|    2    |   39992    |        11.0        |  7   |\n",
      "|    2    |    5868    |        10.0        |  8   |\n",
      "|    2    |   35604    |        10.0        |  9   |\n",
      "|    2    |   31418    |        10.0        |  10  |\n",
      "|    3    |    6433    |        17.0        |  1   |\n",
      "|    3    |    2075    |        14.5        |  2   |\n",
      "|    3    |   43553    |        13.0        |  3   |\n",
      "|    3    |   27740    | 12.625000000000004 |  4   |\n",
      "|    3    |   14609    | 11.666666666666668 |  5   |\n",
      "|    3    |   13875    |       11.25        |  6   |\n",
      "|    3    |   39992    |        11.0        |  7   |\n",
      "|    3    |    5868    |        10.0        |  8   |\n",
      "|    3    |   35604    |        10.0        |  9   |\n",
      "|    3    |   31418    |        10.0        |  10  |\n",
      "+---------+------------+--------------------+------+\n",
      "[2062090 rows x 4 columns]\n",
      "\n"
     ]
    }
   ],
   "source": [
    "name = 'pearson'\n",
    "target = 'quantity'\n",
    "pear = model(train_data, name, user_id, product_id, target, users_to_recommend, n_rec, n_display)"
   ]
  },
  {
   "cell_type": "code",
   "execution_count": 71,
   "metadata": {},
   "outputs": [
    {
     "data": {
      "text/html": [
       "<pre>Preparing data set.</pre>"
      ],
      "text/plain": [
       "Preparing data set."
      ]
     },
     "metadata": {},
     "output_type": "display_data"
    },
    {
     "data": {
      "text/html": [
       "<pre>    Data has 13307953 observations with 206209 users and 49677 items.</pre>"
      ],
      "text/plain": [
       "    Data has 13307953 observations with 206209 users and 49677 items."
      ]
     },
     "metadata": {},
     "output_type": "display_data"
    },
    {
     "data": {
      "text/html": [
       "<pre>    Data prepared in: 10.1153s</pre>"
      ],
      "text/plain": [
       "    Data prepared in: 10.1153s"
      ]
     },
     "metadata": {},
     "output_type": "display_data"
    },
    {
     "data": {
      "text/html": [
       "<pre>Training model from provided data.</pre>"
      ],
      "text/plain": [
       "Training model from provided data."
      ]
     },
     "metadata": {},
     "output_type": "display_data"
    },
    {
     "data": {
      "text/html": [
       "<pre>Gathering per-item and per-user statistics.</pre>"
      ],
      "text/plain": [
       "Gathering per-item and per-user statistics."
      ]
     },
     "metadata": {},
     "output_type": "display_data"
    },
    {
     "data": {
      "text/html": [
       "<pre>+--------------------------------+------------+</pre>"
      ],
      "text/plain": [
       "+--------------------------------+------------+"
      ]
     },
     "metadata": {},
     "output_type": "display_data"
    },
    {
     "data": {
      "text/html": [
       "<pre>| Elapsed Time (Item Statistics) | % Complete |</pre>"
      ],
      "text/plain": [
       "| Elapsed Time (Item Statistics) | % Complete |"
      ]
     },
     "metadata": {},
     "output_type": "display_data"
    },
    {
     "data": {
      "text/html": [
       "<pre>+--------------------------------+------------+</pre>"
      ],
      "text/plain": [
       "+--------------------------------+------------+"
      ]
     },
     "metadata": {},
     "output_type": "display_data"
    },
    {
     "data": {
      "text/html": [
       "<pre>| 10.229ms                       | 0.25       |</pre>"
      ],
      "text/plain": [
       "| 10.229ms                       | 0.25       |"
      ]
     },
     "metadata": {},
     "output_type": "display_data"
    },
    {
     "data": {
      "text/html": [
       "<pre>| 774.598ms                      | 100        |</pre>"
      ],
      "text/plain": [
       "| 774.598ms                      | 100        |"
      ]
     },
     "metadata": {},
     "output_type": "display_data"
    },
    {
     "data": {
      "text/html": [
       "<pre>+--------------------------------+------------+</pre>"
      ],
      "text/plain": [
       "+--------------------------------+------------+"
      ]
     },
     "metadata": {},
     "output_type": "display_data"
    },
    {
     "data": {
      "text/html": [
       "<pre>Setting up lookup tables.</pre>"
      ],
      "text/plain": [
       "Setting up lookup tables."
      ]
     },
     "metadata": {},
     "output_type": "display_data"
    },
    {
     "data": {
      "text/html": [
       "<pre>Processing data in 2 passes using dense lookup tables.</pre>"
      ],
      "text/plain": [
       "Processing data in 2 passes using dense lookup tables."
      ]
     },
     "metadata": {},
     "output_type": "display_data"
    },
    {
     "data": {
      "text/html": [
       "<pre>+-------------------------------------+------------------+-----------------+</pre>"
      ],
      "text/plain": [
       "+-------------------------------------+------------------+-----------------+"
      ]
     },
     "metadata": {},
     "output_type": "display_data"
    },
    {
     "data": {
      "text/html": [
       "<pre>| Elapsed Time (Constructing Lookups) | Total % Complete | Items Processed |</pre>"
      ],
      "text/plain": [
       "| Elapsed Time (Constructing Lookups) | Total % Complete | Items Processed |"
      ]
     },
     "metadata": {},
     "output_type": "display_data"
    },
    {
     "data": {
      "text/html": [
       "<pre>+-------------------------------------+------------------+-----------------+</pre>"
      ],
      "text/plain": [
       "+-------------------------------------+------------------+-----------------+"
      ]
     },
     "metadata": {},
     "output_type": "display_data"
    },
    {
     "data": {
      "text/html": [
       "<pre>| 3.03s                               | 0                | 0               |</pre>"
      ],
      "text/plain": [
       "| 3.03s                               | 0                | 0               |"
      ]
     },
     "metadata": {},
     "output_type": "display_data"
    },
    {
     "data": {
      "text/html": [
       "<pre>| 6.04s                               | 2.5              | 1323            |</pre>"
      ],
      "text/plain": [
       "| 6.04s                               | 2.5              | 1323            |"
      ]
     },
     "metadata": {},
     "output_type": "display_data"
    },
    {
     "data": {
      "text/html": [
       "<pre>| 9.04s                               | 5.25             | 2637            |</pre>"
      ],
      "text/plain": [
       "| 9.04s                               | 5.25             | 2637            |"
      ]
     },
     "metadata": {},
     "output_type": "display_data"
    },
    {
     "data": {
      "text/html": [
       "<pre>| 12.03s                              | 7.25             | 3714            |</pre>"
      ],
      "text/plain": [
       "| 12.03s                              | 7.25             | 3714            |"
      ]
     },
     "metadata": {},
     "output_type": "display_data"
    },
    {
     "data": {
      "text/html": [
       "<pre>| 15.04s                              | 9.25             | 4604            |</pre>"
      ],
      "text/plain": [
       "| 15.04s                              | 9.25             | 4604            |"
      ]
     },
     "metadata": {},
     "output_type": "display_data"
    },
    {
     "data": {
      "text/html": [
       "<pre>| 18.04s                              | 10.75            | 5362            |</pre>"
      ],
      "text/plain": [
       "| 18.04s                              | 10.75            | 5362            |"
      ]
     },
     "metadata": {},
     "output_type": "display_data"
    },
    {
     "data": {
      "text/html": [
       "<pre>| 21.04s                              | 12.25            | 6118            |</pre>"
      ],
      "text/plain": [
       "| 21.04s                              | 12.25            | 6118            |"
      ]
     },
     "metadata": {},
     "output_type": "display_data"
    },
    {
     "data": {
      "text/html": [
       "<pre>| 24.04s                              | 14               | 7047            |</pre>"
      ],
      "text/plain": [
       "| 24.04s                              | 14               | 7047            |"
      ]
     },
     "metadata": {},
     "output_type": "display_data"
    },
    {
     "data": {
      "text/html": [
       "<pre>| 27.04s                              | 16.25            | 8134            |</pre>"
      ],
      "text/plain": [
       "| 27.04s                              | 16.25            | 8134            |"
      ]
     },
     "metadata": {},
     "output_type": "display_data"
    },
    {
     "data": {
      "text/html": [
       "<pre>| 30.04s                              | 18.5             | 9199            |</pre>"
      ],
      "text/plain": [
       "| 30.04s                              | 18.5             | 9199            |"
      ]
     },
     "metadata": {},
     "output_type": "display_data"
    },
    {
     "data": {
      "text/html": [
       "<pre>| 33.04s                              | 20.5             | 10260           |</pre>"
      ],
      "text/plain": [
       "| 33.04s                              | 20.5             | 10260           |"
      ]
     },
     "metadata": {},
     "output_type": "display_data"
    },
    {
     "data": {
      "text/html": [
       "<pre>| 36.04s                              | 23.25            | 11584           |</pre>"
      ],
      "text/plain": [
       "| 36.04s                              | 23.25            | 11584           |"
      ]
     },
     "metadata": {},
     "output_type": "display_data"
    },
    {
     "data": {
      "text/html": [
       "<pre>| 39.04s                              | 26.5             | 13181           |</pre>"
      ],
      "text/plain": [
       "| 39.04s                              | 26.5             | 13181           |"
      ]
     },
     "metadata": {},
     "output_type": "display_data"
    },
    {
     "data": {
      "text/html": [
       "<pre>| 42.04s                              | 29.5             | 14656           |</pre>"
      ],
      "text/plain": [
       "| 42.04s                              | 29.5             | 14656           |"
      ]
     },
     "metadata": {},
     "output_type": "display_data"
    },
    {
     "data": {
      "text/html": [
       "<pre>| 45.04s                              | 32.5             | 16188           |</pre>"
      ],
      "text/plain": [
       "| 45.04s                              | 32.5             | 16188           |"
      ]
     },
     "metadata": {},
     "output_type": "display_data"
    },
    {
     "data": {
      "text/html": [
       "<pre>| 48.04s                              | 35.5             | 17687           |</pre>"
      ],
      "text/plain": [
       "| 48.04s                              | 35.5             | 17687           |"
      ]
     },
     "metadata": {},
     "output_type": "display_data"
    },
    {
     "data": {
      "text/html": [
       "<pre>| 51.05s                              | 37.75            | 18755           |</pre>"
      ],
      "text/plain": [
       "| 51.05s                              | 37.75            | 18755           |"
      ]
     },
     "metadata": {},
     "output_type": "display_data"
    },
    {
     "data": {
      "text/html": [
       "<pre>| 54.04s                              | 39.75            | 19755           |</pre>"
      ],
      "text/plain": [
       "| 54.04s                              | 39.75            | 19755           |"
      ]
     },
     "metadata": {},
     "output_type": "display_data"
    },
    {
     "data": {
      "text/html": [
       "<pre>| 57.04s                              | 42               | 20866           |</pre>"
      ],
      "text/plain": [
       "| 57.04s                              | 42               | 20866           |"
      ]
     },
     "metadata": {},
     "output_type": "display_data"
    },
    {
     "data": {
      "text/html": [
       "<pre>| 1m 0s                               | 44.25            | 22074           |</pre>"
      ],
      "text/plain": [
       "| 1m 0s                               | 44.25            | 22074           |"
      ]
     },
     "metadata": {},
     "output_type": "display_data"
    },
    {
     "data": {
      "text/html": [
       "<pre>| 1m 3s                               | 46.75            | 23309           |</pre>"
      ],
      "text/plain": [
       "| 1m 3s                               | 46.75            | 23309           |"
      ]
     },
     "metadata": {},
     "output_type": "display_data"
    },
    {
     "data": {
      "text/html": [
       "<pre>| 1m 6s                               | 49.5             | 24625           |</pre>"
      ],
      "text/plain": [
       "| 1m 6s                               | 49.5             | 24625           |"
      ]
     },
     "metadata": {},
     "output_type": "display_data"
    },
    {
     "data": {
      "text/html": [
       "<pre>| 1m 20s                              | 49.75            | 24836           |</pre>"
      ],
      "text/plain": [
       "| 1m 20s                              | 49.75            | 24836           |"
      ]
     },
     "metadata": {},
     "output_type": "display_data"
    },
    {
     "data": {
      "text/html": [
       "<pre>| 1m 21s                              | 100              | 49677           |</pre>"
      ],
      "text/plain": [
       "| 1m 21s                              | 100              | 49677           |"
      ]
     },
     "metadata": {},
     "output_type": "display_data"
    },
    {
     "data": {
      "text/html": [
       "<pre>+-------------------------------------+------------------+-----------------+</pre>"
      ],
      "text/plain": [
       "+-------------------------------------+------------------+-----------------+"
      ]
     },
     "metadata": {},
     "output_type": "display_data"
    },
    {
     "data": {
      "text/html": [
       "<pre>Finalizing lookup tables.</pre>"
      ],
      "text/plain": [
       "Finalizing lookup tables."
      ]
     },
     "metadata": {},
     "output_type": "display_data"
    },
    {
     "data": {
      "text/html": [
       "<pre>Generating candidate set for working with new users.</pre>"
      ],
      "text/plain": [
       "Generating candidate set for working with new users."
      ]
     },
     "metadata": {},
     "output_type": "display_data"
    },
    {
     "data": {
      "text/html": [
       "<pre>Finished training in 82.7964s</pre>"
      ],
      "text/plain": [
       "Finished training in 82.7964s"
      ]
     },
     "metadata": {},
     "output_type": "display_data"
    },
    {
     "data": {
      "text/html": [
       "<pre>recommendations finished on 1000/206209 queries. users per second: 2013.52</pre>"
      ],
      "text/plain": [
       "recommendations finished on 1000/206209 queries. users per second: 2013.52"
      ]
     },
     "metadata": {},
     "output_type": "display_data"
    },
    {
     "data": {
      "text/html": [
       "<pre>recommendations finished on 2000/206209 queries. users per second: 2016.29</pre>"
      ],
      "text/plain": [
       "recommendations finished on 2000/206209 queries. users per second: 2016.29"
      ]
     },
     "metadata": {},
     "output_type": "display_data"
    },
    {
     "data": {
      "text/html": [
       "<pre>recommendations finished on 3000/206209 queries. users per second: 1975.59</pre>"
      ],
      "text/plain": [
       "recommendations finished on 3000/206209 queries. users per second: 1975.59"
      ]
     },
     "metadata": {},
     "output_type": "display_data"
    },
    {
     "data": {
      "text/html": [
       "<pre>recommendations finished on 4000/206209 queries. users per second: 1986.61</pre>"
      ],
      "text/plain": [
       "recommendations finished on 4000/206209 queries. users per second: 1986.61"
      ]
     },
     "metadata": {},
     "output_type": "display_data"
    },
    {
     "data": {
      "text/html": [
       "<pre>recommendations finished on 5000/206209 queries. users per second: 1975.22</pre>"
      ],
      "text/plain": [
       "recommendations finished on 5000/206209 queries. users per second: 1975.22"
      ]
     },
     "metadata": {},
     "output_type": "display_data"
    },
    {
     "data": {
      "text/html": [
       "<pre>recommendations finished on 6000/206209 queries. users per second: 1971.69</pre>"
      ],
      "text/plain": [
       "recommendations finished on 6000/206209 queries. users per second: 1971.69"
      ]
     },
     "metadata": {},
     "output_type": "display_data"
    },
    {
     "data": {
      "text/html": [
       "<pre>recommendations finished on 7000/206209 queries. users per second: 1954.04</pre>"
      ],
      "text/plain": [
       "recommendations finished on 7000/206209 queries. users per second: 1954.04"
      ]
     },
     "metadata": {},
     "output_type": "display_data"
    },
    {
     "data": {
      "text/html": [
       "<pre>recommendations finished on 8000/206209 queries. users per second: 1956.97</pre>"
      ],
      "text/plain": [
       "recommendations finished on 8000/206209 queries. users per second: 1956.97"
      ]
     },
     "metadata": {},
     "output_type": "display_data"
    },
    {
     "data": {
      "text/html": [
       "<pre>recommendations finished on 9000/206209 queries. users per second: 1953.5</pre>"
      ],
      "text/plain": [
       "recommendations finished on 9000/206209 queries. users per second: 1953.5"
      ]
     },
     "metadata": {},
     "output_type": "display_data"
    },
    {
     "data": {
      "text/html": [
       "<pre>recommendations finished on 10000/206209 queries. users per second: 1947.06</pre>"
      ],
      "text/plain": [
       "recommendations finished on 10000/206209 queries. users per second: 1947.06"
      ]
     },
     "metadata": {},
     "output_type": "display_data"
    },
    {
     "data": {
      "text/html": [
       "<pre>recommendations finished on 11000/206209 queries. users per second: 1955.14</pre>"
      ],
      "text/plain": [
       "recommendations finished on 11000/206209 queries. users per second: 1955.14"
      ]
     },
     "metadata": {},
     "output_type": "display_data"
    },
    {
     "data": {
      "text/html": [
       "<pre>recommendations finished on 12000/206209 queries. users per second: 1967.7</pre>"
      ],
      "text/plain": [
       "recommendations finished on 12000/206209 queries. users per second: 1967.7"
      ]
     },
     "metadata": {},
     "output_type": "display_data"
    },
    {
     "data": {
      "text/html": [
       "<pre>recommendations finished on 13000/206209 queries. users per second: 1978.01</pre>"
      ],
      "text/plain": [
       "recommendations finished on 13000/206209 queries. users per second: 1978.01"
      ]
     },
     "metadata": {},
     "output_type": "display_data"
    },
    {
     "data": {
      "text/html": [
       "<pre>recommendations finished on 14000/206209 queries. users per second: 1973.4</pre>"
      ],
      "text/plain": [
       "recommendations finished on 14000/206209 queries. users per second: 1973.4"
      ]
     },
     "metadata": {},
     "output_type": "display_data"
    },
    {
     "data": {
      "text/html": [
       "<pre>recommendations finished on 15000/206209 queries. users per second: 1970.78</pre>"
      ],
      "text/plain": [
       "recommendations finished on 15000/206209 queries. users per second: 1970.78"
      ]
     },
     "metadata": {},
     "output_type": "display_data"
    },
    {
     "data": {
      "text/html": [
       "<pre>recommendations finished on 16000/206209 queries. users per second: 1970.57</pre>"
      ],
      "text/plain": [
       "recommendations finished on 16000/206209 queries. users per second: 1970.57"
      ]
     },
     "metadata": {},
     "output_type": "display_data"
    },
    {
     "data": {
      "text/html": [
       "<pre>recommendations finished on 17000/206209 queries. users per second: 1967.57</pre>"
      ],
      "text/plain": [
       "recommendations finished on 17000/206209 queries. users per second: 1967.57"
      ]
     },
     "metadata": {},
     "output_type": "display_data"
    },
    {
     "data": {
      "text/html": [
       "<pre>recommendations finished on 18000/206209 queries. users per second: 1967.73</pre>"
      ],
      "text/plain": [
       "recommendations finished on 18000/206209 queries. users per second: 1967.73"
      ]
     },
     "metadata": {},
     "output_type": "display_data"
    },
    {
     "data": {
      "text/html": [
       "<pre>recommendations finished on 19000/206209 queries. users per second: 1967.37</pre>"
      ],
      "text/plain": [
       "recommendations finished on 19000/206209 queries. users per second: 1967.37"
      ]
     },
     "metadata": {},
     "output_type": "display_data"
    },
    {
     "data": {
      "text/html": [
       "<pre>recommendations finished on 20000/206209 queries. users per second: 1965.32</pre>"
      ],
      "text/plain": [
       "recommendations finished on 20000/206209 queries. users per second: 1965.32"
      ]
     },
     "metadata": {},
     "output_type": "display_data"
    },
    {
     "data": {
      "text/html": [
       "<pre>recommendations finished on 21000/206209 queries. users per second: 1963.05</pre>"
      ],
      "text/plain": [
       "recommendations finished on 21000/206209 queries. users per second: 1963.05"
      ]
     },
     "metadata": {},
     "output_type": "display_data"
    },
    {
     "data": {
      "text/html": [
       "<pre>recommendations finished on 22000/206209 queries. users per second: 1959.07</pre>"
      ],
      "text/plain": [
       "recommendations finished on 22000/206209 queries. users per second: 1959.07"
      ]
     },
     "metadata": {},
     "output_type": "display_data"
    },
    {
     "data": {
      "text/html": [
       "<pre>recommendations finished on 23000/206209 queries. users per second: 1958.62</pre>"
      ],
      "text/plain": [
       "recommendations finished on 23000/206209 queries. users per second: 1958.62"
      ]
     },
     "metadata": {},
     "output_type": "display_data"
    },
    {
     "data": {
      "text/html": [
       "<pre>recommendations finished on 24000/206209 queries. users per second: 1956.58</pre>"
      ],
      "text/plain": [
       "recommendations finished on 24000/206209 queries. users per second: 1956.58"
      ]
     },
     "metadata": {},
     "output_type": "display_data"
    },
    {
     "data": {
      "text/html": [
       "<pre>recommendations finished on 25000/206209 queries. users per second: 1955.28</pre>"
      ],
      "text/plain": [
       "recommendations finished on 25000/206209 queries. users per second: 1955.28"
      ]
     },
     "metadata": {},
     "output_type": "display_data"
    },
    {
     "data": {
      "text/html": [
       "<pre>recommendations finished on 26000/206209 queries. users per second: 1953.8</pre>"
      ],
      "text/plain": [
       "recommendations finished on 26000/206209 queries. users per second: 1953.8"
      ]
     },
     "metadata": {},
     "output_type": "display_data"
    },
    {
     "data": {
      "text/html": [
       "<pre>recommendations finished on 27000/206209 queries. users per second: 1953.8</pre>"
      ],
      "text/plain": [
       "recommendations finished on 27000/206209 queries. users per second: 1953.8"
      ]
     },
     "metadata": {},
     "output_type": "display_data"
    },
    {
     "data": {
      "text/html": [
       "<pre>recommendations finished on 28000/206209 queries. users per second: 1954.58</pre>"
      ],
      "text/plain": [
       "recommendations finished on 28000/206209 queries. users per second: 1954.58"
      ]
     },
     "metadata": {},
     "output_type": "display_data"
    },
    {
     "data": {
      "text/html": [
       "<pre>recommendations finished on 29000/206209 queries. users per second: 1953.99</pre>"
      ],
      "text/plain": [
       "recommendations finished on 29000/206209 queries. users per second: 1953.99"
      ]
     },
     "metadata": {},
     "output_type": "display_data"
    },
    {
     "data": {
      "text/html": [
       "<pre>recommendations finished on 30000/206209 queries. users per second: 1951.49</pre>"
      ],
      "text/plain": [
       "recommendations finished on 30000/206209 queries. users per second: 1951.49"
      ]
     },
     "metadata": {},
     "output_type": "display_data"
    },
    {
     "data": {
      "text/html": [
       "<pre>recommendations finished on 31000/206209 queries. users per second: 1952.81</pre>"
      ],
      "text/plain": [
       "recommendations finished on 31000/206209 queries. users per second: 1952.81"
      ]
     },
     "metadata": {},
     "output_type": "display_data"
    },
    {
     "data": {
      "text/html": [
       "<pre>recommendations finished on 32000/206209 queries. users per second: 1950.41</pre>"
      ],
      "text/plain": [
       "recommendations finished on 32000/206209 queries. users per second: 1950.41"
      ]
     },
     "metadata": {},
     "output_type": "display_data"
    },
    {
     "data": {
      "text/html": [
       "<pre>recommendations finished on 33000/206209 queries. users per second: 1946</pre>"
      ],
      "text/plain": [
       "recommendations finished on 33000/206209 queries. users per second: 1946"
      ]
     },
     "metadata": {},
     "output_type": "display_data"
    },
    {
     "data": {
      "text/html": [
       "<pre>recommendations finished on 34000/206209 queries. users per second: 1944.99</pre>"
      ],
      "text/plain": [
       "recommendations finished on 34000/206209 queries. users per second: 1944.99"
      ]
     },
     "metadata": {},
     "output_type": "display_data"
    },
    {
     "data": {
      "text/html": [
       "<pre>recommendations finished on 35000/206209 queries. users per second: 1941.25</pre>"
      ],
      "text/plain": [
       "recommendations finished on 35000/206209 queries. users per second: 1941.25"
      ]
     },
     "metadata": {},
     "output_type": "display_data"
    },
    {
     "data": {
      "text/html": [
       "<pre>recommendations finished on 36000/206209 queries. users per second: 1937.57</pre>"
      ],
      "text/plain": [
       "recommendations finished on 36000/206209 queries. users per second: 1937.57"
      ]
     },
     "metadata": {},
     "output_type": "display_data"
    },
    {
     "data": {
      "text/html": [
       "<pre>recommendations finished on 37000/206209 queries. users per second: 1938.92</pre>"
      ],
      "text/plain": [
       "recommendations finished on 37000/206209 queries. users per second: 1938.92"
      ]
     },
     "metadata": {},
     "output_type": "display_data"
    },
    {
     "data": {
      "text/html": [
       "<pre>recommendations finished on 38000/206209 queries. users per second: 1939.18</pre>"
      ],
      "text/plain": [
       "recommendations finished on 38000/206209 queries. users per second: 1939.18"
      ]
     },
     "metadata": {},
     "output_type": "display_data"
    },
    {
     "data": {
      "text/html": [
       "<pre>recommendations finished on 39000/206209 queries. users per second: 1937.76</pre>"
      ],
      "text/plain": [
       "recommendations finished on 39000/206209 queries. users per second: 1937.76"
      ]
     },
     "metadata": {},
     "output_type": "display_data"
    },
    {
     "data": {
      "text/html": [
       "<pre>recommendations finished on 40000/206209 queries. users per second: 1938.28</pre>"
      ],
      "text/plain": [
       "recommendations finished on 40000/206209 queries. users per second: 1938.28"
      ]
     },
     "metadata": {},
     "output_type": "display_data"
    },
    {
     "data": {
      "text/html": [
       "<pre>recommendations finished on 41000/206209 queries. users per second: 1941.74</pre>"
      ],
      "text/plain": [
       "recommendations finished on 41000/206209 queries. users per second: 1941.74"
      ]
     },
     "metadata": {},
     "output_type": "display_data"
    },
    {
     "data": {
      "text/html": [
       "<pre>recommendations finished on 42000/206209 queries. users per second: 1940.55</pre>"
      ],
      "text/plain": [
       "recommendations finished on 42000/206209 queries. users per second: 1940.55"
      ]
     },
     "metadata": {},
     "output_type": "display_data"
    },
    {
     "data": {
      "text/html": [
       "<pre>recommendations finished on 43000/206209 queries. users per second: 1938.03</pre>"
      ],
      "text/plain": [
       "recommendations finished on 43000/206209 queries. users per second: 1938.03"
      ]
     },
     "metadata": {},
     "output_type": "display_data"
    },
    {
     "data": {
      "text/html": [
       "<pre>recommendations finished on 44000/206209 queries. users per second: 1930.76</pre>"
      ],
      "text/plain": [
       "recommendations finished on 44000/206209 queries. users per second: 1930.76"
      ]
     },
     "metadata": {},
     "output_type": "display_data"
    },
    {
     "data": {
      "text/html": [
       "<pre>recommendations finished on 45000/206209 queries. users per second: 1918.48</pre>"
      ],
      "text/plain": [
       "recommendations finished on 45000/206209 queries. users per second: 1918.48"
      ]
     },
     "metadata": {},
     "output_type": "display_data"
    },
    {
     "data": {
      "text/html": [
       "<pre>recommendations finished on 46000/206209 queries. users per second: 1910.73</pre>"
      ],
      "text/plain": [
       "recommendations finished on 46000/206209 queries. users per second: 1910.73"
      ]
     },
     "metadata": {},
     "output_type": "display_data"
    },
    {
     "data": {
      "text/html": [
       "<pre>recommendations finished on 47000/206209 queries. users per second: 1906.53</pre>"
      ],
      "text/plain": [
       "recommendations finished on 47000/206209 queries. users per second: 1906.53"
      ]
     },
     "metadata": {},
     "output_type": "display_data"
    },
    {
     "data": {
      "text/html": [
       "<pre>recommendations finished on 48000/206209 queries. users per second: 1900.87</pre>"
      ],
      "text/plain": [
       "recommendations finished on 48000/206209 queries. users per second: 1900.87"
      ]
     },
     "metadata": {},
     "output_type": "display_data"
    },
    {
     "data": {
      "text/html": [
       "<pre>recommendations finished on 49000/206209 queries. users per second: 1892.81</pre>"
      ],
      "text/plain": [
       "recommendations finished on 49000/206209 queries. users per second: 1892.81"
      ]
     },
     "metadata": {},
     "output_type": "display_data"
    },
    {
     "data": {
      "text/html": [
       "<pre>recommendations finished on 50000/206209 queries. users per second: 1884.46</pre>"
      ],
      "text/plain": [
       "recommendations finished on 50000/206209 queries. users per second: 1884.46"
      ]
     },
     "metadata": {},
     "output_type": "display_data"
    },
    {
     "data": {
      "text/html": [
       "<pre>recommendations finished on 51000/206209 queries. users per second: 1879.95</pre>"
      ],
      "text/plain": [
       "recommendations finished on 51000/206209 queries. users per second: 1879.95"
      ]
     },
     "metadata": {},
     "output_type": "display_data"
    },
    {
     "data": {
      "text/html": [
       "<pre>recommendations finished on 52000/206209 queries. users per second: 1878.91</pre>"
      ],
      "text/plain": [
       "recommendations finished on 52000/206209 queries. users per second: 1878.91"
      ]
     },
     "metadata": {},
     "output_type": "display_data"
    },
    {
     "data": {
      "text/html": [
       "<pre>recommendations finished on 53000/206209 queries. users per second: 1882.38</pre>"
      ],
      "text/plain": [
       "recommendations finished on 53000/206209 queries. users per second: 1882.38"
      ]
     },
     "metadata": {},
     "output_type": "display_data"
    },
    {
     "data": {
      "text/html": [
       "<pre>recommendations finished on 54000/206209 queries. users per second: 1881.55</pre>"
      ],
      "text/plain": [
       "recommendations finished on 54000/206209 queries. users per second: 1881.55"
      ]
     },
     "metadata": {},
     "output_type": "display_data"
    },
    {
     "data": {
      "text/html": [
       "<pre>recommendations finished on 55000/206209 queries. users per second: 1882.09</pre>"
      ],
      "text/plain": [
       "recommendations finished on 55000/206209 queries. users per second: 1882.09"
      ]
     },
     "metadata": {},
     "output_type": "display_data"
    },
    {
     "data": {
      "text/html": [
       "<pre>recommendations finished on 56000/206209 queries. users per second: 1881.11</pre>"
      ],
      "text/plain": [
       "recommendations finished on 56000/206209 queries. users per second: 1881.11"
      ]
     },
     "metadata": {},
     "output_type": "display_data"
    },
    {
     "data": {
      "text/html": [
       "<pre>recommendations finished on 57000/206209 queries. users per second: 1882.04</pre>"
      ],
      "text/plain": [
       "recommendations finished on 57000/206209 queries. users per second: 1882.04"
      ]
     },
     "metadata": {},
     "output_type": "display_data"
    },
    {
     "data": {
      "text/html": [
       "<pre>recommendations finished on 58000/206209 queries. users per second: 1882.05</pre>"
      ],
      "text/plain": [
       "recommendations finished on 58000/206209 queries. users per second: 1882.05"
      ]
     },
     "metadata": {},
     "output_type": "display_data"
    },
    {
     "data": {
      "text/html": [
       "<pre>recommendations finished on 59000/206209 queries. users per second: 1881.07</pre>"
      ],
      "text/plain": [
       "recommendations finished on 59000/206209 queries. users per second: 1881.07"
      ]
     },
     "metadata": {},
     "output_type": "display_data"
    },
    {
     "data": {
      "text/html": [
       "<pre>recommendations finished on 60000/206209 queries. users per second: 1884.04</pre>"
      ],
      "text/plain": [
       "recommendations finished on 60000/206209 queries. users per second: 1884.04"
      ]
     },
     "metadata": {},
     "output_type": "display_data"
    },
    {
     "data": {
      "text/html": [
       "<pre>recommendations finished on 61000/206209 queries. users per second: 1886.73</pre>"
      ],
      "text/plain": [
       "recommendations finished on 61000/206209 queries. users per second: 1886.73"
      ]
     },
     "metadata": {},
     "output_type": "display_data"
    },
    {
     "data": {
      "text/html": [
       "<pre>recommendations finished on 62000/206209 queries. users per second: 1886.8</pre>"
      ],
      "text/plain": [
       "recommendations finished on 62000/206209 queries. users per second: 1886.8"
      ]
     },
     "metadata": {},
     "output_type": "display_data"
    },
    {
     "data": {
      "text/html": [
       "<pre>recommendations finished on 63000/206209 queries. users per second: 1889.35</pre>"
      ],
      "text/plain": [
       "recommendations finished on 63000/206209 queries. users per second: 1889.35"
      ]
     },
     "metadata": {},
     "output_type": "display_data"
    },
    {
     "data": {
      "text/html": [
       "<pre>recommendations finished on 64000/206209 queries. users per second: 1888.06</pre>"
      ],
      "text/plain": [
       "recommendations finished on 64000/206209 queries. users per second: 1888.06"
      ]
     },
     "metadata": {},
     "output_type": "display_data"
    },
    {
     "data": {
      "text/html": [
       "<pre>recommendations finished on 65000/206209 queries. users per second: 1889.24</pre>"
      ],
      "text/plain": [
       "recommendations finished on 65000/206209 queries. users per second: 1889.24"
      ]
     },
     "metadata": {},
     "output_type": "display_data"
    },
    {
     "data": {
      "text/html": [
       "<pre>recommendations finished on 66000/206209 queries. users per second: 1888.81</pre>"
      ],
      "text/plain": [
       "recommendations finished on 66000/206209 queries. users per second: 1888.81"
      ]
     },
     "metadata": {},
     "output_type": "display_data"
    },
    {
     "data": {
      "text/html": [
       "<pre>recommendations finished on 67000/206209 queries. users per second: 1888.81</pre>"
      ],
      "text/plain": [
       "recommendations finished on 67000/206209 queries. users per second: 1888.81"
      ]
     },
     "metadata": {},
     "output_type": "display_data"
    },
    {
     "data": {
      "text/html": [
       "<pre>recommendations finished on 68000/206209 queries. users per second: 1890.11</pre>"
      ],
      "text/plain": [
       "recommendations finished on 68000/206209 queries. users per second: 1890.11"
      ]
     },
     "metadata": {},
     "output_type": "display_data"
    },
    {
     "data": {
      "text/html": [
       "<pre>recommendations finished on 69000/206209 queries. users per second: 1888.77</pre>"
      ],
      "text/plain": [
       "recommendations finished on 69000/206209 queries. users per second: 1888.77"
      ]
     },
     "metadata": {},
     "output_type": "display_data"
    },
    {
     "data": {
      "text/html": [
       "<pre>recommendations finished on 70000/206209 queries. users per second: 1889.08</pre>"
      ],
      "text/plain": [
       "recommendations finished on 70000/206209 queries. users per second: 1889.08"
      ]
     },
     "metadata": {},
     "output_type": "display_data"
    },
    {
     "data": {
      "text/html": [
       "<pre>recommendations finished on 71000/206209 queries. users per second: 1891.68</pre>"
      ],
      "text/plain": [
       "recommendations finished on 71000/206209 queries. users per second: 1891.68"
      ]
     },
     "metadata": {},
     "output_type": "display_data"
    },
    {
     "data": {
      "text/html": [
       "<pre>recommendations finished on 72000/206209 queries. users per second: 1893.56</pre>"
      ],
      "text/plain": [
       "recommendations finished on 72000/206209 queries. users per second: 1893.56"
      ]
     },
     "metadata": {},
     "output_type": "display_data"
    },
    {
     "data": {
      "text/html": [
       "<pre>recommendations finished on 73000/206209 queries. users per second: 1893.2</pre>"
      ],
      "text/plain": [
       "recommendations finished on 73000/206209 queries. users per second: 1893.2"
      ]
     },
     "metadata": {},
     "output_type": "display_data"
    },
    {
     "data": {
      "text/html": [
       "<pre>recommendations finished on 74000/206209 queries. users per second: 1892.57</pre>"
      ],
      "text/plain": [
       "recommendations finished on 74000/206209 queries. users per second: 1892.57"
      ]
     },
     "metadata": {},
     "output_type": "display_data"
    },
    {
     "data": {
      "text/html": [
       "<pre>recommendations finished on 75000/206209 queries. users per second: 1892.75</pre>"
      ],
      "text/plain": [
       "recommendations finished on 75000/206209 queries. users per second: 1892.75"
      ]
     },
     "metadata": {},
     "output_type": "display_data"
    },
    {
     "data": {
      "text/html": [
       "<pre>recommendations finished on 76000/206209 queries. users per second: 1891.71</pre>"
      ],
      "text/plain": [
       "recommendations finished on 76000/206209 queries. users per second: 1891.71"
      ]
     },
     "metadata": {},
     "output_type": "display_data"
    },
    {
     "data": {
      "text/html": [
       "<pre>recommendations finished on 77000/206209 queries. users per second: 1893.68</pre>"
      ],
      "text/plain": [
       "recommendations finished on 77000/206209 queries. users per second: 1893.68"
      ]
     },
     "metadata": {},
     "output_type": "display_data"
    },
    {
     "data": {
      "text/html": [
       "<pre>recommendations finished on 78000/206209 queries. users per second: 1893.87</pre>"
      ],
      "text/plain": [
       "recommendations finished on 78000/206209 queries. users per second: 1893.87"
      ]
     },
     "metadata": {},
     "output_type": "display_data"
    },
    {
     "data": {
      "text/html": [
       "<pre>recommendations finished on 79000/206209 queries. users per second: 1893.79</pre>"
      ],
      "text/plain": [
       "recommendations finished on 79000/206209 queries. users per second: 1893.79"
      ]
     },
     "metadata": {},
     "output_type": "display_data"
    },
    {
     "data": {
      "text/html": [
       "<pre>recommendations finished on 80000/206209 queries. users per second: 1894.03</pre>"
      ],
      "text/plain": [
       "recommendations finished on 80000/206209 queries. users per second: 1894.03"
      ]
     },
     "metadata": {},
     "output_type": "display_data"
    },
    {
     "data": {
      "text/html": [
       "<pre>recommendations finished on 81000/206209 queries. users per second: 1894.33</pre>"
      ],
      "text/plain": [
       "recommendations finished on 81000/206209 queries. users per second: 1894.33"
      ]
     },
     "metadata": {},
     "output_type": "display_data"
    },
    {
     "data": {
      "text/html": [
       "<pre>recommendations finished on 82000/206209 queries. users per second: 1895.38</pre>"
      ],
      "text/plain": [
       "recommendations finished on 82000/206209 queries. users per second: 1895.38"
      ]
     },
     "metadata": {},
     "output_type": "display_data"
    },
    {
     "data": {
      "text/html": [
       "<pre>recommendations finished on 83000/206209 queries. users per second: 1894.7</pre>"
      ],
      "text/plain": [
       "recommendations finished on 83000/206209 queries. users per second: 1894.7"
      ]
     },
     "metadata": {},
     "output_type": "display_data"
    },
    {
     "data": {
      "text/html": [
       "<pre>recommendations finished on 84000/206209 queries. users per second: 1895.25</pre>"
      ],
      "text/plain": [
       "recommendations finished on 84000/206209 queries. users per second: 1895.25"
      ]
     },
     "metadata": {},
     "output_type": "display_data"
    },
    {
     "data": {
      "text/html": [
       "<pre>recommendations finished on 85000/206209 queries. users per second: 1897.02</pre>"
      ],
      "text/plain": [
       "recommendations finished on 85000/206209 queries. users per second: 1897.02"
      ]
     },
     "metadata": {},
     "output_type": "display_data"
    },
    {
     "data": {
      "text/html": [
       "<pre>recommendations finished on 86000/206209 queries. users per second: 1897.4</pre>"
      ],
      "text/plain": [
       "recommendations finished on 86000/206209 queries. users per second: 1897.4"
      ]
     },
     "metadata": {},
     "output_type": "display_data"
    },
    {
     "data": {
      "text/html": [
       "<pre>recommendations finished on 87000/206209 queries. users per second: 1897.41</pre>"
      ],
      "text/plain": [
       "recommendations finished on 87000/206209 queries. users per second: 1897.41"
      ]
     },
     "metadata": {},
     "output_type": "display_data"
    },
    {
     "data": {
      "text/html": [
       "<pre>recommendations finished on 88000/206209 queries. users per second: 1897.9</pre>"
      ],
      "text/plain": [
       "recommendations finished on 88000/206209 queries. users per second: 1897.9"
      ]
     },
     "metadata": {},
     "output_type": "display_data"
    },
    {
     "data": {
      "text/html": [
       "<pre>recommendations finished on 89000/206209 queries. users per second: 1898.93</pre>"
      ],
      "text/plain": [
       "recommendations finished on 89000/206209 queries. users per second: 1898.93"
      ]
     },
     "metadata": {},
     "output_type": "display_data"
    },
    {
     "data": {
      "text/html": [
       "<pre>recommendations finished on 90000/206209 queries. users per second: 1899.86</pre>"
      ],
      "text/plain": [
       "recommendations finished on 90000/206209 queries. users per second: 1899.86"
      ]
     },
     "metadata": {},
     "output_type": "display_data"
    },
    {
     "data": {
      "text/html": [
       "<pre>recommendations finished on 91000/206209 queries. users per second: 1900.55</pre>"
      ],
      "text/plain": [
       "recommendations finished on 91000/206209 queries. users per second: 1900.55"
      ]
     },
     "metadata": {},
     "output_type": "display_data"
    },
    {
     "data": {
      "text/html": [
       "<pre>recommendations finished on 92000/206209 queries. users per second: 1902.5</pre>"
      ],
      "text/plain": [
       "recommendations finished on 92000/206209 queries. users per second: 1902.5"
      ]
     },
     "metadata": {},
     "output_type": "display_data"
    },
    {
     "data": {
      "text/html": [
       "<pre>recommendations finished on 93000/206209 queries. users per second: 1904.56</pre>"
      ],
      "text/plain": [
       "recommendations finished on 93000/206209 queries. users per second: 1904.56"
      ]
     },
     "metadata": {},
     "output_type": "display_data"
    },
    {
     "data": {
      "text/html": [
       "<pre>recommendations finished on 94000/206209 queries. users per second: 1906.42</pre>"
      ],
      "text/plain": [
       "recommendations finished on 94000/206209 queries. users per second: 1906.42"
      ]
     },
     "metadata": {},
     "output_type": "display_data"
    },
    {
     "data": {
      "text/html": [
       "<pre>recommendations finished on 95000/206209 queries. users per second: 1905.92</pre>"
      ],
      "text/plain": [
       "recommendations finished on 95000/206209 queries. users per second: 1905.92"
      ]
     },
     "metadata": {},
     "output_type": "display_data"
    },
    {
     "data": {
      "text/html": [
       "<pre>recommendations finished on 96000/206209 queries. users per second: 1907.23</pre>"
      ],
      "text/plain": [
       "recommendations finished on 96000/206209 queries. users per second: 1907.23"
      ]
     },
     "metadata": {},
     "output_type": "display_data"
    },
    {
     "data": {
      "text/html": [
       "<pre>recommendations finished on 97000/206209 queries. users per second: 1907.43</pre>"
      ],
      "text/plain": [
       "recommendations finished on 97000/206209 queries. users per second: 1907.43"
      ]
     },
     "metadata": {},
     "output_type": "display_data"
    },
    {
     "data": {
      "text/html": [
       "<pre>recommendations finished on 98000/206209 queries. users per second: 1906.65</pre>"
      ],
      "text/plain": [
       "recommendations finished on 98000/206209 queries. users per second: 1906.65"
      ]
     },
     "metadata": {},
     "output_type": "display_data"
    },
    {
     "data": {
      "text/html": [
       "<pre>recommendations finished on 99000/206209 queries. users per second: 1906.3</pre>"
      ],
      "text/plain": [
       "recommendations finished on 99000/206209 queries. users per second: 1906.3"
      ]
     },
     "metadata": {},
     "output_type": "display_data"
    },
    {
     "data": {
      "text/html": [
       "<pre>recommendations finished on 100000/206209 queries. users per second: 1907.14</pre>"
      ],
      "text/plain": [
       "recommendations finished on 100000/206209 queries. users per second: 1907.14"
      ]
     },
     "metadata": {},
     "output_type": "display_data"
    },
    {
     "data": {
      "text/html": [
       "<pre>recommendations finished on 101000/206209 queries. users per second: 1907.68</pre>"
      ],
      "text/plain": [
       "recommendations finished on 101000/206209 queries. users per second: 1907.68"
      ]
     },
     "metadata": {},
     "output_type": "display_data"
    },
    {
     "data": {
      "text/html": [
       "<pre>recommendations finished on 102000/206209 queries. users per second: 1907.44</pre>"
      ],
      "text/plain": [
       "recommendations finished on 102000/206209 queries. users per second: 1907.44"
      ]
     },
     "metadata": {},
     "output_type": "display_data"
    },
    {
     "data": {
      "text/html": [
       "<pre>recommendations finished on 103000/206209 queries. users per second: 1906.71</pre>"
      ],
      "text/plain": [
       "recommendations finished on 103000/206209 queries. users per second: 1906.71"
      ]
     },
     "metadata": {},
     "output_type": "display_data"
    },
    {
     "data": {
      "text/html": [
       "<pre>recommendations finished on 104000/206209 queries. users per second: 1906.98</pre>"
      ],
      "text/plain": [
       "recommendations finished on 104000/206209 queries. users per second: 1906.98"
      ]
     },
     "metadata": {},
     "output_type": "display_data"
    },
    {
     "data": {
      "text/html": [
       "<pre>recommendations finished on 105000/206209 queries. users per second: 1906.99</pre>"
      ],
      "text/plain": [
       "recommendations finished on 105000/206209 queries. users per second: 1906.99"
      ]
     },
     "metadata": {},
     "output_type": "display_data"
    },
    {
     "data": {
      "text/html": [
       "<pre>recommendations finished on 106000/206209 queries. users per second: 1903.09</pre>"
      ],
      "text/plain": [
       "recommendations finished on 106000/206209 queries. users per second: 1903.09"
      ]
     },
     "metadata": {},
     "output_type": "display_data"
    },
    {
     "data": {
      "text/html": [
       "<pre>recommendations finished on 107000/206209 queries. users per second: 1899.19</pre>"
      ],
      "text/plain": [
       "recommendations finished on 107000/206209 queries. users per second: 1899.19"
      ]
     },
     "metadata": {},
     "output_type": "display_data"
    },
    {
     "data": {
      "text/html": [
       "<pre>recommendations finished on 108000/206209 queries. users per second: 1896.7</pre>"
      ],
      "text/plain": [
       "recommendations finished on 108000/206209 queries. users per second: 1896.7"
      ]
     },
     "metadata": {},
     "output_type": "display_data"
    },
    {
     "data": {
      "text/html": [
       "<pre>recommendations finished on 109000/206209 queries. users per second: 1894.03</pre>"
      ],
      "text/plain": [
       "recommendations finished on 109000/206209 queries. users per second: 1894.03"
      ]
     },
     "metadata": {},
     "output_type": "display_data"
    },
    {
     "data": {
      "text/html": [
       "<pre>recommendations finished on 110000/206209 queries. users per second: 1894.33</pre>"
      ],
      "text/plain": [
       "recommendations finished on 110000/206209 queries. users per second: 1894.33"
      ]
     },
     "metadata": {},
     "output_type": "display_data"
    },
    {
     "data": {
      "text/html": [
       "<pre>recommendations finished on 111000/206209 queries. users per second: 1893.61</pre>"
      ],
      "text/plain": [
       "recommendations finished on 111000/206209 queries. users per second: 1893.61"
      ]
     },
     "metadata": {},
     "output_type": "display_data"
    },
    {
     "data": {
      "text/html": [
       "<pre>recommendations finished on 112000/206209 queries. users per second: 1893.12</pre>"
      ],
      "text/plain": [
       "recommendations finished on 112000/206209 queries. users per second: 1893.12"
      ]
     },
     "metadata": {},
     "output_type": "display_data"
    },
    {
     "data": {
      "text/html": [
       "<pre>recommendations finished on 113000/206209 queries. users per second: 1893.2</pre>"
      ],
      "text/plain": [
       "recommendations finished on 113000/206209 queries. users per second: 1893.2"
      ]
     },
     "metadata": {},
     "output_type": "display_data"
    },
    {
     "data": {
      "text/html": [
       "<pre>recommendations finished on 114000/206209 queries. users per second: 1893.29</pre>"
      ],
      "text/plain": [
       "recommendations finished on 114000/206209 queries. users per second: 1893.29"
      ]
     },
     "metadata": {},
     "output_type": "display_data"
    },
    {
     "data": {
      "text/html": [
       "<pre>recommendations finished on 115000/206209 queries. users per second: 1893.37</pre>"
      ],
      "text/plain": [
       "recommendations finished on 115000/206209 queries. users per second: 1893.37"
      ]
     },
     "metadata": {},
     "output_type": "display_data"
    },
    {
     "data": {
      "text/html": [
       "<pre>recommendations finished on 116000/206209 queries. users per second: 1893.92</pre>"
      ],
      "text/plain": [
       "recommendations finished on 116000/206209 queries. users per second: 1893.92"
      ]
     },
     "metadata": {},
     "output_type": "display_data"
    },
    {
     "data": {
      "text/html": [
       "<pre>recommendations finished on 117000/206209 queries. users per second: 1895.59</pre>"
      ],
      "text/plain": [
       "recommendations finished on 117000/206209 queries. users per second: 1895.59"
      ]
     },
     "metadata": {},
     "output_type": "display_data"
    },
    {
     "data": {
      "text/html": [
       "<pre>recommendations finished on 118000/206209 queries. users per second: 1896.15</pre>"
      ],
      "text/plain": [
       "recommendations finished on 118000/206209 queries. users per second: 1896.15"
      ]
     },
     "metadata": {},
     "output_type": "display_data"
    },
    {
     "data": {
      "text/html": [
       "<pre>recommendations finished on 119000/206209 queries. users per second: 1896.2</pre>"
      ],
      "text/plain": [
       "recommendations finished on 119000/206209 queries. users per second: 1896.2"
      ]
     },
     "metadata": {},
     "output_type": "display_data"
    },
    {
     "data": {
      "text/html": [
       "<pre>recommendations finished on 120000/206209 queries. users per second: 1895.57</pre>"
      ],
      "text/plain": [
       "recommendations finished on 120000/206209 queries. users per second: 1895.57"
      ]
     },
     "metadata": {},
     "output_type": "display_data"
    },
    {
     "data": {
      "text/html": [
       "<pre>recommendations finished on 121000/206209 queries. users per second: 1896.83</pre>"
      ],
      "text/plain": [
       "recommendations finished on 121000/206209 queries. users per second: 1896.83"
      ]
     },
     "metadata": {},
     "output_type": "display_data"
    },
    {
     "data": {
      "text/html": [
       "<pre>recommendations finished on 122000/206209 queries. users per second: 1898.36</pre>"
      ],
      "text/plain": [
       "recommendations finished on 122000/206209 queries. users per second: 1898.36"
      ]
     },
     "metadata": {},
     "output_type": "display_data"
    },
    {
     "data": {
      "text/html": [
       "<pre>recommendations finished on 123000/206209 queries. users per second: 1900</pre>"
      ],
      "text/plain": [
       "recommendations finished on 123000/206209 queries. users per second: 1900"
      ]
     },
     "metadata": {},
     "output_type": "display_data"
    },
    {
     "data": {
      "text/html": [
       "<pre>recommendations finished on 124000/206209 queries. users per second: 1899.99</pre>"
      ],
      "text/plain": [
       "recommendations finished on 124000/206209 queries. users per second: 1899.99"
      ]
     },
     "metadata": {},
     "output_type": "display_data"
    },
    {
     "data": {
      "text/html": [
       "<pre>recommendations finished on 125000/206209 queries. users per second: 1899.53</pre>"
      ],
      "text/plain": [
       "recommendations finished on 125000/206209 queries. users per second: 1899.53"
      ]
     },
     "metadata": {},
     "output_type": "display_data"
    },
    {
     "data": {
      "text/html": [
       "<pre>recommendations finished on 126000/206209 queries. users per second: 1898.97</pre>"
      ],
      "text/plain": [
       "recommendations finished on 126000/206209 queries. users per second: 1898.97"
      ]
     },
     "metadata": {},
     "output_type": "display_data"
    },
    {
     "data": {
      "text/html": [
       "<pre>recommendations finished on 127000/206209 queries. users per second: 1898.29</pre>"
      ],
      "text/plain": [
       "recommendations finished on 127000/206209 queries. users per second: 1898.29"
      ]
     },
     "metadata": {},
     "output_type": "display_data"
    },
    {
     "data": {
      "text/html": [
       "<pre>recommendations finished on 128000/206209 queries. users per second: 1898.41</pre>"
      ],
      "text/plain": [
       "recommendations finished on 128000/206209 queries. users per second: 1898.41"
      ]
     },
     "metadata": {},
     "output_type": "display_data"
    },
    {
     "data": {
      "text/html": [
       "<pre>recommendations finished on 129000/206209 queries. users per second: 1897.8</pre>"
      ],
      "text/plain": [
       "recommendations finished on 129000/206209 queries. users per second: 1897.8"
      ]
     },
     "metadata": {},
     "output_type": "display_data"
    },
    {
     "data": {
      "text/html": [
       "<pre>recommendations finished on 130000/206209 queries. users per second: 1897.87</pre>"
      ],
      "text/plain": [
       "recommendations finished on 130000/206209 queries. users per second: 1897.87"
      ]
     },
     "metadata": {},
     "output_type": "display_data"
    },
    {
     "data": {
      "text/html": [
       "<pre>recommendations finished on 131000/206209 queries. users per second: 1897.98</pre>"
      ],
      "text/plain": [
       "recommendations finished on 131000/206209 queries. users per second: 1897.98"
      ]
     },
     "metadata": {},
     "output_type": "display_data"
    },
    {
     "data": {
      "text/html": [
       "<pre>recommendations finished on 132000/206209 queries. users per second: 1897.19</pre>"
      ],
      "text/plain": [
       "recommendations finished on 132000/206209 queries. users per second: 1897.19"
      ]
     },
     "metadata": {},
     "output_type": "display_data"
    },
    {
     "data": {
      "text/html": [
       "<pre>recommendations finished on 133000/206209 queries. users per second: 1896.71</pre>"
      ],
      "text/plain": [
       "recommendations finished on 133000/206209 queries. users per second: 1896.71"
      ]
     },
     "metadata": {},
     "output_type": "display_data"
    },
    {
     "data": {
      "text/html": [
       "<pre>recommendations finished on 134000/206209 queries. users per second: 1895.93</pre>"
      ],
      "text/plain": [
       "recommendations finished on 134000/206209 queries. users per second: 1895.93"
      ]
     },
     "metadata": {},
     "output_type": "display_data"
    },
    {
     "data": {
      "text/html": [
       "<pre>recommendations finished on 135000/206209 queries. users per second: 1895.62</pre>"
      ],
      "text/plain": [
       "recommendations finished on 135000/206209 queries. users per second: 1895.62"
      ]
     },
     "metadata": {},
     "output_type": "display_data"
    },
    {
     "data": {
      "text/html": [
       "<pre>recommendations finished on 136000/206209 queries. users per second: 1894.98</pre>"
      ],
      "text/plain": [
       "recommendations finished on 136000/206209 queries. users per second: 1894.98"
      ]
     },
     "metadata": {},
     "output_type": "display_data"
    },
    {
     "data": {
      "text/html": [
       "<pre>recommendations finished on 137000/206209 queries. users per second: 1895.28</pre>"
      ],
      "text/plain": [
       "recommendations finished on 137000/206209 queries. users per second: 1895.28"
      ]
     },
     "metadata": {},
     "output_type": "display_data"
    },
    {
     "data": {
      "text/html": [
       "<pre>recommendations finished on 138000/206209 queries. users per second: 1895.15</pre>"
      ],
      "text/plain": [
       "recommendations finished on 138000/206209 queries. users per second: 1895.15"
      ]
     },
     "metadata": {},
     "output_type": "display_data"
    },
    {
     "data": {
      "text/html": [
       "<pre>recommendations finished on 139000/206209 queries. users per second: 1896.37</pre>"
      ],
      "text/plain": [
       "recommendations finished on 139000/206209 queries. users per second: 1896.37"
      ]
     },
     "metadata": {},
     "output_type": "display_data"
    },
    {
     "data": {
      "text/html": [
       "<pre>recommendations finished on 140000/206209 queries. users per second: 1896.11</pre>"
      ],
      "text/plain": [
       "recommendations finished on 140000/206209 queries. users per second: 1896.11"
      ]
     },
     "metadata": {},
     "output_type": "display_data"
    },
    {
     "data": {
      "text/html": [
       "<pre>recommendations finished on 141000/206209 queries. users per second: 1896.71</pre>"
      ],
      "text/plain": [
       "recommendations finished on 141000/206209 queries. users per second: 1896.71"
      ]
     },
     "metadata": {},
     "output_type": "display_data"
    },
    {
     "data": {
      "text/html": [
       "<pre>recommendations finished on 142000/206209 queries. users per second: 1897.92</pre>"
      ],
      "text/plain": [
       "recommendations finished on 142000/206209 queries. users per second: 1897.92"
      ]
     },
     "metadata": {},
     "output_type": "display_data"
    },
    {
     "data": {
      "text/html": [
       "<pre>recommendations finished on 143000/206209 queries. users per second: 1899.19</pre>"
      ],
      "text/plain": [
       "recommendations finished on 143000/206209 queries. users per second: 1899.19"
      ]
     },
     "metadata": {},
     "output_type": "display_data"
    },
    {
     "data": {
      "text/html": [
       "<pre>recommendations finished on 144000/206209 queries. users per second: 1900.35</pre>"
      ],
      "text/plain": [
       "recommendations finished on 144000/206209 queries. users per second: 1900.35"
      ]
     },
     "metadata": {},
     "output_type": "display_data"
    },
    {
     "data": {
      "text/html": [
       "<pre>recommendations finished on 145000/206209 queries. users per second: 1901.56</pre>"
      ],
      "text/plain": [
       "recommendations finished on 145000/206209 queries. users per second: 1901.56"
      ]
     },
     "metadata": {},
     "output_type": "display_data"
    },
    {
     "data": {
      "text/html": [
       "<pre>recommendations finished on 146000/206209 queries. users per second: 1902.18</pre>"
      ],
      "text/plain": [
       "recommendations finished on 146000/206209 queries. users per second: 1902.18"
      ]
     },
     "metadata": {},
     "output_type": "display_data"
    },
    {
     "data": {
      "text/html": [
       "<pre>recommendations finished on 147000/206209 queries. users per second: 1902.24</pre>"
      ],
      "text/plain": [
       "recommendations finished on 147000/206209 queries. users per second: 1902.24"
      ]
     },
     "metadata": {},
     "output_type": "display_data"
    },
    {
     "data": {
      "text/html": [
       "<pre>recommendations finished on 148000/206209 queries. users per second: 1902.4</pre>"
      ],
      "text/plain": [
       "recommendations finished on 148000/206209 queries. users per second: 1902.4"
      ]
     },
     "metadata": {},
     "output_type": "display_data"
    },
    {
     "data": {
      "text/html": [
       "<pre>recommendations finished on 149000/206209 queries. users per second: 1902.45</pre>"
      ],
      "text/plain": [
       "recommendations finished on 149000/206209 queries. users per second: 1902.45"
      ]
     },
     "metadata": {},
     "output_type": "display_data"
    },
    {
     "data": {
      "text/html": [
       "<pre>recommendations finished on 150000/206209 queries. users per second: 1902.61</pre>"
      ],
      "text/plain": [
       "recommendations finished on 150000/206209 queries. users per second: 1902.61"
      ]
     },
     "metadata": {},
     "output_type": "display_data"
    },
    {
     "data": {
      "text/html": [
       "<pre>recommendations finished on 151000/206209 queries. users per second: 1902.46</pre>"
      ],
      "text/plain": [
       "recommendations finished on 151000/206209 queries. users per second: 1902.46"
      ]
     },
     "metadata": {},
     "output_type": "display_data"
    },
    {
     "data": {
      "text/html": [
       "<pre>recommendations finished on 152000/206209 queries. users per second: 1903.5</pre>"
      ],
      "text/plain": [
       "recommendations finished on 152000/206209 queries. users per second: 1903.5"
      ]
     },
     "metadata": {},
     "output_type": "display_data"
    },
    {
     "data": {
      "text/html": [
       "<pre>recommendations finished on 153000/206209 queries. users per second: 1904.58</pre>"
      ],
      "text/plain": [
       "recommendations finished on 153000/206209 queries. users per second: 1904.58"
      ]
     },
     "metadata": {},
     "output_type": "display_data"
    },
    {
     "data": {
      "text/html": [
       "<pre>recommendations finished on 154000/206209 queries. users per second: 1905.77</pre>"
      ],
      "text/plain": [
       "recommendations finished on 154000/206209 queries. users per second: 1905.77"
      ]
     },
     "metadata": {},
     "output_type": "display_data"
    },
    {
     "data": {
      "text/html": [
       "<pre>recommendations finished on 155000/206209 queries. users per second: 1906.36</pre>"
      ],
      "text/plain": [
       "recommendations finished on 155000/206209 queries. users per second: 1906.36"
      ]
     },
     "metadata": {},
     "output_type": "display_data"
    },
    {
     "data": {
      "text/html": [
       "<pre>recommendations finished on 156000/206209 queries. users per second: 1906</pre>"
      ],
      "text/plain": [
       "recommendations finished on 156000/206209 queries. users per second: 1906"
      ]
     },
     "metadata": {},
     "output_type": "display_data"
    },
    {
     "data": {
      "text/html": [
       "<pre>recommendations finished on 157000/206209 queries. users per second: 1905.99</pre>"
      ],
      "text/plain": [
       "recommendations finished on 157000/206209 queries. users per second: 1905.99"
      ]
     },
     "metadata": {},
     "output_type": "display_data"
    },
    {
     "data": {
      "text/html": [
       "<pre>recommendations finished on 158000/206209 queries. users per second: 1906.04</pre>"
      ],
      "text/plain": [
       "recommendations finished on 158000/206209 queries. users per second: 1906.04"
      ]
     },
     "metadata": {},
     "output_type": "display_data"
    },
    {
     "data": {
      "text/html": [
       "<pre>recommendations finished on 159000/206209 queries. users per second: 1906.44</pre>"
      ],
      "text/plain": [
       "recommendations finished on 159000/206209 queries. users per second: 1906.44"
      ]
     },
     "metadata": {},
     "output_type": "display_data"
    },
    {
     "data": {
      "text/html": [
       "<pre>recommendations finished on 160000/206209 queries. users per second: 1906.61</pre>"
      ],
      "text/plain": [
       "recommendations finished on 160000/206209 queries. users per second: 1906.61"
      ]
     },
     "metadata": {},
     "output_type": "display_data"
    },
    {
     "data": {
      "text/html": [
       "<pre>recommendations finished on 161000/206209 queries. users per second: 1906.85</pre>"
      ],
      "text/plain": [
       "recommendations finished on 161000/206209 queries. users per second: 1906.85"
      ]
     },
     "metadata": {},
     "output_type": "display_data"
    },
    {
     "data": {
      "text/html": [
       "<pre>recommendations finished on 162000/206209 queries. users per second: 1906.99</pre>"
      ],
      "text/plain": [
       "recommendations finished on 162000/206209 queries. users per second: 1906.99"
      ]
     },
     "metadata": {},
     "output_type": "display_data"
    },
    {
     "data": {
      "text/html": [
       "<pre>recommendations finished on 163000/206209 queries. users per second: 1906.79</pre>"
      ],
      "text/plain": [
       "recommendations finished on 163000/206209 queries. users per second: 1906.79"
      ]
     },
     "metadata": {},
     "output_type": "display_data"
    },
    {
     "data": {
      "text/html": [
       "<pre>recommendations finished on 164000/206209 queries. users per second: 1907.05</pre>"
      ],
      "text/plain": [
       "recommendations finished on 164000/206209 queries. users per second: 1907.05"
      ]
     },
     "metadata": {},
     "output_type": "display_data"
    },
    {
     "data": {
      "text/html": [
       "<pre>recommendations finished on 165000/206209 queries. users per second: 1906.94</pre>"
      ],
      "text/plain": [
       "recommendations finished on 165000/206209 queries. users per second: 1906.94"
      ]
     },
     "metadata": {},
     "output_type": "display_data"
    },
    {
     "data": {
      "text/html": [
       "<pre>recommendations finished on 166000/206209 queries. users per second: 1907</pre>"
      ],
      "text/plain": [
       "recommendations finished on 166000/206209 queries. users per second: 1907"
      ]
     },
     "metadata": {},
     "output_type": "display_data"
    },
    {
     "data": {
      "text/html": [
       "<pre>recommendations finished on 167000/206209 queries. users per second: 1907.11</pre>"
      ],
      "text/plain": [
       "recommendations finished on 167000/206209 queries. users per second: 1907.11"
      ]
     },
     "metadata": {},
     "output_type": "display_data"
    },
    {
     "data": {
      "text/html": [
       "<pre>recommendations finished on 168000/206209 queries. users per second: 1906.9</pre>"
      ],
      "text/plain": [
       "recommendations finished on 168000/206209 queries. users per second: 1906.9"
      ]
     },
     "metadata": {},
     "output_type": "display_data"
    },
    {
     "data": {
      "text/html": [
       "<pre>recommendations finished on 169000/206209 queries. users per second: 1906.28</pre>"
      ],
      "text/plain": [
       "recommendations finished on 169000/206209 queries. users per second: 1906.28"
      ]
     },
     "metadata": {},
     "output_type": "display_data"
    },
    {
     "data": {
      "text/html": [
       "<pre>recommendations finished on 170000/206209 queries. users per second: 1906.81</pre>"
      ],
      "text/plain": [
       "recommendations finished on 170000/206209 queries. users per second: 1906.81"
      ]
     },
     "metadata": {},
     "output_type": "display_data"
    },
    {
     "data": {
      "text/html": [
       "<pre>recommendations finished on 171000/206209 queries. users per second: 1906.46</pre>"
      ],
      "text/plain": [
       "recommendations finished on 171000/206209 queries. users per second: 1906.46"
      ]
     },
     "metadata": {},
     "output_type": "display_data"
    },
    {
     "data": {
      "text/html": [
       "<pre>recommendations finished on 172000/206209 queries. users per second: 1906.66</pre>"
      ],
      "text/plain": [
       "recommendations finished on 172000/206209 queries. users per second: 1906.66"
      ]
     },
     "metadata": {},
     "output_type": "display_data"
    },
    {
     "data": {
      "text/html": [
       "<pre>recommendations finished on 173000/206209 queries. users per second: 1907.06</pre>"
      ],
      "text/plain": [
       "recommendations finished on 173000/206209 queries. users per second: 1907.06"
      ]
     },
     "metadata": {},
     "output_type": "display_data"
    },
    {
     "data": {
      "text/html": [
       "<pre>recommendations finished on 174000/206209 queries. users per second: 1908.04</pre>"
      ],
      "text/plain": [
       "recommendations finished on 174000/206209 queries. users per second: 1908.04"
      ]
     },
     "metadata": {},
     "output_type": "display_data"
    },
    {
     "data": {
      "text/html": [
       "<pre>recommendations finished on 175000/206209 queries. users per second: 1908.12</pre>"
      ],
      "text/plain": [
       "recommendations finished on 175000/206209 queries. users per second: 1908.12"
      ]
     },
     "metadata": {},
     "output_type": "display_data"
    },
    {
     "data": {
      "text/html": [
       "<pre>recommendations finished on 176000/206209 queries. users per second: 1908.12</pre>"
      ],
      "text/plain": [
       "recommendations finished on 176000/206209 queries. users per second: 1908.12"
      ]
     },
     "metadata": {},
     "output_type": "display_data"
    },
    {
     "data": {
      "text/html": [
       "<pre>recommendations finished on 177000/206209 queries. users per second: 1908.33</pre>"
      ],
      "text/plain": [
       "recommendations finished on 177000/206209 queries. users per second: 1908.33"
      ]
     },
     "metadata": {},
     "output_type": "display_data"
    },
    {
     "data": {
      "text/html": [
       "<pre>recommendations finished on 178000/206209 queries. users per second: 1908.26</pre>"
      ],
      "text/plain": [
       "recommendations finished on 178000/206209 queries. users per second: 1908.26"
      ]
     },
     "metadata": {},
     "output_type": "display_data"
    },
    {
     "data": {
      "text/html": [
       "<pre>recommendations finished on 179000/206209 queries. users per second: 1908.03</pre>"
      ],
      "text/plain": [
       "recommendations finished on 179000/206209 queries. users per second: 1908.03"
      ]
     },
     "metadata": {},
     "output_type": "display_data"
    },
    {
     "data": {
      "text/html": [
       "<pre>recommendations finished on 180000/206209 queries. users per second: 1907.75</pre>"
      ],
      "text/plain": [
       "recommendations finished on 180000/206209 queries. users per second: 1907.75"
      ]
     },
     "metadata": {},
     "output_type": "display_data"
    },
    {
     "data": {
      "text/html": [
       "<pre>recommendations finished on 181000/206209 queries. users per second: 1907.83</pre>"
      ],
      "text/plain": [
       "recommendations finished on 181000/206209 queries. users per second: 1907.83"
      ]
     },
     "metadata": {},
     "output_type": "display_data"
    },
    {
     "data": {
      "text/html": [
       "<pre>recommendations finished on 182000/206209 queries. users per second: 1908.27</pre>"
      ],
      "text/plain": [
       "recommendations finished on 182000/206209 queries. users per second: 1908.27"
      ]
     },
     "metadata": {},
     "output_type": "display_data"
    },
    {
     "data": {
      "text/html": [
       "<pre>recommendations finished on 183000/206209 queries. users per second: 1907.79</pre>"
      ],
      "text/plain": [
       "recommendations finished on 183000/206209 queries. users per second: 1907.79"
      ]
     },
     "metadata": {},
     "output_type": "display_data"
    },
    {
     "data": {
      "text/html": [
       "<pre>recommendations finished on 184000/206209 queries. users per second: 1907.91</pre>"
      ],
      "text/plain": [
       "recommendations finished on 184000/206209 queries. users per second: 1907.91"
      ]
     },
     "metadata": {},
     "output_type": "display_data"
    },
    {
     "data": {
      "text/html": [
       "<pre>recommendations finished on 185000/206209 queries. users per second: 1908.42</pre>"
      ],
      "text/plain": [
       "recommendations finished on 185000/206209 queries. users per second: 1908.42"
      ]
     },
     "metadata": {},
     "output_type": "display_data"
    },
    {
     "data": {
      "text/html": [
       "<pre>recommendations finished on 186000/206209 queries. users per second: 1907.87</pre>"
      ],
      "text/plain": [
       "recommendations finished on 186000/206209 queries. users per second: 1907.87"
      ]
     },
     "metadata": {},
     "output_type": "display_data"
    },
    {
     "data": {
      "text/html": [
       "<pre>recommendations finished on 187000/206209 queries. users per second: 1908.19</pre>"
      ],
      "text/plain": [
       "recommendations finished on 187000/206209 queries. users per second: 1908.19"
      ]
     },
     "metadata": {},
     "output_type": "display_data"
    },
    {
     "data": {
      "text/html": [
       "<pre>recommendations finished on 188000/206209 queries. users per second: 1907.87</pre>"
      ],
      "text/plain": [
       "recommendations finished on 188000/206209 queries. users per second: 1907.87"
      ]
     },
     "metadata": {},
     "output_type": "display_data"
    },
    {
     "data": {
      "text/html": [
       "<pre>recommendations finished on 189000/206209 queries. users per second: 1908.12</pre>"
      ],
      "text/plain": [
       "recommendations finished on 189000/206209 queries. users per second: 1908.12"
      ]
     },
     "metadata": {},
     "output_type": "display_data"
    },
    {
     "data": {
      "text/html": [
       "<pre>recommendations finished on 190000/206209 queries. users per second: 1907.77</pre>"
      ],
      "text/plain": [
       "recommendations finished on 190000/206209 queries. users per second: 1907.77"
      ]
     },
     "metadata": {},
     "output_type": "display_data"
    },
    {
     "data": {
      "text/html": [
       "<pre>recommendations finished on 191000/206209 queries. users per second: 1907.19</pre>"
      ],
      "text/plain": [
       "recommendations finished on 191000/206209 queries. users per second: 1907.19"
      ]
     },
     "metadata": {},
     "output_type": "display_data"
    },
    {
     "data": {
      "text/html": [
       "<pre>recommendations finished on 192000/206209 queries. users per second: 1907.78</pre>"
      ],
      "text/plain": [
       "recommendations finished on 192000/206209 queries. users per second: 1907.78"
      ]
     },
     "metadata": {},
     "output_type": "display_data"
    },
    {
     "data": {
      "text/html": [
       "<pre>recommendations finished on 193000/206209 queries. users per second: 1907.49</pre>"
      ],
      "text/plain": [
       "recommendations finished on 193000/206209 queries. users per second: 1907.49"
      ]
     },
     "metadata": {},
     "output_type": "display_data"
    },
    {
     "data": {
      "text/html": [
       "<pre>recommendations finished on 194000/206209 queries. users per second: 1907.9</pre>"
      ],
      "text/plain": [
       "recommendations finished on 194000/206209 queries. users per second: 1907.9"
      ]
     },
     "metadata": {},
     "output_type": "display_data"
    },
    {
     "data": {
      "text/html": [
       "<pre>recommendations finished on 195000/206209 queries. users per second: 1907.38</pre>"
      ],
      "text/plain": [
       "recommendations finished on 195000/206209 queries. users per second: 1907.38"
      ]
     },
     "metadata": {},
     "output_type": "display_data"
    },
    {
     "data": {
      "text/html": [
       "<pre>recommendations finished on 196000/206209 queries. users per second: 1907.07</pre>"
      ],
      "text/plain": [
       "recommendations finished on 196000/206209 queries. users per second: 1907.07"
      ]
     },
     "metadata": {},
     "output_type": "display_data"
    },
    {
     "data": {
      "text/html": [
       "<pre>recommendations finished on 197000/206209 queries. users per second: 1907.52</pre>"
      ],
      "text/plain": [
       "recommendations finished on 197000/206209 queries. users per second: 1907.52"
      ]
     },
     "metadata": {},
     "output_type": "display_data"
    },
    {
     "data": {
      "text/html": [
       "<pre>recommendations finished on 198000/206209 queries. users per second: 1907.63</pre>"
      ],
      "text/plain": [
       "recommendations finished on 198000/206209 queries. users per second: 1907.63"
      ]
     },
     "metadata": {},
     "output_type": "display_data"
    },
    {
     "data": {
      "text/html": [
       "<pre>recommendations finished on 199000/206209 queries. users per second: 1908.19</pre>"
      ],
      "text/plain": [
       "recommendations finished on 199000/206209 queries. users per second: 1908.19"
      ]
     },
     "metadata": {},
     "output_type": "display_data"
    },
    {
     "data": {
      "text/html": [
       "<pre>recommendations finished on 200000/206209 queries. users per second: 1907.64</pre>"
      ],
      "text/plain": [
       "recommendations finished on 200000/206209 queries. users per second: 1907.64"
      ]
     },
     "metadata": {},
     "output_type": "display_data"
    },
    {
     "data": {
      "text/html": [
       "<pre>recommendations finished on 201000/206209 queries. users per second: 1907.18</pre>"
      ],
      "text/plain": [
       "recommendations finished on 201000/206209 queries. users per second: 1907.18"
      ]
     },
     "metadata": {},
     "output_type": "display_data"
    },
    {
     "data": {
      "text/html": [
       "<pre>recommendations finished on 202000/206209 queries. users per second: 1906.66</pre>"
      ],
      "text/plain": [
       "recommendations finished on 202000/206209 queries. users per second: 1906.66"
      ]
     },
     "metadata": {},
     "output_type": "display_data"
    },
    {
     "data": {
      "text/html": [
       "<pre>recommendations finished on 203000/206209 queries. users per second: 1906.17</pre>"
      ],
      "text/plain": [
       "recommendations finished on 203000/206209 queries. users per second: 1906.17"
      ]
     },
     "metadata": {},
     "output_type": "display_data"
    },
    {
     "data": {
      "text/html": [
       "<pre>recommendations finished on 204000/206209 queries. users per second: 1905.35</pre>"
      ],
      "text/plain": [
       "recommendations finished on 204000/206209 queries. users per second: 1905.35"
      ]
     },
     "metadata": {},
     "output_type": "display_data"
    },
    {
     "data": {
      "text/html": [
       "<pre>recommendations finished on 205000/206209 queries. users per second: 1901.56</pre>"
      ],
      "text/plain": [
       "recommendations finished on 205000/206209 queries. users per second: 1901.56"
      ]
     },
     "metadata": {},
     "output_type": "display_data"
    },
    {
     "data": {
      "text/html": [
       "<pre>recommendations finished on 206000/206209 queries. users per second: 1890.61</pre>"
      ],
      "text/plain": [
       "recommendations finished on 206000/206209 queries. users per second: 1890.61"
      ]
     },
     "metadata": {},
     "output_type": "display_data"
    },
    {
     "name": "stdout",
     "output_type": "stream",
     "text": [
      "+---------+------------+---------------------+------+\n",
      "| user_id | product_id |        score        | rank |\n",
      "+---------+------------+---------------------+------+\n",
      "|    1    |    6433    | 0.16326530612244897 |  1   |\n",
      "|    1    |    2075    |  0.1377551020408163 |  2   |\n",
      "|    1    |   43553    | 0.12244897959183672 |  3   |\n",
      "|    1    |   27740    | 0.11862244897959183 |  4   |\n",
      "|    1    |   14609    | 0.10884353741496597 |  5   |\n",
      "|    1    |   13875    | 0.10459183673469387 |  6   |\n",
      "|    1    |   39992    |  0.1020408163265306 |  7   |\n",
      "|    1    |    5868    | 0.09183673469387754 |  8   |\n",
      "|    1    |   35604    | 0.09183673469387754 |  9   |\n",
      "|    1    |   31418    | 0.09183673469387754 |  10  |\n",
      "|    2    |    6433    | 0.16326530612244897 |  1   |\n",
      "|    2    |    2075    |  0.1377551020408163 |  2   |\n",
      "|    2    |   43553    | 0.12244897959183672 |  3   |\n",
      "|    2    |   27740    | 0.11862244897959183 |  4   |\n",
      "|    2    |   14609    | 0.10884353741496597 |  5   |\n",
      "|    2    |   13875    | 0.10459183673469387 |  6   |\n",
      "|    2    |   39992    |  0.1020408163265306 |  7   |\n",
      "|    2    |    5868    | 0.09183673469387754 |  8   |\n",
      "|    2    |   35604    | 0.09183673469387754 |  9   |\n",
      "|    2    |   31418    | 0.09183673469387754 |  10  |\n",
      "|    3    |    6433    | 0.16326530612244897 |  1   |\n",
      "|    3    |    2075    |  0.1377551020408163 |  2   |\n",
      "|    3    |   43553    | 0.12244897959183672 |  3   |\n",
      "|    3    |   27740    | 0.11862244897959183 |  4   |\n",
      "|    3    |   14609    | 0.10884353741496597 |  5   |\n",
      "|    3    |   13875    | 0.10459183673469387 |  6   |\n",
      "|    3    |   39992    |  0.1020408163265306 |  7   |\n",
      "|    3    |    5868    | 0.09183673469387754 |  8   |\n",
      "|    3    |   35604    | 0.09183673469387754 |  9   |\n",
      "|    3    |   31418    | 0.09183673469387754 |  10  |\n",
      "+---------+------------+---------------------+------+\n",
      "[2062090 rows x 4 columns]\n",
      "\n"
     ]
    }
   ],
   "source": [
    "name = 'pearson' \n",
    "target = 'quantity' \n",
    "pear_norm = model(data_norm, name, user_id, product_id, target, users_to_recommend, n_rec, n_display)"
   ]
  },
  {
   "cell_type": "code",
   "execution_count": 72,
   "metadata": {},
   "outputs": [],
   "source": [
    "# create initial callable variables\n",
    "\n",
    "models_w_counts = [popularity, cos, pear]\n",
    "models_w_norm = [pop_norm, cos_norm, pear_norm]\n",
    "\n",
    "names_w_counts = ['Popularity Model on Purchase Counts', 'Cosine Similarity on Purchase Counts', 'Pearson Similarity on Purchase Counts']\n",
    "names_w_norm = ['Popularity Model on Scaled Purchase Counts', 'Cosine Similarity on Scaled Purchase Counts', 'Pearson Similarity on Scaled Purchase Counts']"
   ]
  },
  {
   "cell_type": "code",
   "execution_count": 73,
   "metadata": {},
   "outputs": [
    {
     "name": "stdout",
     "output_type": "stream",
     "text": [
      "PROGRESS: Evaluate model Popularity Model on Purchase Counts\n"
     ]
    },
    {
     "data": {
      "text/html": [
       "<pre>recommendations finished on 1000/131209 queries. users per second: 1739.63</pre>"
      ],
      "text/plain": [
       "recommendations finished on 1000/131209 queries. users per second: 1739.63"
      ]
     },
     "metadata": {},
     "output_type": "display_data"
    },
    {
     "data": {
      "text/html": [
       "<pre>recommendations finished on 2000/131209 queries. users per second: 1685.88</pre>"
      ],
      "text/plain": [
       "recommendations finished on 2000/131209 queries. users per second: 1685.88"
      ]
     },
     "metadata": {},
     "output_type": "display_data"
    },
    {
     "data": {
      "text/html": [
       "<pre>recommendations finished on 3000/131209 queries. users per second: 1582.76</pre>"
      ],
      "text/plain": [
       "recommendations finished on 3000/131209 queries. users per second: 1582.76"
      ]
     },
     "metadata": {},
     "output_type": "display_data"
    },
    {
     "data": {
      "text/html": [
       "<pre>recommendations finished on 4000/131209 queries. users per second: 1436.01</pre>"
      ],
      "text/plain": [
       "recommendations finished on 4000/131209 queries. users per second: 1436.01"
      ]
     },
     "metadata": {},
     "output_type": "display_data"
    },
    {
     "data": {
      "text/html": [
       "<pre>recommendations finished on 5000/131209 queries. users per second: 1388.97</pre>"
      ],
      "text/plain": [
       "recommendations finished on 5000/131209 queries. users per second: 1388.97"
      ]
     },
     "metadata": {},
     "output_type": "display_data"
    },
    {
     "data": {
      "text/html": [
       "<pre>recommendations finished on 6000/131209 queries. users per second: 1396.83</pre>"
      ],
      "text/plain": [
       "recommendations finished on 6000/131209 queries. users per second: 1396.83"
      ]
     },
     "metadata": {},
     "output_type": "display_data"
    },
    {
     "data": {
      "text/html": [
       "<pre>recommendations finished on 7000/131209 queries. users per second: 1398.48</pre>"
      ],
      "text/plain": [
       "recommendations finished on 7000/131209 queries. users per second: 1398.48"
      ]
     },
     "metadata": {},
     "output_type": "display_data"
    },
    {
     "data": {
      "text/html": [
       "<pre>recommendations finished on 8000/131209 queries. users per second: 1414.93</pre>"
      ],
      "text/plain": [
       "recommendations finished on 8000/131209 queries. users per second: 1414.93"
      ]
     },
     "metadata": {},
     "output_type": "display_data"
    },
    {
     "data": {
      "text/html": [
       "<pre>recommendations finished on 9000/131209 queries. users per second: 1445.19</pre>"
      ],
      "text/plain": [
       "recommendations finished on 9000/131209 queries. users per second: 1445.19"
      ]
     },
     "metadata": {},
     "output_type": "display_data"
    },
    {
     "data": {
      "text/html": [
       "<pre>recommendations finished on 10000/131209 queries. users per second: 1471.73</pre>"
      ],
      "text/plain": [
       "recommendations finished on 10000/131209 queries. users per second: 1471.73"
      ]
     },
     "metadata": {},
     "output_type": "display_data"
    },
    {
     "data": {
      "text/html": [
       "<pre>recommendations finished on 11000/131209 queries. users per second: 1493.89</pre>"
      ],
      "text/plain": [
       "recommendations finished on 11000/131209 queries. users per second: 1493.89"
      ]
     },
     "metadata": {},
     "output_type": "display_data"
    },
    {
     "data": {
      "text/html": [
       "<pre>recommendations finished on 12000/131209 queries. users per second: 1510.09</pre>"
      ],
      "text/plain": [
       "recommendations finished on 12000/131209 queries. users per second: 1510.09"
      ]
     },
     "metadata": {},
     "output_type": "display_data"
    },
    {
     "data": {
      "text/html": [
       "<pre>recommendations finished on 13000/131209 queries. users per second: 1527.05</pre>"
      ],
      "text/plain": [
       "recommendations finished on 13000/131209 queries. users per second: 1527.05"
      ]
     },
     "metadata": {},
     "output_type": "display_data"
    },
    {
     "data": {
      "text/html": [
       "<pre>recommendations finished on 14000/131209 queries. users per second: 1543.36</pre>"
      ],
      "text/plain": [
       "recommendations finished on 14000/131209 queries. users per second: 1543.36"
      ]
     },
     "metadata": {},
     "output_type": "display_data"
    },
    {
     "data": {
      "text/html": [
       "<pre>recommendations finished on 15000/131209 queries. users per second: 1555.8</pre>"
      ],
      "text/plain": [
       "recommendations finished on 15000/131209 queries. users per second: 1555.8"
      ]
     },
     "metadata": {},
     "output_type": "display_data"
    },
    {
     "data": {
      "text/html": [
       "<pre>recommendations finished on 16000/131209 queries. users per second: 1567.78</pre>"
      ],
      "text/plain": [
       "recommendations finished on 16000/131209 queries. users per second: 1567.78"
      ]
     },
     "metadata": {},
     "output_type": "display_data"
    },
    {
     "data": {
      "text/html": [
       "<pre>recommendations finished on 17000/131209 queries. users per second: 1578.7</pre>"
      ],
      "text/plain": [
       "recommendations finished on 17000/131209 queries. users per second: 1578.7"
      ]
     },
     "metadata": {},
     "output_type": "display_data"
    },
    {
     "data": {
      "text/html": [
       "<pre>recommendations finished on 18000/131209 queries. users per second: 1588.12</pre>"
      ],
      "text/plain": [
       "recommendations finished on 18000/131209 queries. users per second: 1588.12"
      ]
     },
     "metadata": {},
     "output_type": "display_data"
    },
    {
     "data": {
      "text/html": [
       "<pre>recommendations finished on 19000/131209 queries. users per second: 1596.78</pre>"
      ],
      "text/plain": [
       "recommendations finished on 19000/131209 queries. users per second: 1596.78"
      ]
     },
     "metadata": {},
     "output_type": "display_data"
    },
    {
     "data": {
      "text/html": [
       "<pre>recommendations finished on 20000/131209 queries. users per second: 1603.55</pre>"
      ],
      "text/plain": [
       "recommendations finished on 20000/131209 queries. users per second: 1603.55"
      ]
     },
     "metadata": {},
     "output_type": "display_data"
    },
    {
     "data": {
      "text/html": [
       "<pre>recommendations finished on 21000/131209 queries. users per second: 1611.54</pre>"
      ],
      "text/plain": [
       "recommendations finished on 21000/131209 queries. users per second: 1611.54"
      ]
     },
     "metadata": {},
     "output_type": "display_data"
    },
    {
     "data": {
      "text/html": [
       "<pre>recommendations finished on 22000/131209 queries. users per second: 1617.54</pre>"
      ],
      "text/plain": [
       "recommendations finished on 22000/131209 queries. users per second: 1617.54"
      ]
     },
     "metadata": {},
     "output_type": "display_data"
    },
    {
     "data": {
      "text/html": [
       "<pre>recommendations finished on 23000/131209 queries. users per second: 1624.34</pre>"
      ],
      "text/plain": [
       "recommendations finished on 23000/131209 queries. users per second: 1624.34"
      ]
     },
     "metadata": {},
     "output_type": "display_data"
    },
    {
     "data": {
      "text/html": [
       "<pre>recommendations finished on 24000/131209 queries. users per second: 1627.56</pre>"
      ],
      "text/plain": [
       "recommendations finished on 24000/131209 queries. users per second: 1627.56"
      ]
     },
     "metadata": {},
     "output_type": "display_data"
    },
    {
     "data": {
      "text/html": [
       "<pre>recommendations finished on 25000/131209 queries. users per second: 1633.15</pre>"
      ],
      "text/plain": [
       "recommendations finished on 25000/131209 queries. users per second: 1633.15"
      ]
     },
     "metadata": {},
     "output_type": "display_data"
    },
    {
     "data": {
      "text/html": [
       "<pre>recommendations finished on 26000/131209 queries. users per second: 1637.31</pre>"
      ],
      "text/plain": [
       "recommendations finished on 26000/131209 queries. users per second: 1637.31"
      ]
     },
     "metadata": {},
     "output_type": "display_data"
    },
    {
     "data": {
      "text/html": [
       "<pre>recommendations finished on 27000/131209 queries. users per second: 1641.12</pre>"
      ],
      "text/plain": [
       "recommendations finished on 27000/131209 queries. users per second: 1641.12"
      ]
     },
     "metadata": {},
     "output_type": "display_data"
    },
    {
     "data": {
      "text/html": [
       "<pre>recommendations finished on 28000/131209 queries. users per second: 1645.08</pre>"
      ],
      "text/plain": [
       "recommendations finished on 28000/131209 queries. users per second: 1645.08"
      ]
     },
     "metadata": {},
     "output_type": "display_data"
    },
    {
     "data": {
      "text/html": [
       "<pre>recommendations finished on 29000/131209 queries. users per second: 1648.95</pre>"
      ],
      "text/plain": [
       "recommendations finished on 29000/131209 queries. users per second: 1648.95"
      ]
     },
     "metadata": {},
     "output_type": "display_data"
    },
    {
     "data": {
      "text/html": [
       "<pre>recommendations finished on 30000/131209 queries. users per second: 1652.65</pre>"
      ],
      "text/plain": [
       "recommendations finished on 30000/131209 queries. users per second: 1652.65"
      ]
     },
     "metadata": {},
     "output_type": "display_data"
    },
    {
     "data": {
      "text/html": [
       "<pre>recommendations finished on 31000/131209 queries. users per second: 1655.79</pre>"
      ],
      "text/plain": [
       "recommendations finished on 31000/131209 queries. users per second: 1655.79"
      ]
     },
     "metadata": {},
     "output_type": "display_data"
    },
    {
     "data": {
      "text/html": [
       "<pre>recommendations finished on 32000/131209 queries. users per second: 1659</pre>"
      ],
      "text/plain": [
       "recommendations finished on 32000/131209 queries. users per second: 1659"
      ]
     },
     "metadata": {},
     "output_type": "display_data"
    },
    {
     "data": {
      "text/html": [
       "<pre>recommendations finished on 33000/131209 queries. users per second: 1656.98</pre>"
      ],
      "text/plain": [
       "recommendations finished on 33000/131209 queries. users per second: 1656.98"
      ]
     },
     "metadata": {},
     "output_type": "display_data"
    },
    {
     "data": {
      "text/html": [
       "<pre>recommendations finished on 34000/131209 queries. users per second: 1643.34</pre>"
      ],
      "text/plain": [
       "recommendations finished on 34000/131209 queries. users per second: 1643.34"
      ]
     },
     "metadata": {},
     "output_type": "display_data"
    },
    {
     "data": {
      "text/html": [
       "<pre>recommendations finished on 35000/131209 queries. users per second: 1631.36</pre>"
      ],
      "text/plain": [
       "recommendations finished on 35000/131209 queries. users per second: 1631.36"
      ]
     },
     "metadata": {},
     "output_type": "display_data"
    },
    {
     "data": {
      "text/html": [
       "<pre>recommendations finished on 36000/131209 queries. users per second: 1619.88</pre>"
      ],
      "text/plain": [
       "recommendations finished on 36000/131209 queries. users per second: 1619.88"
      ]
     },
     "metadata": {},
     "output_type": "display_data"
    },
    {
     "data": {
      "text/html": [
       "<pre>recommendations finished on 37000/131209 queries. users per second: 1609.2</pre>"
      ],
      "text/plain": [
       "recommendations finished on 37000/131209 queries. users per second: 1609.2"
      ]
     },
     "metadata": {},
     "output_type": "display_data"
    },
    {
     "data": {
      "text/html": [
       "<pre>recommendations finished on 38000/131209 queries. users per second: 1601.61</pre>"
      ],
      "text/plain": [
       "recommendations finished on 38000/131209 queries. users per second: 1601.61"
      ]
     },
     "metadata": {},
     "output_type": "display_data"
    },
    {
     "data": {
      "text/html": [
       "<pre>recommendations finished on 39000/131209 queries. users per second: 1594.53</pre>"
      ],
      "text/plain": [
       "recommendations finished on 39000/131209 queries. users per second: 1594.53"
      ]
     },
     "metadata": {},
     "output_type": "display_data"
    },
    {
     "data": {
      "text/html": [
       "<pre>recommendations finished on 40000/131209 queries. users per second: 1586.2</pre>"
      ],
      "text/plain": [
       "recommendations finished on 40000/131209 queries. users per second: 1586.2"
      ]
     },
     "metadata": {},
     "output_type": "display_data"
    },
    {
     "data": {
      "text/html": [
       "<pre>recommendations finished on 41000/131209 queries. users per second: 1577.03</pre>"
      ],
      "text/plain": [
       "recommendations finished on 41000/131209 queries. users per second: 1577.03"
      ]
     },
     "metadata": {},
     "output_type": "display_data"
    },
    {
     "data": {
      "text/html": [
       "<pre>recommendations finished on 42000/131209 queries. users per second: 1569.01</pre>"
      ],
      "text/plain": [
       "recommendations finished on 42000/131209 queries. users per second: 1569.01"
      ]
     },
     "metadata": {},
     "output_type": "display_data"
    },
    {
     "data": {
      "text/html": [
       "<pre>recommendations finished on 43000/131209 queries. users per second: 1563.66</pre>"
      ],
      "text/plain": [
       "recommendations finished on 43000/131209 queries. users per second: 1563.66"
      ]
     },
     "metadata": {},
     "output_type": "display_data"
    },
    {
     "data": {
      "text/html": [
       "<pre>recommendations finished on 44000/131209 queries. users per second: 1558.1</pre>"
      ],
      "text/plain": [
       "recommendations finished on 44000/131209 queries. users per second: 1558.1"
      ]
     },
     "metadata": {},
     "output_type": "display_data"
    },
    {
     "data": {
      "text/html": [
       "<pre>recommendations finished on 45000/131209 queries. users per second: 1550.36</pre>"
      ],
      "text/plain": [
       "recommendations finished on 45000/131209 queries. users per second: 1550.36"
      ]
     },
     "metadata": {},
     "output_type": "display_data"
    },
    {
     "data": {
      "text/html": [
       "<pre>recommendations finished on 46000/131209 queries. users per second: 1542.59</pre>"
      ],
      "text/plain": [
       "recommendations finished on 46000/131209 queries. users per second: 1542.59"
      ]
     },
     "metadata": {},
     "output_type": "display_data"
    },
    {
     "data": {
      "text/html": [
       "<pre>recommendations finished on 47000/131209 queries. users per second: 1534.3</pre>"
      ],
      "text/plain": [
       "recommendations finished on 47000/131209 queries. users per second: 1534.3"
      ]
     },
     "metadata": {},
     "output_type": "display_data"
    },
    {
     "data": {
      "text/html": [
       "<pre>recommendations finished on 48000/131209 queries. users per second: 1525.96</pre>"
      ],
      "text/plain": [
       "recommendations finished on 48000/131209 queries. users per second: 1525.96"
      ]
     },
     "metadata": {},
     "output_type": "display_data"
    },
    {
     "data": {
      "text/html": [
       "<pre>recommendations finished on 49000/131209 queries. users per second: 1519.99</pre>"
      ],
      "text/plain": [
       "recommendations finished on 49000/131209 queries. users per second: 1519.99"
      ]
     },
     "metadata": {},
     "output_type": "display_data"
    },
    {
     "data": {
      "text/html": [
       "<pre>recommendations finished on 50000/131209 queries. users per second: 1513.79</pre>"
      ],
      "text/plain": [
       "recommendations finished on 50000/131209 queries. users per second: 1513.79"
      ]
     },
     "metadata": {},
     "output_type": "display_data"
    },
    {
     "data": {
      "text/html": [
       "<pre>recommendations finished on 51000/131209 queries. users per second: 1508.18</pre>"
      ],
      "text/plain": [
       "recommendations finished on 51000/131209 queries. users per second: 1508.18"
      ]
     },
     "metadata": {},
     "output_type": "display_data"
    },
    {
     "data": {
      "text/html": [
       "<pre>recommendations finished on 52000/131209 queries. users per second: 1505.6</pre>"
      ],
      "text/plain": [
       "recommendations finished on 52000/131209 queries. users per second: 1505.6"
      ]
     },
     "metadata": {},
     "output_type": "display_data"
    },
    {
     "data": {
      "text/html": [
       "<pre>recommendations finished on 53000/131209 queries. users per second: 1497.75</pre>"
      ],
      "text/plain": [
       "recommendations finished on 53000/131209 queries. users per second: 1497.75"
      ]
     },
     "metadata": {},
     "output_type": "display_data"
    },
    {
     "data": {
      "text/html": [
       "<pre>recommendations finished on 54000/131209 queries. users per second: 1491.84</pre>"
      ],
      "text/plain": [
       "recommendations finished on 54000/131209 queries. users per second: 1491.84"
      ]
     },
     "metadata": {},
     "output_type": "display_data"
    },
    {
     "data": {
      "text/html": [
       "<pre>recommendations finished on 55000/131209 queries. users per second: 1483.83</pre>"
      ],
      "text/plain": [
       "recommendations finished on 55000/131209 queries. users per second: 1483.83"
      ]
     },
     "metadata": {},
     "output_type": "display_data"
    },
    {
     "data": {
      "text/html": [
       "<pre>recommendations finished on 56000/131209 queries. users per second: 1478.07</pre>"
      ],
      "text/plain": [
       "recommendations finished on 56000/131209 queries. users per second: 1478.07"
      ]
     },
     "metadata": {},
     "output_type": "display_data"
    },
    {
     "data": {
      "text/html": [
       "<pre>recommendations finished on 57000/131209 queries. users per second: 1471.94</pre>"
      ],
      "text/plain": [
       "recommendations finished on 57000/131209 queries. users per second: 1471.94"
      ]
     },
     "metadata": {},
     "output_type": "display_data"
    },
    {
     "data": {
      "text/html": [
       "<pre>recommendations finished on 58000/131209 queries. users per second: 1466.89</pre>"
      ],
      "text/plain": [
       "recommendations finished on 58000/131209 queries. users per second: 1466.89"
      ]
     },
     "metadata": {},
     "output_type": "display_data"
    },
    {
     "data": {
      "text/html": [
       "<pre>recommendations finished on 59000/131209 queries. users per second: 1463.07</pre>"
      ],
      "text/plain": [
       "recommendations finished on 59000/131209 queries. users per second: 1463.07"
      ]
     },
     "metadata": {},
     "output_type": "display_data"
    },
    {
     "data": {
      "text/html": [
       "<pre>recommendations finished on 60000/131209 queries. users per second: 1458.29</pre>"
      ],
      "text/plain": [
       "recommendations finished on 60000/131209 queries. users per second: 1458.29"
      ]
     },
     "metadata": {},
     "output_type": "display_data"
    },
    {
     "data": {
      "text/html": [
       "<pre>recommendations finished on 61000/131209 queries. users per second: 1455.06</pre>"
      ],
      "text/plain": [
       "recommendations finished on 61000/131209 queries. users per second: 1455.06"
      ]
     },
     "metadata": {},
     "output_type": "display_data"
    },
    {
     "data": {
      "text/html": [
       "<pre>recommendations finished on 62000/131209 queries. users per second: 1449.66</pre>"
      ],
      "text/plain": [
       "recommendations finished on 62000/131209 queries. users per second: 1449.66"
      ]
     },
     "metadata": {},
     "output_type": "display_data"
    },
    {
     "data": {
      "text/html": [
       "<pre>recommendations finished on 63000/131209 queries. users per second: 1444.28</pre>"
      ],
      "text/plain": [
       "recommendations finished on 63000/131209 queries. users per second: 1444.28"
      ]
     },
     "metadata": {},
     "output_type": "display_data"
    },
    {
     "data": {
      "text/html": [
       "<pre>recommendations finished on 64000/131209 queries. users per second: 1441.48</pre>"
      ],
      "text/plain": [
       "recommendations finished on 64000/131209 queries. users per second: 1441.48"
      ]
     },
     "metadata": {},
     "output_type": "display_data"
    },
    {
     "data": {
      "text/html": [
       "<pre>recommendations finished on 65000/131209 queries. users per second: 1437.63</pre>"
      ],
      "text/plain": [
       "recommendations finished on 65000/131209 queries. users per second: 1437.63"
      ]
     },
     "metadata": {},
     "output_type": "display_data"
    },
    {
     "data": {
      "text/html": [
       "<pre>recommendations finished on 66000/131209 queries. users per second: 1433.68</pre>"
      ],
      "text/plain": [
       "recommendations finished on 66000/131209 queries. users per second: 1433.68"
      ]
     },
     "metadata": {},
     "output_type": "display_data"
    },
    {
     "data": {
      "text/html": [
       "<pre>recommendations finished on 67000/131209 queries. users per second: 1429.75</pre>"
      ],
      "text/plain": [
       "recommendations finished on 67000/131209 queries. users per second: 1429.75"
      ]
     },
     "metadata": {},
     "output_type": "display_data"
    },
    {
     "data": {
      "text/html": [
       "<pre>recommendations finished on 68000/131209 queries. users per second: 1426.06</pre>"
      ],
      "text/plain": [
       "recommendations finished on 68000/131209 queries. users per second: 1426.06"
      ]
     },
     "metadata": {},
     "output_type": "display_data"
    },
    {
     "data": {
      "text/html": [
       "<pre>recommendations finished on 69000/131209 queries. users per second: 1423.12</pre>"
      ],
      "text/plain": [
       "recommendations finished on 69000/131209 queries. users per second: 1423.12"
      ]
     },
     "metadata": {},
     "output_type": "display_data"
    },
    {
     "data": {
      "text/html": [
       "<pre>recommendations finished on 70000/131209 queries. users per second: 1418.46</pre>"
      ],
      "text/plain": [
       "recommendations finished on 70000/131209 queries. users per second: 1418.46"
      ]
     },
     "metadata": {},
     "output_type": "display_data"
    },
    {
     "data": {
      "text/html": [
       "<pre>recommendations finished on 71000/131209 queries. users per second: 1415.65</pre>"
      ],
      "text/plain": [
       "recommendations finished on 71000/131209 queries. users per second: 1415.65"
      ]
     },
     "metadata": {},
     "output_type": "display_data"
    },
    {
     "data": {
      "text/html": [
       "<pre>recommendations finished on 72000/131209 queries. users per second: 1414.79</pre>"
      ],
      "text/plain": [
       "recommendations finished on 72000/131209 queries. users per second: 1414.79"
      ]
     },
     "metadata": {},
     "output_type": "display_data"
    },
    {
     "data": {
      "text/html": [
       "<pre>recommendations finished on 73000/131209 queries. users per second: 1410.89</pre>"
      ],
      "text/plain": [
       "recommendations finished on 73000/131209 queries. users per second: 1410.89"
      ]
     },
     "metadata": {},
     "output_type": "display_data"
    },
    {
     "data": {
      "text/html": [
       "<pre>recommendations finished on 74000/131209 queries. users per second: 1409.16</pre>"
      ],
      "text/plain": [
       "recommendations finished on 74000/131209 queries. users per second: 1409.16"
      ]
     },
     "metadata": {},
     "output_type": "display_data"
    },
    {
     "data": {
      "text/html": [
       "<pre>recommendations finished on 75000/131209 queries. users per second: 1406.14</pre>"
      ],
      "text/plain": [
       "recommendations finished on 75000/131209 queries. users per second: 1406.14"
      ]
     },
     "metadata": {},
     "output_type": "display_data"
    },
    {
     "data": {
      "text/html": [
       "<pre>recommendations finished on 76000/131209 queries. users per second: 1403.54</pre>"
      ],
      "text/plain": [
       "recommendations finished on 76000/131209 queries. users per second: 1403.54"
      ]
     },
     "metadata": {},
     "output_type": "display_data"
    },
    {
     "data": {
      "text/html": [
       "<pre>recommendations finished on 77000/131209 queries. users per second: 1400.63</pre>"
      ],
      "text/plain": [
       "recommendations finished on 77000/131209 queries. users per second: 1400.63"
      ]
     },
     "metadata": {},
     "output_type": "display_data"
    },
    {
     "data": {
      "text/html": [
       "<pre>recommendations finished on 78000/131209 queries. users per second: 1399.03</pre>"
      ],
      "text/plain": [
       "recommendations finished on 78000/131209 queries. users per second: 1399.03"
      ]
     },
     "metadata": {},
     "output_type": "display_data"
    },
    {
     "data": {
      "text/html": [
       "<pre>recommendations finished on 79000/131209 queries. users per second: 1397.95</pre>"
      ],
      "text/plain": [
       "recommendations finished on 79000/131209 queries. users per second: 1397.95"
      ]
     },
     "metadata": {},
     "output_type": "display_data"
    },
    {
     "data": {
      "text/html": [
       "<pre>recommendations finished on 80000/131209 queries. users per second: 1395.49</pre>"
      ],
      "text/plain": [
       "recommendations finished on 80000/131209 queries. users per second: 1395.49"
      ]
     },
     "metadata": {},
     "output_type": "display_data"
    },
    {
     "data": {
      "text/html": [
       "<pre>recommendations finished on 81000/131209 queries. users per second: 1392.75</pre>"
      ],
      "text/plain": [
       "recommendations finished on 81000/131209 queries. users per second: 1392.75"
      ]
     },
     "metadata": {},
     "output_type": "display_data"
    },
    {
     "data": {
      "text/html": [
       "<pre>recommendations finished on 82000/131209 queries. users per second: 1391.25</pre>"
      ],
      "text/plain": [
       "recommendations finished on 82000/131209 queries. users per second: 1391.25"
      ]
     },
     "metadata": {},
     "output_type": "display_data"
    },
    {
     "data": {
      "text/html": [
       "<pre>recommendations finished on 83000/131209 queries. users per second: 1390.92</pre>"
      ],
      "text/plain": [
       "recommendations finished on 83000/131209 queries. users per second: 1390.92"
      ]
     },
     "metadata": {},
     "output_type": "display_data"
    },
    {
     "data": {
      "text/html": [
       "<pre>recommendations finished on 84000/131209 queries. users per second: 1389</pre>"
      ],
      "text/plain": [
       "recommendations finished on 84000/131209 queries. users per second: 1389"
      ]
     },
     "metadata": {},
     "output_type": "display_data"
    },
    {
     "data": {
      "text/html": [
       "<pre>recommendations finished on 85000/131209 queries. users per second: 1387.38</pre>"
      ],
      "text/plain": [
       "recommendations finished on 85000/131209 queries. users per second: 1387.38"
      ]
     },
     "metadata": {},
     "output_type": "display_data"
    },
    {
     "data": {
      "text/html": [
       "<pre>recommendations finished on 86000/131209 queries. users per second: 1384.93</pre>"
      ],
      "text/plain": [
       "recommendations finished on 86000/131209 queries. users per second: 1384.93"
      ]
     },
     "metadata": {},
     "output_type": "display_data"
    },
    {
     "data": {
      "text/html": [
       "<pre>recommendations finished on 87000/131209 queries. users per second: 1382.82</pre>"
      ],
      "text/plain": [
       "recommendations finished on 87000/131209 queries. users per second: 1382.82"
      ]
     },
     "metadata": {},
     "output_type": "display_data"
    },
    {
     "data": {
      "text/html": [
       "<pre>recommendations finished on 88000/131209 queries. users per second: 1380.26</pre>"
      ],
      "text/plain": [
       "recommendations finished on 88000/131209 queries. users per second: 1380.26"
      ]
     },
     "metadata": {},
     "output_type": "display_data"
    },
    {
     "data": {
      "text/html": [
       "<pre>recommendations finished on 89000/131209 queries. users per second: 1378.65</pre>"
      ],
      "text/plain": [
       "recommendations finished on 89000/131209 queries. users per second: 1378.65"
      ]
     },
     "metadata": {},
     "output_type": "display_data"
    },
    {
     "data": {
      "text/html": [
       "<pre>recommendations finished on 90000/131209 queries. users per second: 1373.8</pre>"
      ],
      "text/plain": [
       "recommendations finished on 90000/131209 queries. users per second: 1373.8"
      ]
     },
     "metadata": {},
     "output_type": "display_data"
    },
    {
     "data": {
      "text/html": [
       "<pre>recommendations finished on 91000/131209 queries. users per second: 1369.81</pre>"
      ],
      "text/plain": [
       "recommendations finished on 91000/131209 queries. users per second: 1369.81"
      ]
     },
     "metadata": {},
     "output_type": "display_data"
    },
    {
     "data": {
      "text/html": [
       "<pre>recommendations finished on 92000/131209 queries. users per second: 1366.07</pre>"
      ],
      "text/plain": [
       "recommendations finished on 92000/131209 queries. users per second: 1366.07"
      ]
     },
     "metadata": {},
     "output_type": "display_data"
    },
    {
     "data": {
      "text/html": [
       "<pre>recommendations finished on 93000/131209 queries. users per second: 1364.95</pre>"
      ],
      "text/plain": [
       "recommendations finished on 93000/131209 queries. users per second: 1364.95"
      ]
     },
     "metadata": {},
     "output_type": "display_data"
    },
    {
     "data": {
      "text/html": [
       "<pre>recommendations finished on 94000/131209 queries. users per second: 1364.51</pre>"
      ],
      "text/plain": [
       "recommendations finished on 94000/131209 queries. users per second: 1364.51"
      ]
     },
     "metadata": {},
     "output_type": "display_data"
    },
    {
     "data": {
      "text/html": [
       "<pre>recommendations finished on 95000/131209 queries. users per second: 1361.16</pre>"
      ],
      "text/plain": [
       "recommendations finished on 95000/131209 queries. users per second: 1361.16"
      ]
     },
     "metadata": {},
     "output_type": "display_data"
    },
    {
     "data": {
      "text/html": [
       "<pre>recommendations finished on 96000/131209 queries. users per second: 1360.05</pre>"
      ],
      "text/plain": [
       "recommendations finished on 96000/131209 queries. users per second: 1360.05"
      ]
     },
     "metadata": {},
     "output_type": "display_data"
    },
    {
     "data": {
      "text/html": [
       "<pre>recommendations finished on 97000/131209 queries. users per second: 1359.47</pre>"
      ],
      "text/plain": [
       "recommendations finished on 97000/131209 queries. users per second: 1359.47"
      ]
     },
     "metadata": {},
     "output_type": "display_data"
    },
    {
     "data": {
      "text/html": [
       "<pre>recommendations finished on 98000/131209 queries. users per second: 1359.73</pre>"
      ],
      "text/plain": [
       "recommendations finished on 98000/131209 queries. users per second: 1359.73"
      ]
     },
     "metadata": {},
     "output_type": "display_data"
    },
    {
     "data": {
      "text/html": [
       "<pre>recommendations finished on 99000/131209 queries. users per second: 1357.74</pre>"
      ],
      "text/plain": [
       "recommendations finished on 99000/131209 queries. users per second: 1357.74"
      ]
     },
     "metadata": {},
     "output_type": "display_data"
    },
    {
     "data": {
      "text/html": [
       "<pre>recommendations finished on 100000/131209 queries. users per second: 1355.89</pre>"
      ],
      "text/plain": [
       "recommendations finished on 100000/131209 queries. users per second: 1355.89"
      ]
     },
     "metadata": {},
     "output_type": "display_data"
    },
    {
     "data": {
      "text/html": [
       "<pre>recommendations finished on 101000/131209 queries. users per second: 1353.55</pre>"
      ],
      "text/plain": [
       "recommendations finished on 101000/131209 queries. users per second: 1353.55"
      ]
     },
     "metadata": {},
     "output_type": "display_data"
    },
    {
     "data": {
      "text/html": [
       "<pre>recommendations finished on 102000/131209 queries. users per second: 1353.54</pre>"
      ],
      "text/plain": [
       "recommendations finished on 102000/131209 queries. users per second: 1353.54"
      ]
     },
     "metadata": {},
     "output_type": "display_data"
    },
    {
     "data": {
      "text/html": [
       "<pre>recommendations finished on 103000/131209 queries. users per second: 1351.67</pre>"
      ],
      "text/plain": [
       "recommendations finished on 103000/131209 queries. users per second: 1351.67"
      ]
     },
     "metadata": {},
     "output_type": "display_data"
    },
    {
     "data": {
      "text/html": [
       "<pre>recommendations finished on 104000/131209 queries. users per second: 1349.99</pre>"
      ],
      "text/plain": [
       "recommendations finished on 104000/131209 queries. users per second: 1349.99"
      ]
     },
     "metadata": {},
     "output_type": "display_data"
    },
    {
     "data": {
      "text/html": [
       "<pre>recommendations finished on 105000/131209 queries. users per second: 1349.52</pre>"
      ],
      "text/plain": [
       "recommendations finished on 105000/131209 queries. users per second: 1349.52"
      ]
     },
     "metadata": {},
     "output_type": "display_data"
    },
    {
     "data": {
      "text/html": [
       "<pre>recommendations finished on 106000/131209 queries. users per second: 1348.29</pre>"
      ],
      "text/plain": [
       "recommendations finished on 106000/131209 queries. users per second: 1348.29"
      ]
     },
     "metadata": {},
     "output_type": "display_data"
    },
    {
     "data": {
      "text/html": [
       "<pre>recommendations finished on 107000/131209 queries. users per second: 1347.46</pre>"
      ],
      "text/plain": [
       "recommendations finished on 107000/131209 queries. users per second: 1347.46"
      ]
     },
     "metadata": {},
     "output_type": "display_data"
    },
    {
     "data": {
      "text/html": [
       "<pre>recommendations finished on 108000/131209 queries. users per second: 1347.36</pre>"
      ],
      "text/plain": [
       "recommendations finished on 108000/131209 queries. users per second: 1347.36"
      ]
     },
     "metadata": {},
     "output_type": "display_data"
    },
    {
     "data": {
      "text/html": [
       "<pre>recommendations finished on 109000/131209 queries. users per second: 1346.26</pre>"
      ],
      "text/plain": [
       "recommendations finished on 109000/131209 queries. users per second: 1346.26"
      ]
     },
     "metadata": {},
     "output_type": "display_data"
    },
    {
     "data": {
      "text/html": [
       "<pre>recommendations finished on 110000/131209 queries. users per second: 1345.25</pre>"
      ],
      "text/plain": [
       "recommendations finished on 110000/131209 queries. users per second: 1345.25"
      ]
     },
     "metadata": {},
     "output_type": "display_data"
    },
    {
     "data": {
      "text/html": [
       "<pre>recommendations finished on 111000/131209 queries. users per second: 1344.69</pre>"
      ],
      "text/plain": [
       "recommendations finished on 111000/131209 queries. users per second: 1344.69"
      ]
     },
     "metadata": {},
     "output_type": "display_data"
    },
    {
     "data": {
      "text/html": [
       "<pre>recommendations finished on 112000/131209 queries. users per second: 1343.84</pre>"
      ],
      "text/plain": [
       "recommendations finished on 112000/131209 queries. users per second: 1343.84"
      ]
     },
     "metadata": {},
     "output_type": "display_data"
    },
    {
     "data": {
      "text/html": [
       "<pre>recommendations finished on 113000/131209 queries. users per second: 1342.82</pre>"
      ],
      "text/plain": [
       "recommendations finished on 113000/131209 queries. users per second: 1342.82"
      ]
     },
     "metadata": {},
     "output_type": "display_data"
    },
    {
     "data": {
      "text/html": [
       "<pre>recommendations finished on 114000/131209 queries. users per second: 1342.05</pre>"
      ],
      "text/plain": [
       "recommendations finished on 114000/131209 queries. users per second: 1342.05"
      ]
     },
     "metadata": {},
     "output_type": "display_data"
    },
    {
     "data": {
      "text/html": [
       "<pre>recommendations finished on 115000/131209 queries. users per second: 1341.68</pre>"
      ],
      "text/plain": [
       "recommendations finished on 115000/131209 queries. users per second: 1341.68"
      ]
     },
     "metadata": {},
     "output_type": "display_data"
    },
    {
     "data": {
      "text/html": [
       "<pre>recommendations finished on 116000/131209 queries. users per second: 1340.37</pre>"
      ],
      "text/plain": [
       "recommendations finished on 116000/131209 queries. users per second: 1340.37"
      ]
     },
     "metadata": {},
     "output_type": "display_data"
    },
    {
     "data": {
      "text/html": [
       "<pre>recommendations finished on 117000/131209 queries. users per second: 1340.28</pre>"
      ],
      "text/plain": [
       "recommendations finished on 117000/131209 queries. users per second: 1340.28"
      ]
     },
     "metadata": {},
     "output_type": "display_data"
    },
    {
     "data": {
      "text/html": [
       "<pre>recommendations finished on 118000/131209 queries. users per second: 1341.04</pre>"
      ],
      "text/plain": [
       "recommendations finished on 118000/131209 queries. users per second: 1341.04"
      ]
     },
     "metadata": {},
     "output_type": "display_data"
    },
    {
     "data": {
      "text/html": [
       "<pre>recommendations finished on 119000/131209 queries. users per second: 1339.62</pre>"
      ],
      "text/plain": [
       "recommendations finished on 119000/131209 queries. users per second: 1339.62"
      ]
     },
     "metadata": {},
     "output_type": "display_data"
    },
    {
     "data": {
      "text/html": [
       "<pre>recommendations finished on 120000/131209 queries. users per second: 1338.47</pre>"
      ],
      "text/plain": [
       "recommendations finished on 120000/131209 queries. users per second: 1338.47"
      ]
     },
     "metadata": {},
     "output_type": "display_data"
    },
    {
     "data": {
      "text/html": [
       "<pre>recommendations finished on 121000/131209 queries. users per second: 1338.15</pre>"
      ],
      "text/plain": [
       "recommendations finished on 121000/131209 queries. users per second: 1338.15"
      ]
     },
     "metadata": {},
     "output_type": "display_data"
    },
    {
     "data": {
      "text/html": [
       "<pre>recommendations finished on 122000/131209 queries. users per second: 1336.7</pre>"
      ],
      "text/plain": [
       "recommendations finished on 122000/131209 queries. users per second: 1336.7"
      ]
     },
     "metadata": {},
     "output_type": "display_data"
    },
    {
     "data": {
      "text/html": [
       "<pre>recommendations finished on 123000/131209 queries. users per second: 1333.52</pre>"
      ],
      "text/plain": [
       "recommendations finished on 123000/131209 queries. users per second: 1333.52"
      ]
     },
     "metadata": {},
     "output_type": "display_data"
    },
    {
     "data": {
      "text/html": [
       "<pre>recommendations finished on 124000/131209 queries. users per second: 1329.14</pre>"
      ],
      "text/plain": [
       "recommendations finished on 124000/131209 queries. users per second: 1329.14"
      ]
     },
     "metadata": {},
     "output_type": "display_data"
    },
    {
     "data": {
      "text/html": [
       "<pre>recommendations finished on 125000/131209 queries. users per second: 1327.04</pre>"
      ],
      "text/plain": [
       "recommendations finished on 125000/131209 queries. users per second: 1327.04"
      ]
     },
     "metadata": {},
     "output_type": "display_data"
    },
    {
     "data": {
      "text/html": [
       "<pre>recommendations finished on 126000/131209 queries. users per second: 1325.55</pre>"
      ],
      "text/plain": [
       "recommendations finished on 126000/131209 queries. users per second: 1325.55"
      ]
     },
     "metadata": {},
     "output_type": "display_data"
    },
    {
     "data": {
      "text/html": [
       "<pre>recommendations finished on 127000/131209 queries. users per second: 1323.46</pre>"
      ],
      "text/plain": [
       "recommendations finished on 127000/131209 queries. users per second: 1323.46"
      ]
     },
     "metadata": {},
     "output_type": "display_data"
    },
    {
     "data": {
      "text/html": [
       "<pre>recommendations finished on 128000/131209 queries. users per second: 1322.4</pre>"
      ],
      "text/plain": [
       "recommendations finished on 128000/131209 queries. users per second: 1322.4"
      ]
     },
     "metadata": {},
     "output_type": "display_data"
    },
    {
     "data": {
      "text/html": [
       "<pre>recommendations finished on 129000/131209 queries. users per second: 1321.58</pre>"
      ],
      "text/plain": [
       "recommendations finished on 129000/131209 queries. users per second: 1321.58"
      ]
     },
     "metadata": {},
     "output_type": "display_data"
    },
    {
     "data": {
      "text/html": [
       "<pre>recommendations finished on 130000/131209 queries. users per second: 1320.87</pre>"
      ],
      "text/plain": [
       "recommendations finished on 130000/131209 queries. users per second: 1320.87"
      ]
     },
     "metadata": {},
     "output_type": "display_data"
    },
    {
     "data": {
      "text/html": [
       "<pre>recommendations finished on 131000/131209 queries. users per second: 1318.8</pre>"
      ],
      "text/plain": [
       "recommendations finished on 131000/131209 queries. users per second: 1318.8"
      ]
     },
     "metadata": {},
     "output_type": "display_data"
    },
    {
     "name": "stdout",
     "output_type": "stream",
     "text": [
      "\n",
      "Precision and recall summary statistics by cutoff\n",
      "+--------+------------------------+------------------------+\n",
      "| cutoff |     mean_precision     |      mean_recall       |\n",
      "+--------+------------------------+------------------------+\n",
      "|   1    |          0.0           |          0.0           |\n",
      "|   2    |          0.0           |          0.0           |\n",
      "|   3    |          0.0           |          0.0           |\n",
      "|   4    |          0.0           |          0.0           |\n",
      "|   5    |          0.0           |          0.0           |\n",
      "|   6    |          0.0           |          0.0           |\n",
      "|   7    |          0.0           |          0.0           |\n",
      "|   8    |          0.0           |          0.0           |\n",
      "|   9    | 8.468253786791372e-07  | 1.9053571020280559e-06 |\n",
      "|   10   | 1.5242856816224407e-06 | 2.8580356530421078e-06 |\n",
      "+--------+------------------------+------------------------+\n",
      "[10 rows x 3 columns]\n",
      "\n",
      "\n",
      "Overall RMSE: 2.0280016929439006\n",
      "\n",
      "Per User RMSE (best)\n",
      "+---------+------+-------+\n",
      "| user_id | rmse | count |\n",
      "+---------+------+-------+\n",
      "|  47883  | 0.0  |   2   |\n",
      "+---------+------+-------+\n",
      "[1 rows x 3 columns]\n",
      "\n",
      "\n",
      "Per User RMSE (worst)\n",
      "+---------+-------------------+-------+\n",
      "| user_id |        rmse       | count |\n",
      "+---------+-------------------+-------+\n",
      "|  136163 | 7.727272727272727 |   1   |\n",
      "+---------+-------------------+-------+\n",
      "[1 rows x 3 columns]\n",
      "\n",
      "\n",
      "Per Item RMSE (best)\n",
      "+------------+------+-------+\n",
      "| product_id | rmse | count |\n",
      "+------------+------+-------+\n",
      "|   47341    | 0.0  |   2   |\n",
      "+------------+------+-------+\n",
      "[1 rows x 3 columns]\n",
      "\n",
      "\n",
      "Per Item RMSE (worst)\n",
      "+------------+------+-------+\n",
      "| product_id | rmse | count |\n",
      "+------------+------+-------+\n",
      "|    6433    | 16.0 |   1   |\n",
      "+------------+------+-------+\n",
      "[1 rows x 3 columns]\n",
      "\n",
      "PROGRESS: Evaluate model Cosine Similarity on Purchase Counts\n"
     ]
    },
    {
     "data": {
      "text/html": [
       "<pre>recommendations finished on 1000/131209 queries. users per second: 1395.86</pre>"
      ],
      "text/plain": [
       "recommendations finished on 1000/131209 queries. users per second: 1395.86"
      ]
     },
     "metadata": {},
     "output_type": "display_data"
    },
    {
     "data": {
      "text/html": [
       "<pre>recommendations finished on 2000/131209 queries. users per second: 1351.56</pre>"
      ],
      "text/plain": [
       "recommendations finished on 2000/131209 queries. users per second: 1351.56"
      ]
     },
     "metadata": {},
     "output_type": "display_data"
    },
    {
     "data": {
      "text/html": [
       "<pre>recommendations finished on 3000/131209 queries. users per second: 1368.86</pre>"
      ],
      "text/plain": [
       "recommendations finished on 3000/131209 queries. users per second: 1368.86"
      ]
     },
     "metadata": {},
     "output_type": "display_data"
    },
    {
     "data": {
      "text/html": [
       "<pre>recommendations finished on 4000/131209 queries. users per second: 1371.02</pre>"
      ],
      "text/plain": [
       "recommendations finished on 4000/131209 queries. users per second: 1371.02"
      ]
     },
     "metadata": {},
     "output_type": "display_data"
    },
    {
     "data": {
      "text/html": [
       "<pre>recommendations finished on 5000/131209 queries. users per second: 1352.53</pre>"
      ],
      "text/plain": [
       "recommendations finished on 5000/131209 queries. users per second: 1352.53"
      ]
     },
     "metadata": {},
     "output_type": "display_data"
    },
    {
     "data": {
      "text/html": [
       "<pre>recommendations finished on 6000/131209 queries. users per second: 1336.88</pre>"
      ],
      "text/plain": [
       "recommendations finished on 6000/131209 queries. users per second: 1336.88"
      ]
     },
     "metadata": {},
     "output_type": "display_data"
    },
    {
     "data": {
      "text/html": [
       "<pre>recommendations finished on 7000/131209 queries. users per second: 1336.6</pre>"
      ],
      "text/plain": [
       "recommendations finished on 7000/131209 queries. users per second: 1336.6"
      ]
     },
     "metadata": {},
     "output_type": "display_data"
    },
    {
     "data": {
      "text/html": [
       "<pre>recommendations finished on 8000/131209 queries. users per second: 1331.04</pre>"
      ],
      "text/plain": [
       "recommendations finished on 8000/131209 queries. users per second: 1331.04"
      ]
     },
     "metadata": {},
     "output_type": "display_data"
    },
    {
     "data": {
      "text/html": [
       "<pre>recommendations finished on 9000/131209 queries. users per second: 1331.85</pre>"
      ],
      "text/plain": [
       "recommendations finished on 9000/131209 queries. users per second: 1331.85"
      ]
     },
     "metadata": {},
     "output_type": "display_data"
    },
    {
     "data": {
      "text/html": [
       "<pre>recommendations finished on 10000/131209 queries. users per second: 1333.04</pre>"
      ],
      "text/plain": [
       "recommendations finished on 10000/131209 queries. users per second: 1333.04"
      ]
     },
     "metadata": {},
     "output_type": "display_data"
    },
    {
     "data": {
      "text/html": [
       "<pre>recommendations finished on 11000/131209 queries. users per second: 1331.02</pre>"
      ],
      "text/plain": [
       "recommendations finished on 11000/131209 queries. users per second: 1331.02"
      ]
     },
     "metadata": {},
     "output_type": "display_data"
    },
    {
     "data": {
      "text/html": [
       "<pre>recommendations finished on 12000/131209 queries. users per second: 1330.84</pre>"
      ],
      "text/plain": [
       "recommendations finished on 12000/131209 queries. users per second: 1330.84"
      ]
     },
     "metadata": {},
     "output_type": "display_data"
    },
    {
     "data": {
      "text/html": [
       "<pre>recommendations finished on 13000/131209 queries. users per second: 1332.96</pre>"
      ],
      "text/plain": [
       "recommendations finished on 13000/131209 queries. users per second: 1332.96"
      ]
     },
     "metadata": {},
     "output_type": "display_data"
    },
    {
     "data": {
      "text/html": [
       "<pre>recommendations finished on 14000/131209 queries. users per second: 1335.76</pre>"
      ],
      "text/plain": [
       "recommendations finished on 14000/131209 queries. users per second: 1335.76"
      ]
     },
     "metadata": {},
     "output_type": "display_data"
    },
    {
     "data": {
      "text/html": [
       "<pre>recommendations finished on 15000/131209 queries. users per second: 1334.21</pre>"
      ],
      "text/plain": [
       "recommendations finished on 15000/131209 queries. users per second: 1334.21"
      ]
     },
     "metadata": {},
     "output_type": "display_data"
    },
    {
     "data": {
      "text/html": [
       "<pre>recommendations finished on 16000/131209 queries. users per second: 1332.01</pre>"
      ],
      "text/plain": [
       "recommendations finished on 16000/131209 queries. users per second: 1332.01"
      ]
     },
     "metadata": {},
     "output_type": "display_data"
    },
    {
     "data": {
      "text/html": [
       "<pre>recommendations finished on 17000/131209 queries. users per second: 1329.52</pre>"
      ],
      "text/plain": [
       "recommendations finished on 17000/131209 queries. users per second: 1329.52"
      ]
     },
     "metadata": {},
     "output_type": "display_data"
    },
    {
     "data": {
      "text/html": [
       "<pre>recommendations finished on 18000/131209 queries. users per second: 1331.22</pre>"
      ],
      "text/plain": [
       "recommendations finished on 18000/131209 queries. users per second: 1331.22"
      ]
     },
     "metadata": {},
     "output_type": "display_data"
    },
    {
     "data": {
      "text/html": [
       "<pre>recommendations finished on 19000/131209 queries. users per second: 1328.64</pre>"
      ],
      "text/plain": [
       "recommendations finished on 19000/131209 queries. users per second: 1328.64"
      ]
     },
     "metadata": {},
     "output_type": "display_data"
    },
    {
     "data": {
      "text/html": [
       "<pre>recommendations finished on 20000/131209 queries. users per second: 1327.25</pre>"
      ],
      "text/plain": [
       "recommendations finished on 20000/131209 queries. users per second: 1327.25"
      ]
     },
     "metadata": {},
     "output_type": "display_data"
    },
    {
     "data": {
      "text/html": [
       "<pre>recommendations finished on 21000/131209 queries. users per second: 1325.32</pre>"
      ],
      "text/plain": [
       "recommendations finished on 21000/131209 queries. users per second: 1325.32"
      ]
     },
     "metadata": {},
     "output_type": "display_data"
    },
    {
     "data": {
      "text/html": [
       "<pre>recommendations finished on 22000/131209 queries. users per second: 1323.73</pre>"
      ],
      "text/plain": [
       "recommendations finished on 22000/131209 queries. users per second: 1323.73"
      ]
     },
     "metadata": {},
     "output_type": "display_data"
    },
    {
     "data": {
      "text/html": [
       "<pre>recommendations finished on 23000/131209 queries. users per second: 1322.17</pre>"
      ],
      "text/plain": [
       "recommendations finished on 23000/131209 queries. users per second: 1322.17"
      ]
     },
     "metadata": {},
     "output_type": "display_data"
    },
    {
     "data": {
      "text/html": [
       "<pre>recommendations finished on 24000/131209 queries. users per second: 1322.16</pre>"
      ],
      "text/plain": [
       "recommendations finished on 24000/131209 queries. users per second: 1322.16"
      ]
     },
     "metadata": {},
     "output_type": "display_data"
    },
    {
     "data": {
      "text/html": [
       "<pre>recommendations finished on 25000/131209 queries. users per second: 1320.83</pre>"
      ],
      "text/plain": [
       "recommendations finished on 25000/131209 queries. users per second: 1320.83"
      ]
     },
     "metadata": {},
     "output_type": "display_data"
    },
    {
     "data": {
      "text/html": [
       "<pre>recommendations finished on 26000/131209 queries. users per second: 1319.56</pre>"
      ],
      "text/plain": [
       "recommendations finished on 26000/131209 queries. users per second: 1319.56"
      ]
     },
     "metadata": {},
     "output_type": "display_data"
    },
    {
     "data": {
      "text/html": [
       "<pre>recommendations finished on 27000/131209 queries. users per second: 1319.49</pre>"
      ],
      "text/plain": [
       "recommendations finished on 27000/131209 queries. users per second: 1319.49"
      ]
     },
     "metadata": {},
     "output_type": "display_data"
    },
    {
     "data": {
      "text/html": [
       "<pre>recommendations finished on 28000/131209 queries. users per second: 1318.9</pre>"
      ],
      "text/plain": [
       "recommendations finished on 28000/131209 queries. users per second: 1318.9"
      ]
     },
     "metadata": {},
     "output_type": "display_data"
    },
    {
     "data": {
      "text/html": [
       "<pre>recommendations finished on 29000/131209 queries. users per second: 1318.73</pre>"
      ],
      "text/plain": [
       "recommendations finished on 29000/131209 queries. users per second: 1318.73"
      ]
     },
     "metadata": {},
     "output_type": "display_data"
    },
    {
     "data": {
      "text/html": [
       "<pre>recommendations finished on 30000/131209 queries. users per second: 1318.36</pre>"
      ],
      "text/plain": [
       "recommendations finished on 30000/131209 queries. users per second: 1318.36"
      ]
     },
     "metadata": {},
     "output_type": "display_data"
    },
    {
     "data": {
      "text/html": [
       "<pre>recommendations finished on 31000/131209 queries. users per second: 1317.04</pre>"
      ],
      "text/plain": [
       "recommendations finished on 31000/131209 queries. users per second: 1317.04"
      ]
     },
     "metadata": {},
     "output_type": "display_data"
    },
    {
     "data": {
      "text/html": [
       "<pre>recommendations finished on 32000/131209 queries. users per second: 1316.66</pre>"
      ],
      "text/plain": [
       "recommendations finished on 32000/131209 queries. users per second: 1316.66"
      ]
     },
     "metadata": {},
     "output_type": "display_data"
    },
    {
     "data": {
      "text/html": [
       "<pre>recommendations finished on 33000/131209 queries. users per second: 1316.28</pre>"
      ],
      "text/plain": [
       "recommendations finished on 33000/131209 queries. users per second: 1316.28"
      ]
     },
     "metadata": {},
     "output_type": "display_data"
    },
    {
     "data": {
      "text/html": [
       "<pre>recommendations finished on 34000/131209 queries. users per second: 1316.04</pre>"
      ],
      "text/plain": [
       "recommendations finished on 34000/131209 queries. users per second: 1316.04"
      ]
     },
     "metadata": {},
     "output_type": "display_data"
    },
    {
     "data": {
      "text/html": [
       "<pre>recommendations finished on 35000/131209 queries. users per second: 1315.37</pre>"
      ],
      "text/plain": [
       "recommendations finished on 35000/131209 queries. users per second: 1315.37"
      ]
     },
     "metadata": {},
     "output_type": "display_data"
    },
    {
     "data": {
      "text/html": [
       "<pre>recommendations finished on 36000/131209 queries. users per second: 1315.41</pre>"
      ],
      "text/plain": [
       "recommendations finished on 36000/131209 queries. users per second: 1315.41"
      ]
     },
     "metadata": {},
     "output_type": "display_data"
    },
    {
     "data": {
      "text/html": [
       "<pre>recommendations finished on 37000/131209 queries. users per second: 1314.58</pre>"
      ],
      "text/plain": [
       "recommendations finished on 37000/131209 queries. users per second: 1314.58"
      ]
     },
     "metadata": {},
     "output_type": "display_data"
    },
    {
     "data": {
      "text/html": [
       "<pre>recommendations finished on 38000/131209 queries. users per second: 1314.67</pre>"
      ],
      "text/plain": [
       "recommendations finished on 38000/131209 queries. users per second: 1314.67"
      ]
     },
     "metadata": {},
     "output_type": "display_data"
    },
    {
     "data": {
      "text/html": [
       "<pre>recommendations finished on 39000/131209 queries. users per second: 1312.89</pre>"
      ],
      "text/plain": [
       "recommendations finished on 39000/131209 queries. users per second: 1312.89"
      ]
     },
     "metadata": {},
     "output_type": "display_data"
    },
    {
     "data": {
      "text/html": [
       "<pre>recommendations finished on 40000/131209 queries. users per second: 1309.36</pre>"
      ],
      "text/plain": [
       "recommendations finished on 40000/131209 queries. users per second: 1309.36"
      ]
     },
     "metadata": {},
     "output_type": "display_data"
    },
    {
     "data": {
      "text/html": [
       "<pre>recommendations finished on 41000/131209 queries. users per second: 1306.33</pre>"
      ],
      "text/plain": [
       "recommendations finished on 41000/131209 queries. users per second: 1306.33"
      ]
     },
     "metadata": {},
     "output_type": "display_data"
    },
    {
     "data": {
      "text/html": [
       "<pre>recommendations finished on 42000/131209 queries. users per second: 1305.84</pre>"
      ],
      "text/plain": [
       "recommendations finished on 42000/131209 queries. users per second: 1305.84"
      ]
     },
     "metadata": {},
     "output_type": "display_data"
    },
    {
     "data": {
      "text/html": [
       "<pre>recommendations finished on 43000/131209 queries. users per second: 1305.38</pre>"
      ],
      "text/plain": [
       "recommendations finished on 43000/131209 queries. users per second: 1305.38"
      ]
     },
     "metadata": {},
     "output_type": "display_data"
    },
    {
     "data": {
      "text/html": [
       "<pre>recommendations finished on 44000/131209 queries. users per second: 1299.7</pre>"
      ],
      "text/plain": [
       "recommendations finished on 44000/131209 queries. users per second: 1299.7"
      ]
     },
     "metadata": {},
     "output_type": "display_data"
    },
    {
     "data": {
      "text/html": [
       "<pre>recommendations finished on 45000/131209 queries. users per second: 1299.46</pre>"
      ],
      "text/plain": [
       "recommendations finished on 45000/131209 queries. users per second: 1299.46"
      ]
     },
     "metadata": {},
     "output_type": "display_data"
    },
    {
     "data": {
      "text/html": [
       "<pre>recommendations finished on 46000/131209 queries. users per second: 1299.05</pre>"
      ],
      "text/plain": [
       "recommendations finished on 46000/131209 queries. users per second: 1299.05"
      ]
     },
     "metadata": {},
     "output_type": "display_data"
    },
    {
     "data": {
      "text/html": [
       "<pre>recommendations finished on 47000/131209 queries. users per second: 1297.13</pre>"
      ],
      "text/plain": [
       "recommendations finished on 47000/131209 queries. users per second: 1297.13"
      ]
     },
     "metadata": {},
     "output_type": "display_data"
    },
    {
     "data": {
      "text/html": [
       "<pre>recommendations finished on 48000/131209 queries. users per second: 1294.71</pre>"
      ],
      "text/plain": [
       "recommendations finished on 48000/131209 queries. users per second: 1294.71"
      ]
     },
     "metadata": {},
     "output_type": "display_data"
    },
    {
     "data": {
      "text/html": [
       "<pre>recommendations finished on 49000/131209 queries. users per second: 1291.57</pre>"
      ],
      "text/plain": [
       "recommendations finished on 49000/131209 queries. users per second: 1291.57"
      ]
     },
     "metadata": {},
     "output_type": "display_data"
    },
    {
     "data": {
      "text/html": [
       "<pre>recommendations finished on 50000/131209 queries. users per second: 1291.11</pre>"
      ],
      "text/plain": [
       "recommendations finished on 50000/131209 queries. users per second: 1291.11"
      ]
     },
     "metadata": {},
     "output_type": "display_data"
    },
    {
     "data": {
      "text/html": [
       "<pre>recommendations finished on 51000/131209 queries. users per second: 1292.08</pre>"
      ],
      "text/plain": [
       "recommendations finished on 51000/131209 queries. users per second: 1292.08"
      ]
     },
     "metadata": {},
     "output_type": "display_data"
    },
    {
     "data": {
      "text/html": [
       "<pre>recommendations finished on 52000/131209 queries. users per second: 1292.68</pre>"
      ],
      "text/plain": [
       "recommendations finished on 52000/131209 queries. users per second: 1292.68"
      ]
     },
     "metadata": {},
     "output_type": "display_data"
    },
    {
     "data": {
      "text/html": [
       "<pre>recommendations finished on 53000/131209 queries. users per second: 1293.67</pre>"
      ],
      "text/plain": [
       "recommendations finished on 53000/131209 queries. users per second: 1293.67"
      ]
     },
     "metadata": {},
     "output_type": "display_data"
    },
    {
     "data": {
      "text/html": [
       "<pre>recommendations finished on 54000/131209 queries. users per second: 1294.05</pre>"
      ],
      "text/plain": [
       "recommendations finished on 54000/131209 queries. users per second: 1294.05"
      ]
     },
     "metadata": {},
     "output_type": "display_data"
    },
    {
     "data": {
      "text/html": [
       "<pre>recommendations finished on 55000/131209 queries. users per second: 1292.81</pre>"
      ],
      "text/plain": [
       "recommendations finished on 55000/131209 queries. users per second: 1292.81"
      ]
     },
     "metadata": {},
     "output_type": "display_data"
    },
    {
     "data": {
      "text/html": [
       "<pre>recommendations finished on 56000/131209 queries. users per second: 1290.92</pre>"
      ],
      "text/plain": [
       "recommendations finished on 56000/131209 queries. users per second: 1290.92"
      ]
     },
     "metadata": {},
     "output_type": "display_data"
    },
    {
     "data": {
      "text/html": [
       "<pre>recommendations finished on 57000/131209 queries. users per second: 1291.22</pre>"
      ],
      "text/plain": [
       "recommendations finished on 57000/131209 queries. users per second: 1291.22"
      ]
     },
     "metadata": {},
     "output_type": "display_data"
    },
    {
     "data": {
      "text/html": [
       "<pre>recommendations finished on 58000/131209 queries. users per second: 1291.63</pre>"
      ],
      "text/plain": [
       "recommendations finished on 58000/131209 queries. users per second: 1291.63"
      ]
     },
     "metadata": {},
     "output_type": "display_data"
    },
    {
     "data": {
      "text/html": [
       "<pre>recommendations finished on 59000/131209 queries. users per second: 1292.19</pre>"
      ],
      "text/plain": [
       "recommendations finished on 59000/131209 queries. users per second: 1292.19"
      ]
     },
     "metadata": {},
     "output_type": "display_data"
    },
    {
     "data": {
      "text/html": [
       "<pre>recommendations finished on 60000/131209 queries. users per second: 1292.49</pre>"
      ],
      "text/plain": [
       "recommendations finished on 60000/131209 queries. users per second: 1292.49"
      ]
     },
     "metadata": {},
     "output_type": "display_data"
    },
    {
     "data": {
      "text/html": [
       "<pre>recommendations finished on 61000/131209 queries. users per second: 1293.02</pre>"
      ],
      "text/plain": [
       "recommendations finished on 61000/131209 queries. users per second: 1293.02"
      ]
     },
     "metadata": {},
     "output_type": "display_data"
    },
    {
     "data": {
      "text/html": [
       "<pre>recommendations finished on 62000/131209 queries. users per second: 1293.78</pre>"
      ],
      "text/plain": [
       "recommendations finished on 62000/131209 queries. users per second: 1293.78"
      ]
     },
     "metadata": {},
     "output_type": "display_data"
    },
    {
     "data": {
      "text/html": [
       "<pre>recommendations finished on 63000/131209 queries. users per second: 1294.47</pre>"
      ],
      "text/plain": [
       "recommendations finished on 63000/131209 queries. users per second: 1294.47"
      ]
     },
     "metadata": {},
     "output_type": "display_data"
    },
    {
     "data": {
      "text/html": [
       "<pre>recommendations finished on 64000/131209 queries. users per second: 1295.09</pre>"
      ],
      "text/plain": [
       "recommendations finished on 64000/131209 queries. users per second: 1295.09"
      ]
     },
     "metadata": {},
     "output_type": "display_data"
    },
    {
     "data": {
      "text/html": [
       "<pre>recommendations finished on 65000/131209 queries. users per second: 1295.69</pre>"
      ],
      "text/plain": [
       "recommendations finished on 65000/131209 queries. users per second: 1295.69"
      ]
     },
     "metadata": {},
     "output_type": "display_data"
    },
    {
     "data": {
      "text/html": [
       "<pre>recommendations finished on 66000/131209 queries. users per second: 1296.14</pre>"
      ],
      "text/plain": [
       "recommendations finished on 66000/131209 queries. users per second: 1296.14"
      ]
     },
     "metadata": {},
     "output_type": "display_data"
    },
    {
     "data": {
      "text/html": [
       "<pre>recommendations finished on 67000/131209 queries. users per second: 1297.13</pre>"
      ],
      "text/plain": [
       "recommendations finished on 67000/131209 queries. users per second: 1297.13"
      ]
     },
     "metadata": {},
     "output_type": "display_data"
    },
    {
     "data": {
      "text/html": [
       "<pre>recommendations finished on 68000/131209 queries. users per second: 1298.26</pre>"
      ],
      "text/plain": [
       "recommendations finished on 68000/131209 queries. users per second: 1298.26"
      ]
     },
     "metadata": {},
     "output_type": "display_data"
    },
    {
     "data": {
      "text/html": [
       "<pre>recommendations finished on 69000/131209 queries. users per second: 1299.49</pre>"
      ],
      "text/plain": [
       "recommendations finished on 69000/131209 queries. users per second: 1299.49"
      ]
     },
     "metadata": {},
     "output_type": "display_data"
    },
    {
     "data": {
      "text/html": [
       "<pre>recommendations finished on 70000/131209 queries. users per second: 1300.41</pre>"
      ],
      "text/plain": [
       "recommendations finished on 70000/131209 queries. users per second: 1300.41"
      ]
     },
     "metadata": {},
     "output_type": "display_data"
    },
    {
     "data": {
      "text/html": [
       "<pre>recommendations finished on 71000/131209 queries. users per second: 1301.24</pre>"
      ],
      "text/plain": [
       "recommendations finished on 71000/131209 queries. users per second: 1301.24"
      ]
     },
     "metadata": {},
     "output_type": "display_data"
    },
    {
     "data": {
      "text/html": [
       "<pre>recommendations finished on 72000/131209 queries. users per second: 1302.23</pre>"
      ],
      "text/plain": [
       "recommendations finished on 72000/131209 queries. users per second: 1302.23"
      ]
     },
     "metadata": {},
     "output_type": "display_data"
    },
    {
     "data": {
      "text/html": [
       "<pre>recommendations finished on 73000/131209 queries. users per second: 1303.29</pre>"
      ],
      "text/plain": [
       "recommendations finished on 73000/131209 queries. users per second: 1303.29"
      ]
     },
     "metadata": {},
     "output_type": "display_data"
    },
    {
     "data": {
      "text/html": [
       "<pre>recommendations finished on 74000/131209 queries. users per second: 1304.29</pre>"
      ],
      "text/plain": [
       "recommendations finished on 74000/131209 queries. users per second: 1304.29"
      ]
     },
     "metadata": {},
     "output_type": "display_data"
    },
    {
     "data": {
      "text/html": [
       "<pre>recommendations finished on 75000/131209 queries. users per second: 1304.84</pre>"
      ],
      "text/plain": [
       "recommendations finished on 75000/131209 queries. users per second: 1304.84"
      ]
     },
     "metadata": {},
     "output_type": "display_data"
    },
    {
     "data": {
      "text/html": [
       "<pre>recommendations finished on 76000/131209 queries. users per second: 1305.19</pre>"
      ],
      "text/plain": [
       "recommendations finished on 76000/131209 queries. users per second: 1305.19"
      ]
     },
     "metadata": {},
     "output_type": "display_data"
    },
    {
     "data": {
      "text/html": [
       "<pre>recommendations finished on 77000/131209 queries. users per second: 1306.06</pre>"
      ],
      "text/plain": [
       "recommendations finished on 77000/131209 queries. users per second: 1306.06"
      ]
     },
     "metadata": {},
     "output_type": "display_data"
    },
    {
     "data": {
      "text/html": [
       "<pre>recommendations finished on 78000/131209 queries. users per second: 1306.14</pre>"
      ],
      "text/plain": [
       "recommendations finished on 78000/131209 queries. users per second: 1306.14"
      ]
     },
     "metadata": {},
     "output_type": "display_data"
    },
    {
     "data": {
      "text/html": [
       "<pre>recommendations finished on 79000/131209 queries. users per second: 1306.84</pre>"
      ],
      "text/plain": [
       "recommendations finished on 79000/131209 queries. users per second: 1306.84"
      ]
     },
     "metadata": {},
     "output_type": "display_data"
    },
    {
     "data": {
      "text/html": [
       "<pre>recommendations finished on 80000/131209 queries. users per second: 1307.54</pre>"
      ],
      "text/plain": [
       "recommendations finished on 80000/131209 queries. users per second: 1307.54"
      ]
     },
     "metadata": {},
     "output_type": "display_data"
    },
    {
     "data": {
      "text/html": [
       "<pre>recommendations finished on 81000/131209 queries. users per second: 1307.75</pre>"
      ],
      "text/plain": [
       "recommendations finished on 81000/131209 queries. users per second: 1307.75"
      ]
     },
     "metadata": {},
     "output_type": "display_data"
    },
    {
     "data": {
      "text/html": [
       "<pre>recommendations finished on 82000/131209 queries. users per second: 1308.07</pre>"
      ],
      "text/plain": [
       "recommendations finished on 82000/131209 queries. users per second: 1308.07"
      ]
     },
     "metadata": {},
     "output_type": "display_data"
    },
    {
     "data": {
      "text/html": [
       "<pre>recommendations finished on 83000/131209 queries. users per second: 1307.66</pre>"
      ],
      "text/plain": [
       "recommendations finished on 83000/131209 queries. users per second: 1307.66"
      ]
     },
     "metadata": {},
     "output_type": "display_data"
    },
    {
     "data": {
      "text/html": [
       "<pre>recommendations finished on 84000/131209 queries. users per second: 1307.56</pre>"
      ],
      "text/plain": [
       "recommendations finished on 84000/131209 queries. users per second: 1307.56"
      ]
     },
     "metadata": {},
     "output_type": "display_data"
    },
    {
     "data": {
      "text/html": [
       "<pre>recommendations finished on 85000/131209 queries. users per second: 1303.37</pre>"
      ],
      "text/plain": [
       "recommendations finished on 85000/131209 queries. users per second: 1303.37"
      ]
     },
     "metadata": {},
     "output_type": "display_data"
    },
    {
     "data": {
      "text/html": [
       "<pre>recommendations finished on 86000/131209 queries. users per second: 1298.72</pre>"
      ],
      "text/plain": [
       "recommendations finished on 86000/131209 queries. users per second: 1298.72"
      ]
     },
     "metadata": {},
     "output_type": "display_data"
    },
    {
     "data": {
      "text/html": [
       "<pre>recommendations finished on 87000/131209 queries. users per second: 1294.53</pre>"
      ],
      "text/plain": [
       "recommendations finished on 87000/131209 queries. users per second: 1294.53"
      ]
     },
     "metadata": {},
     "output_type": "display_data"
    },
    {
     "data": {
      "text/html": [
       "<pre>recommendations finished on 88000/131209 queries. users per second: 1290.69</pre>"
      ],
      "text/plain": [
       "recommendations finished on 88000/131209 queries. users per second: 1290.69"
      ]
     },
     "metadata": {},
     "output_type": "display_data"
    },
    {
     "data": {
      "text/html": [
       "<pre>recommendations finished on 89000/131209 queries. users per second: 1285.86</pre>"
      ],
      "text/plain": [
       "recommendations finished on 89000/131209 queries. users per second: 1285.86"
      ]
     },
     "metadata": {},
     "output_type": "display_data"
    },
    {
     "data": {
      "text/html": [
       "<pre>recommendations finished on 90000/131209 queries. users per second: 1281.25</pre>"
      ],
      "text/plain": [
       "recommendations finished on 90000/131209 queries. users per second: 1281.25"
      ]
     },
     "metadata": {},
     "output_type": "display_data"
    },
    {
     "data": {
      "text/html": [
       "<pre>recommendations finished on 91000/131209 queries. users per second: 1280.9</pre>"
      ],
      "text/plain": [
       "recommendations finished on 91000/131209 queries. users per second: 1280.9"
      ]
     },
     "metadata": {},
     "output_type": "display_data"
    },
    {
     "data": {
      "text/html": [
       "<pre>recommendations finished on 92000/131209 queries. users per second: 1281.23</pre>"
      ],
      "text/plain": [
       "recommendations finished on 92000/131209 queries. users per second: 1281.23"
      ]
     },
     "metadata": {},
     "output_type": "display_data"
    },
    {
     "data": {
      "text/html": [
       "<pre>recommendations finished on 93000/131209 queries. users per second: 1281.98</pre>"
      ],
      "text/plain": [
       "recommendations finished on 93000/131209 queries. users per second: 1281.98"
      ]
     },
     "metadata": {},
     "output_type": "display_data"
    },
    {
     "data": {
      "text/html": [
       "<pre>recommendations finished on 94000/131209 queries. users per second: 1282.56</pre>"
      ],
      "text/plain": [
       "recommendations finished on 94000/131209 queries. users per second: 1282.56"
      ]
     },
     "metadata": {},
     "output_type": "display_data"
    },
    {
     "data": {
      "text/html": [
       "<pre>recommendations finished on 95000/131209 queries. users per second: 1282.95</pre>"
      ],
      "text/plain": [
       "recommendations finished on 95000/131209 queries. users per second: 1282.95"
      ]
     },
     "metadata": {},
     "output_type": "display_data"
    },
    {
     "data": {
      "text/html": [
       "<pre>recommendations finished on 96000/131209 queries. users per second: 1283.67</pre>"
      ],
      "text/plain": [
       "recommendations finished on 96000/131209 queries. users per second: 1283.67"
      ]
     },
     "metadata": {},
     "output_type": "display_data"
    },
    {
     "data": {
      "text/html": [
       "<pre>recommendations finished on 97000/131209 queries. users per second: 1284.26</pre>"
      ],
      "text/plain": [
       "recommendations finished on 97000/131209 queries. users per second: 1284.26"
      ]
     },
     "metadata": {},
     "output_type": "display_data"
    },
    {
     "data": {
      "text/html": [
       "<pre>recommendations finished on 98000/131209 queries. users per second: 1284.67</pre>"
      ],
      "text/plain": [
       "recommendations finished on 98000/131209 queries. users per second: 1284.67"
      ]
     },
     "metadata": {},
     "output_type": "display_data"
    },
    {
     "data": {
      "text/html": [
       "<pre>recommendations finished on 99000/131209 queries. users per second: 1285.14</pre>"
      ],
      "text/plain": [
       "recommendations finished on 99000/131209 queries. users per second: 1285.14"
      ]
     },
     "metadata": {},
     "output_type": "display_data"
    },
    {
     "data": {
      "text/html": [
       "<pre>recommendations finished on 100000/131209 queries. users per second: 1285.55</pre>"
      ],
      "text/plain": [
       "recommendations finished on 100000/131209 queries. users per second: 1285.55"
      ]
     },
     "metadata": {},
     "output_type": "display_data"
    },
    {
     "data": {
      "text/html": [
       "<pre>recommendations finished on 101000/131209 queries. users per second: 1286.05</pre>"
      ],
      "text/plain": [
       "recommendations finished on 101000/131209 queries. users per second: 1286.05"
      ]
     },
     "metadata": {},
     "output_type": "display_data"
    },
    {
     "data": {
      "text/html": [
       "<pre>recommendations finished on 102000/131209 queries. users per second: 1286.41</pre>"
      ],
      "text/plain": [
       "recommendations finished on 102000/131209 queries. users per second: 1286.41"
      ]
     },
     "metadata": {},
     "output_type": "display_data"
    },
    {
     "data": {
      "text/html": [
       "<pre>recommendations finished on 103000/131209 queries. users per second: 1286.77</pre>"
      ],
      "text/plain": [
       "recommendations finished on 103000/131209 queries. users per second: 1286.77"
      ]
     },
     "metadata": {},
     "output_type": "display_data"
    },
    {
     "data": {
      "text/html": [
       "<pre>recommendations finished on 104000/131209 queries. users per second: 1287.09</pre>"
      ],
      "text/plain": [
       "recommendations finished on 104000/131209 queries. users per second: 1287.09"
      ]
     },
     "metadata": {},
     "output_type": "display_data"
    },
    {
     "data": {
      "text/html": [
       "<pre>recommendations finished on 105000/131209 queries. users per second: 1287.23</pre>"
      ],
      "text/plain": [
       "recommendations finished on 105000/131209 queries. users per second: 1287.23"
      ]
     },
     "metadata": {},
     "output_type": "display_data"
    },
    {
     "data": {
      "text/html": [
       "<pre>recommendations finished on 106000/131209 queries. users per second: 1287.88</pre>"
      ],
      "text/plain": [
       "recommendations finished on 106000/131209 queries. users per second: 1287.88"
      ]
     },
     "metadata": {},
     "output_type": "display_data"
    },
    {
     "data": {
      "text/html": [
       "<pre>recommendations finished on 107000/131209 queries. users per second: 1288.42</pre>"
      ],
      "text/plain": [
       "recommendations finished on 107000/131209 queries. users per second: 1288.42"
      ]
     },
     "metadata": {},
     "output_type": "display_data"
    },
    {
     "data": {
      "text/html": [
       "<pre>recommendations finished on 108000/131209 queries. users per second: 1288.81</pre>"
      ],
      "text/plain": [
       "recommendations finished on 108000/131209 queries. users per second: 1288.81"
      ]
     },
     "metadata": {},
     "output_type": "display_data"
    },
    {
     "data": {
      "text/html": [
       "<pre>recommendations finished on 109000/131209 queries. users per second: 1289.18</pre>"
      ],
      "text/plain": [
       "recommendations finished on 109000/131209 queries. users per second: 1289.18"
      ]
     },
     "metadata": {},
     "output_type": "display_data"
    },
    {
     "data": {
      "text/html": [
       "<pre>recommendations finished on 110000/131209 queries. users per second: 1289.57</pre>"
      ],
      "text/plain": [
       "recommendations finished on 110000/131209 queries. users per second: 1289.57"
      ]
     },
     "metadata": {},
     "output_type": "display_data"
    },
    {
     "data": {
      "text/html": [
       "<pre>recommendations finished on 111000/131209 queries. users per second: 1289.78</pre>"
      ],
      "text/plain": [
       "recommendations finished on 111000/131209 queries. users per second: 1289.78"
      ]
     },
     "metadata": {},
     "output_type": "display_data"
    },
    {
     "data": {
      "text/html": [
       "<pre>recommendations finished on 112000/131209 queries. users per second: 1290.1</pre>"
      ],
      "text/plain": [
       "recommendations finished on 112000/131209 queries. users per second: 1290.1"
      ]
     },
     "metadata": {},
     "output_type": "display_data"
    },
    {
     "data": {
      "text/html": [
       "<pre>recommendations finished on 113000/131209 queries. users per second: 1290.41</pre>"
      ],
      "text/plain": [
       "recommendations finished on 113000/131209 queries. users per second: 1290.41"
      ]
     },
     "metadata": {},
     "output_type": "display_data"
    },
    {
     "data": {
      "text/html": [
       "<pre>recommendations finished on 114000/131209 queries. users per second: 1290.46</pre>"
      ],
      "text/plain": [
       "recommendations finished on 114000/131209 queries. users per second: 1290.46"
      ]
     },
     "metadata": {},
     "output_type": "display_data"
    },
    {
     "data": {
      "text/html": [
       "<pre>recommendations finished on 115000/131209 queries. users per second: 1291.02</pre>"
      ],
      "text/plain": [
       "recommendations finished on 115000/131209 queries. users per second: 1291.02"
      ]
     },
     "metadata": {},
     "output_type": "display_data"
    },
    {
     "data": {
      "text/html": [
       "<pre>recommendations finished on 116000/131209 queries. users per second: 1293.28</pre>"
      ],
      "text/plain": [
       "recommendations finished on 116000/131209 queries. users per second: 1293.28"
      ]
     },
     "metadata": {},
     "output_type": "display_data"
    },
    {
     "data": {
      "text/html": [
       "<pre>recommendations finished on 117000/131209 queries. users per second: 1296.1</pre>"
      ],
      "text/plain": [
       "recommendations finished on 117000/131209 queries. users per second: 1296.1"
      ]
     },
     "metadata": {},
     "output_type": "display_data"
    },
    {
     "data": {
      "text/html": [
       "<pre>recommendations finished on 118000/131209 queries. users per second: 1298.95</pre>"
      ],
      "text/plain": [
       "recommendations finished on 118000/131209 queries. users per second: 1298.95"
      ]
     },
     "metadata": {},
     "output_type": "display_data"
    },
    {
     "data": {
      "text/html": [
       "<pre>recommendations finished on 119000/131209 queries. users per second: 1301.78</pre>"
      ],
      "text/plain": [
       "recommendations finished on 119000/131209 queries. users per second: 1301.78"
      ]
     },
     "metadata": {},
     "output_type": "display_data"
    },
    {
     "data": {
      "text/html": [
       "<pre>recommendations finished on 120000/131209 queries. users per second: 1304.54</pre>"
      ],
      "text/plain": [
       "recommendations finished on 120000/131209 queries. users per second: 1304.54"
      ]
     },
     "metadata": {},
     "output_type": "display_data"
    },
    {
     "data": {
      "text/html": [
       "<pre>recommendations finished on 121000/131209 queries. users per second: 1307.27</pre>"
      ],
      "text/plain": [
       "recommendations finished on 121000/131209 queries. users per second: 1307.27"
      ]
     },
     "metadata": {},
     "output_type": "display_data"
    },
    {
     "data": {
      "text/html": [
       "<pre>recommendations finished on 122000/131209 queries. users per second: 1309.95</pre>"
      ],
      "text/plain": [
       "recommendations finished on 122000/131209 queries. users per second: 1309.95"
      ]
     },
     "metadata": {},
     "output_type": "display_data"
    },
    {
     "data": {
      "text/html": [
       "<pre>recommendations finished on 123000/131209 queries. users per second: 1312.51</pre>"
      ],
      "text/plain": [
       "recommendations finished on 123000/131209 queries. users per second: 1312.51"
      ]
     },
     "metadata": {},
     "output_type": "display_data"
    },
    {
     "data": {
      "text/html": [
       "<pre>recommendations finished on 124000/131209 queries. users per second: 1315.07</pre>"
      ],
      "text/plain": [
       "recommendations finished on 124000/131209 queries. users per second: 1315.07"
      ]
     },
     "metadata": {},
     "output_type": "display_data"
    },
    {
     "data": {
      "text/html": [
       "<pre>recommendations finished on 125000/131209 queries. users per second: 1317.59</pre>"
      ],
      "text/plain": [
       "recommendations finished on 125000/131209 queries. users per second: 1317.59"
      ]
     },
     "metadata": {},
     "output_type": "display_data"
    },
    {
     "data": {
      "text/html": [
       "<pre>recommendations finished on 126000/131209 queries. users per second: 1320.13</pre>"
      ],
      "text/plain": [
       "recommendations finished on 126000/131209 queries. users per second: 1320.13"
      ]
     },
     "metadata": {},
     "output_type": "display_data"
    },
    {
     "data": {
      "text/html": [
       "<pre>recommendations finished on 127000/131209 queries. users per second: 1322.64</pre>"
      ],
      "text/plain": [
       "recommendations finished on 127000/131209 queries. users per second: 1322.64"
      ]
     },
     "metadata": {},
     "output_type": "display_data"
    },
    {
     "data": {
      "text/html": [
       "<pre>recommendations finished on 128000/131209 queries. users per second: 1325.09</pre>"
      ],
      "text/plain": [
       "recommendations finished on 128000/131209 queries. users per second: 1325.09"
      ]
     },
     "metadata": {},
     "output_type": "display_data"
    },
    {
     "data": {
      "text/html": [
       "<pre>recommendations finished on 129000/131209 queries. users per second: 1327.46</pre>"
      ],
      "text/plain": [
       "recommendations finished on 129000/131209 queries. users per second: 1327.46"
      ]
     },
     "metadata": {},
     "output_type": "display_data"
    },
    {
     "data": {
      "text/html": [
       "<pre>recommendations finished on 130000/131209 queries. users per second: 1329.85</pre>"
      ],
      "text/plain": [
       "recommendations finished on 130000/131209 queries. users per second: 1329.85"
      ]
     },
     "metadata": {},
     "output_type": "display_data"
    },
    {
     "data": {
      "text/html": [
       "<pre>recommendations finished on 131000/131209 queries. users per second: 1332.11</pre>"
      ],
      "text/plain": [
       "recommendations finished on 131000/131209 queries. users per second: 1332.11"
      ]
     },
     "metadata": {},
     "output_type": "display_data"
    },
    {
     "name": "stdout",
     "output_type": "stream",
     "text": [
      "\n",
      "Precision and recall summary statistics by cutoff\n",
      "+--------+----------------------+-----------------------+\n",
      "| cutoff |    mean_precision    |      mean_recall      |\n",
      "+--------+----------------------+-----------------------+\n",
      "|   1    | 0.028359335106585414 | 0.0028755054769682743 |\n",
      "|   2    | 0.02618341729606966  |  0.00523525575030573  |\n",
      "|   3    | 0.024401273286639047 |  0.007308051590745943 |\n",
      "|   4    | 0.022892865580866638 |  0.009037669087297893 |\n",
      "|   5    | 0.02188264524537186  |  0.010710097864766606 |\n",
      "|   6    | 0.020969090026853085 |  0.01226208555887533  |\n",
      "|   7    | 0.02017609854724713  |  0.013732185024421244 |\n",
      "|   8    | 0.019415588869666094 |  0.015121424326050013 |\n",
      "|   9    | 0.018793595629025897 |  0.01644956400207042  |\n",
      "|   10   | 0.018225883895159476 |  0.017665892717098043 |\n",
      "+--------+----------------------+-----------------------+\n",
      "[10 rows x 3 columns]\n",
      "\n",
      "\n",
      "Overall RMSE: 0.9459703697860621\n",
      "\n",
      "Per User RMSE (best)\n",
      "+---------+-----------------------+-------+\n",
      "| user_id |          rmse         | count |\n",
      "+---------+-----------------------+-------+\n",
      "|  196970 | 0.0056400299072265625 |   1   |\n",
      "+---------+-----------------------+-------+\n",
      "[1 rows x 3 columns]\n",
      "\n",
      "\n",
      "Per User RMSE (worst)\n",
      "+---------+-------------------+-------+\n",
      "| user_id |        rmse       | count |\n",
      "+---------+-------------------+-------+\n",
      "|  99753  | 7.116669937782913 |   2   |\n",
      "+---------+-------------------+-------+\n",
      "[1 rows x 3 columns]\n",
      "\n",
      "\n",
      "Per Item RMSE (best)\n",
      "+------------+---------------------+-------+\n",
      "| product_id |         rmse        | count |\n",
      "+------------+---------------------+-------+\n",
      "|   42899    | 0.05883052039146419 |   1   |\n",
      "+------------+---------------------+-------+\n",
      "[1 rows x 3 columns]\n",
      "\n",
      "\n",
      "Per Item RMSE (worst)\n",
      "+------------+-------------------+-------+\n",
      "| product_id |        rmse       | count |\n",
      "+------------+-------------------+-------+\n",
      "|    1951    | 5.524417238492592 |   1   |\n",
      "+------------+-------------------+-------+\n",
      "[1 rows x 3 columns]\n",
      "\n",
      "PROGRESS: Evaluate model Pearson Similarity on Purchase Counts\n"
     ]
    },
    {
     "data": {
      "text/html": [
       "<pre>recommendations finished on 1000/131209 queries. users per second: 1631.37</pre>"
      ],
      "text/plain": [
       "recommendations finished on 1000/131209 queries. users per second: 1631.37"
      ]
     },
     "metadata": {},
     "output_type": "display_data"
    },
    {
     "data": {
      "text/html": [
       "<pre>recommendations finished on 2000/131209 queries. users per second: 1634.13</pre>"
      ],
      "text/plain": [
       "recommendations finished on 2000/131209 queries. users per second: 1634.13"
      ]
     },
     "metadata": {},
     "output_type": "display_data"
    },
    {
     "data": {
      "text/html": [
       "<pre>recommendations finished on 3000/131209 queries. users per second: 1637.77</pre>"
      ],
      "text/plain": [
       "recommendations finished on 3000/131209 queries. users per second: 1637.77"
      ]
     },
     "metadata": {},
     "output_type": "display_data"
    },
    {
     "data": {
      "text/html": [
       "<pre>recommendations finished on 4000/131209 queries. users per second: 1637.94</pre>"
      ],
      "text/plain": [
       "recommendations finished on 4000/131209 queries. users per second: 1637.94"
      ]
     },
     "metadata": {},
     "output_type": "display_data"
    },
    {
     "data": {
      "text/html": [
       "<pre>recommendations finished on 5000/131209 queries. users per second: 1639.51</pre>"
      ],
      "text/plain": [
       "recommendations finished on 5000/131209 queries. users per second: 1639.51"
      ]
     },
     "metadata": {},
     "output_type": "display_data"
    },
    {
     "data": {
      "text/html": [
       "<pre>recommendations finished on 6000/131209 queries. users per second: 1640.01</pre>"
      ],
      "text/plain": [
       "recommendations finished on 6000/131209 queries. users per second: 1640.01"
      ]
     },
     "metadata": {},
     "output_type": "display_data"
    },
    {
     "data": {
      "text/html": [
       "<pre>recommendations finished on 7000/131209 queries. users per second: 1641.64</pre>"
      ],
      "text/plain": [
       "recommendations finished on 7000/131209 queries. users per second: 1641.64"
      ]
     },
     "metadata": {},
     "output_type": "display_data"
    },
    {
     "data": {
      "text/html": [
       "<pre>recommendations finished on 8000/131209 queries. users per second: 1642.12</pre>"
      ],
      "text/plain": [
       "recommendations finished on 8000/131209 queries. users per second: 1642.12"
      ]
     },
     "metadata": {},
     "output_type": "display_data"
    },
    {
     "data": {
      "text/html": [
       "<pre>recommendations finished on 9000/131209 queries. users per second: 1642.71</pre>"
      ],
      "text/plain": [
       "recommendations finished on 9000/131209 queries. users per second: 1642.71"
      ]
     },
     "metadata": {},
     "output_type": "display_data"
    },
    {
     "data": {
      "text/html": [
       "<pre>recommendations finished on 10000/131209 queries. users per second: 1643.51</pre>"
      ],
      "text/plain": [
       "recommendations finished on 10000/131209 queries. users per second: 1643.51"
      ]
     },
     "metadata": {},
     "output_type": "display_data"
    },
    {
     "data": {
      "text/html": [
       "<pre>recommendations finished on 11000/131209 queries. users per second: 1645.18</pre>"
      ],
      "text/plain": [
       "recommendations finished on 11000/131209 queries. users per second: 1645.18"
      ]
     },
     "metadata": {},
     "output_type": "display_data"
    },
    {
     "data": {
      "text/html": [
       "<pre>recommendations finished on 12000/131209 queries. users per second: 1644.58</pre>"
      ],
      "text/plain": [
       "recommendations finished on 12000/131209 queries. users per second: 1644.58"
      ]
     },
     "metadata": {},
     "output_type": "display_data"
    },
    {
     "data": {
      "text/html": [
       "<pre>recommendations finished on 13000/131209 queries. users per second: 1645.95</pre>"
      ],
      "text/plain": [
       "recommendations finished on 13000/131209 queries. users per second: 1645.95"
      ]
     },
     "metadata": {},
     "output_type": "display_data"
    },
    {
     "data": {
      "text/html": [
       "<pre>recommendations finished on 14000/131209 queries. users per second: 1646.98</pre>"
      ],
      "text/plain": [
       "recommendations finished on 14000/131209 queries. users per second: 1646.98"
      ]
     },
     "metadata": {},
     "output_type": "display_data"
    },
    {
     "data": {
      "text/html": [
       "<pre>recommendations finished on 15000/131209 queries. users per second: 1647.64</pre>"
      ],
      "text/plain": [
       "recommendations finished on 15000/131209 queries. users per second: 1647.64"
      ]
     },
     "metadata": {},
     "output_type": "display_data"
    },
    {
     "data": {
      "text/html": [
       "<pre>recommendations finished on 16000/131209 queries. users per second: 1647.47</pre>"
      ],
      "text/plain": [
       "recommendations finished on 16000/131209 queries. users per second: 1647.47"
      ]
     },
     "metadata": {},
     "output_type": "display_data"
    },
    {
     "data": {
      "text/html": [
       "<pre>recommendations finished on 17000/131209 queries. users per second: 1647.71</pre>"
      ],
      "text/plain": [
       "recommendations finished on 17000/131209 queries. users per second: 1647.71"
      ]
     },
     "metadata": {},
     "output_type": "display_data"
    },
    {
     "data": {
      "text/html": [
       "<pre>recommendations finished on 18000/131209 queries. users per second: 1647.65</pre>"
      ],
      "text/plain": [
       "recommendations finished on 18000/131209 queries. users per second: 1647.65"
      ]
     },
     "metadata": {},
     "output_type": "display_data"
    },
    {
     "data": {
      "text/html": [
       "<pre>recommendations finished on 19000/131209 queries. users per second: 1648.43</pre>"
      ],
      "text/plain": [
       "recommendations finished on 19000/131209 queries. users per second: 1648.43"
      ]
     },
     "metadata": {},
     "output_type": "display_data"
    },
    {
     "data": {
      "text/html": [
       "<pre>recommendations finished on 20000/131209 queries. users per second: 1649.16</pre>"
      ],
      "text/plain": [
       "recommendations finished on 20000/131209 queries. users per second: 1649.16"
      ]
     },
     "metadata": {},
     "output_type": "display_data"
    },
    {
     "data": {
      "text/html": [
       "<pre>recommendations finished on 21000/131209 queries. users per second: 1649.72</pre>"
      ],
      "text/plain": [
       "recommendations finished on 21000/131209 queries. users per second: 1649.72"
      ]
     },
     "metadata": {},
     "output_type": "display_data"
    },
    {
     "data": {
      "text/html": [
       "<pre>recommendations finished on 22000/131209 queries. users per second: 1649.43</pre>"
      ],
      "text/plain": [
       "recommendations finished on 22000/131209 queries. users per second: 1649.43"
      ]
     },
     "metadata": {},
     "output_type": "display_data"
    },
    {
     "data": {
      "text/html": [
       "<pre>recommendations finished on 23000/131209 queries. users per second: 1648.41</pre>"
      ],
      "text/plain": [
       "recommendations finished on 23000/131209 queries. users per second: 1648.41"
      ]
     },
     "metadata": {},
     "output_type": "display_data"
    },
    {
     "data": {
      "text/html": [
       "<pre>recommendations finished on 24000/131209 queries. users per second: 1648.7</pre>"
      ],
      "text/plain": [
       "recommendations finished on 24000/131209 queries. users per second: 1648.7"
      ]
     },
     "metadata": {},
     "output_type": "display_data"
    },
    {
     "data": {
      "text/html": [
       "<pre>recommendations finished on 25000/131209 queries. users per second: 1648.86</pre>"
      ],
      "text/plain": [
       "recommendations finished on 25000/131209 queries. users per second: 1648.86"
      ]
     },
     "metadata": {},
     "output_type": "display_data"
    },
    {
     "data": {
      "text/html": [
       "<pre>recommendations finished on 26000/131209 queries. users per second: 1648.51</pre>"
      ],
      "text/plain": [
       "recommendations finished on 26000/131209 queries. users per second: 1648.51"
      ]
     },
     "metadata": {},
     "output_type": "display_data"
    },
    {
     "data": {
      "text/html": [
       "<pre>recommendations finished on 27000/131209 queries. users per second: 1648.2</pre>"
      ],
      "text/plain": [
       "recommendations finished on 27000/131209 queries. users per second: 1648.2"
      ]
     },
     "metadata": {},
     "output_type": "display_data"
    },
    {
     "data": {
      "text/html": [
       "<pre>recommendations finished on 28000/131209 queries. users per second: 1648.2</pre>"
      ],
      "text/plain": [
       "recommendations finished on 28000/131209 queries. users per second: 1648.2"
      ]
     },
     "metadata": {},
     "output_type": "display_data"
    },
    {
     "data": {
      "text/html": [
       "<pre>recommendations finished on 29000/131209 queries. users per second: 1648.22</pre>"
      ],
      "text/plain": [
       "recommendations finished on 29000/131209 queries. users per second: 1648.22"
      ]
     },
     "metadata": {},
     "output_type": "display_data"
    },
    {
     "data": {
      "text/html": [
       "<pre>recommendations finished on 30000/131209 queries. users per second: 1648.45</pre>"
      ],
      "text/plain": [
       "recommendations finished on 30000/131209 queries. users per second: 1648.45"
      ]
     },
     "metadata": {},
     "output_type": "display_data"
    },
    {
     "data": {
      "text/html": [
       "<pre>recommendations finished on 31000/131209 queries. users per second: 1648.14</pre>"
      ],
      "text/plain": [
       "recommendations finished on 31000/131209 queries. users per second: 1648.14"
      ]
     },
     "metadata": {},
     "output_type": "display_data"
    },
    {
     "data": {
      "text/html": [
       "<pre>recommendations finished on 32000/131209 queries. users per second: 1648.04</pre>"
      ],
      "text/plain": [
       "recommendations finished on 32000/131209 queries. users per second: 1648.04"
      ]
     },
     "metadata": {},
     "output_type": "display_data"
    },
    {
     "data": {
      "text/html": [
       "<pre>recommendations finished on 33000/131209 queries. users per second: 1647.87</pre>"
      ],
      "text/plain": [
       "recommendations finished on 33000/131209 queries. users per second: 1647.87"
      ]
     },
     "metadata": {},
     "output_type": "display_data"
    },
    {
     "data": {
      "text/html": [
       "<pre>recommendations finished on 34000/131209 queries. users per second: 1647.98</pre>"
      ],
      "text/plain": [
       "recommendations finished on 34000/131209 queries. users per second: 1647.98"
      ]
     },
     "metadata": {},
     "output_type": "display_data"
    },
    {
     "data": {
      "text/html": [
       "<pre>recommendations finished on 35000/131209 queries. users per second: 1648.07</pre>"
      ],
      "text/plain": [
       "recommendations finished on 35000/131209 queries. users per second: 1648.07"
      ]
     },
     "metadata": {},
     "output_type": "display_data"
    },
    {
     "data": {
      "text/html": [
       "<pre>recommendations finished on 36000/131209 queries. users per second: 1648.52</pre>"
      ],
      "text/plain": [
       "recommendations finished on 36000/131209 queries. users per second: 1648.52"
      ]
     },
     "metadata": {},
     "output_type": "display_data"
    },
    {
     "data": {
      "text/html": [
       "<pre>recommendations finished on 37000/131209 queries. users per second: 1648.22</pre>"
      ],
      "text/plain": [
       "recommendations finished on 37000/131209 queries. users per second: 1648.22"
      ]
     },
     "metadata": {},
     "output_type": "display_data"
    },
    {
     "data": {
      "text/html": [
       "<pre>recommendations finished on 38000/131209 queries. users per second: 1648.29</pre>"
      ],
      "text/plain": [
       "recommendations finished on 38000/131209 queries. users per second: 1648.29"
      ]
     },
     "metadata": {},
     "output_type": "display_data"
    },
    {
     "data": {
      "text/html": [
       "<pre>recommendations finished on 39000/131209 queries. users per second: 1648.05</pre>"
      ],
      "text/plain": [
       "recommendations finished on 39000/131209 queries. users per second: 1648.05"
      ]
     },
     "metadata": {},
     "output_type": "display_data"
    },
    {
     "data": {
      "text/html": [
       "<pre>recommendations finished on 40000/131209 queries. users per second: 1648.19</pre>"
      ],
      "text/plain": [
       "recommendations finished on 40000/131209 queries. users per second: 1648.19"
      ]
     },
     "metadata": {},
     "output_type": "display_data"
    },
    {
     "data": {
      "text/html": [
       "<pre>recommendations finished on 41000/131209 queries. users per second: 1648.66</pre>"
      ],
      "text/plain": [
       "recommendations finished on 41000/131209 queries. users per second: 1648.66"
      ]
     },
     "metadata": {},
     "output_type": "display_data"
    },
    {
     "data": {
      "text/html": [
       "<pre>recommendations finished on 42000/131209 queries. users per second: 1648.74</pre>"
      ],
      "text/plain": [
       "recommendations finished on 42000/131209 queries. users per second: 1648.74"
      ]
     },
     "metadata": {},
     "output_type": "display_data"
    },
    {
     "data": {
      "text/html": [
       "<pre>recommendations finished on 43000/131209 queries. users per second: 1649</pre>"
      ],
      "text/plain": [
       "recommendations finished on 43000/131209 queries. users per second: 1649"
      ]
     },
     "metadata": {},
     "output_type": "display_data"
    },
    {
     "data": {
      "text/html": [
       "<pre>recommendations finished on 44000/131209 queries. users per second: 1649.06</pre>"
      ],
      "text/plain": [
       "recommendations finished on 44000/131209 queries. users per second: 1649.06"
      ]
     },
     "metadata": {},
     "output_type": "display_data"
    },
    {
     "data": {
      "text/html": [
       "<pre>recommendations finished on 45000/131209 queries. users per second: 1649.01</pre>"
      ],
      "text/plain": [
       "recommendations finished on 45000/131209 queries. users per second: 1649.01"
      ]
     },
     "metadata": {},
     "output_type": "display_data"
    },
    {
     "data": {
      "text/html": [
       "<pre>recommendations finished on 46000/131209 queries. users per second: 1648.53</pre>"
      ],
      "text/plain": [
       "recommendations finished on 46000/131209 queries. users per second: 1648.53"
      ]
     },
     "metadata": {},
     "output_type": "display_data"
    },
    {
     "data": {
      "text/html": [
       "<pre>recommendations finished on 47000/131209 queries. users per second: 1648.65</pre>"
      ],
      "text/plain": [
       "recommendations finished on 47000/131209 queries. users per second: 1648.65"
      ]
     },
     "metadata": {},
     "output_type": "display_data"
    },
    {
     "data": {
      "text/html": [
       "<pre>recommendations finished on 48000/131209 queries. users per second: 1648.69</pre>"
      ],
      "text/plain": [
       "recommendations finished on 48000/131209 queries. users per second: 1648.69"
      ]
     },
     "metadata": {},
     "output_type": "display_data"
    },
    {
     "data": {
      "text/html": [
       "<pre>recommendations finished on 49000/131209 queries. users per second: 1648.8</pre>"
      ],
      "text/plain": [
       "recommendations finished on 49000/131209 queries. users per second: 1648.8"
      ]
     },
     "metadata": {},
     "output_type": "display_data"
    },
    {
     "data": {
      "text/html": [
       "<pre>recommendations finished on 50000/131209 queries. users per second: 1648.92</pre>"
      ],
      "text/plain": [
       "recommendations finished on 50000/131209 queries. users per second: 1648.92"
      ]
     },
     "metadata": {},
     "output_type": "display_data"
    },
    {
     "data": {
      "text/html": [
       "<pre>recommendations finished on 51000/131209 queries. users per second: 1648.81</pre>"
      ],
      "text/plain": [
       "recommendations finished on 51000/131209 queries. users per second: 1648.81"
      ]
     },
     "metadata": {},
     "output_type": "display_data"
    },
    {
     "data": {
      "text/html": [
       "<pre>recommendations finished on 52000/131209 queries. users per second: 1648.8</pre>"
      ],
      "text/plain": [
       "recommendations finished on 52000/131209 queries. users per second: 1648.8"
      ]
     },
     "metadata": {},
     "output_type": "display_data"
    },
    {
     "data": {
      "text/html": [
       "<pre>recommendations finished on 53000/131209 queries. users per second: 1648.65</pre>"
      ],
      "text/plain": [
       "recommendations finished on 53000/131209 queries. users per second: 1648.65"
      ]
     },
     "metadata": {},
     "output_type": "display_data"
    },
    {
     "data": {
      "text/html": [
       "<pre>recommendations finished on 54000/131209 queries. users per second: 1648.69</pre>"
      ],
      "text/plain": [
       "recommendations finished on 54000/131209 queries. users per second: 1648.69"
      ]
     },
     "metadata": {},
     "output_type": "display_data"
    },
    {
     "data": {
      "text/html": [
       "<pre>recommendations finished on 55000/131209 queries. users per second: 1648.85</pre>"
      ],
      "text/plain": [
       "recommendations finished on 55000/131209 queries. users per second: 1648.85"
      ]
     },
     "metadata": {},
     "output_type": "display_data"
    },
    {
     "data": {
      "text/html": [
       "<pre>recommendations finished on 56000/131209 queries. users per second: 1648.93</pre>"
      ],
      "text/plain": [
       "recommendations finished on 56000/131209 queries. users per second: 1648.93"
      ]
     },
     "metadata": {},
     "output_type": "display_data"
    },
    {
     "data": {
      "text/html": [
       "<pre>recommendations finished on 57000/131209 queries. users per second: 1648.83</pre>"
      ],
      "text/plain": [
       "recommendations finished on 57000/131209 queries. users per second: 1648.83"
      ]
     },
     "metadata": {},
     "output_type": "display_data"
    },
    {
     "data": {
      "text/html": [
       "<pre>recommendations finished on 58000/131209 queries. users per second: 1648.78</pre>"
      ],
      "text/plain": [
       "recommendations finished on 58000/131209 queries. users per second: 1648.78"
      ]
     },
     "metadata": {},
     "output_type": "display_data"
    },
    {
     "data": {
      "text/html": [
       "<pre>recommendations finished on 59000/131209 queries. users per second: 1648.98</pre>"
      ],
      "text/plain": [
       "recommendations finished on 59000/131209 queries. users per second: 1648.98"
      ]
     },
     "metadata": {},
     "output_type": "display_data"
    },
    {
     "data": {
      "text/html": [
       "<pre>recommendations finished on 60000/131209 queries. users per second: 1648.96</pre>"
      ],
      "text/plain": [
       "recommendations finished on 60000/131209 queries. users per second: 1648.96"
      ]
     },
     "metadata": {},
     "output_type": "display_data"
    },
    {
     "data": {
      "text/html": [
       "<pre>recommendations finished on 61000/131209 queries. users per second: 1649.04</pre>"
      ],
      "text/plain": [
       "recommendations finished on 61000/131209 queries. users per second: 1649.04"
      ]
     },
     "metadata": {},
     "output_type": "display_data"
    },
    {
     "data": {
      "text/html": [
       "<pre>recommendations finished on 62000/131209 queries. users per second: 1649.28</pre>"
      ],
      "text/plain": [
       "recommendations finished on 62000/131209 queries. users per second: 1649.28"
      ]
     },
     "metadata": {},
     "output_type": "display_data"
    },
    {
     "data": {
      "text/html": [
       "<pre>recommendations finished on 63000/131209 queries. users per second: 1649.32</pre>"
      ],
      "text/plain": [
       "recommendations finished on 63000/131209 queries. users per second: 1649.32"
      ]
     },
     "metadata": {},
     "output_type": "display_data"
    },
    {
     "data": {
      "text/html": [
       "<pre>recommendations finished on 64000/131209 queries. users per second: 1649.32</pre>"
      ],
      "text/plain": [
       "recommendations finished on 64000/131209 queries. users per second: 1649.32"
      ]
     },
     "metadata": {},
     "output_type": "display_data"
    },
    {
     "data": {
      "text/html": [
       "<pre>recommendations finished on 65000/131209 queries. users per second: 1649.37</pre>"
      ],
      "text/plain": [
       "recommendations finished on 65000/131209 queries. users per second: 1649.37"
      ]
     },
     "metadata": {},
     "output_type": "display_data"
    },
    {
     "data": {
      "text/html": [
       "<pre>recommendations finished on 66000/131209 queries. users per second: 1649.44</pre>"
      ],
      "text/plain": [
       "recommendations finished on 66000/131209 queries. users per second: 1649.44"
      ]
     },
     "metadata": {},
     "output_type": "display_data"
    },
    {
     "data": {
      "text/html": [
       "<pre>recommendations finished on 67000/131209 queries. users per second: 1649.44</pre>"
      ],
      "text/plain": [
       "recommendations finished on 67000/131209 queries. users per second: 1649.44"
      ]
     },
     "metadata": {},
     "output_type": "display_data"
    },
    {
     "data": {
      "text/html": [
       "<pre>recommendations finished on 68000/131209 queries. users per second: 1649.46</pre>"
      ],
      "text/plain": [
       "recommendations finished on 68000/131209 queries. users per second: 1649.46"
      ]
     },
     "metadata": {},
     "output_type": "display_data"
    },
    {
     "data": {
      "text/html": [
       "<pre>recommendations finished on 69000/131209 queries. users per second: 1649.23</pre>"
      ],
      "text/plain": [
       "recommendations finished on 69000/131209 queries. users per second: 1649.23"
      ]
     },
     "metadata": {},
     "output_type": "display_data"
    },
    {
     "data": {
      "text/html": [
       "<pre>recommendations finished on 70000/131209 queries. users per second: 1649.4</pre>"
      ],
      "text/plain": [
       "recommendations finished on 70000/131209 queries. users per second: 1649.4"
      ]
     },
     "metadata": {},
     "output_type": "display_data"
    },
    {
     "data": {
      "text/html": [
       "<pre>recommendations finished on 71000/131209 queries. users per second: 1649.4</pre>"
      ],
      "text/plain": [
       "recommendations finished on 71000/131209 queries. users per second: 1649.4"
      ]
     },
     "metadata": {},
     "output_type": "display_data"
    },
    {
     "data": {
      "text/html": [
       "<pre>recommendations finished on 72000/131209 queries. users per second: 1649.54</pre>"
      ],
      "text/plain": [
       "recommendations finished on 72000/131209 queries. users per second: 1649.54"
      ]
     },
     "metadata": {},
     "output_type": "display_data"
    },
    {
     "data": {
      "text/html": [
       "<pre>recommendations finished on 73000/131209 queries. users per second: 1649.63</pre>"
      ],
      "text/plain": [
       "recommendations finished on 73000/131209 queries. users per second: 1649.63"
      ]
     },
     "metadata": {},
     "output_type": "display_data"
    },
    {
     "data": {
      "text/html": [
       "<pre>recommendations finished on 74000/131209 queries. users per second: 1649.68</pre>"
      ],
      "text/plain": [
       "recommendations finished on 74000/131209 queries. users per second: 1649.68"
      ]
     },
     "metadata": {},
     "output_type": "display_data"
    },
    {
     "data": {
      "text/html": [
       "<pre>recommendations finished on 75000/131209 queries. users per second: 1649.59</pre>"
      ],
      "text/plain": [
       "recommendations finished on 75000/131209 queries. users per second: 1649.59"
      ]
     },
     "metadata": {},
     "output_type": "display_data"
    },
    {
     "data": {
      "text/html": [
       "<pre>recommendations finished on 76000/131209 queries. users per second: 1648.92</pre>"
      ],
      "text/plain": [
       "recommendations finished on 76000/131209 queries. users per second: 1648.92"
      ]
     },
     "metadata": {},
     "output_type": "display_data"
    },
    {
     "data": {
      "text/html": [
       "<pre>recommendations finished on 77000/131209 queries. users per second: 1647.77</pre>"
      ],
      "text/plain": [
       "recommendations finished on 77000/131209 queries. users per second: 1647.77"
      ]
     },
     "metadata": {},
     "output_type": "display_data"
    },
    {
     "data": {
      "text/html": [
       "<pre>recommendations finished on 78000/131209 queries. users per second: 1646.73</pre>"
      ],
      "text/plain": [
       "recommendations finished on 78000/131209 queries. users per second: 1646.73"
      ]
     },
     "metadata": {},
     "output_type": "display_data"
    },
    {
     "data": {
      "text/html": [
       "<pre>recommendations finished on 79000/131209 queries. users per second: 1645.82</pre>"
      ],
      "text/plain": [
       "recommendations finished on 79000/131209 queries. users per second: 1645.82"
      ]
     },
     "metadata": {},
     "output_type": "display_data"
    },
    {
     "data": {
      "text/html": [
       "<pre>recommendations finished on 80000/131209 queries. users per second: 1644.53</pre>"
      ],
      "text/plain": [
       "recommendations finished on 80000/131209 queries. users per second: 1644.53"
      ]
     },
     "metadata": {},
     "output_type": "display_data"
    },
    {
     "data": {
      "text/html": [
       "<pre>recommendations finished on 81000/131209 queries. users per second: 1635.81</pre>"
      ],
      "text/plain": [
       "recommendations finished on 81000/131209 queries. users per second: 1635.81"
      ]
     },
     "metadata": {},
     "output_type": "display_data"
    },
    {
     "data": {
      "text/html": [
       "<pre>recommendations finished on 82000/131209 queries. users per second: 1615.53</pre>"
      ],
      "text/plain": [
       "recommendations finished on 82000/131209 queries. users per second: 1615.53"
      ]
     },
     "metadata": {},
     "output_type": "display_data"
    },
    {
     "data": {
      "text/html": [
       "<pre>recommendations finished on 83000/131209 queries. users per second: 1600.5</pre>"
      ],
      "text/plain": [
       "recommendations finished on 83000/131209 queries. users per second: 1600.5"
      ]
     },
     "metadata": {},
     "output_type": "display_data"
    },
    {
     "data": {
      "text/html": [
       "<pre>recommendations finished on 84000/131209 queries. users per second: 1578.09</pre>"
      ],
      "text/plain": [
       "recommendations finished on 84000/131209 queries. users per second: 1578.09"
      ]
     },
     "metadata": {},
     "output_type": "display_data"
    },
    {
     "data": {
      "text/html": [
       "<pre>recommendations finished on 85000/131209 queries. users per second: 1553.69</pre>"
      ],
      "text/plain": [
       "recommendations finished on 85000/131209 queries. users per second: 1553.69"
      ]
     },
     "metadata": {},
     "output_type": "display_data"
    },
    {
     "data": {
      "text/html": [
       "<pre>recommendations finished on 86000/131209 queries. users per second: 1533.35</pre>"
      ],
      "text/plain": [
       "recommendations finished on 86000/131209 queries. users per second: 1533.35"
      ]
     },
     "metadata": {},
     "output_type": "display_data"
    },
    {
     "data": {
      "text/html": [
       "<pre>recommendations finished on 87000/131209 queries. users per second: 1524.19</pre>"
      ],
      "text/plain": [
       "recommendations finished on 87000/131209 queries. users per second: 1524.19"
      ]
     },
     "metadata": {},
     "output_type": "display_data"
    },
    {
     "data": {
      "text/html": [
       "<pre>recommendations finished on 88000/131209 queries. users per second: 1510.3</pre>"
      ],
      "text/plain": [
       "recommendations finished on 88000/131209 queries. users per second: 1510.3"
      ]
     },
     "metadata": {},
     "output_type": "display_data"
    },
    {
     "data": {
      "text/html": [
       "<pre>recommendations finished on 89000/131209 queries. users per second: 1496.13</pre>"
      ],
      "text/plain": [
       "recommendations finished on 89000/131209 queries. users per second: 1496.13"
      ]
     },
     "metadata": {},
     "output_type": "display_data"
    },
    {
     "data": {
      "text/html": [
       "<pre>recommendations finished on 90000/131209 queries. users per second: 1482.53</pre>"
      ],
      "text/plain": [
       "recommendations finished on 90000/131209 queries. users per second: 1482.53"
      ]
     },
     "metadata": {},
     "output_type": "display_data"
    },
    {
     "data": {
      "text/html": [
       "<pre>recommendations finished on 91000/131209 queries. users per second: 1473.07</pre>"
      ],
      "text/plain": [
       "recommendations finished on 91000/131209 queries. users per second: 1473.07"
      ]
     },
     "metadata": {},
     "output_type": "display_data"
    },
    {
     "data": {
      "text/html": [
       "<pre>recommendations finished on 92000/131209 queries. users per second: 1464.46</pre>"
      ],
      "text/plain": [
       "recommendations finished on 92000/131209 queries. users per second: 1464.46"
      ]
     },
     "metadata": {},
     "output_type": "display_data"
    },
    {
     "data": {
      "text/html": [
       "<pre>recommendations finished on 93000/131209 queries. users per second: 1457.7</pre>"
      ],
      "text/plain": [
       "recommendations finished on 93000/131209 queries. users per second: 1457.7"
      ]
     },
     "metadata": {},
     "output_type": "display_data"
    },
    {
     "data": {
      "text/html": [
       "<pre>recommendations finished on 94000/131209 queries. users per second: 1452.23</pre>"
      ],
      "text/plain": [
       "recommendations finished on 94000/131209 queries. users per second: 1452.23"
      ]
     },
     "metadata": {},
     "output_type": "display_data"
    },
    {
     "data": {
      "text/html": [
       "<pre>recommendations finished on 95000/131209 queries. users per second: 1446.41</pre>"
      ],
      "text/plain": [
       "recommendations finished on 95000/131209 queries. users per second: 1446.41"
      ]
     },
     "metadata": {},
     "output_type": "display_data"
    },
    {
     "data": {
      "text/html": [
       "<pre>recommendations finished on 96000/131209 queries. users per second: 1440.52</pre>"
      ],
      "text/plain": [
       "recommendations finished on 96000/131209 queries. users per second: 1440.52"
      ]
     },
     "metadata": {},
     "output_type": "display_data"
    },
    {
     "data": {
      "text/html": [
       "<pre>recommendations finished on 97000/131209 queries. users per second: 1434.17</pre>"
      ],
      "text/plain": [
       "recommendations finished on 97000/131209 queries. users per second: 1434.17"
      ]
     },
     "metadata": {},
     "output_type": "display_data"
    },
    {
     "data": {
      "text/html": [
       "<pre>recommendations finished on 98000/131209 queries. users per second: 1426.49</pre>"
      ],
      "text/plain": [
       "recommendations finished on 98000/131209 queries. users per second: 1426.49"
      ]
     },
     "metadata": {},
     "output_type": "display_data"
    },
    {
     "data": {
      "text/html": [
       "<pre>recommendations finished on 99000/131209 queries. users per second: 1421.4</pre>"
      ],
      "text/plain": [
       "recommendations finished on 99000/131209 queries. users per second: 1421.4"
      ]
     },
     "metadata": {},
     "output_type": "display_data"
    },
    {
     "data": {
      "text/html": [
       "<pre>recommendations finished on 100000/131209 queries. users per second: 1414.47</pre>"
      ],
      "text/plain": [
       "recommendations finished on 100000/131209 queries. users per second: 1414.47"
      ]
     },
     "metadata": {},
     "output_type": "display_data"
    },
    {
     "data": {
      "text/html": [
       "<pre>recommendations finished on 101000/131209 queries. users per second: 1410.37</pre>"
      ],
      "text/plain": [
       "recommendations finished on 101000/131209 queries. users per second: 1410.37"
      ]
     },
     "metadata": {},
     "output_type": "display_data"
    },
    {
     "data": {
      "text/html": [
       "<pre>recommendations finished on 102000/131209 queries. users per second: 1403.17</pre>"
      ],
      "text/plain": [
       "recommendations finished on 102000/131209 queries. users per second: 1403.17"
      ]
     },
     "metadata": {},
     "output_type": "display_data"
    },
    {
     "data": {
      "text/html": [
       "<pre>recommendations finished on 103000/131209 queries. users per second: 1398.88</pre>"
      ],
      "text/plain": [
       "recommendations finished on 103000/131209 queries. users per second: 1398.88"
      ]
     },
     "metadata": {},
     "output_type": "display_data"
    },
    {
     "data": {
      "text/html": [
       "<pre>recommendations finished on 104000/131209 queries. users per second: 1393.84</pre>"
      ],
      "text/plain": [
       "recommendations finished on 104000/131209 queries. users per second: 1393.84"
      ]
     },
     "metadata": {},
     "output_type": "display_data"
    },
    {
     "data": {
      "text/html": [
       "<pre>recommendations finished on 105000/131209 queries. users per second: 1389.83</pre>"
      ],
      "text/plain": [
       "recommendations finished on 105000/131209 queries. users per second: 1389.83"
      ]
     },
     "metadata": {},
     "output_type": "display_data"
    },
    {
     "data": {
      "text/html": [
       "<pre>recommendations finished on 106000/131209 queries. users per second: 1384.21</pre>"
      ],
      "text/plain": [
       "recommendations finished on 106000/131209 queries. users per second: 1384.21"
      ]
     },
     "metadata": {},
     "output_type": "display_data"
    },
    {
     "data": {
      "text/html": [
       "<pre>recommendations finished on 107000/131209 queries. users per second: 1378.21</pre>"
      ],
      "text/plain": [
       "recommendations finished on 107000/131209 queries. users per second: 1378.21"
      ]
     },
     "metadata": {},
     "output_type": "display_data"
    },
    {
     "data": {
      "text/html": [
       "<pre>recommendations finished on 108000/131209 queries. users per second: 1373.4</pre>"
      ],
      "text/plain": [
       "recommendations finished on 108000/131209 queries. users per second: 1373.4"
      ]
     },
     "metadata": {},
     "output_type": "display_data"
    },
    {
     "data": {
      "text/html": [
       "<pre>recommendations finished on 109000/131209 queries. users per second: 1368.85</pre>"
      ],
      "text/plain": [
       "recommendations finished on 109000/131209 queries. users per second: 1368.85"
      ]
     },
     "metadata": {},
     "output_type": "display_data"
    },
    {
     "data": {
      "text/html": [
       "<pre>recommendations finished on 110000/131209 queries. users per second: 1363.72</pre>"
      ],
      "text/plain": [
       "recommendations finished on 110000/131209 queries. users per second: 1363.72"
      ]
     },
     "metadata": {},
     "output_type": "display_data"
    },
    {
     "data": {
      "text/html": [
       "<pre>recommendations finished on 111000/131209 queries. users per second: 1357.57</pre>"
      ],
      "text/plain": [
       "recommendations finished on 111000/131209 queries. users per second: 1357.57"
      ]
     },
     "metadata": {},
     "output_type": "display_data"
    },
    {
     "data": {
      "text/html": [
       "<pre>recommendations finished on 112000/131209 queries. users per second: 1351.72</pre>"
      ],
      "text/plain": [
       "recommendations finished on 112000/131209 queries. users per second: 1351.72"
      ]
     },
     "metadata": {},
     "output_type": "display_data"
    },
    {
     "data": {
      "text/html": [
       "<pre>recommendations finished on 113000/131209 queries. users per second: 1346.66</pre>"
      ],
      "text/plain": [
       "recommendations finished on 113000/131209 queries. users per second: 1346.66"
      ]
     },
     "metadata": {},
     "output_type": "display_data"
    },
    {
     "data": {
      "text/html": [
       "<pre>recommendations finished on 114000/131209 queries. users per second: 1342.13</pre>"
      ],
      "text/plain": [
       "recommendations finished on 114000/131209 queries. users per second: 1342.13"
      ]
     },
     "metadata": {},
     "output_type": "display_data"
    },
    {
     "data": {
      "text/html": [
       "<pre>recommendations finished on 115000/131209 queries. users per second: 1338.95</pre>"
      ],
      "text/plain": [
       "recommendations finished on 115000/131209 queries. users per second: 1338.95"
      ]
     },
     "metadata": {},
     "output_type": "display_data"
    },
    {
     "data": {
      "text/html": [
       "<pre>recommendations finished on 116000/131209 queries. users per second: 1333.26</pre>"
      ],
      "text/plain": [
       "recommendations finished on 116000/131209 queries. users per second: 1333.26"
      ]
     },
     "metadata": {},
     "output_type": "display_data"
    },
    {
     "data": {
      "text/html": [
       "<pre>recommendations finished on 117000/131209 queries. users per second: 1330.23</pre>"
      ],
      "text/plain": [
       "recommendations finished on 117000/131209 queries. users per second: 1330.23"
      ]
     },
     "metadata": {},
     "output_type": "display_data"
    },
    {
     "data": {
      "text/html": [
       "<pre>recommendations finished on 118000/131209 queries. users per second: 1326.13</pre>"
      ],
      "text/plain": [
       "recommendations finished on 118000/131209 queries. users per second: 1326.13"
      ]
     },
     "metadata": {},
     "output_type": "display_data"
    },
    {
     "data": {
      "text/html": [
       "<pre>recommendations finished on 119000/131209 queries. users per second: 1323.59</pre>"
      ],
      "text/plain": [
       "recommendations finished on 119000/131209 queries. users per second: 1323.59"
      ]
     },
     "metadata": {},
     "output_type": "display_data"
    },
    {
     "data": {
      "text/html": [
       "<pre>recommendations finished on 120000/131209 queries. users per second: 1320.98</pre>"
      ],
      "text/plain": [
       "recommendations finished on 120000/131209 queries. users per second: 1320.98"
      ]
     },
     "metadata": {},
     "output_type": "display_data"
    },
    {
     "data": {
      "text/html": [
       "<pre>recommendations finished on 121000/131209 queries. users per second: 1315.52</pre>"
      ],
      "text/plain": [
       "recommendations finished on 121000/131209 queries. users per second: 1315.52"
      ]
     },
     "metadata": {},
     "output_type": "display_data"
    },
    {
     "data": {
      "text/html": [
       "<pre>recommendations finished on 122000/131209 queries. users per second: 1312.11</pre>"
      ],
      "text/plain": [
       "recommendations finished on 122000/131209 queries. users per second: 1312.11"
      ]
     },
     "metadata": {},
     "output_type": "display_data"
    },
    {
     "data": {
      "text/html": [
       "<pre>recommendations finished on 123000/131209 queries. users per second: 1308.49</pre>"
      ],
      "text/plain": [
       "recommendations finished on 123000/131209 queries. users per second: 1308.49"
      ]
     },
     "metadata": {},
     "output_type": "display_data"
    },
    {
     "data": {
      "text/html": [
       "<pre>recommendations finished on 124000/131209 queries. users per second: 1305.93</pre>"
      ],
      "text/plain": [
       "recommendations finished on 124000/131209 queries. users per second: 1305.93"
      ]
     },
     "metadata": {},
     "output_type": "display_data"
    },
    {
     "data": {
      "text/html": [
       "<pre>recommendations finished on 125000/131209 queries. users per second: 1302.61</pre>"
      ],
      "text/plain": [
       "recommendations finished on 125000/131209 queries. users per second: 1302.61"
      ]
     },
     "metadata": {},
     "output_type": "display_data"
    },
    {
     "data": {
      "text/html": [
       "<pre>recommendations finished on 126000/131209 queries. users per second: 1298.88</pre>"
      ],
      "text/plain": [
       "recommendations finished on 126000/131209 queries. users per second: 1298.88"
      ]
     },
     "metadata": {},
     "output_type": "display_data"
    },
    {
     "data": {
      "text/html": [
       "<pre>recommendations finished on 127000/131209 queries. users per second: 1293.58</pre>"
      ],
      "text/plain": [
       "recommendations finished on 127000/131209 queries. users per second: 1293.58"
      ]
     },
     "metadata": {},
     "output_type": "display_data"
    },
    {
     "data": {
      "text/html": [
       "<pre>recommendations finished on 128000/131209 queries. users per second: 1291.89</pre>"
      ],
      "text/plain": [
       "recommendations finished on 128000/131209 queries. users per second: 1291.89"
      ]
     },
     "metadata": {},
     "output_type": "display_data"
    },
    {
     "data": {
      "text/html": [
       "<pre>recommendations finished on 129000/131209 queries. users per second: 1288.95</pre>"
      ],
      "text/plain": [
       "recommendations finished on 129000/131209 queries. users per second: 1288.95"
      ]
     },
     "metadata": {},
     "output_type": "display_data"
    },
    {
     "data": {
      "text/html": [
       "<pre>recommendations finished on 130000/131209 queries. users per second: 1285.62</pre>"
      ],
      "text/plain": [
       "recommendations finished on 130000/131209 queries. users per second: 1285.62"
      ]
     },
     "metadata": {},
     "output_type": "display_data"
    },
    {
     "data": {
      "text/html": [
       "<pre>recommendations finished on 131000/131209 queries. users per second: 1280.6</pre>"
      ],
      "text/plain": [
       "recommendations finished on 131000/131209 queries. users per second: 1280.6"
      ]
     },
     "metadata": {},
     "output_type": "display_data"
    },
    {
     "name": "stdout",
     "output_type": "stream",
     "text": [
      "\n",
      "Precision and recall summary statistics by cutoff\n",
      "+--------+------------------------+------------------------+\n",
      "| cutoff |     mean_precision     |      mean_recall       |\n",
      "+--------+------------------------+------------------------+\n",
      "|   1    |          0.0           |          0.0           |\n",
      "|   2    |          0.0           |          0.0           |\n",
      "|   3    |          0.0           |          0.0           |\n",
      "|   4    |          0.0           |          0.0           |\n",
      "|   5    |          0.0           |          0.0           |\n",
      "|   6    |          0.0           |          0.0           |\n",
      "|   7    |          0.0           |          0.0           |\n",
      "|   8    |          0.0           |          0.0           |\n",
      "|   9    |          0.0           |          0.0           |\n",
      "|   10   | 1.5242856816224445e-06 | 2.8580356530421344e-06 |\n",
      "+--------+------------------------+------------------------+\n",
      "[10 rows x 3 columns]\n",
      "\n",
      "\n",
      "Overall RMSE: 2.030022365385414\n",
      "\n",
      "Per User RMSE (best)\n",
      "+---------+------+-------+\n",
      "| user_id | rmse | count |\n",
      "+---------+------+-------+\n",
      "|  47883  | 0.0  |   2   |\n",
      "+---------+------+-------+\n",
      "[1 rows x 3 columns]\n",
      "\n",
      "\n",
      "Per User RMSE (worst)\n",
      "+---------+--------------------+-------+\n",
      "| user_id |        rmse        | count |\n",
      "+---------+--------------------+-------+\n",
      "|  107528 | 16.016529507513816 |   2   |\n",
      "+---------+--------------------+-------+\n",
      "[1 rows x 3 columns]\n",
      "\n",
      "\n",
      "Per Item RMSE (best)\n",
      "+------------+------+-------+\n",
      "| product_id | rmse | count |\n",
      "+------------+------+-------+\n",
      "|   47341    | 0.0  |   2   |\n",
      "+------------+------+-------+\n",
      "[1 rows x 3 columns]\n",
      "\n",
      "\n",
      "Per Item RMSE (worst)\n",
      "+------------+--------------------+-------+\n",
      "| product_id |        rmse        | count |\n",
      "+------------+--------------------+-------+\n",
      "|    6433    | 16.295007714499597 |   1   |\n",
      "+------------+--------------------+-------+\n",
      "[1 rows x 3 columns]\n",
      "\n",
      "PROGRESS: Evaluate model Popularity Model on Scaled Purchase Counts\n"
     ]
    },
    {
     "data": {
      "text/html": [
       "<pre>recommendations finished on 1000/131209 queries. users per second: 1043.94</pre>"
      ],
      "text/plain": [
       "recommendations finished on 1000/131209 queries. users per second: 1043.94"
      ]
     },
     "metadata": {},
     "output_type": "display_data"
    },
    {
     "data": {
      "text/html": [
       "<pre>recommendations finished on 2000/131209 queries. users per second: 1015.3</pre>"
      ],
      "text/plain": [
       "recommendations finished on 2000/131209 queries. users per second: 1015.3"
      ]
     },
     "metadata": {},
     "output_type": "display_data"
    },
    {
     "data": {
      "text/html": [
       "<pre>recommendations finished on 3000/131209 queries. users per second: 1056.33</pre>"
      ],
      "text/plain": [
       "recommendations finished on 3000/131209 queries. users per second: 1056.33"
      ]
     },
     "metadata": {},
     "output_type": "display_data"
    },
    {
     "data": {
      "text/html": [
       "<pre>recommendations finished on 4000/131209 queries. users per second: 1061.17</pre>"
      ],
      "text/plain": [
       "recommendations finished on 4000/131209 queries. users per second: 1061.17"
      ]
     },
     "metadata": {},
     "output_type": "display_data"
    },
    {
     "data": {
      "text/html": [
       "<pre>recommendations finished on 5000/131209 queries. users per second: 1053.58</pre>"
      ],
      "text/plain": [
       "recommendations finished on 5000/131209 queries. users per second: 1053.58"
      ]
     },
     "metadata": {},
     "output_type": "display_data"
    },
    {
     "data": {
      "text/html": [
       "<pre>recommendations finished on 6000/131209 queries. users per second: 1083.67</pre>"
      ],
      "text/plain": [
       "recommendations finished on 6000/131209 queries. users per second: 1083.67"
      ]
     },
     "metadata": {},
     "output_type": "display_data"
    },
    {
     "data": {
      "text/html": [
       "<pre>recommendations finished on 7000/131209 queries. users per second: 1078.53</pre>"
      ],
      "text/plain": [
       "recommendations finished on 7000/131209 queries. users per second: 1078.53"
      ]
     },
     "metadata": {},
     "output_type": "display_data"
    },
    {
     "data": {
      "text/html": [
       "<pre>recommendations finished on 8000/131209 queries. users per second: 1070.2</pre>"
      ],
      "text/plain": [
       "recommendations finished on 8000/131209 queries. users per second: 1070.2"
      ]
     },
     "metadata": {},
     "output_type": "display_data"
    },
    {
     "data": {
      "text/html": [
       "<pre>recommendations finished on 9000/131209 queries. users per second: 1067</pre>"
      ],
      "text/plain": [
       "recommendations finished on 9000/131209 queries. users per second: 1067"
      ]
     },
     "metadata": {},
     "output_type": "display_data"
    },
    {
     "data": {
      "text/html": [
       "<pre>recommendations finished on 10000/131209 queries. users per second: 1070.75</pre>"
      ],
      "text/plain": [
       "recommendations finished on 10000/131209 queries. users per second: 1070.75"
      ]
     },
     "metadata": {},
     "output_type": "display_data"
    },
    {
     "data": {
      "text/html": [
       "<pre>recommendations finished on 11000/131209 queries. users per second: 1079.53</pre>"
      ],
      "text/plain": [
       "recommendations finished on 11000/131209 queries. users per second: 1079.53"
      ]
     },
     "metadata": {},
     "output_type": "display_data"
    },
    {
     "data": {
      "text/html": [
       "<pre>recommendations finished on 12000/131209 queries. users per second: 1073.54</pre>"
      ],
      "text/plain": [
       "recommendations finished on 12000/131209 queries. users per second: 1073.54"
      ]
     },
     "metadata": {},
     "output_type": "display_data"
    },
    {
     "data": {
      "text/html": [
       "<pre>recommendations finished on 13000/131209 queries. users per second: 1081.31</pre>"
      ],
      "text/plain": [
       "recommendations finished on 13000/131209 queries. users per second: 1081.31"
      ]
     },
     "metadata": {},
     "output_type": "display_data"
    },
    {
     "data": {
      "text/html": [
       "<pre>recommendations finished on 14000/131209 queries. users per second: 1084.18</pre>"
      ],
      "text/plain": [
       "recommendations finished on 14000/131209 queries. users per second: 1084.18"
      ]
     },
     "metadata": {},
     "output_type": "display_data"
    },
    {
     "data": {
      "text/html": [
       "<pre>recommendations finished on 15000/131209 queries. users per second: 1076.49</pre>"
      ],
      "text/plain": [
       "recommendations finished on 15000/131209 queries. users per second: 1076.49"
      ]
     },
     "metadata": {},
     "output_type": "display_data"
    },
    {
     "data": {
      "text/html": [
       "<pre>recommendations finished on 16000/131209 queries. users per second: 1069.97</pre>"
      ],
      "text/plain": [
       "recommendations finished on 16000/131209 queries. users per second: 1069.97"
      ]
     },
     "metadata": {},
     "output_type": "display_data"
    },
    {
     "data": {
      "text/html": [
       "<pre>recommendations finished on 17000/131209 queries. users per second: 1055.41</pre>"
      ],
      "text/plain": [
       "recommendations finished on 17000/131209 queries. users per second: 1055.41"
      ]
     },
     "metadata": {},
     "output_type": "display_data"
    },
    {
     "data": {
      "text/html": [
       "<pre>recommendations finished on 18000/131209 queries. users per second: 1051.2</pre>"
      ],
      "text/plain": [
       "recommendations finished on 18000/131209 queries. users per second: 1051.2"
      ]
     },
     "metadata": {},
     "output_type": "display_data"
    },
    {
     "data": {
      "text/html": [
       "<pre>recommendations finished on 19000/131209 queries. users per second: 1057.59</pre>"
      ],
      "text/plain": [
       "recommendations finished on 19000/131209 queries. users per second: 1057.59"
      ]
     },
     "metadata": {},
     "output_type": "display_data"
    },
    {
     "data": {
      "text/html": [
       "<pre>recommendations finished on 20000/131209 queries. users per second: 1063.86</pre>"
      ],
      "text/plain": [
       "recommendations finished on 20000/131209 queries. users per second: 1063.86"
      ]
     },
     "metadata": {},
     "output_type": "display_data"
    },
    {
     "data": {
      "text/html": [
       "<pre>recommendations finished on 21000/131209 queries. users per second: 1068.39</pre>"
      ],
      "text/plain": [
       "recommendations finished on 21000/131209 queries. users per second: 1068.39"
      ]
     },
     "metadata": {},
     "output_type": "display_data"
    },
    {
     "data": {
      "text/html": [
       "<pre>recommendations finished on 22000/131209 queries. users per second: 1067.71</pre>"
      ],
      "text/plain": [
       "recommendations finished on 22000/131209 queries. users per second: 1067.71"
      ]
     },
     "metadata": {},
     "output_type": "display_data"
    },
    {
     "data": {
      "text/html": [
       "<pre>recommendations finished on 23000/131209 queries. users per second: 1068.33</pre>"
      ],
      "text/plain": [
       "recommendations finished on 23000/131209 queries. users per second: 1068.33"
      ]
     },
     "metadata": {},
     "output_type": "display_data"
    },
    {
     "data": {
      "text/html": [
       "<pre>recommendations finished on 24000/131209 queries. users per second: 1065.83</pre>"
      ],
      "text/plain": [
       "recommendations finished on 24000/131209 queries. users per second: 1065.83"
      ]
     },
     "metadata": {},
     "output_type": "display_data"
    },
    {
     "data": {
      "text/html": [
       "<pre>recommendations finished on 25000/131209 queries. users per second: 1065.74</pre>"
      ],
      "text/plain": [
       "recommendations finished on 25000/131209 queries. users per second: 1065.74"
      ]
     },
     "metadata": {},
     "output_type": "display_data"
    },
    {
     "data": {
      "text/html": [
       "<pre>recommendations finished on 26000/131209 queries. users per second: 1063.06</pre>"
      ],
      "text/plain": [
       "recommendations finished on 26000/131209 queries. users per second: 1063.06"
      ]
     },
     "metadata": {},
     "output_type": "display_data"
    },
    {
     "data": {
      "text/html": [
       "<pre>recommendations finished on 27000/131209 queries. users per second: 1063.29</pre>"
      ],
      "text/plain": [
       "recommendations finished on 27000/131209 queries. users per second: 1063.29"
      ]
     },
     "metadata": {},
     "output_type": "display_data"
    },
    {
     "data": {
      "text/html": [
       "<pre>recommendations finished on 28000/131209 queries. users per second: 1067.44</pre>"
      ],
      "text/plain": [
       "recommendations finished on 28000/131209 queries. users per second: 1067.44"
      ]
     },
     "metadata": {},
     "output_type": "display_data"
    },
    {
     "data": {
      "text/html": [
       "<pre>recommendations finished on 29000/131209 queries. users per second: 1069.37</pre>"
      ],
      "text/plain": [
       "recommendations finished on 29000/131209 queries. users per second: 1069.37"
      ]
     },
     "metadata": {},
     "output_type": "display_data"
    },
    {
     "data": {
      "text/html": [
       "<pre>recommendations finished on 30000/131209 queries. users per second: 1071.73</pre>"
      ],
      "text/plain": [
       "recommendations finished on 30000/131209 queries. users per second: 1071.73"
      ]
     },
     "metadata": {},
     "output_type": "display_data"
    },
    {
     "data": {
      "text/html": [
       "<pre>recommendations finished on 31000/131209 queries. users per second: 1073.77</pre>"
      ],
      "text/plain": [
       "recommendations finished on 31000/131209 queries. users per second: 1073.77"
      ]
     },
     "metadata": {},
     "output_type": "display_data"
    },
    {
     "data": {
      "text/html": [
       "<pre>recommendations finished on 32000/131209 queries. users per second: 1073.99</pre>"
      ],
      "text/plain": [
       "recommendations finished on 32000/131209 queries. users per second: 1073.99"
      ]
     },
     "metadata": {},
     "output_type": "display_data"
    },
    {
     "data": {
      "text/html": [
       "<pre>recommendations finished on 33000/131209 queries. users per second: 1072.82</pre>"
      ],
      "text/plain": [
       "recommendations finished on 33000/131209 queries. users per second: 1072.82"
      ]
     },
     "metadata": {},
     "output_type": "display_data"
    },
    {
     "data": {
      "text/html": [
       "<pre>recommendations finished on 34000/131209 queries. users per second: 1075.48</pre>"
      ],
      "text/plain": [
       "recommendations finished on 34000/131209 queries. users per second: 1075.48"
      ]
     },
     "metadata": {},
     "output_type": "display_data"
    },
    {
     "data": {
      "text/html": [
       "<pre>recommendations finished on 35000/131209 queries. users per second: 1078.96</pre>"
      ],
      "text/plain": [
       "recommendations finished on 35000/131209 queries. users per second: 1078.96"
      ]
     },
     "metadata": {},
     "output_type": "display_data"
    },
    {
     "data": {
      "text/html": [
       "<pre>recommendations finished on 36000/131209 queries. users per second: 1082.59</pre>"
      ],
      "text/plain": [
       "recommendations finished on 36000/131209 queries. users per second: 1082.59"
      ]
     },
     "metadata": {},
     "output_type": "display_data"
    },
    {
     "data": {
      "text/html": [
       "<pre>recommendations finished on 37000/131209 queries. users per second: 1084.57</pre>"
      ],
      "text/plain": [
       "recommendations finished on 37000/131209 queries. users per second: 1084.57"
      ]
     },
     "metadata": {},
     "output_type": "display_data"
    },
    {
     "data": {
      "text/html": [
       "<pre>recommendations finished on 38000/131209 queries. users per second: 1082.53</pre>"
      ],
      "text/plain": [
       "recommendations finished on 38000/131209 queries. users per second: 1082.53"
      ]
     },
     "metadata": {},
     "output_type": "display_data"
    },
    {
     "data": {
      "text/html": [
       "<pre>recommendations finished on 39000/131209 queries. users per second: 1084.45</pre>"
      ],
      "text/plain": [
       "recommendations finished on 39000/131209 queries. users per second: 1084.45"
      ]
     },
     "metadata": {},
     "output_type": "display_data"
    },
    {
     "data": {
      "text/html": [
       "<pre>recommendations finished on 40000/131209 queries. users per second: 1084.57</pre>"
      ],
      "text/plain": [
       "recommendations finished on 40000/131209 queries. users per second: 1084.57"
      ]
     },
     "metadata": {},
     "output_type": "display_data"
    },
    {
     "data": {
      "text/html": [
       "<pre>recommendations finished on 41000/131209 queries. users per second: 1083.83</pre>"
      ],
      "text/plain": [
       "recommendations finished on 41000/131209 queries. users per second: 1083.83"
      ]
     },
     "metadata": {},
     "output_type": "display_data"
    },
    {
     "data": {
      "text/html": [
       "<pre>recommendations finished on 42000/131209 queries. users per second: 1082.3</pre>"
      ],
      "text/plain": [
       "recommendations finished on 42000/131209 queries. users per second: 1082.3"
      ]
     },
     "metadata": {},
     "output_type": "display_data"
    },
    {
     "data": {
      "text/html": [
       "<pre>recommendations finished on 43000/131209 queries. users per second: 1082.56</pre>"
      ],
      "text/plain": [
       "recommendations finished on 43000/131209 queries. users per second: 1082.56"
      ]
     },
     "metadata": {},
     "output_type": "display_data"
    },
    {
     "data": {
      "text/html": [
       "<pre>recommendations finished on 44000/131209 queries. users per second: 1082.76</pre>"
      ],
      "text/plain": [
       "recommendations finished on 44000/131209 queries. users per second: 1082.76"
      ]
     },
     "metadata": {},
     "output_type": "display_data"
    },
    {
     "data": {
      "text/html": [
       "<pre>recommendations finished on 45000/131209 queries. users per second: 1081.58</pre>"
      ],
      "text/plain": [
       "recommendations finished on 45000/131209 queries. users per second: 1081.58"
      ]
     },
     "metadata": {},
     "output_type": "display_data"
    },
    {
     "data": {
      "text/html": [
       "<pre>recommendations finished on 46000/131209 queries. users per second: 1080.21</pre>"
      ],
      "text/plain": [
       "recommendations finished on 46000/131209 queries. users per second: 1080.21"
      ]
     },
     "metadata": {},
     "output_type": "display_data"
    },
    {
     "data": {
      "text/html": [
       "<pre>recommendations finished on 47000/131209 queries. users per second: 1079.61</pre>"
      ],
      "text/plain": [
       "recommendations finished on 47000/131209 queries. users per second: 1079.61"
      ]
     },
     "metadata": {},
     "output_type": "display_data"
    },
    {
     "data": {
      "text/html": [
       "<pre>recommendations finished on 48000/131209 queries. users per second: 1080.73</pre>"
      ],
      "text/plain": [
       "recommendations finished on 48000/131209 queries. users per second: 1080.73"
      ]
     },
     "metadata": {},
     "output_type": "display_data"
    },
    {
     "data": {
      "text/html": [
       "<pre>recommendations finished on 49000/131209 queries. users per second: 1079.96</pre>"
      ],
      "text/plain": [
       "recommendations finished on 49000/131209 queries. users per second: 1079.96"
      ]
     },
     "metadata": {},
     "output_type": "display_data"
    },
    {
     "data": {
      "text/html": [
       "<pre>recommendations finished on 50000/131209 queries. users per second: 1079.27</pre>"
      ],
      "text/plain": [
       "recommendations finished on 50000/131209 queries. users per second: 1079.27"
      ]
     },
     "metadata": {},
     "output_type": "display_data"
    },
    {
     "data": {
      "text/html": [
       "<pre>recommendations finished on 51000/131209 queries. users per second: 1077.42</pre>"
      ],
      "text/plain": [
       "recommendations finished on 51000/131209 queries. users per second: 1077.42"
      ]
     },
     "metadata": {},
     "output_type": "display_data"
    },
    {
     "data": {
      "text/html": [
       "<pre>recommendations finished on 52000/131209 queries. users per second: 1077.94</pre>"
      ],
      "text/plain": [
       "recommendations finished on 52000/131209 queries. users per second: 1077.94"
      ]
     },
     "metadata": {},
     "output_type": "display_data"
    },
    {
     "data": {
      "text/html": [
       "<pre>recommendations finished on 53000/131209 queries. users per second: 1077.09</pre>"
      ],
      "text/plain": [
       "recommendations finished on 53000/131209 queries. users per second: 1077.09"
      ]
     },
     "metadata": {},
     "output_type": "display_data"
    },
    {
     "data": {
      "text/html": [
       "<pre>recommendations finished on 54000/131209 queries. users per second: 1078.75</pre>"
      ],
      "text/plain": [
       "recommendations finished on 54000/131209 queries. users per second: 1078.75"
      ]
     },
     "metadata": {},
     "output_type": "display_data"
    },
    {
     "data": {
      "text/html": [
       "<pre>recommendations finished on 55000/131209 queries. users per second: 1078.1</pre>"
      ],
      "text/plain": [
       "recommendations finished on 55000/131209 queries. users per second: 1078.1"
      ]
     },
     "metadata": {},
     "output_type": "display_data"
    },
    {
     "data": {
      "text/html": [
       "<pre>recommendations finished on 56000/131209 queries. users per second: 1079.25</pre>"
      ],
      "text/plain": [
       "recommendations finished on 56000/131209 queries. users per second: 1079.25"
      ]
     },
     "metadata": {},
     "output_type": "display_data"
    },
    {
     "data": {
      "text/html": [
       "<pre>recommendations finished on 57000/131209 queries. users per second: 1080.53</pre>"
      ],
      "text/plain": [
       "recommendations finished on 57000/131209 queries. users per second: 1080.53"
      ]
     },
     "metadata": {},
     "output_type": "display_data"
    },
    {
     "data": {
      "text/html": [
       "<pre>recommendations finished on 58000/131209 queries. users per second: 1081.8</pre>"
      ],
      "text/plain": [
       "recommendations finished on 58000/131209 queries. users per second: 1081.8"
      ]
     },
     "metadata": {},
     "output_type": "display_data"
    },
    {
     "data": {
      "text/html": [
       "<pre>recommendations finished on 59000/131209 queries. users per second: 1082.31</pre>"
      ],
      "text/plain": [
       "recommendations finished on 59000/131209 queries. users per second: 1082.31"
      ]
     },
     "metadata": {},
     "output_type": "display_data"
    },
    {
     "data": {
      "text/html": [
       "<pre>recommendations finished on 60000/131209 queries. users per second: 1081.92</pre>"
      ],
      "text/plain": [
       "recommendations finished on 60000/131209 queries. users per second: 1081.92"
      ]
     },
     "metadata": {},
     "output_type": "display_data"
    },
    {
     "data": {
      "text/html": [
       "<pre>recommendations finished on 61000/131209 queries. users per second: 1081.2</pre>"
      ],
      "text/plain": [
       "recommendations finished on 61000/131209 queries. users per second: 1081.2"
      ]
     },
     "metadata": {},
     "output_type": "display_data"
    },
    {
     "data": {
      "text/html": [
       "<pre>recommendations finished on 62000/131209 queries. users per second: 1080.79</pre>"
      ],
      "text/plain": [
       "recommendations finished on 62000/131209 queries. users per second: 1080.79"
      ]
     },
     "metadata": {},
     "output_type": "display_data"
    },
    {
     "data": {
      "text/html": [
       "<pre>recommendations finished on 63000/131209 queries. users per second: 1081.16</pre>"
      ],
      "text/plain": [
       "recommendations finished on 63000/131209 queries. users per second: 1081.16"
      ]
     },
     "metadata": {},
     "output_type": "display_data"
    },
    {
     "data": {
      "text/html": [
       "<pre>recommendations finished on 64000/131209 queries. users per second: 1080</pre>"
      ],
      "text/plain": [
       "recommendations finished on 64000/131209 queries. users per second: 1080"
      ]
     },
     "metadata": {},
     "output_type": "display_data"
    },
    {
     "data": {
      "text/html": [
       "<pre>recommendations finished on 65000/131209 queries. users per second: 1077.89</pre>"
      ],
      "text/plain": [
       "recommendations finished on 65000/131209 queries. users per second: 1077.89"
      ]
     },
     "metadata": {},
     "output_type": "display_data"
    },
    {
     "data": {
      "text/html": [
       "<pre>recommendations finished on 66000/131209 queries. users per second: 1079.03</pre>"
      ],
      "text/plain": [
       "recommendations finished on 66000/131209 queries. users per second: 1079.03"
      ]
     },
     "metadata": {},
     "output_type": "display_data"
    },
    {
     "data": {
      "text/html": [
       "<pre>recommendations finished on 67000/131209 queries. users per second: 1080.84</pre>"
      ],
      "text/plain": [
       "recommendations finished on 67000/131209 queries. users per second: 1080.84"
      ]
     },
     "metadata": {},
     "output_type": "display_data"
    },
    {
     "data": {
      "text/html": [
       "<pre>recommendations finished on 68000/131209 queries. users per second: 1081.16</pre>"
      ],
      "text/plain": [
       "recommendations finished on 68000/131209 queries. users per second: 1081.16"
      ]
     },
     "metadata": {},
     "output_type": "display_data"
    },
    {
     "data": {
      "text/html": [
       "<pre>recommendations finished on 69000/131209 queries. users per second: 1079.27</pre>"
      ],
      "text/plain": [
       "recommendations finished on 69000/131209 queries. users per second: 1079.27"
      ]
     },
     "metadata": {},
     "output_type": "display_data"
    },
    {
     "data": {
      "text/html": [
       "<pre>recommendations finished on 70000/131209 queries. users per second: 1077.83</pre>"
      ],
      "text/plain": [
       "recommendations finished on 70000/131209 queries. users per second: 1077.83"
      ]
     },
     "metadata": {},
     "output_type": "display_data"
    },
    {
     "data": {
      "text/html": [
       "<pre>recommendations finished on 71000/131209 queries. users per second: 1078.05</pre>"
      ],
      "text/plain": [
       "recommendations finished on 71000/131209 queries. users per second: 1078.05"
      ]
     },
     "metadata": {},
     "output_type": "display_data"
    },
    {
     "data": {
      "text/html": [
       "<pre>recommendations finished on 72000/131209 queries. users per second: 1077.11</pre>"
      ],
      "text/plain": [
       "recommendations finished on 72000/131209 queries. users per second: 1077.11"
      ]
     },
     "metadata": {},
     "output_type": "display_data"
    },
    {
     "data": {
      "text/html": [
       "<pre>recommendations finished on 73000/131209 queries. users per second: 1077.18</pre>"
      ],
      "text/plain": [
       "recommendations finished on 73000/131209 queries. users per second: 1077.18"
      ]
     },
     "metadata": {},
     "output_type": "display_data"
    },
    {
     "data": {
      "text/html": [
       "<pre>recommendations finished on 74000/131209 queries. users per second: 1077.05</pre>"
      ],
      "text/plain": [
       "recommendations finished on 74000/131209 queries. users per second: 1077.05"
      ]
     },
     "metadata": {},
     "output_type": "display_data"
    },
    {
     "data": {
      "text/html": [
       "<pre>recommendations finished on 75000/131209 queries. users per second: 1076.87</pre>"
      ],
      "text/plain": [
       "recommendations finished on 75000/131209 queries. users per second: 1076.87"
      ]
     },
     "metadata": {},
     "output_type": "display_data"
    },
    {
     "data": {
      "text/html": [
       "<pre>recommendations finished on 76000/131209 queries. users per second: 1077.45</pre>"
      ],
      "text/plain": [
       "recommendations finished on 76000/131209 queries. users per second: 1077.45"
      ]
     },
     "metadata": {},
     "output_type": "display_data"
    },
    {
     "data": {
      "text/html": [
       "<pre>recommendations finished on 77000/131209 queries. users per second: 1077.82</pre>"
      ],
      "text/plain": [
       "recommendations finished on 77000/131209 queries. users per second: 1077.82"
      ]
     },
     "metadata": {},
     "output_type": "display_data"
    },
    {
     "data": {
      "text/html": [
       "<pre>recommendations finished on 78000/131209 queries. users per second: 1077.27</pre>"
      ],
      "text/plain": [
       "recommendations finished on 78000/131209 queries. users per second: 1077.27"
      ]
     },
     "metadata": {},
     "output_type": "display_data"
    },
    {
     "data": {
      "text/html": [
       "<pre>recommendations finished on 79000/131209 queries. users per second: 1077.29</pre>"
      ],
      "text/plain": [
       "recommendations finished on 79000/131209 queries. users per second: 1077.29"
      ]
     },
     "metadata": {},
     "output_type": "display_data"
    },
    {
     "data": {
      "text/html": [
       "<pre>recommendations finished on 80000/131209 queries. users per second: 1077.96</pre>"
      ],
      "text/plain": [
       "recommendations finished on 80000/131209 queries. users per second: 1077.96"
      ]
     },
     "metadata": {},
     "output_type": "display_data"
    },
    {
     "data": {
      "text/html": [
       "<pre>recommendations finished on 81000/131209 queries. users per second: 1077.95</pre>"
      ],
      "text/plain": [
       "recommendations finished on 81000/131209 queries. users per second: 1077.95"
      ]
     },
     "metadata": {},
     "output_type": "display_data"
    },
    {
     "data": {
      "text/html": [
       "<pre>recommendations finished on 82000/131209 queries. users per second: 1079.4</pre>"
      ],
      "text/plain": [
       "recommendations finished on 82000/131209 queries. users per second: 1079.4"
      ]
     },
     "metadata": {},
     "output_type": "display_data"
    },
    {
     "data": {
      "text/html": [
       "<pre>recommendations finished on 83000/131209 queries. users per second: 1079.27</pre>"
      ],
      "text/plain": [
       "recommendations finished on 83000/131209 queries. users per second: 1079.27"
      ]
     },
     "metadata": {},
     "output_type": "display_data"
    },
    {
     "data": {
      "text/html": [
       "<pre>recommendations finished on 84000/131209 queries. users per second: 1079.01</pre>"
      ],
      "text/plain": [
       "recommendations finished on 84000/131209 queries. users per second: 1079.01"
      ]
     },
     "metadata": {},
     "output_type": "display_data"
    },
    {
     "data": {
      "text/html": [
       "<pre>recommendations finished on 85000/131209 queries. users per second: 1079.34</pre>"
      ],
      "text/plain": [
       "recommendations finished on 85000/131209 queries. users per second: 1079.34"
      ]
     },
     "metadata": {},
     "output_type": "display_data"
    },
    {
     "data": {
      "text/html": [
       "<pre>recommendations finished on 86000/131209 queries. users per second: 1079.53</pre>"
      ],
      "text/plain": [
       "recommendations finished on 86000/131209 queries. users per second: 1079.53"
      ]
     },
     "metadata": {},
     "output_type": "display_data"
    },
    {
     "data": {
      "text/html": [
       "<pre>recommendations finished on 87000/131209 queries. users per second: 1080.16</pre>"
      ],
      "text/plain": [
       "recommendations finished on 87000/131209 queries. users per second: 1080.16"
      ]
     },
     "metadata": {},
     "output_type": "display_data"
    },
    {
     "data": {
      "text/html": [
       "<pre>recommendations finished on 88000/131209 queries. users per second: 1079.69</pre>"
      ],
      "text/plain": [
       "recommendations finished on 88000/131209 queries. users per second: 1079.69"
      ]
     },
     "metadata": {},
     "output_type": "display_data"
    },
    {
     "data": {
      "text/html": [
       "<pre>recommendations finished on 89000/131209 queries. users per second: 1079.94</pre>"
      ],
      "text/plain": [
       "recommendations finished on 89000/131209 queries. users per second: 1079.94"
      ]
     },
     "metadata": {},
     "output_type": "display_data"
    },
    {
     "data": {
      "text/html": [
       "<pre>recommendations finished on 90000/131209 queries. users per second: 1080.28</pre>"
      ],
      "text/plain": [
       "recommendations finished on 90000/131209 queries. users per second: 1080.28"
      ]
     },
     "metadata": {},
     "output_type": "display_data"
    },
    {
     "data": {
      "text/html": [
       "<pre>recommendations finished on 91000/131209 queries. users per second: 1081.19</pre>"
      ],
      "text/plain": [
       "recommendations finished on 91000/131209 queries. users per second: 1081.19"
      ]
     },
     "metadata": {},
     "output_type": "display_data"
    },
    {
     "data": {
      "text/html": [
       "<pre>recommendations finished on 92000/131209 queries. users per second: 1081.93</pre>"
      ],
      "text/plain": [
       "recommendations finished on 92000/131209 queries. users per second: 1081.93"
      ]
     },
     "metadata": {},
     "output_type": "display_data"
    },
    {
     "data": {
      "text/html": [
       "<pre>recommendations finished on 93000/131209 queries. users per second: 1081.65</pre>"
      ],
      "text/plain": [
       "recommendations finished on 93000/131209 queries. users per second: 1081.65"
      ]
     },
     "metadata": {},
     "output_type": "display_data"
    },
    {
     "data": {
      "text/html": [
       "<pre>recommendations finished on 94000/131209 queries. users per second: 1081.93</pre>"
      ],
      "text/plain": [
       "recommendations finished on 94000/131209 queries. users per second: 1081.93"
      ]
     },
     "metadata": {},
     "output_type": "display_data"
    },
    {
     "data": {
      "text/html": [
       "<pre>recommendations finished on 95000/131209 queries. users per second: 1082.87</pre>"
      ],
      "text/plain": [
       "recommendations finished on 95000/131209 queries. users per second: 1082.87"
      ]
     },
     "metadata": {},
     "output_type": "display_data"
    },
    {
     "data": {
      "text/html": [
       "<pre>recommendations finished on 96000/131209 queries. users per second: 1083.09</pre>"
      ],
      "text/plain": [
       "recommendations finished on 96000/131209 queries. users per second: 1083.09"
      ]
     },
     "metadata": {},
     "output_type": "display_data"
    },
    {
     "data": {
      "text/html": [
       "<pre>recommendations finished on 97000/131209 queries. users per second: 1084.52</pre>"
      ],
      "text/plain": [
       "recommendations finished on 97000/131209 queries. users per second: 1084.52"
      ]
     },
     "metadata": {},
     "output_type": "display_data"
    },
    {
     "data": {
      "text/html": [
       "<pre>recommendations finished on 98000/131209 queries. users per second: 1085.9</pre>"
      ],
      "text/plain": [
       "recommendations finished on 98000/131209 queries. users per second: 1085.9"
      ]
     },
     "metadata": {},
     "output_type": "display_data"
    },
    {
     "data": {
      "text/html": [
       "<pre>recommendations finished on 99000/131209 queries. users per second: 1084.99</pre>"
      ],
      "text/plain": [
       "recommendations finished on 99000/131209 queries. users per second: 1084.99"
      ]
     },
     "metadata": {},
     "output_type": "display_data"
    },
    {
     "data": {
      "text/html": [
       "<pre>recommendations finished on 100000/131209 queries. users per second: 1085.43</pre>"
      ],
      "text/plain": [
       "recommendations finished on 100000/131209 queries. users per second: 1085.43"
      ]
     },
     "metadata": {},
     "output_type": "display_data"
    },
    {
     "data": {
      "text/html": [
       "<pre>recommendations finished on 101000/131209 queries. users per second: 1085.88</pre>"
      ],
      "text/plain": [
       "recommendations finished on 101000/131209 queries. users per second: 1085.88"
      ]
     },
     "metadata": {},
     "output_type": "display_data"
    },
    {
     "data": {
      "text/html": [
       "<pre>recommendations finished on 102000/131209 queries. users per second: 1086.88</pre>"
      ],
      "text/plain": [
       "recommendations finished on 102000/131209 queries. users per second: 1086.88"
      ]
     },
     "metadata": {},
     "output_type": "display_data"
    },
    {
     "data": {
      "text/html": [
       "<pre>recommendations finished on 103000/131209 queries. users per second: 1088.16</pre>"
      ],
      "text/plain": [
       "recommendations finished on 103000/131209 queries. users per second: 1088.16"
      ]
     },
     "metadata": {},
     "output_type": "display_data"
    },
    {
     "data": {
      "text/html": [
       "<pre>recommendations finished on 104000/131209 queries. users per second: 1087.9</pre>"
      ],
      "text/plain": [
       "recommendations finished on 104000/131209 queries. users per second: 1087.9"
      ]
     },
     "metadata": {},
     "output_type": "display_data"
    },
    {
     "data": {
      "text/html": [
       "<pre>recommendations finished on 105000/131209 queries. users per second: 1087.79</pre>"
      ],
      "text/plain": [
       "recommendations finished on 105000/131209 queries. users per second: 1087.79"
      ]
     },
     "metadata": {},
     "output_type": "display_data"
    },
    {
     "data": {
      "text/html": [
       "<pre>recommendations finished on 106000/131209 queries. users per second: 1088.48</pre>"
      ],
      "text/plain": [
       "recommendations finished on 106000/131209 queries. users per second: 1088.48"
      ]
     },
     "metadata": {},
     "output_type": "display_data"
    },
    {
     "data": {
      "text/html": [
       "<pre>recommendations finished on 107000/131209 queries. users per second: 1087.87</pre>"
      ],
      "text/plain": [
       "recommendations finished on 107000/131209 queries. users per second: 1087.87"
      ]
     },
     "metadata": {},
     "output_type": "display_data"
    },
    {
     "data": {
      "text/html": [
       "<pre>recommendations finished on 108000/131209 queries. users per second: 1086.95</pre>"
      ],
      "text/plain": [
       "recommendations finished on 108000/131209 queries. users per second: 1086.95"
      ]
     },
     "metadata": {},
     "output_type": "display_data"
    },
    {
     "data": {
      "text/html": [
       "<pre>recommendations finished on 109000/131209 queries. users per second: 1087.36</pre>"
      ],
      "text/plain": [
       "recommendations finished on 109000/131209 queries. users per second: 1087.36"
      ]
     },
     "metadata": {},
     "output_type": "display_data"
    },
    {
     "data": {
      "text/html": [
       "<pre>recommendations finished on 110000/131209 queries. users per second: 1088.44</pre>"
      ],
      "text/plain": [
       "recommendations finished on 110000/131209 queries. users per second: 1088.44"
      ]
     },
     "metadata": {},
     "output_type": "display_data"
    },
    {
     "data": {
      "text/html": [
       "<pre>recommendations finished on 111000/131209 queries. users per second: 1088.03</pre>"
      ],
      "text/plain": [
       "recommendations finished on 111000/131209 queries. users per second: 1088.03"
      ]
     },
     "metadata": {},
     "output_type": "display_data"
    },
    {
     "data": {
      "text/html": [
       "<pre>recommendations finished on 112000/131209 queries. users per second: 1089.02</pre>"
      ],
      "text/plain": [
       "recommendations finished on 112000/131209 queries. users per second: 1089.02"
      ]
     },
     "metadata": {},
     "output_type": "display_data"
    },
    {
     "data": {
      "text/html": [
       "<pre>recommendations finished on 113000/131209 queries. users per second: 1087.88</pre>"
      ],
      "text/plain": [
       "recommendations finished on 113000/131209 queries. users per second: 1087.88"
      ]
     },
     "metadata": {},
     "output_type": "display_data"
    },
    {
     "data": {
      "text/html": [
       "<pre>recommendations finished on 114000/131209 queries. users per second: 1087.15</pre>"
      ],
      "text/plain": [
       "recommendations finished on 114000/131209 queries. users per second: 1087.15"
      ]
     },
     "metadata": {},
     "output_type": "display_data"
    },
    {
     "data": {
      "text/html": [
       "<pre>recommendations finished on 115000/131209 queries. users per second: 1087.85</pre>"
      ],
      "text/plain": [
       "recommendations finished on 115000/131209 queries. users per second: 1087.85"
      ]
     },
     "metadata": {},
     "output_type": "display_data"
    },
    {
     "data": {
      "text/html": [
       "<pre>recommendations finished on 116000/131209 queries. users per second: 1088.09</pre>"
      ],
      "text/plain": [
       "recommendations finished on 116000/131209 queries. users per second: 1088.09"
      ]
     },
     "metadata": {},
     "output_type": "display_data"
    },
    {
     "data": {
      "text/html": [
       "<pre>recommendations finished on 117000/131209 queries. users per second: 1086.91</pre>"
      ],
      "text/plain": [
       "recommendations finished on 117000/131209 queries. users per second: 1086.91"
      ]
     },
     "metadata": {},
     "output_type": "display_data"
    },
    {
     "data": {
      "text/html": [
       "<pre>recommendations finished on 118000/131209 queries. users per second: 1086.95</pre>"
      ],
      "text/plain": [
       "recommendations finished on 118000/131209 queries. users per second: 1086.95"
      ]
     },
     "metadata": {},
     "output_type": "display_data"
    },
    {
     "data": {
      "text/html": [
       "<pre>recommendations finished on 119000/131209 queries. users per second: 1086.88</pre>"
      ],
      "text/plain": [
       "recommendations finished on 119000/131209 queries. users per second: 1086.88"
      ]
     },
     "metadata": {},
     "output_type": "display_data"
    },
    {
     "data": {
      "text/html": [
       "<pre>recommendations finished on 120000/131209 queries. users per second: 1087.67</pre>"
      ],
      "text/plain": [
       "recommendations finished on 120000/131209 queries. users per second: 1087.67"
      ]
     },
     "metadata": {},
     "output_type": "display_data"
    },
    {
     "data": {
      "text/html": [
       "<pre>recommendations finished on 121000/131209 queries. users per second: 1086.83</pre>"
      ],
      "text/plain": [
       "recommendations finished on 121000/131209 queries. users per second: 1086.83"
      ]
     },
     "metadata": {},
     "output_type": "display_data"
    },
    {
     "data": {
      "text/html": [
       "<pre>recommendations finished on 122000/131209 queries. users per second: 1086.74</pre>"
      ],
      "text/plain": [
       "recommendations finished on 122000/131209 queries. users per second: 1086.74"
      ]
     },
     "metadata": {},
     "output_type": "display_data"
    },
    {
     "data": {
      "text/html": [
       "<pre>recommendations finished on 123000/131209 queries. users per second: 1085.97</pre>"
      ],
      "text/plain": [
       "recommendations finished on 123000/131209 queries. users per second: 1085.97"
      ]
     },
     "metadata": {},
     "output_type": "display_data"
    },
    {
     "data": {
      "text/html": [
       "<pre>recommendations finished on 124000/131209 queries. users per second: 1086.31</pre>"
      ],
      "text/plain": [
       "recommendations finished on 124000/131209 queries. users per second: 1086.31"
      ]
     },
     "metadata": {},
     "output_type": "display_data"
    },
    {
     "data": {
      "text/html": [
       "<pre>recommendations finished on 125000/131209 queries. users per second: 1086.46</pre>"
      ],
      "text/plain": [
       "recommendations finished on 125000/131209 queries. users per second: 1086.46"
      ]
     },
     "metadata": {},
     "output_type": "display_data"
    },
    {
     "data": {
      "text/html": [
       "<pre>recommendations finished on 126000/131209 queries. users per second: 1085.87</pre>"
      ],
      "text/plain": [
       "recommendations finished on 126000/131209 queries. users per second: 1085.87"
      ]
     },
     "metadata": {},
     "output_type": "display_data"
    },
    {
     "data": {
      "text/html": [
       "<pre>recommendations finished on 127000/131209 queries. users per second: 1085.81</pre>"
      ],
      "text/plain": [
       "recommendations finished on 127000/131209 queries. users per second: 1085.81"
      ]
     },
     "metadata": {},
     "output_type": "display_data"
    },
    {
     "data": {
      "text/html": [
       "<pre>recommendations finished on 128000/131209 queries. users per second: 1086.44</pre>"
      ],
      "text/plain": [
       "recommendations finished on 128000/131209 queries. users per second: 1086.44"
      ]
     },
     "metadata": {},
     "output_type": "display_data"
    },
    {
     "data": {
      "text/html": [
       "<pre>recommendations finished on 129000/131209 queries. users per second: 1086.94</pre>"
      ],
      "text/plain": [
       "recommendations finished on 129000/131209 queries. users per second: 1086.94"
      ]
     },
     "metadata": {},
     "output_type": "display_data"
    },
    {
     "data": {
      "text/html": [
       "<pre>recommendations finished on 130000/131209 queries. users per second: 1086.26</pre>"
      ],
      "text/plain": [
       "recommendations finished on 130000/131209 queries. users per second: 1086.26"
      ]
     },
     "metadata": {},
     "output_type": "display_data"
    },
    {
     "data": {
      "text/html": [
       "<pre>recommendations finished on 131000/131209 queries. users per second: 1086</pre>"
      ],
      "text/plain": [
       "recommendations finished on 131000/131209 queries. users per second: 1086"
      ]
     },
     "metadata": {},
     "output_type": "display_data"
    },
    {
     "name": "stdout",
     "output_type": "stream",
     "text": [
      "\n",
      "Precision and recall summary statistics by cutoff\n",
      "+--------+------------------------+------------------------+\n",
      "| cutoff |     mean_precision     |      mean_recall       |\n",
      "+--------+------------------------+------------------------+\n",
      "|   1    |          0.0           |          0.0           |\n",
      "|   2    |          0.0           |          0.0           |\n",
      "|   3    |          0.0           |          0.0           |\n",
      "|   4    |          0.0           |          0.0           |\n",
      "|   5    |          0.0           |          0.0           |\n",
      "|   6    |          0.0           |          0.0           |\n",
      "|   7    |          0.0           |          0.0           |\n",
      "|   8    | 1.9053571020280544e-06 | 2.8580356530421213e-06 |\n",
      "|   9    | 1.6936507573582852e-06 | 2.8580356530421213e-06 |\n",
      "|   10   | 1.5242856816224453e-06 | 2.8580356530421213e-06 |\n",
      "+--------+------------------------+------------------------+\n",
      "[10 rows x 3 columns]\n",
      "\n",
      "\n",
      "Overall RMSE: 0.982508374344506\n",
      "\n",
      "Per User RMSE (best)\n",
      "+---------+--------------------+-------+\n",
      "| user_id |        rmse        | count |\n",
      "+---------+--------------------+-------+\n",
      "|  136163 | 0.9211502782931354 |   1   |\n",
      "+---------+--------------------+-------+\n",
      "[1 rows x 3 columns]\n",
      "\n",
      "\n",
      "Per User RMSE (worst)\n",
      "+---------+------+-------+\n",
      "| user_id | rmse | count |\n",
      "+---------+------+-------+\n",
      "|  102127 | 1.0  |   1   |\n",
      "+---------+------+-------+\n",
      "[1 rows x 3 columns]\n",
      "\n",
      "\n",
      "Per Item RMSE (best)\n",
      "+------------+--------------------+-------+\n",
      "| product_id |        rmse        | count |\n",
      "+------------+--------------------+-------+\n",
      "|    6433    | 0.8367346938775511 |   1   |\n",
      "+------------+--------------------+-------+\n",
      "[1 rows x 3 columns]\n",
      "\n",
      "\n",
      "Per Item RMSE (worst)\n",
      "+------------+------+-------+\n",
      "| product_id | rmse | count |\n",
      "+------------+------+-------+\n",
      "|    8455    | 1.0  |   3   |\n",
      "+------------+------+-------+\n",
      "[1 rows x 3 columns]\n",
      "\n",
      "PROGRESS: Evaluate model Cosine Similarity on Scaled Purchase Counts\n"
     ]
    },
    {
     "data": {
      "text/html": [
       "<pre>recommendations finished on 1000/131209 queries. users per second: 1008.76</pre>"
      ],
      "text/plain": [
       "recommendations finished on 1000/131209 queries. users per second: 1008.76"
      ]
     },
     "metadata": {},
     "output_type": "display_data"
    },
    {
     "data": {
      "text/html": [
       "<pre>recommendations finished on 2000/131209 queries. users per second: 1021.54</pre>"
      ],
      "text/plain": [
       "recommendations finished on 2000/131209 queries. users per second: 1021.54"
      ]
     },
     "metadata": {},
     "output_type": "display_data"
    },
    {
     "data": {
      "text/html": [
       "<pre>recommendations finished on 3000/131209 queries. users per second: 1030.12</pre>"
      ],
      "text/plain": [
       "recommendations finished on 3000/131209 queries. users per second: 1030.12"
      ]
     },
     "metadata": {},
     "output_type": "display_data"
    },
    {
     "data": {
      "text/html": [
       "<pre>recommendations finished on 4000/131209 queries. users per second: 1037.4</pre>"
      ],
      "text/plain": [
       "recommendations finished on 4000/131209 queries. users per second: 1037.4"
      ]
     },
     "metadata": {},
     "output_type": "display_data"
    },
    {
     "data": {
      "text/html": [
       "<pre>recommendations finished on 5000/131209 queries. users per second: 1059.95</pre>"
      ],
      "text/plain": [
       "recommendations finished on 5000/131209 queries. users per second: 1059.95"
      ]
     },
     "metadata": {},
     "output_type": "display_data"
    },
    {
     "data": {
      "text/html": [
       "<pre>recommendations finished on 6000/131209 queries. users per second: 1044.8</pre>"
      ],
      "text/plain": [
       "recommendations finished on 6000/131209 queries. users per second: 1044.8"
      ]
     },
     "metadata": {},
     "output_type": "display_data"
    },
    {
     "data": {
      "text/html": [
       "<pre>recommendations finished on 7000/131209 queries. users per second: 1023.94</pre>"
      ],
      "text/plain": [
       "recommendations finished on 7000/131209 queries. users per second: 1023.94"
      ]
     },
     "metadata": {},
     "output_type": "display_data"
    },
    {
     "data": {
      "text/html": [
       "<pre>recommendations finished on 8000/131209 queries. users per second: 999.815</pre>"
      ],
      "text/plain": [
       "recommendations finished on 8000/131209 queries. users per second: 999.815"
      ]
     },
     "metadata": {},
     "output_type": "display_data"
    },
    {
     "data": {
      "text/html": [
       "<pre>recommendations finished on 9000/131209 queries. users per second: 1007.63</pre>"
      ],
      "text/plain": [
       "recommendations finished on 9000/131209 queries. users per second: 1007.63"
      ]
     },
     "metadata": {},
     "output_type": "display_data"
    },
    {
     "data": {
      "text/html": [
       "<pre>recommendations finished on 10000/131209 queries. users per second: 1015.55</pre>"
      ],
      "text/plain": [
       "recommendations finished on 10000/131209 queries. users per second: 1015.55"
      ]
     },
     "metadata": {},
     "output_type": "display_data"
    },
    {
     "data": {
      "text/html": [
       "<pre>recommendations finished on 11000/131209 queries. users per second: 1009</pre>"
      ],
      "text/plain": [
       "recommendations finished on 11000/131209 queries. users per second: 1009"
      ]
     },
     "metadata": {},
     "output_type": "display_data"
    },
    {
     "data": {
      "text/html": [
       "<pre>recommendations finished on 12000/131209 queries. users per second: 1002.05</pre>"
      ],
      "text/plain": [
       "recommendations finished on 12000/131209 queries. users per second: 1002.05"
      ]
     },
     "metadata": {},
     "output_type": "display_data"
    },
    {
     "data": {
      "text/html": [
       "<pre>recommendations finished on 13000/131209 queries. users per second: 1005.43</pre>"
      ],
      "text/plain": [
       "recommendations finished on 13000/131209 queries. users per second: 1005.43"
      ]
     },
     "metadata": {},
     "output_type": "display_data"
    },
    {
     "data": {
      "text/html": [
       "<pre>recommendations finished on 14000/131209 queries. users per second: 999.711</pre>"
      ],
      "text/plain": [
       "recommendations finished on 14000/131209 queries. users per second: 999.711"
      ]
     },
     "metadata": {},
     "output_type": "display_data"
    },
    {
     "data": {
      "text/html": [
       "<pre>recommendations finished on 15000/131209 queries. users per second: 997.395</pre>"
      ],
      "text/plain": [
       "recommendations finished on 15000/131209 queries. users per second: 997.395"
      ]
     },
     "metadata": {},
     "output_type": "display_data"
    },
    {
     "data": {
      "text/html": [
       "<pre>recommendations finished on 16000/131209 queries. users per second: 990.316</pre>"
      ],
      "text/plain": [
       "recommendations finished on 16000/131209 queries. users per second: 990.316"
      ]
     },
     "metadata": {},
     "output_type": "display_data"
    },
    {
     "data": {
      "text/html": [
       "<pre>recommendations finished on 17000/131209 queries. users per second: 980.6</pre>"
      ],
      "text/plain": [
       "recommendations finished on 17000/131209 queries. users per second: 980.6"
      ]
     },
     "metadata": {},
     "output_type": "display_data"
    },
    {
     "data": {
      "text/html": [
       "<pre>recommendations finished on 18000/131209 queries. users per second: 975.639</pre>"
      ],
      "text/plain": [
       "recommendations finished on 18000/131209 queries. users per second: 975.639"
      ]
     },
     "metadata": {},
     "output_type": "display_data"
    },
    {
     "data": {
      "text/html": [
       "<pre>recommendations finished on 19000/131209 queries. users per second: 967.446</pre>"
      ],
      "text/plain": [
       "recommendations finished on 19000/131209 queries. users per second: 967.446"
      ]
     },
     "metadata": {},
     "output_type": "display_data"
    },
    {
     "data": {
      "text/html": [
       "<pre>recommendations finished on 20000/131209 queries. users per second: 956.302</pre>"
      ],
      "text/plain": [
       "recommendations finished on 20000/131209 queries. users per second: 956.302"
      ]
     },
     "metadata": {},
     "output_type": "display_data"
    },
    {
     "data": {
      "text/html": [
       "<pre>recommendations finished on 21000/131209 queries. users per second: 950.508</pre>"
      ],
      "text/plain": [
       "recommendations finished on 21000/131209 queries. users per second: 950.508"
      ]
     },
     "metadata": {},
     "output_type": "display_data"
    },
    {
     "data": {
      "text/html": [
       "<pre>recommendations finished on 22000/131209 queries. users per second: 946.404</pre>"
      ],
      "text/plain": [
       "recommendations finished on 22000/131209 queries. users per second: 946.404"
      ]
     },
     "metadata": {},
     "output_type": "display_data"
    },
    {
     "data": {
      "text/html": [
       "<pre>recommendations finished on 23000/131209 queries. users per second: 945.236</pre>"
      ],
      "text/plain": [
       "recommendations finished on 23000/131209 queries. users per second: 945.236"
      ]
     },
     "metadata": {},
     "output_type": "display_data"
    },
    {
     "data": {
      "text/html": [
       "<pre>recommendations finished on 24000/131209 queries. users per second: 944.048</pre>"
      ],
      "text/plain": [
       "recommendations finished on 24000/131209 queries. users per second: 944.048"
      ]
     },
     "metadata": {},
     "output_type": "display_data"
    },
    {
     "data": {
      "text/html": [
       "<pre>recommendations finished on 25000/131209 queries. users per second: 934.964</pre>"
      ],
      "text/plain": [
       "recommendations finished on 25000/131209 queries. users per second: 934.964"
      ]
     },
     "metadata": {},
     "output_type": "display_data"
    },
    {
     "data": {
      "text/html": [
       "<pre>recommendations finished on 26000/131209 queries. users per second: 924.423</pre>"
      ],
      "text/plain": [
       "recommendations finished on 26000/131209 queries. users per second: 924.423"
      ]
     },
     "metadata": {},
     "output_type": "display_data"
    },
    {
     "data": {
      "text/html": [
       "<pre>recommendations finished on 27000/131209 queries. users per second: 918.442</pre>"
      ],
      "text/plain": [
       "recommendations finished on 27000/131209 queries. users per second: 918.442"
      ]
     },
     "metadata": {},
     "output_type": "display_data"
    },
    {
     "data": {
      "text/html": [
       "<pre>recommendations finished on 28000/131209 queries. users per second: 913.641</pre>"
      ],
      "text/plain": [
       "recommendations finished on 28000/131209 queries. users per second: 913.641"
      ]
     },
     "metadata": {},
     "output_type": "display_data"
    },
    {
     "data": {
      "text/html": [
       "<pre>recommendations finished on 29000/131209 queries. users per second: 908.873</pre>"
      ],
      "text/plain": [
       "recommendations finished on 29000/131209 queries. users per second: 908.873"
      ]
     },
     "metadata": {},
     "output_type": "display_data"
    },
    {
     "data": {
      "text/html": [
       "<pre>recommendations finished on 30000/131209 queries. users per second: 903.725</pre>"
      ],
      "text/plain": [
       "recommendations finished on 30000/131209 queries. users per second: 903.725"
      ]
     },
     "metadata": {},
     "output_type": "display_data"
    },
    {
     "data": {
      "text/html": [
       "<pre>recommendations finished on 31000/131209 queries. users per second: 901.401</pre>"
      ],
      "text/plain": [
       "recommendations finished on 31000/131209 queries. users per second: 901.401"
      ]
     },
     "metadata": {},
     "output_type": "display_data"
    },
    {
     "data": {
      "text/html": [
       "<pre>recommendations finished on 32000/131209 queries. users per second: 901.755</pre>"
      ],
      "text/plain": [
       "recommendations finished on 32000/131209 queries. users per second: 901.755"
      ]
     },
     "metadata": {},
     "output_type": "display_data"
    },
    {
     "data": {
      "text/html": [
       "<pre>recommendations finished on 33000/131209 queries. users per second: 902.865</pre>"
      ],
      "text/plain": [
       "recommendations finished on 33000/131209 queries. users per second: 902.865"
      ]
     },
     "metadata": {},
     "output_type": "display_data"
    },
    {
     "data": {
      "text/html": [
       "<pre>recommendations finished on 34000/131209 queries. users per second: 900.577</pre>"
      ],
      "text/plain": [
       "recommendations finished on 34000/131209 queries. users per second: 900.577"
      ]
     },
     "metadata": {},
     "output_type": "display_data"
    },
    {
     "data": {
      "text/html": [
       "<pre>recommendations finished on 35000/131209 queries. users per second: 901.805</pre>"
      ],
      "text/plain": [
       "recommendations finished on 35000/131209 queries. users per second: 901.805"
      ]
     },
     "metadata": {},
     "output_type": "display_data"
    },
    {
     "data": {
      "text/html": [
       "<pre>recommendations finished on 36000/131209 queries. users per second: 905.567</pre>"
      ],
      "text/plain": [
       "recommendations finished on 36000/131209 queries. users per second: 905.567"
      ]
     },
     "metadata": {},
     "output_type": "display_data"
    },
    {
     "data": {
      "text/html": [
       "<pre>recommendations finished on 37000/131209 queries. users per second: 909.162</pre>"
      ],
      "text/plain": [
       "recommendations finished on 37000/131209 queries. users per second: 909.162"
      ]
     },
     "metadata": {},
     "output_type": "display_data"
    },
    {
     "data": {
      "text/html": [
       "<pre>recommendations finished on 38000/131209 queries. users per second: 912.599</pre>"
      ],
      "text/plain": [
       "recommendations finished on 38000/131209 queries. users per second: 912.599"
      ]
     },
     "metadata": {},
     "output_type": "display_data"
    },
    {
     "data": {
      "text/html": [
       "<pre>recommendations finished on 39000/131209 queries. users per second: 912.233</pre>"
      ],
      "text/plain": [
       "recommendations finished on 39000/131209 queries. users per second: 912.233"
      ]
     },
     "metadata": {},
     "output_type": "display_data"
    },
    {
     "data": {
      "text/html": [
       "<pre>recommendations finished on 40000/131209 queries. users per second: 914.083</pre>"
      ],
      "text/plain": [
       "recommendations finished on 40000/131209 queries. users per second: 914.083"
      ]
     },
     "metadata": {},
     "output_type": "display_data"
    },
    {
     "data": {
      "text/html": [
       "<pre>recommendations finished on 41000/131209 queries. users per second: 917.365</pre>"
      ],
      "text/plain": [
       "recommendations finished on 41000/131209 queries. users per second: 917.365"
      ]
     },
     "metadata": {},
     "output_type": "display_data"
    },
    {
     "data": {
      "text/html": [
       "<pre>recommendations finished on 42000/131209 queries. users per second: 919.93</pre>"
      ],
      "text/plain": [
       "recommendations finished on 42000/131209 queries. users per second: 919.93"
      ]
     },
     "metadata": {},
     "output_type": "display_data"
    },
    {
     "data": {
      "text/html": [
       "<pre>recommendations finished on 43000/131209 queries. users per second: 920.697</pre>"
      ],
      "text/plain": [
       "recommendations finished on 43000/131209 queries. users per second: 920.697"
      ]
     },
     "metadata": {},
     "output_type": "display_data"
    },
    {
     "data": {
      "text/html": [
       "<pre>recommendations finished on 44000/131209 queries. users per second: 924.192</pre>"
      ],
      "text/plain": [
       "recommendations finished on 44000/131209 queries. users per second: 924.192"
      ]
     },
     "metadata": {},
     "output_type": "display_data"
    },
    {
     "data": {
      "text/html": [
       "<pre>recommendations finished on 45000/131209 queries. users per second: 927.449</pre>"
      ],
      "text/plain": [
       "recommendations finished on 45000/131209 queries. users per second: 927.449"
      ]
     },
     "metadata": {},
     "output_type": "display_data"
    },
    {
     "data": {
      "text/html": [
       "<pre>recommendations finished on 46000/131209 queries. users per second: 931.736</pre>"
      ],
      "text/plain": [
       "recommendations finished on 46000/131209 queries. users per second: 931.736"
      ]
     },
     "metadata": {},
     "output_type": "display_data"
    },
    {
     "data": {
      "text/html": [
       "<pre>recommendations finished on 47000/131209 queries. users per second: 931.377</pre>"
      ],
      "text/plain": [
       "recommendations finished on 47000/131209 queries. users per second: 931.377"
      ]
     },
     "metadata": {},
     "output_type": "display_data"
    },
    {
     "data": {
      "text/html": [
       "<pre>recommendations finished on 48000/131209 queries. users per second: 932.772</pre>"
      ],
      "text/plain": [
       "recommendations finished on 48000/131209 queries. users per second: 932.772"
      ]
     },
     "metadata": {},
     "output_type": "display_data"
    },
    {
     "data": {
      "text/html": [
       "<pre>recommendations finished on 49000/131209 queries. users per second: 935.212</pre>"
      ],
      "text/plain": [
       "recommendations finished on 49000/131209 queries. users per second: 935.212"
      ]
     },
     "metadata": {},
     "output_type": "display_data"
    },
    {
     "data": {
      "text/html": [
       "<pre>recommendations finished on 50000/131209 queries. users per second: 936.46</pre>"
      ],
      "text/plain": [
       "recommendations finished on 50000/131209 queries. users per second: 936.46"
      ]
     },
     "metadata": {},
     "output_type": "display_data"
    },
    {
     "data": {
      "text/html": [
       "<pre>recommendations finished on 51000/131209 queries. users per second: 938.785</pre>"
      ],
      "text/plain": [
       "recommendations finished on 51000/131209 queries. users per second: 938.785"
      ]
     },
     "metadata": {},
     "output_type": "display_data"
    },
    {
     "data": {
      "text/html": [
       "<pre>recommendations finished on 52000/131209 queries. users per second: 939.405</pre>"
      ],
      "text/plain": [
       "recommendations finished on 52000/131209 queries. users per second: 939.405"
      ]
     },
     "metadata": {},
     "output_type": "display_data"
    },
    {
     "data": {
      "text/html": [
       "<pre>recommendations finished on 53000/131209 queries. users per second: 941.253</pre>"
      ],
      "text/plain": [
       "recommendations finished on 53000/131209 queries. users per second: 941.253"
      ]
     },
     "metadata": {},
     "output_type": "display_data"
    },
    {
     "data": {
      "text/html": [
       "<pre>recommendations finished on 54000/131209 queries. users per second: 942.32</pre>"
      ],
      "text/plain": [
       "recommendations finished on 54000/131209 queries. users per second: 942.32"
      ]
     },
     "metadata": {},
     "output_type": "display_data"
    },
    {
     "data": {
      "text/html": [
       "<pre>recommendations finished on 55000/131209 queries. users per second: 944.405</pre>"
      ],
      "text/plain": [
       "recommendations finished on 55000/131209 queries. users per second: 944.405"
      ]
     },
     "metadata": {},
     "output_type": "display_data"
    },
    {
     "data": {
      "text/html": [
       "<pre>recommendations finished on 56000/131209 queries. users per second: 944.389</pre>"
      ],
      "text/plain": [
       "recommendations finished on 56000/131209 queries. users per second: 944.389"
      ]
     },
     "metadata": {},
     "output_type": "display_data"
    },
    {
     "data": {
      "text/html": [
       "<pre>recommendations finished on 57000/131209 queries. users per second: 945.343</pre>"
      ],
      "text/plain": [
       "recommendations finished on 57000/131209 queries. users per second: 945.343"
      ]
     },
     "metadata": {},
     "output_type": "display_data"
    },
    {
     "data": {
      "text/html": [
       "<pre>recommendations finished on 58000/131209 queries. users per second: 947.038</pre>"
      ],
      "text/plain": [
       "recommendations finished on 58000/131209 queries. users per second: 947.038"
      ]
     },
     "metadata": {},
     "output_type": "display_data"
    },
    {
     "data": {
      "text/html": [
       "<pre>recommendations finished on 59000/131209 queries. users per second: 949.941</pre>"
      ],
      "text/plain": [
       "recommendations finished on 59000/131209 queries. users per second: 949.941"
      ]
     },
     "metadata": {},
     "output_type": "display_data"
    },
    {
     "data": {
      "text/html": [
       "<pre>recommendations finished on 60000/131209 queries. users per second: 949.971</pre>"
      ],
      "text/plain": [
       "recommendations finished on 60000/131209 queries. users per second: 949.971"
      ]
     },
     "metadata": {},
     "output_type": "display_data"
    },
    {
     "data": {
      "text/html": [
       "<pre>recommendations finished on 61000/131209 queries. users per second: 951.011</pre>"
      ],
      "text/plain": [
       "recommendations finished on 61000/131209 queries. users per second: 951.011"
      ]
     },
     "metadata": {},
     "output_type": "display_data"
    },
    {
     "data": {
      "text/html": [
       "<pre>recommendations finished on 62000/131209 queries. users per second: 951.699</pre>"
      ],
      "text/plain": [
       "recommendations finished on 62000/131209 queries. users per second: 951.699"
      ]
     },
     "metadata": {},
     "output_type": "display_data"
    },
    {
     "data": {
      "text/html": [
       "<pre>recommendations finished on 63000/131209 queries. users per second: 952.417</pre>"
      ],
      "text/plain": [
       "recommendations finished on 63000/131209 queries. users per second: 952.417"
      ]
     },
     "metadata": {},
     "output_type": "display_data"
    },
    {
     "data": {
      "text/html": [
       "<pre>recommendations finished on 64000/131209 queries. users per second: 954.494</pre>"
      ],
      "text/plain": [
       "recommendations finished on 64000/131209 queries. users per second: 954.494"
      ]
     },
     "metadata": {},
     "output_type": "display_data"
    },
    {
     "data": {
      "text/html": [
       "<pre>recommendations finished on 65000/131209 queries. users per second: 955.51</pre>"
      ],
      "text/plain": [
       "recommendations finished on 65000/131209 queries. users per second: 955.51"
      ]
     },
     "metadata": {},
     "output_type": "display_data"
    },
    {
     "data": {
      "text/html": [
       "<pre>recommendations finished on 66000/131209 queries. users per second: 957.137</pre>"
      ],
      "text/plain": [
       "recommendations finished on 66000/131209 queries. users per second: 957.137"
      ]
     },
     "metadata": {},
     "output_type": "display_data"
    },
    {
     "data": {
      "text/html": [
       "<pre>recommendations finished on 67000/131209 queries. users per second: 959.58</pre>"
      ],
      "text/plain": [
       "recommendations finished on 67000/131209 queries. users per second: 959.58"
      ]
     },
     "metadata": {},
     "output_type": "display_data"
    },
    {
     "data": {
      "text/html": [
       "<pre>recommendations finished on 68000/131209 queries. users per second: 960.299</pre>"
      ],
      "text/plain": [
       "recommendations finished on 68000/131209 queries. users per second: 960.299"
      ]
     },
     "metadata": {},
     "output_type": "display_data"
    },
    {
     "data": {
      "text/html": [
       "<pre>recommendations finished on 69000/131209 queries. users per second: 960.9</pre>"
      ],
      "text/plain": [
       "recommendations finished on 69000/131209 queries. users per second: 960.9"
      ]
     },
     "metadata": {},
     "output_type": "display_data"
    },
    {
     "data": {
      "text/html": [
       "<pre>recommendations finished on 70000/131209 queries. users per second: 959.55</pre>"
      ],
      "text/plain": [
       "recommendations finished on 70000/131209 queries. users per second: 959.55"
      ]
     },
     "metadata": {},
     "output_type": "display_data"
    },
    {
     "data": {
      "text/html": [
       "<pre>recommendations finished on 71000/131209 queries. users per second: 960.256</pre>"
      ],
      "text/plain": [
       "recommendations finished on 71000/131209 queries. users per second: 960.256"
      ]
     },
     "metadata": {},
     "output_type": "display_data"
    },
    {
     "data": {
      "text/html": [
       "<pre>recommendations finished on 72000/131209 queries. users per second: 962.166</pre>"
      ],
      "text/plain": [
       "recommendations finished on 72000/131209 queries. users per second: 962.166"
      ]
     },
     "metadata": {},
     "output_type": "display_data"
    },
    {
     "data": {
      "text/html": [
       "<pre>recommendations finished on 73000/131209 queries. users per second: 963.145</pre>"
      ],
      "text/plain": [
       "recommendations finished on 73000/131209 queries. users per second: 963.145"
      ]
     },
     "metadata": {},
     "output_type": "display_data"
    },
    {
     "data": {
      "text/html": [
       "<pre>recommendations finished on 74000/131209 queries. users per second: 962.591</pre>"
      ],
      "text/plain": [
       "recommendations finished on 74000/131209 queries. users per second: 962.591"
      ]
     },
     "metadata": {},
     "output_type": "display_data"
    },
    {
     "data": {
      "text/html": [
       "<pre>recommendations finished on 75000/131209 queries. users per second: 962.64</pre>"
      ],
      "text/plain": [
       "recommendations finished on 75000/131209 queries. users per second: 962.64"
      ]
     },
     "metadata": {},
     "output_type": "display_data"
    },
    {
     "data": {
      "text/html": [
       "<pre>recommendations finished on 76000/131209 queries. users per second: 964.228</pre>"
      ],
      "text/plain": [
       "recommendations finished on 76000/131209 queries. users per second: 964.228"
      ]
     },
     "metadata": {},
     "output_type": "display_data"
    },
    {
     "data": {
      "text/html": [
       "<pre>recommendations finished on 77000/131209 queries. users per second: 964.973</pre>"
      ],
      "text/plain": [
       "recommendations finished on 77000/131209 queries. users per second: 964.973"
      ]
     },
     "metadata": {},
     "output_type": "display_data"
    },
    {
     "data": {
      "text/html": [
       "<pre>recommendations finished on 78000/131209 queries. users per second: 966.047</pre>"
      ],
      "text/plain": [
       "recommendations finished on 78000/131209 queries. users per second: 966.047"
      ]
     },
     "metadata": {},
     "output_type": "display_data"
    },
    {
     "data": {
      "text/html": [
       "<pre>recommendations finished on 79000/131209 queries. users per second: 971.444</pre>"
      ],
      "text/plain": [
       "recommendations finished on 79000/131209 queries. users per second: 971.444"
      ]
     },
     "metadata": {},
     "output_type": "display_data"
    },
    {
     "data": {
      "text/html": [
       "<pre>recommendations finished on 80000/131209 queries. users per second: 976.748</pre>"
      ],
      "text/plain": [
       "recommendations finished on 80000/131209 queries. users per second: 976.748"
      ]
     },
     "metadata": {},
     "output_type": "display_data"
    },
    {
     "data": {
      "text/html": [
       "<pre>recommendations finished on 81000/131209 queries. users per second: 982.001</pre>"
      ],
      "text/plain": [
       "recommendations finished on 81000/131209 queries. users per second: 982.001"
      ]
     },
     "metadata": {},
     "output_type": "display_data"
    },
    {
     "data": {
      "text/html": [
       "<pre>recommendations finished on 82000/131209 queries. users per second: 987.142</pre>"
      ],
      "text/plain": [
       "recommendations finished on 82000/131209 queries. users per second: 987.142"
      ]
     },
     "metadata": {},
     "output_type": "display_data"
    },
    {
     "data": {
      "text/html": [
       "<pre>recommendations finished on 83000/131209 queries. users per second: 992.258</pre>"
      ],
      "text/plain": [
       "recommendations finished on 83000/131209 queries. users per second: 992.258"
      ]
     },
     "metadata": {},
     "output_type": "display_data"
    },
    {
     "data": {
      "text/html": [
       "<pre>recommendations finished on 84000/131209 queries. users per second: 997.289</pre>"
      ],
      "text/plain": [
       "recommendations finished on 84000/131209 queries. users per second: 997.289"
      ]
     },
     "metadata": {},
     "output_type": "display_data"
    },
    {
     "data": {
      "text/html": [
       "<pre>recommendations finished on 85000/131209 queries. users per second: 1002.27</pre>"
      ],
      "text/plain": [
       "recommendations finished on 85000/131209 queries. users per second: 1002.27"
      ]
     },
     "metadata": {},
     "output_type": "display_data"
    },
    {
     "data": {
      "text/html": [
       "<pre>recommendations finished on 86000/131209 queries. users per second: 1007.17</pre>"
      ],
      "text/plain": [
       "recommendations finished on 86000/131209 queries. users per second: 1007.17"
      ]
     },
     "metadata": {},
     "output_type": "display_data"
    },
    {
     "data": {
      "text/html": [
       "<pre>recommendations finished on 87000/131209 queries. users per second: 1012.02</pre>"
      ],
      "text/plain": [
       "recommendations finished on 87000/131209 queries. users per second: 1012.02"
      ]
     },
     "metadata": {},
     "output_type": "display_data"
    },
    {
     "data": {
      "text/html": [
       "<pre>recommendations finished on 88000/131209 queries. users per second: 1016.79</pre>"
      ],
      "text/plain": [
       "recommendations finished on 88000/131209 queries. users per second: 1016.79"
      ]
     },
     "metadata": {},
     "output_type": "display_data"
    },
    {
     "data": {
      "text/html": [
       "<pre>recommendations finished on 89000/131209 queries. users per second: 1020.97</pre>"
      ],
      "text/plain": [
       "recommendations finished on 89000/131209 queries. users per second: 1020.97"
      ]
     },
     "metadata": {},
     "output_type": "display_data"
    },
    {
     "data": {
      "text/html": [
       "<pre>recommendations finished on 90000/131209 queries. users per second: 1025.63</pre>"
      ],
      "text/plain": [
       "recommendations finished on 90000/131209 queries. users per second: 1025.63"
      ]
     },
     "metadata": {},
     "output_type": "display_data"
    },
    {
     "data": {
      "text/html": [
       "<pre>recommendations finished on 91000/131209 queries. users per second: 1030.2</pre>"
      ],
      "text/plain": [
       "recommendations finished on 91000/131209 queries. users per second: 1030.2"
      ]
     },
     "metadata": {},
     "output_type": "display_data"
    },
    {
     "data": {
      "text/html": [
       "<pre>recommendations finished on 92000/131209 queries. users per second: 1034.71</pre>"
      ],
      "text/plain": [
       "recommendations finished on 92000/131209 queries. users per second: 1034.71"
      ]
     },
     "metadata": {},
     "output_type": "display_data"
    },
    {
     "data": {
      "text/html": [
       "<pre>recommendations finished on 93000/131209 queries. users per second: 1039.14</pre>"
      ],
      "text/plain": [
       "recommendations finished on 93000/131209 queries. users per second: 1039.14"
      ]
     },
     "metadata": {},
     "output_type": "display_data"
    },
    {
     "data": {
      "text/html": [
       "<pre>recommendations finished on 94000/131209 queries. users per second: 1043.5</pre>"
      ],
      "text/plain": [
       "recommendations finished on 94000/131209 queries. users per second: 1043.5"
      ]
     },
     "metadata": {},
     "output_type": "display_data"
    },
    {
     "data": {
      "text/html": [
       "<pre>recommendations finished on 95000/131209 queries. users per second: 1047.86</pre>"
      ],
      "text/plain": [
       "recommendations finished on 95000/131209 queries. users per second: 1047.86"
      ]
     },
     "metadata": {},
     "output_type": "display_data"
    },
    {
     "data": {
      "text/html": [
       "<pre>recommendations finished on 96000/131209 queries. users per second: 1052.15</pre>"
      ],
      "text/plain": [
       "recommendations finished on 96000/131209 queries. users per second: 1052.15"
      ]
     },
     "metadata": {},
     "output_type": "display_data"
    },
    {
     "data": {
      "text/html": [
       "<pre>recommendations finished on 97000/131209 queries. users per second: 1056.39</pre>"
      ],
      "text/plain": [
       "recommendations finished on 97000/131209 queries. users per second: 1056.39"
      ]
     },
     "metadata": {},
     "output_type": "display_data"
    },
    {
     "data": {
      "text/html": [
       "<pre>recommendations finished on 98000/131209 queries. users per second: 1060.58</pre>"
      ],
      "text/plain": [
       "recommendations finished on 98000/131209 queries. users per second: 1060.58"
      ]
     },
     "metadata": {},
     "output_type": "display_data"
    },
    {
     "data": {
      "text/html": [
       "<pre>recommendations finished on 99000/131209 queries. users per second: 1064.74</pre>"
      ],
      "text/plain": [
       "recommendations finished on 99000/131209 queries. users per second: 1064.74"
      ]
     },
     "metadata": {},
     "output_type": "display_data"
    },
    {
     "data": {
      "text/html": [
       "<pre>recommendations finished on 100000/131209 queries. users per second: 1068.82</pre>"
      ],
      "text/plain": [
       "recommendations finished on 100000/131209 queries. users per second: 1068.82"
      ]
     },
     "metadata": {},
     "output_type": "display_data"
    },
    {
     "data": {
      "text/html": [
       "<pre>recommendations finished on 101000/131209 queries. users per second: 1072.86</pre>"
      ],
      "text/plain": [
       "recommendations finished on 101000/131209 queries. users per second: 1072.86"
      ]
     },
     "metadata": {},
     "output_type": "display_data"
    },
    {
     "data": {
      "text/html": [
       "<pre>recommendations finished on 102000/131209 queries. users per second: 1076.84</pre>"
      ],
      "text/plain": [
       "recommendations finished on 102000/131209 queries. users per second: 1076.84"
      ]
     },
     "metadata": {},
     "output_type": "display_data"
    },
    {
     "data": {
      "text/html": [
       "<pre>recommendations finished on 103000/131209 queries. users per second: 1080.79</pre>"
      ],
      "text/plain": [
       "recommendations finished on 103000/131209 queries. users per second: 1080.79"
      ]
     },
     "metadata": {},
     "output_type": "display_data"
    },
    {
     "data": {
      "text/html": [
       "<pre>recommendations finished on 104000/131209 queries. users per second: 1084.64</pre>"
      ],
      "text/plain": [
       "recommendations finished on 104000/131209 queries. users per second: 1084.64"
      ]
     },
     "metadata": {},
     "output_type": "display_data"
    },
    {
     "data": {
      "text/html": [
       "<pre>recommendations finished on 105000/131209 queries. users per second: 1088.47</pre>"
      ],
      "text/plain": [
       "recommendations finished on 105000/131209 queries. users per second: 1088.47"
      ]
     },
     "metadata": {},
     "output_type": "display_data"
    },
    {
     "data": {
      "text/html": [
       "<pre>recommendations finished on 106000/131209 queries. users per second: 1092.25</pre>"
      ],
      "text/plain": [
       "recommendations finished on 106000/131209 queries. users per second: 1092.25"
      ]
     },
     "metadata": {},
     "output_type": "display_data"
    },
    {
     "data": {
      "text/html": [
       "<pre>recommendations finished on 107000/131209 queries. users per second: 1095.99</pre>"
      ],
      "text/plain": [
       "recommendations finished on 107000/131209 queries. users per second: 1095.99"
      ]
     },
     "metadata": {},
     "output_type": "display_data"
    },
    {
     "data": {
      "text/html": [
       "<pre>recommendations finished on 108000/131209 queries. users per second: 1099.72</pre>"
      ],
      "text/plain": [
       "recommendations finished on 108000/131209 queries. users per second: 1099.72"
      ]
     },
     "metadata": {},
     "output_type": "display_data"
    },
    {
     "data": {
      "text/html": [
       "<pre>recommendations finished on 109000/131209 queries. users per second: 1103.4</pre>"
      ],
      "text/plain": [
       "recommendations finished on 109000/131209 queries. users per second: 1103.4"
      ]
     },
     "metadata": {},
     "output_type": "display_data"
    },
    {
     "data": {
      "text/html": [
       "<pre>recommendations finished on 110000/131209 queries. users per second: 1106.96</pre>"
      ],
      "text/plain": [
       "recommendations finished on 110000/131209 queries. users per second: 1106.96"
      ]
     },
     "metadata": {},
     "output_type": "display_data"
    },
    {
     "data": {
      "text/html": [
       "<pre>recommendations finished on 111000/131209 queries. users per second: 1110.53</pre>"
      ],
      "text/plain": [
       "recommendations finished on 111000/131209 queries. users per second: 1110.53"
      ]
     },
     "metadata": {},
     "output_type": "display_data"
    },
    {
     "data": {
      "text/html": [
       "<pre>recommendations finished on 112000/131209 queries. users per second: 1114.01</pre>"
      ],
      "text/plain": [
       "recommendations finished on 112000/131209 queries. users per second: 1114.01"
      ]
     },
     "metadata": {},
     "output_type": "display_data"
    },
    {
     "data": {
      "text/html": [
       "<pre>recommendations finished on 113000/131209 queries. users per second: 1117.48</pre>"
      ],
      "text/plain": [
       "recommendations finished on 113000/131209 queries. users per second: 1117.48"
      ]
     },
     "metadata": {},
     "output_type": "display_data"
    },
    {
     "data": {
      "text/html": [
       "<pre>recommendations finished on 114000/131209 queries. users per second: 1120.9</pre>"
      ],
      "text/plain": [
       "recommendations finished on 114000/131209 queries. users per second: 1120.9"
      ]
     },
     "metadata": {},
     "output_type": "display_data"
    },
    {
     "data": {
      "text/html": [
       "<pre>recommendations finished on 115000/131209 queries. users per second: 1124.28</pre>"
      ],
      "text/plain": [
       "recommendations finished on 115000/131209 queries. users per second: 1124.28"
      ]
     },
     "metadata": {},
     "output_type": "display_data"
    },
    {
     "data": {
      "text/html": [
       "<pre>recommendations finished on 116000/131209 queries. users per second: 1127.61</pre>"
      ],
      "text/plain": [
       "recommendations finished on 116000/131209 queries. users per second: 1127.61"
      ]
     },
     "metadata": {},
     "output_type": "display_data"
    },
    {
     "data": {
      "text/html": [
       "<pre>recommendations finished on 117000/131209 queries. users per second: 1130.97</pre>"
      ],
      "text/plain": [
       "recommendations finished on 117000/131209 queries. users per second: 1130.97"
      ]
     },
     "metadata": {},
     "output_type": "display_data"
    },
    {
     "data": {
      "text/html": [
       "<pre>recommendations finished on 118000/131209 queries. users per second: 1134.29</pre>"
      ],
      "text/plain": [
       "recommendations finished on 118000/131209 queries. users per second: 1134.29"
      ]
     },
     "metadata": {},
     "output_type": "display_data"
    },
    {
     "data": {
      "text/html": [
       "<pre>recommendations finished on 119000/131209 queries. users per second: 1137.58</pre>"
      ],
      "text/plain": [
       "recommendations finished on 119000/131209 queries. users per second: 1137.58"
      ]
     },
     "metadata": {},
     "output_type": "display_data"
    },
    {
     "data": {
      "text/html": [
       "<pre>recommendations finished on 120000/131209 queries. users per second: 1140.83</pre>"
      ],
      "text/plain": [
       "recommendations finished on 120000/131209 queries. users per second: 1140.83"
      ]
     },
     "metadata": {},
     "output_type": "display_data"
    },
    {
     "data": {
      "text/html": [
       "<pre>recommendations finished on 121000/131209 queries. users per second: 1144.07</pre>"
      ],
      "text/plain": [
       "recommendations finished on 121000/131209 queries. users per second: 1144.07"
      ]
     },
     "metadata": {},
     "output_type": "display_data"
    },
    {
     "data": {
      "text/html": [
       "<pre>recommendations finished on 122000/131209 queries. users per second: 1147.23</pre>"
      ],
      "text/plain": [
       "recommendations finished on 122000/131209 queries. users per second: 1147.23"
      ]
     },
     "metadata": {},
     "output_type": "display_data"
    },
    {
     "data": {
      "text/html": [
       "<pre>recommendations finished on 123000/131209 queries. users per second: 1150.34</pre>"
      ],
      "text/plain": [
       "recommendations finished on 123000/131209 queries. users per second: 1150.34"
      ]
     },
     "metadata": {},
     "output_type": "display_data"
    },
    {
     "data": {
      "text/html": [
       "<pre>recommendations finished on 124000/131209 queries. users per second: 1153.42</pre>"
      ],
      "text/plain": [
       "recommendations finished on 124000/131209 queries. users per second: 1153.42"
      ]
     },
     "metadata": {},
     "output_type": "display_data"
    },
    {
     "data": {
      "text/html": [
       "<pre>recommendations finished on 125000/131209 queries. users per second: 1156.5</pre>"
      ],
      "text/plain": [
       "recommendations finished on 125000/131209 queries. users per second: 1156.5"
      ]
     },
     "metadata": {},
     "output_type": "display_data"
    },
    {
     "data": {
      "text/html": [
       "<pre>recommendations finished on 126000/131209 queries. users per second: 1159.52</pre>"
      ],
      "text/plain": [
       "recommendations finished on 126000/131209 queries. users per second: 1159.52"
      ]
     },
     "metadata": {},
     "output_type": "display_data"
    },
    {
     "data": {
      "text/html": [
       "<pre>recommendations finished on 127000/131209 queries. users per second: 1162.5</pre>"
      ],
      "text/plain": [
       "recommendations finished on 127000/131209 queries. users per second: 1162.5"
      ]
     },
     "metadata": {},
     "output_type": "display_data"
    },
    {
     "data": {
      "text/html": [
       "<pre>recommendations finished on 128000/131209 queries. users per second: 1165.45</pre>"
      ],
      "text/plain": [
       "recommendations finished on 128000/131209 queries. users per second: 1165.45"
      ]
     },
     "metadata": {},
     "output_type": "display_data"
    },
    {
     "data": {
      "text/html": [
       "<pre>recommendations finished on 129000/131209 queries. users per second: 1168.29</pre>"
      ],
      "text/plain": [
       "recommendations finished on 129000/131209 queries. users per second: 1168.29"
      ]
     },
     "metadata": {},
     "output_type": "display_data"
    },
    {
     "data": {
      "text/html": [
       "<pre>recommendations finished on 130000/131209 queries. users per second: 1171.14</pre>"
      ],
      "text/plain": [
       "recommendations finished on 130000/131209 queries. users per second: 1171.14"
      ]
     },
     "metadata": {},
     "output_type": "display_data"
    },
    {
     "data": {
      "text/html": [
       "<pre>recommendations finished on 131000/131209 queries. users per second: 1170.29</pre>"
      ],
      "text/plain": [
       "recommendations finished on 131000/131209 queries. users per second: 1170.29"
      ]
     },
     "metadata": {},
     "output_type": "display_data"
    },
    {
     "name": "stdout",
     "output_type": "stream",
     "text": [
      "\n",
      "Precision and recall summary statistics by cutoff\n",
      "+--------+----------------------+-----------------------+\n",
      "| cutoff |    mean_precision    |      mean_recall      |\n",
      "+--------+----------------------+-----------------------+\n",
      "|   1    | 0.02592809944439788  | 0.0024394330005602285 |\n",
      "|   2    | 0.023367299499272156 |  0.004372622803198902 |\n",
      "|   3    | 0.021527994776781394 |  0.005978250965165464 |\n",
      "|   4    | 0.020172015639170867 |  0.007497353587844249 |\n",
      "|   5    | 0.019131309590043468 |  0.00884110185007241  |\n",
      "|   6    | 0.018239348418680267 |  0.010070647258227709 |\n",
      "|   7    | 0.01749117819661815  |  0.011217175720080269 |\n",
      "|   8    | 0.016895754102233797 |  0.01236452325698452  |\n",
      "|   9    | 0.01634881076077933  |  0.013429879346618318 |\n",
      "|   10   | 0.015842663231942656 |  0.014453724221330394 |\n",
      "+--------+----------------------+-----------------------+\n",
      "[10 rows x 3 columns]\n",
      "\n",
      "\n",
      "Overall RMSE: 0.9997439751144391\n",
      "\n",
      "Per User RMSE (best)\n",
      "+---------+------------------+-------+\n",
      "| user_id |       rmse       | count |\n",
      "+---------+------------------+-------+\n",
      "|  107528 | 0.85062201970176 |   2   |\n",
      "+---------+------------------+-------+\n",
      "[1 rows x 3 columns]\n",
      "\n",
      "\n",
      "Per User RMSE (worst)\n",
      "+---------+------+-------+\n",
      "| user_id | rmse | count |\n",
      "+---------+------+-------+\n",
      "|  88004  | 1.0  |   1   |\n",
      "+---------+------+-------+\n",
      "[1 rows x 3 columns]\n",
      "\n",
      "\n",
      "Per Item RMSE (best)\n",
      "+------------+--------------------+-------+\n",
      "| product_id |        rmse        | count |\n",
      "+------------+--------------------+-------+\n",
      "|   16084    | 0.8960809951478785 |   1   |\n",
      "+------------+--------------------+-------+\n",
      "[1 rows x 3 columns]\n",
      "\n",
      "\n",
      "Per Item RMSE (worst)\n",
      "+------------+------+-------+\n",
      "| product_id | rmse | count |\n",
      "+------------+------+-------+\n",
      "|   21855    | 1.0  |   1   |\n",
      "+------------+------+-------+\n",
      "[1 rows x 3 columns]\n",
      "\n",
      "PROGRESS: Evaluate model Pearson Similarity on Scaled Purchase Counts\n"
     ]
    },
    {
     "data": {
      "text/html": [
       "<pre>recommendations finished on 1000/131209 queries. users per second: 1615.22</pre>"
      ],
      "text/plain": [
       "recommendations finished on 1000/131209 queries. users per second: 1615.22"
      ]
     },
     "metadata": {},
     "output_type": "display_data"
    },
    {
     "data": {
      "text/html": [
       "<pre>recommendations finished on 2000/131209 queries. users per second: 1614.14</pre>"
      ],
      "text/plain": [
       "recommendations finished on 2000/131209 queries. users per second: 1614.14"
      ]
     },
     "metadata": {},
     "output_type": "display_data"
    },
    {
     "data": {
      "text/html": [
       "<pre>recommendations finished on 3000/131209 queries. users per second: 1615.26</pre>"
      ],
      "text/plain": [
       "recommendations finished on 3000/131209 queries. users per second: 1615.26"
      ]
     },
     "metadata": {},
     "output_type": "display_data"
    },
    {
     "data": {
      "text/html": [
       "<pre>recommendations finished on 4000/131209 queries. users per second: 1614.93</pre>"
      ],
      "text/plain": [
       "recommendations finished on 4000/131209 queries. users per second: 1614.93"
      ]
     },
     "metadata": {},
     "output_type": "display_data"
    },
    {
     "data": {
      "text/html": [
       "<pre>recommendations finished on 5000/131209 queries. users per second: 1615.87</pre>"
      ],
      "text/plain": [
       "recommendations finished on 5000/131209 queries. users per second: 1615.87"
      ]
     },
     "metadata": {},
     "output_type": "display_data"
    },
    {
     "data": {
      "text/html": [
       "<pre>recommendations finished on 6000/131209 queries. users per second: 1614.65</pre>"
      ],
      "text/plain": [
       "recommendations finished on 6000/131209 queries. users per second: 1614.65"
      ]
     },
     "metadata": {},
     "output_type": "display_data"
    },
    {
     "data": {
      "text/html": [
       "<pre>recommendations finished on 7000/131209 queries. users per second: 1615.29</pre>"
      ],
      "text/plain": [
       "recommendations finished on 7000/131209 queries. users per second: 1615.29"
      ]
     },
     "metadata": {},
     "output_type": "display_data"
    },
    {
     "data": {
      "text/html": [
       "<pre>recommendations finished on 8000/131209 queries. users per second: 1615.25</pre>"
      ],
      "text/plain": [
       "recommendations finished on 8000/131209 queries. users per second: 1615.25"
      ]
     },
     "metadata": {},
     "output_type": "display_data"
    },
    {
     "data": {
      "text/html": [
       "<pre>recommendations finished on 9000/131209 queries. users per second: 1615.86</pre>"
      ],
      "text/plain": [
       "recommendations finished on 9000/131209 queries. users per second: 1615.86"
      ]
     },
     "metadata": {},
     "output_type": "display_data"
    },
    {
     "data": {
      "text/html": [
       "<pre>recommendations finished on 10000/131209 queries. users per second: 1616.61</pre>"
      ],
      "text/plain": [
       "recommendations finished on 10000/131209 queries. users per second: 1616.61"
      ]
     },
     "metadata": {},
     "output_type": "display_data"
    },
    {
     "data": {
      "text/html": [
       "<pre>recommendations finished on 11000/131209 queries. users per second: 1616.53</pre>"
      ],
      "text/plain": [
       "recommendations finished on 11000/131209 queries. users per second: 1616.53"
      ]
     },
     "metadata": {},
     "output_type": "display_data"
    },
    {
     "data": {
      "text/html": [
       "<pre>recommendations finished on 12000/131209 queries. users per second: 1615.83</pre>"
      ],
      "text/plain": [
       "recommendations finished on 12000/131209 queries. users per second: 1615.83"
      ]
     },
     "metadata": {},
     "output_type": "display_data"
    },
    {
     "data": {
      "text/html": [
       "<pre>recommendations finished on 13000/131209 queries. users per second: 1617.18</pre>"
      ],
      "text/plain": [
       "recommendations finished on 13000/131209 queries. users per second: 1617.18"
      ]
     },
     "metadata": {},
     "output_type": "display_data"
    },
    {
     "data": {
      "text/html": [
       "<pre>recommendations finished on 14000/131209 queries. users per second: 1617.34</pre>"
      ],
      "text/plain": [
       "recommendations finished on 14000/131209 queries. users per second: 1617.34"
      ]
     },
     "metadata": {},
     "output_type": "display_data"
    },
    {
     "data": {
      "text/html": [
       "<pre>recommendations finished on 15000/131209 queries. users per second: 1618.86</pre>"
      ],
      "text/plain": [
       "recommendations finished on 15000/131209 queries. users per second: 1618.86"
      ]
     },
     "metadata": {},
     "output_type": "display_data"
    },
    {
     "data": {
      "text/html": [
       "<pre>recommendations finished on 16000/131209 queries. users per second: 1618.43</pre>"
      ],
      "text/plain": [
       "recommendations finished on 16000/131209 queries. users per second: 1618.43"
      ]
     },
     "metadata": {},
     "output_type": "display_data"
    },
    {
     "data": {
      "text/html": [
       "<pre>recommendations finished on 17000/131209 queries. users per second: 1618.8</pre>"
      ],
      "text/plain": [
       "recommendations finished on 17000/131209 queries. users per second: 1618.8"
      ]
     },
     "metadata": {},
     "output_type": "display_data"
    },
    {
     "data": {
      "text/html": [
       "<pre>recommendations finished on 18000/131209 queries. users per second: 1618.98</pre>"
      ],
      "text/plain": [
       "recommendations finished on 18000/131209 queries. users per second: 1618.98"
      ]
     },
     "metadata": {},
     "output_type": "display_data"
    },
    {
     "data": {
      "text/html": [
       "<pre>recommendations finished on 19000/131209 queries. users per second: 1618.9</pre>"
      ],
      "text/plain": [
       "recommendations finished on 19000/131209 queries. users per second: 1618.9"
      ]
     },
     "metadata": {},
     "output_type": "display_data"
    },
    {
     "data": {
      "text/html": [
       "<pre>recommendations finished on 20000/131209 queries. users per second: 1619.25</pre>"
      ],
      "text/plain": [
       "recommendations finished on 20000/131209 queries. users per second: 1619.25"
      ]
     },
     "metadata": {},
     "output_type": "display_data"
    },
    {
     "data": {
      "text/html": [
       "<pre>recommendations finished on 21000/131209 queries. users per second: 1619.39</pre>"
      ],
      "text/plain": [
       "recommendations finished on 21000/131209 queries. users per second: 1619.39"
      ]
     },
     "metadata": {},
     "output_type": "display_data"
    },
    {
     "data": {
      "text/html": [
       "<pre>recommendations finished on 22000/131209 queries. users per second: 1619.1</pre>"
      ],
      "text/plain": [
       "recommendations finished on 22000/131209 queries. users per second: 1619.1"
      ]
     },
     "metadata": {},
     "output_type": "display_data"
    },
    {
     "data": {
      "text/html": [
       "<pre>recommendations finished on 23000/131209 queries. users per second: 1618.12</pre>"
      ],
      "text/plain": [
       "recommendations finished on 23000/131209 queries. users per second: 1618.12"
      ]
     },
     "metadata": {},
     "output_type": "display_data"
    },
    {
     "data": {
      "text/html": [
       "<pre>recommendations finished on 24000/131209 queries. users per second: 1618.45</pre>"
      ],
      "text/plain": [
       "recommendations finished on 24000/131209 queries. users per second: 1618.45"
      ]
     },
     "metadata": {},
     "output_type": "display_data"
    },
    {
     "data": {
      "text/html": [
       "<pre>recommendations finished on 25000/131209 queries. users per second: 1618.74</pre>"
      ],
      "text/plain": [
       "recommendations finished on 25000/131209 queries. users per second: 1618.74"
      ]
     },
     "metadata": {},
     "output_type": "display_data"
    },
    {
     "data": {
      "text/html": [
       "<pre>recommendations finished on 26000/131209 queries. users per second: 1618.84</pre>"
      ],
      "text/plain": [
       "recommendations finished on 26000/131209 queries. users per second: 1618.84"
      ]
     },
     "metadata": {},
     "output_type": "display_data"
    },
    {
     "data": {
      "text/html": [
       "<pre>recommendations finished on 27000/131209 queries. users per second: 1609.14</pre>"
      ],
      "text/plain": [
       "recommendations finished on 27000/131209 queries. users per second: 1609.14"
      ]
     },
     "metadata": {},
     "output_type": "display_data"
    },
    {
     "data": {
      "text/html": [
       "<pre>recommendations finished on 28000/131209 queries. users per second: 1591.22</pre>"
      ],
      "text/plain": [
       "recommendations finished on 28000/131209 queries. users per second: 1591.22"
      ]
     },
     "metadata": {},
     "output_type": "display_data"
    },
    {
     "data": {
      "text/html": [
       "<pre>recommendations finished on 29000/131209 queries. users per second: 1575.56</pre>"
      ],
      "text/plain": [
       "recommendations finished on 29000/131209 queries. users per second: 1575.56"
      ]
     },
     "metadata": {},
     "output_type": "display_data"
    },
    {
     "data": {
      "text/html": [
       "<pre>recommendations finished on 30000/131209 queries. users per second: 1562.53</pre>"
      ],
      "text/plain": [
       "recommendations finished on 30000/131209 queries. users per second: 1562.53"
      ]
     },
     "metadata": {},
     "output_type": "display_data"
    },
    {
     "data": {
      "text/html": [
       "<pre>recommendations finished on 31000/131209 queries. users per second: 1548.65</pre>"
      ],
      "text/plain": [
       "recommendations finished on 31000/131209 queries. users per second: 1548.65"
      ]
     },
     "metadata": {},
     "output_type": "display_data"
    },
    {
     "data": {
      "text/html": [
       "<pre>recommendations finished on 32000/131209 queries. users per second: 1549.65</pre>"
      ],
      "text/plain": [
       "recommendations finished on 32000/131209 queries. users per second: 1549.65"
      ]
     },
     "metadata": {},
     "output_type": "display_data"
    },
    {
     "data": {
      "text/html": [
       "<pre>recommendations finished on 33000/131209 queries. users per second: 1551.87</pre>"
      ],
      "text/plain": [
       "recommendations finished on 33000/131209 queries. users per second: 1551.87"
      ]
     },
     "metadata": {},
     "output_type": "display_data"
    },
    {
     "data": {
      "text/html": [
       "<pre>recommendations finished on 34000/131209 queries. users per second: 1553.86</pre>"
      ],
      "text/plain": [
       "recommendations finished on 34000/131209 queries. users per second: 1553.86"
      ]
     },
     "metadata": {},
     "output_type": "display_data"
    },
    {
     "data": {
      "text/html": [
       "<pre>recommendations finished on 35000/131209 queries. users per second: 1555.57</pre>"
      ],
      "text/plain": [
       "recommendations finished on 35000/131209 queries. users per second: 1555.57"
      ]
     },
     "metadata": {},
     "output_type": "display_data"
    },
    {
     "data": {
      "text/html": [
       "<pre>recommendations finished on 36000/131209 queries. users per second: 1557.53</pre>"
      ],
      "text/plain": [
       "recommendations finished on 36000/131209 queries. users per second: 1557.53"
      ]
     },
     "metadata": {},
     "output_type": "display_data"
    },
    {
     "data": {
      "text/html": [
       "<pre>recommendations finished on 37000/131209 queries. users per second: 1559.04</pre>"
      ],
      "text/plain": [
       "recommendations finished on 37000/131209 queries. users per second: 1559.04"
      ]
     },
     "metadata": {},
     "output_type": "display_data"
    },
    {
     "data": {
      "text/html": [
       "<pre>recommendations finished on 38000/131209 queries. users per second: 1560.41</pre>"
      ],
      "text/plain": [
       "recommendations finished on 38000/131209 queries. users per second: 1560.41"
      ]
     },
     "metadata": {},
     "output_type": "display_data"
    },
    {
     "data": {
      "text/html": [
       "<pre>recommendations finished on 39000/131209 queries. users per second: 1562.19</pre>"
      ],
      "text/plain": [
       "recommendations finished on 39000/131209 queries. users per second: 1562.19"
      ]
     },
     "metadata": {},
     "output_type": "display_data"
    },
    {
     "data": {
      "text/html": [
       "<pre>recommendations finished on 40000/131209 queries. users per second: 1563.58</pre>"
      ],
      "text/plain": [
       "recommendations finished on 40000/131209 queries. users per second: 1563.58"
      ]
     },
     "metadata": {},
     "output_type": "display_data"
    },
    {
     "data": {
      "text/html": [
       "<pre>recommendations finished on 41000/131209 queries. users per second: 1564.75</pre>"
      ],
      "text/plain": [
       "recommendations finished on 41000/131209 queries. users per second: 1564.75"
      ]
     },
     "metadata": {},
     "output_type": "display_data"
    },
    {
     "data": {
      "text/html": [
       "<pre>recommendations finished on 42000/131209 queries. users per second: 1566.04</pre>"
      ],
      "text/plain": [
       "recommendations finished on 42000/131209 queries. users per second: 1566.04"
      ]
     },
     "metadata": {},
     "output_type": "display_data"
    },
    {
     "data": {
      "text/html": [
       "<pre>recommendations finished on 43000/131209 queries. users per second: 1567.2</pre>"
      ],
      "text/plain": [
       "recommendations finished on 43000/131209 queries. users per second: 1567.2"
      ]
     },
     "metadata": {},
     "output_type": "display_data"
    },
    {
     "data": {
      "text/html": [
       "<pre>recommendations finished on 44000/131209 queries. users per second: 1568.5</pre>"
      ],
      "text/plain": [
       "recommendations finished on 44000/131209 queries. users per second: 1568.5"
      ]
     },
     "metadata": {},
     "output_type": "display_data"
    },
    {
     "data": {
      "text/html": [
       "<pre>recommendations finished on 45000/131209 queries. users per second: 1569.72</pre>"
      ],
      "text/plain": [
       "recommendations finished on 45000/131209 queries. users per second: 1569.72"
      ]
     },
     "metadata": {},
     "output_type": "display_data"
    },
    {
     "data": {
      "text/html": [
       "<pre>recommendations finished on 46000/131209 queries. users per second: 1570.25</pre>"
      ],
      "text/plain": [
       "recommendations finished on 46000/131209 queries. users per second: 1570.25"
      ]
     },
     "metadata": {},
     "output_type": "display_data"
    },
    {
     "data": {
      "text/html": [
       "<pre>recommendations finished on 47000/131209 queries. users per second: 1571.25</pre>"
      ],
      "text/plain": [
       "recommendations finished on 47000/131209 queries. users per second: 1571.25"
      ]
     },
     "metadata": {},
     "output_type": "display_data"
    },
    {
     "data": {
      "text/html": [
       "<pre>recommendations finished on 48000/131209 queries. users per second: 1572.19</pre>"
      ],
      "text/plain": [
       "recommendations finished on 48000/131209 queries. users per second: 1572.19"
      ]
     },
     "metadata": {},
     "output_type": "display_data"
    },
    {
     "data": {
      "text/html": [
       "<pre>recommendations finished on 49000/131209 queries. users per second: 1572.88</pre>"
      ],
      "text/plain": [
       "recommendations finished on 49000/131209 queries. users per second: 1572.88"
      ]
     },
     "metadata": {},
     "output_type": "display_data"
    },
    {
     "data": {
      "text/html": [
       "<pre>recommendations finished on 50000/131209 queries. users per second: 1573.84</pre>"
      ],
      "text/plain": [
       "recommendations finished on 50000/131209 queries. users per second: 1573.84"
      ]
     },
     "metadata": {},
     "output_type": "display_data"
    },
    {
     "data": {
      "text/html": [
       "<pre>recommendations finished on 51000/131209 queries. users per second: 1574.69</pre>"
      ],
      "text/plain": [
       "recommendations finished on 51000/131209 queries. users per second: 1574.69"
      ]
     },
     "metadata": {},
     "output_type": "display_data"
    },
    {
     "data": {
      "text/html": [
       "<pre>recommendations finished on 52000/131209 queries. users per second: 1575.52</pre>"
      ],
      "text/plain": [
       "recommendations finished on 52000/131209 queries. users per second: 1575.52"
      ]
     },
     "metadata": {},
     "output_type": "display_data"
    },
    {
     "data": {
      "text/html": [
       "<pre>recommendations finished on 53000/131209 queries. users per second: 1576.11</pre>"
      ],
      "text/plain": [
       "recommendations finished on 53000/131209 queries. users per second: 1576.11"
      ]
     },
     "metadata": {},
     "output_type": "display_data"
    },
    {
     "data": {
      "text/html": [
       "<pre>recommendations finished on 54000/131209 queries. users per second: 1576.7</pre>"
      ],
      "text/plain": [
       "recommendations finished on 54000/131209 queries. users per second: 1576.7"
      ]
     },
     "metadata": {},
     "output_type": "display_data"
    },
    {
     "data": {
      "text/html": [
       "<pre>recommendations finished on 55000/131209 queries. users per second: 1577.24</pre>"
      ],
      "text/plain": [
       "recommendations finished on 55000/131209 queries. users per second: 1577.24"
      ]
     },
     "metadata": {},
     "output_type": "display_data"
    },
    {
     "data": {
      "text/html": [
       "<pre>recommendations finished on 56000/131209 queries. users per second: 1577.92</pre>"
      ],
      "text/plain": [
       "recommendations finished on 56000/131209 queries. users per second: 1577.92"
      ]
     },
     "metadata": {},
     "output_type": "display_data"
    },
    {
     "data": {
      "text/html": [
       "<pre>recommendations finished on 57000/131209 queries. users per second: 1578.5</pre>"
      ],
      "text/plain": [
       "recommendations finished on 57000/131209 queries. users per second: 1578.5"
      ]
     },
     "metadata": {},
     "output_type": "display_data"
    },
    {
     "data": {
      "text/html": [
       "<pre>recommendations finished on 58000/131209 queries. users per second: 1578.96</pre>"
      ],
      "text/plain": [
       "recommendations finished on 58000/131209 queries. users per second: 1578.96"
      ]
     },
     "metadata": {},
     "output_type": "display_data"
    },
    {
     "data": {
      "text/html": [
       "<pre>recommendations finished on 59000/131209 queries. users per second: 1579.62</pre>"
      ],
      "text/plain": [
       "recommendations finished on 59000/131209 queries. users per second: 1579.62"
      ]
     },
     "metadata": {},
     "output_type": "display_data"
    },
    {
     "data": {
      "text/html": [
       "<pre>recommendations finished on 60000/131209 queries. users per second: 1580.08</pre>"
      ],
      "text/plain": [
       "recommendations finished on 60000/131209 queries. users per second: 1580.08"
      ]
     },
     "metadata": {},
     "output_type": "display_data"
    },
    {
     "data": {
      "text/html": [
       "<pre>recommendations finished on 61000/131209 queries. users per second: 1580.88</pre>"
      ],
      "text/plain": [
       "recommendations finished on 61000/131209 queries. users per second: 1580.88"
      ]
     },
     "metadata": {},
     "output_type": "display_data"
    },
    {
     "data": {
      "text/html": [
       "<pre>recommendations finished on 62000/131209 queries. users per second: 1581.51</pre>"
      ],
      "text/plain": [
       "recommendations finished on 62000/131209 queries. users per second: 1581.51"
      ]
     },
     "metadata": {},
     "output_type": "display_data"
    },
    {
     "data": {
      "text/html": [
       "<pre>recommendations finished on 63000/131209 queries. users per second: 1576.72</pre>"
      ],
      "text/plain": [
       "recommendations finished on 63000/131209 queries. users per second: 1576.72"
      ]
     },
     "metadata": {},
     "output_type": "display_data"
    },
    {
     "data": {
      "text/html": [
       "<pre>recommendations finished on 64000/131209 queries. users per second: 1569.08</pre>"
      ],
      "text/plain": [
       "recommendations finished on 64000/131209 queries. users per second: 1569.08"
      ]
     },
     "metadata": {},
     "output_type": "display_data"
    },
    {
     "data": {
      "text/html": [
       "<pre>recommendations finished on 65000/131209 queries. users per second: 1565.79</pre>"
      ],
      "text/plain": [
       "recommendations finished on 65000/131209 queries. users per second: 1565.79"
      ]
     },
     "metadata": {},
     "output_type": "display_data"
    },
    {
     "data": {
      "text/html": [
       "<pre>recommendations finished on 66000/131209 queries. users per second: 1566.67</pre>"
      ],
      "text/plain": [
       "recommendations finished on 66000/131209 queries. users per second: 1566.67"
      ]
     },
     "metadata": {},
     "output_type": "display_data"
    },
    {
     "data": {
      "text/html": [
       "<pre>recommendations finished on 67000/131209 queries. users per second: 1567.43</pre>"
      ],
      "text/plain": [
       "recommendations finished on 67000/131209 queries. users per second: 1567.43"
      ]
     },
     "metadata": {},
     "output_type": "display_data"
    },
    {
     "data": {
      "text/html": [
       "<pre>recommendations finished on 68000/131209 queries. users per second: 1568.13</pre>"
      ],
      "text/plain": [
       "recommendations finished on 68000/131209 queries. users per second: 1568.13"
      ]
     },
     "metadata": {},
     "output_type": "display_data"
    },
    {
     "data": {
      "text/html": [
       "<pre>recommendations finished on 69000/131209 queries. users per second: 1568.66</pre>"
      ],
      "text/plain": [
       "recommendations finished on 69000/131209 queries. users per second: 1568.66"
      ]
     },
     "metadata": {},
     "output_type": "display_data"
    },
    {
     "data": {
      "text/html": [
       "<pre>recommendations finished on 70000/131209 queries. users per second: 1569.27</pre>"
      ],
      "text/plain": [
       "recommendations finished on 70000/131209 queries. users per second: 1569.27"
      ]
     },
     "metadata": {},
     "output_type": "display_data"
    },
    {
     "data": {
      "text/html": [
       "<pre>recommendations finished on 71000/131209 queries. users per second: 1570.06</pre>"
      ],
      "text/plain": [
       "recommendations finished on 71000/131209 queries. users per second: 1570.06"
      ]
     },
     "metadata": {},
     "output_type": "display_data"
    },
    {
     "data": {
      "text/html": [
       "<pre>recommendations finished on 72000/131209 queries. users per second: 1570.71</pre>"
      ],
      "text/plain": [
       "recommendations finished on 72000/131209 queries. users per second: 1570.71"
      ]
     },
     "metadata": {},
     "output_type": "display_data"
    },
    {
     "data": {
      "text/html": [
       "<pre>recommendations finished on 73000/131209 queries. users per second: 1571.33</pre>"
      ],
      "text/plain": [
       "recommendations finished on 73000/131209 queries. users per second: 1571.33"
      ]
     },
     "metadata": {},
     "output_type": "display_data"
    },
    {
     "data": {
      "text/html": [
       "<pre>recommendations finished on 74000/131209 queries. users per second: 1571.91</pre>"
      ],
      "text/plain": [
       "recommendations finished on 74000/131209 queries. users per second: 1571.91"
      ]
     },
     "metadata": {},
     "output_type": "display_data"
    },
    {
     "data": {
      "text/html": [
       "<pre>recommendations finished on 75000/131209 queries. users per second: 1572.56</pre>"
      ],
      "text/plain": [
       "recommendations finished on 75000/131209 queries. users per second: 1572.56"
      ]
     },
     "metadata": {},
     "output_type": "display_data"
    },
    {
     "data": {
      "text/html": [
       "<pre>recommendations finished on 76000/131209 queries. users per second: 1573.2</pre>"
      ],
      "text/plain": [
       "recommendations finished on 76000/131209 queries. users per second: 1573.2"
      ]
     },
     "metadata": {},
     "output_type": "display_data"
    },
    {
     "data": {
      "text/html": [
       "<pre>recommendations finished on 77000/131209 queries. users per second: 1573.83</pre>"
      ],
      "text/plain": [
       "recommendations finished on 77000/131209 queries. users per second: 1573.83"
      ]
     },
     "metadata": {},
     "output_type": "display_data"
    },
    {
     "data": {
      "text/html": [
       "<pre>recommendations finished on 78000/131209 queries. users per second: 1574.33</pre>"
      ],
      "text/plain": [
       "recommendations finished on 78000/131209 queries. users per second: 1574.33"
      ]
     },
     "metadata": {},
     "output_type": "display_data"
    },
    {
     "data": {
      "text/html": [
       "<pre>recommendations finished on 79000/131209 queries. users per second: 1574.89</pre>"
      ],
      "text/plain": [
       "recommendations finished on 79000/131209 queries. users per second: 1574.89"
      ]
     },
     "metadata": {},
     "output_type": "display_data"
    },
    {
     "data": {
      "text/html": [
       "<pre>recommendations finished on 80000/131209 queries. users per second: 1575.58</pre>"
      ],
      "text/plain": [
       "recommendations finished on 80000/131209 queries. users per second: 1575.58"
      ]
     },
     "metadata": {},
     "output_type": "display_data"
    },
    {
     "data": {
      "text/html": [
       "<pre>recommendations finished on 81000/131209 queries. users per second: 1576.12</pre>"
      ],
      "text/plain": [
       "recommendations finished on 81000/131209 queries. users per second: 1576.12"
      ]
     },
     "metadata": {},
     "output_type": "display_data"
    },
    {
     "data": {
      "text/html": [
       "<pre>recommendations finished on 82000/131209 queries. users per second: 1572.13</pre>"
      ],
      "text/plain": [
       "recommendations finished on 82000/131209 queries. users per second: 1572.13"
      ]
     },
     "metadata": {},
     "output_type": "display_data"
    },
    {
     "data": {
      "text/html": [
       "<pre>recommendations finished on 83000/131209 queries. users per second: 1567.97</pre>"
      ],
      "text/plain": [
       "recommendations finished on 83000/131209 queries. users per second: 1567.97"
      ]
     },
     "metadata": {},
     "output_type": "display_data"
    },
    {
     "data": {
      "text/html": [
       "<pre>recommendations finished on 84000/131209 queries. users per second: 1562.79</pre>"
      ],
      "text/plain": [
       "recommendations finished on 84000/131209 queries. users per second: 1562.79"
      ]
     },
     "metadata": {},
     "output_type": "display_data"
    },
    {
     "data": {
      "text/html": [
       "<pre>recommendations finished on 85000/131209 queries. users per second: 1558.3</pre>"
      ],
      "text/plain": [
       "recommendations finished on 85000/131209 queries. users per second: 1558.3"
      ]
     },
     "metadata": {},
     "output_type": "display_data"
    },
    {
     "data": {
      "text/html": [
       "<pre>recommendations finished on 86000/131209 queries. users per second: 1554.45</pre>"
      ],
      "text/plain": [
       "recommendations finished on 86000/131209 queries. users per second: 1554.45"
      ]
     },
     "metadata": {},
     "output_type": "display_data"
    },
    {
     "data": {
      "text/html": [
       "<pre>recommendations finished on 87000/131209 queries. users per second: 1554.77</pre>"
      ],
      "text/plain": [
       "recommendations finished on 87000/131209 queries. users per second: 1554.77"
      ]
     },
     "metadata": {},
     "output_type": "display_data"
    },
    {
     "data": {
      "text/html": [
       "<pre>recommendations finished on 88000/131209 queries. users per second: 1555.46</pre>"
      ],
      "text/plain": [
       "recommendations finished on 88000/131209 queries. users per second: 1555.46"
      ]
     },
     "metadata": {},
     "output_type": "display_data"
    },
    {
     "data": {
      "text/html": [
       "<pre>recommendations finished on 89000/131209 queries. users per second: 1556.08</pre>"
      ],
      "text/plain": [
       "recommendations finished on 89000/131209 queries. users per second: 1556.08"
      ]
     },
     "metadata": {},
     "output_type": "display_data"
    },
    {
     "data": {
      "text/html": [
       "<pre>recommendations finished on 90000/131209 queries. users per second: 1556.86</pre>"
      ],
      "text/plain": [
       "recommendations finished on 90000/131209 queries. users per second: 1556.86"
      ]
     },
     "metadata": {},
     "output_type": "display_data"
    },
    {
     "data": {
      "text/html": [
       "<pre>recommendations finished on 91000/131209 queries. users per second: 1557.49</pre>"
      ],
      "text/plain": [
       "recommendations finished on 91000/131209 queries. users per second: 1557.49"
      ]
     },
     "metadata": {},
     "output_type": "display_data"
    },
    {
     "data": {
      "text/html": [
       "<pre>recommendations finished on 92000/131209 queries. users per second: 1558.05</pre>"
      ],
      "text/plain": [
       "recommendations finished on 92000/131209 queries. users per second: 1558.05"
      ]
     },
     "metadata": {},
     "output_type": "display_data"
    },
    {
     "data": {
      "text/html": [
       "<pre>recommendations finished on 93000/131209 queries. users per second: 1558.74</pre>"
      ],
      "text/plain": [
       "recommendations finished on 93000/131209 queries. users per second: 1558.74"
      ]
     },
     "metadata": {},
     "output_type": "display_data"
    },
    {
     "data": {
      "text/html": [
       "<pre>recommendations finished on 94000/131209 queries. users per second: 1559.45</pre>"
      ],
      "text/plain": [
       "recommendations finished on 94000/131209 queries. users per second: 1559.45"
      ]
     },
     "metadata": {},
     "output_type": "display_data"
    },
    {
     "data": {
      "text/html": [
       "<pre>recommendations finished on 95000/131209 queries. users per second: 1560.14</pre>"
      ],
      "text/plain": [
       "recommendations finished on 95000/131209 queries. users per second: 1560.14"
      ]
     },
     "metadata": {},
     "output_type": "display_data"
    },
    {
     "data": {
      "text/html": [
       "<pre>recommendations finished on 96000/131209 queries. users per second: 1560.83</pre>"
      ],
      "text/plain": [
       "recommendations finished on 96000/131209 queries. users per second: 1560.83"
      ]
     },
     "metadata": {},
     "output_type": "display_data"
    },
    {
     "data": {
      "text/html": [
       "<pre>recommendations finished on 97000/131209 queries. users per second: 1561.37</pre>"
      ],
      "text/plain": [
       "recommendations finished on 97000/131209 queries. users per second: 1561.37"
      ]
     },
     "metadata": {},
     "output_type": "display_data"
    },
    {
     "data": {
      "text/html": [
       "<pre>recommendations finished on 98000/131209 queries. users per second: 1561.87</pre>"
      ],
      "text/plain": [
       "recommendations finished on 98000/131209 queries. users per second: 1561.87"
      ]
     },
     "metadata": {},
     "output_type": "display_data"
    },
    {
     "data": {
      "text/html": [
       "<pre>recommendations finished on 99000/131209 queries. users per second: 1562.42</pre>"
      ],
      "text/plain": [
       "recommendations finished on 99000/131209 queries. users per second: 1562.42"
      ]
     },
     "metadata": {},
     "output_type": "display_data"
    },
    {
     "data": {
      "text/html": [
       "<pre>recommendations finished on 100000/131209 queries. users per second: 1562.95</pre>"
      ],
      "text/plain": [
       "recommendations finished on 100000/131209 queries. users per second: 1562.95"
      ]
     },
     "metadata": {},
     "output_type": "display_data"
    },
    {
     "data": {
      "text/html": [
       "<pre>recommendations finished on 101000/131209 queries. users per second: 1563.45</pre>"
      ],
      "text/plain": [
       "recommendations finished on 101000/131209 queries. users per second: 1563.45"
      ]
     },
     "metadata": {},
     "output_type": "display_data"
    },
    {
     "data": {
      "text/html": [
       "<pre>recommendations finished on 102000/131209 queries. users per second: 1563.9</pre>"
      ],
      "text/plain": [
       "recommendations finished on 102000/131209 queries. users per second: 1563.9"
      ]
     },
     "metadata": {},
     "output_type": "display_data"
    },
    {
     "data": {
      "text/html": [
       "<pre>recommendations finished on 103000/131209 queries. users per second: 1564.43</pre>"
      ],
      "text/plain": [
       "recommendations finished on 103000/131209 queries. users per second: 1564.43"
      ]
     },
     "metadata": {},
     "output_type": "display_data"
    },
    {
     "data": {
      "text/html": [
       "<pre>recommendations finished on 104000/131209 queries. users per second: 1564.87</pre>"
      ],
      "text/plain": [
       "recommendations finished on 104000/131209 queries. users per second: 1564.87"
      ]
     },
     "metadata": {},
     "output_type": "display_data"
    },
    {
     "data": {
      "text/html": [
       "<pre>recommendations finished on 105000/131209 queries. users per second: 1565.34</pre>"
      ],
      "text/plain": [
       "recommendations finished on 105000/131209 queries. users per second: 1565.34"
      ]
     },
     "metadata": {},
     "output_type": "display_data"
    },
    {
     "data": {
      "text/html": [
       "<pre>recommendations finished on 106000/131209 queries. users per second: 1565.81</pre>"
      ],
      "text/plain": [
       "recommendations finished on 106000/131209 queries. users per second: 1565.81"
      ]
     },
     "metadata": {},
     "output_type": "display_data"
    },
    {
     "data": {
      "text/html": [
       "<pre>recommendations finished on 107000/131209 queries. users per second: 1566.3</pre>"
      ],
      "text/plain": [
       "recommendations finished on 107000/131209 queries. users per second: 1566.3"
      ]
     },
     "metadata": {},
     "output_type": "display_data"
    },
    {
     "data": {
      "text/html": [
       "<pre>recommendations finished on 108000/131209 queries. users per second: 1566.73</pre>"
      ],
      "text/plain": [
       "recommendations finished on 108000/131209 queries. users per second: 1566.73"
      ]
     },
     "metadata": {},
     "output_type": "display_data"
    },
    {
     "data": {
      "text/html": [
       "<pre>recommendations finished on 109000/131209 queries. users per second: 1567.12</pre>"
      ],
      "text/plain": [
       "recommendations finished on 109000/131209 queries. users per second: 1567.12"
      ]
     },
     "metadata": {},
     "output_type": "display_data"
    },
    {
     "data": {
      "text/html": [
       "<pre>recommendations finished on 110000/131209 queries. users per second: 1567.61</pre>"
      ],
      "text/plain": [
       "recommendations finished on 110000/131209 queries. users per second: 1567.61"
      ]
     },
     "metadata": {},
     "output_type": "display_data"
    },
    {
     "data": {
      "text/html": [
       "<pre>recommendations finished on 111000/131209 queries. users per second: 1568.08</pre>"
      ],
      "text/plain": [
       "recommendations finished on 111000/131209 queries. users per second: 1568.08"
      ]
     },
     "metadata": {},
     "output_type": "display_data"
    },
    {
     "data": {
      "text/html": [
       "<pre>recommendations finished on 112000/131209 queries. users per second: 1568.6</pre>"
      ],
      "text/plain": [
       "recommendations finished on 112000/131209 queries. users per second: 1568.6"
      ]
     },
     "metadata": {},
     "output_type": "display_data"
    },
    {
     "data": {
      "text/html": [
       "<pre>recommendations finished on 113000/131209 queries. users per second: 1569.14</pre>"
      ],
      "text/plain": [
       "recommendations finished on 113000/131209 queries. users per second: 1569.14"
      ]
     },
     "metadata": {},
     "output_type": "display_data"
    },
    {
     "data": {
      "text/html": [
       "<pre>recommendations finished on 114000/131209 queries. users per second: 1569.32</pre>"
      ],
      "text/plain": [
       "recommendations finished on 114000/131209 queries. users per second: 1569.32"
      ]
     },
     "metadata": {},
     "output_type": "display_data"
    },
    {
     "data": {
      "text/html": [
       "<pre>recommendations finished on 115000/131209 queries. users per second: 1567.25</pre>"
      ],
      "text/plain": [
       "recommendations finished on 115000/131209 queries. users per second: 1567.25"
      ]
     },
     "metadata": {},
     "output_type": "display_data"
    },
    {
     "data": {
      "text/html": [
       "<pre>recommendations finished on 116000/131209 queries. users per second: 1563.23</pre>"
      ],
      "text/plain": [
       "recommendations finished on 116000/131209 queries. users per second: 1563.23"
      ]
     },
     "metadata": {},
     "output_type": "display_data"
    },
    {
     "data": {
      "text/html": [
       "<pre>recommendations finished on 117000/131209 queries. users per second: 1559.65</pre>"
      ],
      "text/plain": [
       "recommendations finished on 117000/131209 queries. users per second: 1559.65"
      ]
     },
     "metadata": {},
     "output_type": "display_data"
    },
    {
     "data": {
      "text/html": [
       "<pre>recommendations finished on 118000/131209 queries. users per second: 1556.17</pre>"
      ],
      "text/plain": [
       "recommendations finished on 118000/131209 queries. users per second: 1556.17"
      ]
     },
     "metadata": {},
     "output_type": "display_data"
    },
    {
     "data": {
      "text/html": [
       "<pre>recommendations finished on 119000/131209 queries. users per second: 1552.79</pre>"
      ],
      "text/plain": [
       "recommendations finished on 119000/131209 queries. users per second: 1552.79"
      ]
     },
     "metadata": {},
     "output_type": "display_data"
    },
    {
     "data": {
      "text/html": [
       "<pre>recommendations finished on 120000/131209 queries. users per second: 1549.58</pre>"
      ],
      "text/plain": [
       "recommendations finished on 120000/131209 queries. users per second: 1549.58"
      ]
     },
     "metadata": {},
     "output_type": "display_data"
    },
    {
     "data": {
      "text/html": [
       "<pre>recommendations finished on 121000/131209 queries. users per second: 1545.95</pre>"
      ],
      "text/plain": [
       "recommendations finished on 121000/131209 queries. users per second: 1545.95"
      ]
     },
     "metadata": {},
     "output_type": "display_data"
    },
    {
     "data": {
      "text/html": [
       "<pre>recommendations finished on 122000/131209 queries. users per second: 1542.35</pre>"
      ],
      "text/plain": [
       "recommendations finished on 122000/131209 queries. users per second: 1542.35"
      ]
     },
     "metadata": {},
     "output_type": "display_data"
    },
    {
     "data": {
      "text/html": [
       "<pre>recommendations finished on 123000/131209 queries. users per second: 1539.05</pre>"
      ],
      "text/plain": [
       "recommendations finished on 123000/131209 queries. users per second: 1539.05"
      ]
     },
     "metadata": {},
     "output_type": "display_data"
    },
    {
     "data": {
      "text/html": [
       "<pre>recommendations finished on 124000/131209 queries. users per second: 1536.22</pre>"
      ],
      "text/plain": [
       "recommendations finished on 124000/131209 queries. users per second: 1536.22"
      ]
     },
     "metadata": {},
     "output_type": "display_data"
    },
    {
     "data": {
      "text/html": [
       "<pre>recommendations finished on 125000/131209 queries. users per second: 1528.49</pre>"
      ],
      "text/plain": [
       "recommendations finished on 125000/131209 queries. users per second: 1528.49"
      ]
     },
     "metadata": {},
     "output_type": "display_data"
    },
    {
     "data": {
      "text/html": [
       "<pre>recommendations finished on 126000/131209 queries. users per second: 1520.66</pre>"
      ],
      "text/plain": [
       "recommendations finished on 126000/131209 queries. users per second: 1520.66"
      ]
     },
     "metadata": {},
     "output_type": "display_data"
    },
    {
     "data": {
      "text/html": [
       "<pre>recommendations finished on 127000/131209 queries. users per second: 1514.54</pre>"
      ],
      "text/plain": [
       "recommendations finished on 127000/131209 queries. users per second: 1514.54"
      ]
     },
     "metadata": {},
     "output_type": "display_data"
    },
    {
     "data": {
      "text/html": [
       "<pre>recommendations finished on 128000/131209 queries. users per second: 1511.66</pre>"
      ],
      "text/plain": [
       "recommendations finished on 128000/131209 queries. users per second: 1511.66"
      ]
     },
     "metadata": {},
     "output_type": "display_data"
    },
    {
     "data": {
      "text/html": [
       "<pre>recommendations finished on 129000/131209 queries. users per second: 1510.43</pre>"
      ],
      "text/plain": [
       "recommendations finished on 129000/131209 queries. users per second: 1510.43"
      ]
     },
     "metadata": {},
     "output_type": "display_data"
    },
    {
     "data": {
      "text/html": [
       "<pre>recommendations finished on 130000/131209 queries. users per second: 1511.21</pre>"
      ],
      "text/plain": [
       "recommendations finished on 130000/131209 queries. users per second: 1511.21"
      ]
     },
     "metadata": {},
     "output_type": "display_data"
    },
    {
     "data": {
      "text/html": [
       "<pre>recommendations finished on 131000/131209 queries. users per second: 1509.47</pre>"
      ],
      "text/plain": [
       "recommendations finished on 131000/131209 queries. users per second: 1509.47"
      ]
     },
     "metadata": {},
     "output_type": "display_data"
    },
    {
     "name": "stdout",
     "output_type": "stream",
     "text": [
      "\n",
      "Precision and recall summary statistics by cutoff\n",
      "+--------+------------------------+------------------------+\n",
      "| cutoff |     mean_precision     |      mean_recall       |\n",
      "+--------+------------------------+------------------------+\n",
      "|   1    |          0.0           |          0.0           |\n",
      "|   2    |          0.0           |          0.0           |\n",
      "|   3    |          0.0           |          0.0           |\n",
      "|   4    |          0.0           |          0.0           |\n",
      "|   5    |          0.0           |          0.0           |\n",
      "|   6    |          0.0           |          0.0           |\n",
      "|   7    |          0.0           |          0.0           |\n",
      "|   8    |          0.0           |          0.0           |\n",
      "|   9    |          0.0           |          0.0           |\n",
      "|   10   | 1.5242856816224426e-06 | 2.8580356530421073e-06 |\n",
      "+--------+------------------------+------------------------+\n",
      "[10 rows x 3 columns]\n",
      "\n",
      "\n",
      "Overall RMSE: 0.982488939646044\n",
      "\n",
      "Per User RMSE (best)\n",
      "+---------+--------------------+-------+\n",
      "| user_id |        rmse        | count |\n",
      "+---------+--------------------+-------+\n",
      "|  107528 | 0.8365666809937247 |   2   |\n",
      "+---------+--------------------+-------+\n",
      "[1 rows x 3 columns]\n",
      "\n",
      "\n",
      "Per User RMSE (worst)\n",
      "+---------+------+-------+\n",
      "| user_id | rmse | count |\n",
      "+---------+------+-------+\n",
      "|  102127 | 1.0  |   1   |\n",
      "+---------+------+-------+\n",
      "[1 rows x 3 columns]\n",
      "\n",
      "\n",
      "Per Item RMSE (best)\n",
      "+------------+--------------------+-------+\n",
      "| product_id |        rmse        | count |\n",
      "+------------+--------------------+-------+\n",
      "|    6433    | 0.8337244105317896 |   1   |\n",
      "+------------+--------------------+-------+\n",
      "[1 rows x 3 columns]\n",
      "\n",
      "\n",
      "Per Item RMSE (worst)\n",
      "+------------+------+-------+\n",
      "| product_id | rmse | count |\n",
      "+------------+------+-------+\n",
      "|    8455    | 1.0  |   3   |\n",
      "+------------+------+-------+\n",
      "[1 rows x 3 columns]\n",
      "\n"
     ]
    }
   ],
   "source": [
    "eval_counts = tc.recommender.util.compare_models(test_data, models_w_counts, model_names=names_w_counts)\n",
    "eval_counts = tc.recommender.util.compare_models(test_data, models_w_norm, model_names=names_w_norm)"
   ]
  },
  {
   "cell_type": "code",
   "execution_count": 74,
   "metadata": {},
   "outputs": [],
   "source": [
    "def create_output(model, users_to_recommend, n_rec, print_csv=True):\n",
    "    recomendation = model.recommend(users=users_to_recommend, k=n_rec)\n",
    "    df_rec = recomendation.to_dataframe()\n",
    "    df_rec['recommendedProducts'] = df_rec.groupby([user_id])[product_id] \\\n",
    "        .transform(lambda x: '|'.join(x.astype(str)))\n",
    "    df_output = df_rec[['user_id', 'recommendedProducts']].drop_duplicates() \\\n",
    "        .sort_values('user_id').set_index('user_id')\n",
    "    if print_csv:\n",
    "        df_output.to_csv('option1_recommendation.csv')\n",
    "        print(\"An output file can be found in 'output' folder with name 'option1_recommendation.csv'\")\n",
    "    return df_output"
   ]
  },
  {
   "cell_type": "code",
   "execution_count": 77,
   "metadata": {},
   "outputs": [
    {
     "data": {
      "text/html": [
       "<pre>recommendations finished on 1000/206209 queries. users per second: 2459.12</pre>"
      ],
      "text/plain": [
       "recommendations finished on 1000/206209 queries. users per second: 2459.12"
      ]
     },
     "metadata": {},
     "output_type": "display_data"
    },
    {
     "data": {
      "text/html": [
       "<pre>recommendations finished on 2000/206209 queries. users per second: 2452.56</pre>"
      ],
      "text/plain": [
       "recommendations finished on 2000/206209 queries. users per second: 2452.56"
      ]
     },
     "metadata": {},
     "output_type": "display_data"
    },
    {
     "data": {
      "text/html": [
       "<pre>recommendations finished on 3000/206209 queries. users per second: 2441.73</pre>"
      ],
      "text/plain": [
       "recommendations finished on 3000/206209 queries. users per second: 2441.73"
      ]
     },
     "metadata": {},
     "output_type": "display_data"
    },
    {
     "data": {
      "text/html": [
       "<pre>recommendations finished on 4000/206209 queries. users per second: 2437.9</pre>"
      ],
      "text/plain": [
       "recommendations finished on 4000/206209 queries. users per second: 2437.9"
      ]
     },
     "metadata": {},
     "output_type": "display_data"
    },
    {
     "data": {
      "text/html": [
       "<pre>recommendations finished on 5000/206209 queries. users per second: 2434.99</pre>"
      ],
      "text/plain": [
       "recommendations finished on 5000/206209 queries. users per second: 2434.99"
      ]
     },
     "metadata": {},
     "output_type": "display_data"
    },
    {
     "data": {
      "text/html": [
       "<pre>recommendations finished on 6000/206209 queries. users per second: 2432.22</pre>"
      ],
      "text/plain": [
       "recommendations finished on 6000/206209 queries. users per second: 2432.22"
      ]
     },
     "metadata": {},
     "output_type": "display_data"
    },
    {
     "data": {
      "text/html": [
       "<pre>recommendations finished on 7000/206209 queries. users per second: 2427.31</pre>"
      ],
      "text/plain": [
       "recommendations finished on 7000/206209 queries. users per second: 2427.31"
      ]
     },
     "metadata": {},
     "output_type": "display_data"
    },
    {
     "data": {
      "text/html": [
       "<pre>recommendations finished on 8000/206209 queries. users per second: 2423.66</pre>"
      ],
      "text/plain": [
       "recommendations finished on 8000/206209 queries. users per second: 2423.66"
      ]
     },
     "metadata": {},
     "output_type": "display_data"
    },
    {
     "data": {
      "text/html": [
       "<pre>recommendations finished on 9000/206209 queries. users per second: 2421.09</pre>"
      ],
      "text/plain": [
       "recommendations finished on 9000/206209 queries. users per second: 2421.09"
      ]
     },
     "metadata": {},
     "output_type": "display_data"
    },
    {
     "data": {
      "text/html": [
       "<pre>recommendations finished on 10000/206209 queries. users per second: 2417.07</pre>"
      ],
      "text/plain": [
       "recommendations finished on 10000/206209 queries. users per second: 2417.07"
      ]
     },
     "metadata": {},
     "output_type": "display_data"
    },
    {
     "data": {
      "text/html": [
       "<pre>recommendations finished on 11000/206209 queries. users per second: 2413.82</pre>"
      ],
      "text/plain": [
       "recommendations finished on 11000/206209 queries. users per second: 2413.82"
      ]
     },
     "metadata": {},
     "output_type": "display_data"
    },
    {
     "data": {
      "text/html": [
       "<pre>recommendations finished on 12000/206209 queries. users per second: 2411.11</pre>"
      ],
      "text/plain": [
       "recommendations finished on 12000/206209 queries. users per second: 2411.11"
      ]
     },
     "metadata": {},
     "output_type": "display_data"
    },
    {
     "data": {
      "text/html": [
       "<pre>recommendations finished on 13000/206209 queries. users per second: 2410.23</pre>"
      ],
      "text/plain": [
       "recommendations finished on 13000/206209 queries. users per second: 2410.23"
      ]
     },
     "metadata": {},
     "output_type": "display_data"
    },
    {
     "data": {
      "text/html": [
       "<pre>recommendations finished on 14000/206209 queries. users per second: 2408.99</pre>"
      ],
      "text/plain": [
       "recommendations finished on 14000/206209 queries. users per second: 2408.99"
      ]
     },
     "metadata": {},
     "output_type": "display_data"
    },
    {
     "data": {
      "text/html": [
       "<pre>recommendations finished on 15000/206209 queries. users per second: 2408.23</pre>"
      ],
      "text/plain": [
       "recommendations finished on 15000/206209 queries. users per second: 2408.23"
      ]
     },
     "metadata": {},
     "output_type": "display_data"
    },
    {
     "data": {
      "text/html": [
       "<pre>recommendations finished on 16000/206209 queries. users per second: 2407.58</pre>"
      ],
      "text/plain": [
       "recommendations finished on 16000/206209 queries. users per second: 2407.58"
      ]
     },
     "metadata": {},
     "output_type": "display_data"
    },
    {
     "data": {
      "text/html": [
       "<pre>recommendations finished on 17000/206209 queries. users per second: 2406.97</pre>"
      ],
      "text/plain": [
       "recommendations finished on 17000/206209 queries. users per second: 2406.97"
      ]
     },
     "metadata": {},
     "output_type": "display_data"
    },
    {
     "data": {
      "text/html": [
       "<pre>recommendations finished on 18000/206209 queries. users per second: 2406.18</pre>"
      ],
      "text/plain": [
       "recommendations finished on 18000/206209 queries. users per second: 2406.18"
      ]
     },
     "metadata": {},
     "output_type": "display_data"
    },
    {
     "data": {
      "text/html": [
       "<pre>recommendations finished on 19000/206209 queries. users per second: 2405.61</pre>"
      ],
      "text/plain": [
       "recommendations finished on 19000/206209 queries. users per second: 2405.61"
      ]
     },
     "metadata": {},
     "output_type": "display_data"
    },
    {
     "data": {
      "text/html": [
       "<pre>recommendations finished on 20000/206209 queries. users per second: 2404.8</pre>"
      ],
      "text/plain": [
       "recommendations finished on 20000/206209 queries. users per second: 2404.8"
      ]
     },
     "metadata": {},
     "output_type": "display_data"
    },
    {
     "data": {
      "text/html": [
       "<pre>recommendations finished on 21000/206209 queries. users per second: 2404.6</pre>"
      ],
      "text/plain": [
       "recommendations finished on 21000/206209 queries. users per second: 2404.6"
      ]
     },
     "metadata": {},
     "output_type": "display_data"
    },
    {
     "data": {
      "text/html": [
       "<pre>recommendations finished on 22000/206209 queries. users per second: 2403.73</pre>"
      ],
      "text/plain": [
       "recommendations finished on 22000/206209 queries. users per second: 2403.73"
      ]
     },
     "metadata": {},
     "output_type": "display_data"
    },
    {
     "data": {
      "text/html": [
       "<pre>recommendations finished on 23000/206209 queries. users per second: 2403.22</pre>"
      ],
      "text/plain": [
       "recommendations finished on 23000/206209 queries. users per second: 2403.22"
      ]
     },
     "metadata": {},
     "output_type": "display_data"
    },
    {
     "data": {
      "text/html": [
       "<pre>recommendations finished on 24000/206209 queries. users per second: 2402.96</pre>"
      ],
      "text/plain": [
       "recommendations finished on 24000/206209 queries. users per second: 2402.96"
      ]
     },
     "metadata": {},
     "output_type": "display_data"
    },
    {
     "data": {
      "text/html": [
       "<pre>recommendations finished on 25000/206209 queries. users per second: 2402.42</pre>"
      ],
      "text/plain": [
       "recommendations finished on 25000/206209 queries. users per second: 2402.42"
      ]
     },
     "metadata": {},
     "output_type": "display_data"
    },
    {
     "data": {
      "text/html": [
       "<pre>recommendations finished on 26000/206209 queries. users per second: 2401.71</pre>"
      ],
      "text/plain": [
       "recommendations finished on 26000/206209 queries. users per second: 2401.71"
      ]
     },
     "metadata": {},
     "output_type": "display_data"
    },
    {
     "data": {
      "text/html": [
       "<pre>recommendations finished on 27000/206209 queries. users per second: 2400.77</pre>"
      ],
      "text/plain": [
       "recommendations finished on 27000/206209 queries. users per second: 2400.77"
      ]
     },
     "metadata": {},
     "output_type": "display_data"
    },
    {
     "data": {
      "text/html": [
       "<pre>recommendations finished on 28000/206209 queries. users per second: 2399.76</pre>"
      ],
      "text/plain": [
       "recommendations finished on 28000/206209 queries. users per second: 2399.76"
      ]
     },
     "metadata": {},
     "output_type": "display_data"
    },
    {
     "data": {
      "text/html": [
       "<pre>recommendations finished on 29000/206209 queries. users per second: 2392.96</pre>"
      ],
      "text/plain": [
       "recommendations finished on 29000/206209 queries. users per second: 2392.96"
      ]
     },
     "metadata": {},
     "output_type": "display_data"
    },
    {
     "data": {
      "text/html": [
       "<pre>recommendations finished on 30000/206209 queries. users per second: 2376.58</pre>"
      ],
      "text/plain": [
       "recommendations finished on 30000/206209 queries. users per second: 2376.58"
      ]
     },
     "metadata": {},
     "output_type": "display_data"
    },
    {
     "data": {
      "text/html": [
       "<pre>recommendations finished on 31000/206209 queries. users per second: 2359.87</pre>"
      ],
      "text/plain": [
       "recommendations finished on 31000/206209 queries. users per second: 2359.87"
      ]
     },
     "metadata": {},
     "output_type": "display_data"
    },
    {
     "data": {
      "text/html": [
       "<pre>recommendations finished on 32000/206209 queries. users per second: 2344.1</pre>"
      ],
      "text/plain": [
       "recommendations finished on 32000/206209 queries. users per second: 2344.1"
      ]
     },
     "metadata": {},
     "output_type": "display_data"
    },
    {
     "data": {
      "text/html": [
       "<pre>recommendations finished on 33000/206209 queries. users per second: 2330.39</pre>"
      ],
      "text/plain": [
       "recommendations finished on 33000/206209 queries. users per second: 2330.39"
      ]
     },
     "metadata": {},
     "output_type": "display_data"
    },
    {
     "data": {
      "text/html": [
       "<pre>recommendations finished on 34000/206209 queries. users per second: 2317.16</pre>"
      ],
      "text/plain": [
       "recommendations finished on 34000/206209 queries. users per second: 2317.16"
      ]
     },
     "metadata": {},
     "output_type": "display_data"
    },
    {
     "data": {
      "text/html": [
       "<pre>recommendations finished on 35000/206209 queries. users per second: 2304.69</pre>"
      ],
      "text/plain": [
       "recommendations finished on 35000/206209 queries. users per second: 2304.69"
      ]
     },
     "metadata": {},
     "output_type": "display_data"
    },
    {
     "data": {
      "text/html": [
       "<pre>recommendations finished on 36000/206209 queries. users per second: 2306.94</pre>"
      ],
      "text/plain": [
       "recommendations finished on 36000/206209 queries. users per second: 2306.94"
      ]
     },
     "metadata": {},
     "output_type": "display_data"
    },
    {
     "data": {
      "text/html": [
       "<pre>recommendations finished on 37000/206209 queries. users per second: 2308.9</pre>"
      ],
      "text/plain": [
       "recommendations finished on 37000/206209 queries. users per second: 2308.9"
      ]
     },
     "metadata": {},
     "output_type": "display_data"
    },
    {
     "data": {
      "text/html": [
       "<pre>recommendations finished on 38000/206209 queries. users per second: 2310.77</pre>"
      ],
      "text/plain": [
       "recommendations finished on 38000/206209 queries. users per second: 2310.77"
      ]
     },
     "metadata": {},
     "output_type": "display_data"
    },
    {
     "data": {
      "text/html": [
       "<pre>recommendations finished on 39000/206209 queries. users per second: 2312.78</pre>"
      ],
      "text/plain": [
       "recommendations finished on 39000/206209 queries. users per second: 2312.78"
      ]
     },
     "metadata": {},
     "output_type": "display_data"
    },
    {
     "data": {
      "text/html": [
       "<pre>recommendations finished on 40000/206209 queries. users per second: 2314.78</pre>"
      ],
      "text/plain": [
       "recommendations finished on 40000/206209 queries. users per second: 2314.78"
      ]
     },
     "metadata": {},
     "output_type": "display_data"
    },
    {
     "data": {
      "text/html": [
       "<pre>recommendations finished on 41000/206209 queries. users per second: 2316.41</pre>"
      ],
      "text/plain": [
       "recommendations finished on 41000/206209 queries. users per second: 2316.41"
      ]
     },
     "metadata": {},
     "output_type": "display_data"
    },
    {
     "data": {
      "text/html": [
       "<pre>recommendations finished on 42000/206209 queries. users per second: 2317.97</pre>"
      ],
      "text/plain": [
       "recommendations finished on 42000/206209 queries. users per second: 2317.97"
      ]
     },
     "metadata": {},
     "output_type": "display_data"
    },
    {
     "data": {
      "text/html": [
       "<pre>recommendations finished on 43000/206209 queries. users per second: 2319.81</pre>"
      ],
      "text/plain": [
       "recommendations finished on 43000/206209 queries. users per second: 2319.81"
      ]
     },
     "metadata": {},
     "output_type": "display_data"
    },
    {
     "data": {
      "text/html": [
       "<pre>recommendations finished on 44000/206209 queries. users per second: 2321.6</pre>"
      ],
      "text/plain": [
       "recommendations finished on 44000/206209 queries. users per second: 2321.6"
      ]
     },
     "metadata": {},
     "output_type": "display_data"
    },
    {
     "data": {
      "text/html": [
       "<pre>recommendations finished on 45000/206209 queries. users per second: 2323.08</pre>"
      ],
      "text/plain": [
       "recommendations finished on 45000/206209 queries. users per second: 2323.08"
      ]
     },
     "metadata": {},
     "output_type": "display_data"
    },
    {
     "data": {
      "text/html": [
       "<pre>recommendations finished on 46000/206209 queries. users per second: 2324.46</pre>"
      ],
      "text/plain": [
       "recommendations finished on 46000/206209 queries. users per second: 2324.46"
      ]
     },
     "metadata": {},
     "output_type": "display_data"
    },
    {
     "data": {
      "text/html": [
       "<pre>recommendations finished on 47000/206209 queries. users per second: 2325.77</pre>"
      ],
      "text/plain": [
       "recommendations finished on 47000/206209 queries. users per second: 2325.77"
      ]
     },
     "metadata": {},
     "output_type": "display_data"
    },
    {
     "data": {
      "text/html": [
       "<pre>recommendations finished on 48000/206209 queries. users per second: 2326.82</pre>"
      ],
      "text/plain": [
       "recommendations finished on 48000/206209 queries. users per second: 2326.82"
      ]
     },
     "metadata": {},
     "output_type": "display_data"
    },
    {
     "data": {
      "text/html": [
       "<pre>recommendations finished on 49000/206209 queries. users per second: 2327.97</pre>"
      ],
      "text/plain": [
       "recommendations finished on 49000/206209 queries. users per second: 2327.97"
      ]
     },
     "metadata": {},
     "output_type": "display_data"
    },
    {
     "data": {
      "text/html": [
       "<pre>recommendations finished on 50000/206209 queries. users per second: 2329.42</pre>"
      ],
      "text/plain": [
       "recommendations finished on 50000/206209 queries. users per second: 2329.42"
      ]
     },
     "metadata": {},
     "output_type": "display_data"
    },
    {
     "data": {
      "text/html": [
       "<pre>recommendations finished on 51000/206209 queries. users per second: 2330.53</pre>"
      ],
      "text/plain": [
       "recommendations finished on 51000/206209 queries. users per second: 2330.53"
      ]
     },
     "metadata": {},
     "output_type": "display_data"
    },
    {
     "data": {
      "text/html": [
       "<pre>recommendations finished on 52000/206209 queries. users per second: 2331.4</pre>"
      ],
      "text/plain": [
       "recommendations finished on 52000/206209 queries. users per second: 2331.4"
      ]
     },
     "metadata": {},
     "output_type": "display_data"
    },
    {
     "data": {
      "text/html": [
       "<pre>recommendations finished on 53000/206209 queries. users per second: 2332.25</pre>"
      ],
      "text/plain": [
       "recommendations finished on 53000/206209 queries. users per second: 2332.25"
      ]
     },
     "metadata": {},
     "output_type": "display_data"
    },
    {
     "data": {
      "text/html": [
       "<pre>recommendations finished on 54000/206209 queries. users per second: 2333.3</pre>"
      ],
      "text/plain": [
       "recommendations finished on 54000/206209 queries. users per second: 2333.3"
      ]
     },
     "metadata": {},
     "output_type": "display_data"
    },
    {
     "data": {
      "text/html": [
       "<pre>recommendations finished on 55000/206209 queries. users per second: 2334.35</pre>"
      ],
      "text/plain": [
       "recommendations finished on 55000/206209 queries. users per second: 2334.35"
      ]
     },
     "metadata": {},
     "output_type": "display_data"
    },
    {
     "data": {
      "text/html": [
       "<pre>recommendations finished on 56000/206209 queries. users per second: 2335.13</pre>"
      ],
      "text/plain": [
       "recommendations finished on 56000/206209 queries. users per second: 2335.13"
      ]
     },
     "metadata": {},
     "output_type": "display_data"
    },
    {
     "data": {
      "text/html": [
       "<pre>recommendations finished on 57000/206209 queries. users per second: 2336.05</pre>"
      ],
      "text/plain": [
       "recommendations finished on 57000/206209 queries. users per second: 2336.05"
      ]
     },
     "metadata": {},
     "output_type": "display_data"
    },
    {
     "data": {
      "text/html": [
       "<pre>recommendations finished on 58000/206209 queries. users per second: 2336.88</pre>"
      ],
      "text/plain": [
       "recommendations finished on 58000/206209 queries. users per second: 2336.88"
      ]
     },
     "metadata": {},
     "output_type": "display_data"
    },
    {
     "data": {
      "text/html": [
       "<pre>recommendations finished on 59000/206209 queries. users per second: 2337.64</pre>"
      ],
      "text/plain": [
       "recommendations finished on 59000/206209 queries. users per second: 2337.64"
      ]
     },
     "metadata": {},
     "output_type": "display_data"
    },
    {
     "data": {
      "text/html": [
       "<pre>recommendations finished on 60000/206209 queries. users per second: 2338.35</pre>"
      ],
      "text/plain": [
       "recommendations finished on 60000/206209 queries. users per second: 2338.35"
      ]
     },
     "metadata": {},
     "output_type": "display_data"
    },
    {
     "data": {
      "text/html": [
       "<pre>recommendations finished on 61000/206209 queries. users per second: 2339.08</pre>"
      ],
      "text/plain": [
       "recommendations finished on 61000/206209 queries. users per second: 2339.08"
      ]
     },
     "metadata": {},
     "output_type": "display_data"
    },
    {
     "data": {
      "text/html": [
       "<pre>recommendations finished on 62000/206209 queries. users per second: 2339.79</pre>"
      ],
      "text/plain": [
       "recommendations finished on 62000/206209 queries. users per second: 2339.79"
      ]
     },
     "metadata": {},
     "output_type": "display_data"
    },
    {
     "data": {
      "text/html": [
       "<pre>recommendations finished on 63000/206209 queries. users per second: 2340.63</pre>"
      ],
      "text/plain": [
       "recommendations finished on 63000/206209 queries. users per second: 2340.63"
      ]
     },
     "metadata": {},
     "output_type": "display_data"
    },
    {
     "data": {
      "text/html": [
       "<pre>recommendations finished on 64000/206209 queries. users per second: 2341.1</pre>"
      ],
      "text/plain": [
       "recommendations finished on 64000/206209 queries. users per second: 2341.1"
      ]
     },
     "metadata": {},
     "output_type": "display_data"
    },
    {
     "data": {
      "text/html": [
       "<pre>recommendations finished on 65000/206209 queries. users per second: 2341.56</pre>"
      ],
      "text/plain": [
       "recommendations finished on 65000/206209 queries. users per second: 2341.56"
      ]
     },
     "metadata": {},
     "output_type": "display_data"
    },
    {
     "data": {
      "text/html": [
       "<pre>recommendations finished on 66000/206209 queries. users per second: 2342.27</pre>"
      ],
      "text/plain": [
       "recommendations finished on 66000/206209 queries. users per second: 2342.27"
      ]
     },
     "metadata": {},
     "output_type": "display_data"
    },
    {
     "data": {
      "text/html": [
       "<pre>recommendations finished on 67000/206209 queries. users per second: 2342.92</pre>"
      ],
      "text/plain": [
       "recommendations finished on 67000/206209 queries. users per second: 2342.92"
      ]
     },
     "metadata": {},
     "output_type": "display_data"
    },
    {
     "data": {
      "text/html": [
       "<pre>recommendations finished on 68000/206209 queries. users per second: 2343.51</pre>"
      ],
      "text/plain": [
       "recommendations finished on 68000/206209 queries. users per second: 2343.51"
      ]
     },
     "metadata": {},
     "output_type": "display_data"
    },
    {
     "data": {
      "text/html": [
       "<pre>recommendations finished on 69000/206209 queries. users per second: 2343.97</pre>"
      ],
      "text/plain": [
       "recommendations finished on 69000/206209 queries. users per second: 2343.97"
      ]
     },
     "metadata": {},
     "output_type": "display_data"
    },
    {
     "data": {
      "text/html": [
       "<pre>recommendations finished on 70000/206209 queries. users per second: 2344.66</pre>"
      ],
      "text/plain": [
       "recommendations finished on 70000/206209 queries. users per second: 2344.66"
      ]
     },
     "metadata": {},
     "output_type": "display_data"
    },
    {
     "data": {
      "text/html": [
       "<pre>recommendations finished on 71000/206209 queries. users per second: 2345.33</pre>"
      ],
      "text/plain": [
       "recommendations finished on 71000/206209 queries. users per second: 2345.33"
      ]
     },
     "metadata": {},
     "output_type": "display_data"
    },
    {
     "data": {
      "text/html": [
       "<pre>recommendations finished on 72000/206209 queries. users per second: 2345.86</pre>"
      ],
      "text/plain": [
       "recommendations finished on 72000/206209 queries. users per second: 2345.86"
      ]
     },
     "metadata": {},
     "output_type": "display_data"
    },
    {
     "data": {
      "text/html": [
       "<pre>recommendations finished on 73000/206209 queries. users per second: 2346.47</pre>"
      ],
      "text/plain": [
       "recommendations finished on 73000/206209 queries. users per second: 2346.47"
      ]
     },
     "metadata": {},
     "output_type": "display_data"
    },
    {
     "data": {
      "text/html": [
       "<pre>recommendations finished on 74000/206209 queries. users per second: 2347.03</pre>"
      ],
      "text/plain": [
       "recommendations finished on 74000/206209 queries. users per second: 2347.03"
      ]
     },
     "metadata": {},
     "output_type": "display_data"
    },
    {
     "data": {
      "text/html": [
       "<pre>recommendations finished on 75000/206209 queries. users per second: 2347.62</pre>"
      ],
      "text/plain": [
       "recommendations finished on 75000/206209 queries. users per second: 2347.62"
      ]
     },
     "metadata": {},
     "output_type": "display_data"
    },
    {
     "data": {
      "text/html": [
       "<pre>recommendations finished on 76000/206209 queries. users per second: 2348.24</pre>"
      ],
      "text/plain": [
       "recommendations finished on 76000/206209 queries. users per second: 2348.24"
      ]
     },
     "metadata": {},
     "output_type": "display_data"
    },
    {
     "data": {
      "text/html": [
       "<pre>recommendations finished on 77000/206209 queries. users per second: 2348.8</pre>"
      ],
      "text/plain": [
       "recommendations finished on 77000/206209 queries. users per second: 2348.8"
      ]
     },
     "metadata": {},
     "output_type": "display_data"
    },
    {
     "data": {
      "text/html": [
       "<pre>recommendations finished on 78000/206209 queries. users per second: 2349.28</pre>"
      ],
      "text/plain": [
       "recommendations finished on 78000/206209 queries. users per second: 2349.28"
      ]
     },
     "metadata": {},
     "output_type": "display_data"
    },
    {
     "data": {
      "text/html": [
       "<pre>recommendations finished on 79000/206209 queries. users per second: 2349.73</pre>"
      ],
      "text/plain": [
       "recommendations finished on 79000/206209 queries. users per second: 2349.73"
      ]
     },
     "metadata": {},
     "output_type": "display_data"
    },
    {
     "data": {
      "text/html": [
       "<pre>recommendations finished on 80000/206209 queries. users per second: 2350.28</pre>"
      ],
      "text/plain": [
       "recommendations finished on 80000/206209 queries. users per second: 2350.28"
      ]
     },
     "metadata": {},
     "output_type": "display_data"
    },
    {
     "data": {
      "text/html": [
       "<pre>recommendations finished on 81000/206209 queries. users per second: 2350.79</pre>"
      ],
      "text/plain": [
       "recommendations finished on 81000/206209 queries. users per second: 2350.79"
      ]
     },
     "metadata": {},
     "output_type": "display_data"
    },
    {
     "data": {
      "text/html": [
       "<pre>recommendations finished on 82000/206209 queries. users per second: 2351.28</pre>"
      ],
      "text/plain": [
       "recommendations finished on 82000/206209 queries. users per second: 2351.28"
      ]
     },
     "metadata": {},
     "output_type": "display_data"
    },
    {
     "data": {
      "text/html": [
       "<pre>recommendations finished on 83000/206209 queries. users per second: 2351.8</pre>"
      ],
      "text/plain": [
       "recommendations finished on 83000/206209 queries. users per second: 2351.8"
      ]
     },
     "metadata": {},
     "output_type": "display_data"
    },
    {
     "data": {
      "text/html": [
       "<pre>recommendations finished on 84000/206209 queries. users per second: 2352.19</pre>"
      ],
      "text/plain": [
       "recommendations finished on 84000/206209 queries. users per second: 2352.19"
      ]
     },
     "metadata": {},
     "output_type": "display_data"
    },
    {
     "data": {
      "text/html": [
       "<pre>recommendations finished on 85000/206209 queries. users per second: 2352.53</pre>"
      ],
      "text/plain": [
       "recommendations finished on 85000/206209 queries. users per second: 2352.53"
      ]
     },
     "metadata": {},
     "output_type": "display_data"
    },
    {
     "data": {
      "text/html": [
       "<pre>recommendations finished on 86000/206209 queries. users per second: 2352.95</pre>"
      ],
      "text/plain": [
       "recommendations finished on 86000/206209 queries. users per second: 2352.95"
      ]
     },
     "metadata": {},
     "output_type": "display_data"
    },
    {
     "data": {
      "text/html": [
       "<pre>recommendations finished on 87000/206209 queries. users per second: 2353.33</pre>"
      ],
      "text/plain": [
       "recommendations finished on 87000/206209 queries. users per second: 2353.33"
      ]
     },
     "metadata": {},
     "output_type": "display_data"
    },
    {
     "data": {
      "text/html": [
       "<pre>recommendations finished on 88000/206209 queries. users per second: 2353.67</pre>"
      ],
      "text/plain": [
       "recommendations finished on 88000/206209 queries. users per second: 2353.67"
      ]
     },
     "metadata": {},
     "output_type": "display_data"
    },
    {
     "data": {
      "text/html": [
       "<pre>recommendations finished on 89000/206209 queries. users per second: 2353.94</pre>"
      ],
      "text/plain": [
       "recommendations finished on 89000/206209 queries. users per second: 2353.94"
      ]
     },
     "metadata": {},
     "output_type": "display_data"
    },
    {
     "data": {
      "text/html": [
       "<pre>recommendations finished on 90000/206209 queries. users per second: 2354.2</pre>"
      ],
      "text/plain": [
       "recommendations finished on 90000/206209 queries. users per second: 2354.2"
      ]
     },
     "metadata": {},
     "output_type": "display_data"
    },
    {
     "data": {
      "text/html": [
       "<pre>recommendations finished on 91000/206209 queries. users per second: 2354.51</pre>"
      ],
      "text/plain": [
       "recommendations finished on 91000/206209 queries. users per second: 2354.51"
      ]
     },
     "metadata": {},
     "output_type": "display_data"
    },
    {
     "data": {
      "text/html": [
       "<pre>recommendations finished on 92000/206209 queries. users per second: 2354.83</pre>"
      ],
      "text/plain": [
       "recommendations finished on 92000/206209 queries. users per second: 2354.83"
      ]
     },
     "metadata": {},
     "output_type": "display_data"
    },
    {
     "data": {
      "text/html": [
       "<pre>recommendations finished on 93000/206209 queries. users per second: 2355.05</pre>"
      ],
      "text/plain": [
       "recommendations finished on 93000/206209 queries. users per second: 2355.05"
      ]
     },
     "metadata": {},
     "output_type": "display_data"
    },
    {
     "data": {
      "text/html": [
       "<pre>recommendations finished on 94000/206209 queries. users per second: 2355.25</pre>"
      ],
      "text/plain": [
       "recommendations finished on 94000/206209 queries. users per second: 2355.25"
      ]
     },
     "metadata": {},
     "output_type": "display_data"
    },
    {
     "data": {
      "text/html": [
       "<pre>recommendations finished on 95000/206209 queries. users per second: 2355.68</pre>"
      ],
      "text/plain": [
       "recommendations finished on 95000/206209 queries. users per second: 2355.68"
      ]
     },
     "metadata": {},
     "output_type": "display_data"
    },
    {
     "data": {
      "text/html": [
       "<pre>recommendations finished on 96000/206209 queries. users per second: 2356.04</pre>"
      ],
      "text/plain": [
       "recommendations finished on 96000/206209 queries. users per second: 2356.04"
      ]
     },
     "metadata": {},
     "output_type": "display_data"
    },
    {
     "data": {
      "text/html": [
       "<pre>recommendations finished on 97000/206209 queries. users per second: 2356.36</pre>"
      ],
      "text/plain": [
       "recommendations finished on 97000/206209 queries. users per second: 2356.36"
      ]
     },
     "metadata": {},
     "output_type": "display_data"
    },
    {
     "data": {
      "text/html": [
       "<pre>recommendations finished on 98000/206209 queries. users per second: 2356.79</pre>"
      ],
      "text/plain": [
       "recommendations finished on 98000/206209 queries. users per second: 2356.79"
      ]
     },
     "metadata": {},
     "output_type": "display_data"
    },
    {
     "data": {
      "text/html": [
       "<pre>recommendations finished on 99000/206209 queries. users per second: 2357.1</pre>"
      ],
      "text/plain": [
       "recommendations finished on 99000/206209 queries. users per second: 2357.1"
      ]
     },
     "metadata": {},
     "output_type": "display_data"
    },
    {
     "data": {
      "text/html": [
       "<pre>recommendations finished on 100000/206209 queries. users per second: 2357.39</pre>"
      ],
      "text/plain": [
       "recommendations finished on 100000/206209 queries. users per second: 2357.39"
      ]
     },
     "metadata": {},
     "output_type": "display_data"
    },
    {
     "data": {
      "text/html": [
       "<pre>recommendations finished on 101000/206209 queries. users per second: 2357.69</pre>"
      ],
      "text/plain": [
       "recommendations finished on 101000/206209 queries. users per second: 2357.69"
      ]
     },
     "metadata": {},
     "output_type": "display_data"
    },
    {
     "data": {
      "text/html": [
       "<pre>recommendations finished on 102000/206209 queries. users per second: 2357.84</pre>"
      ],
      "text/plain": [
       "recommendations finished on 102000/206209 queries. users per second: 2357.84"
      ]
     },
     "metadata": {},
     "output_type": "display_data"
    },
    {
     "data": {
      "text/html": [
       "<pre>recommendations finished on 103000/206209 queries. users per second: 2358.16</pre>"
      ],
      "text/plain": [
       "recommendations finished on 103000/206209 queries. users per second: 2358.16"
      ]
     },
     "metadata": {},
     "output_type": "display_data"
    },
    {
     "data": {
      "text/html": [
       "<pre>recommendations finished on 104000/206209 queries. users per second: 2358.32</pre>"
      ],
      "text/plain": [
       "recommendations finished on 104000/206209 queries. users per second: 2358.32"
      ]
     },
     "metadata": {},
     "output_type": "display_data"
    },
    {
     "data": {
      "text/html": [
       "<pre>recommendations finished on 105000/206209 queries. users per second: 2358.09</pre>"
      ],
      "text/plain": [
       "recommendations finished on 105000/206209 queries. users per second: 2358.09"
      ]
     },
     "metadata": {},
     "output_type": "display_data"
    },
    {
     "data": {
      "text/html": [
       "<pre>recommendations finished on 106000/206209 queries. users per second: 2358.25</pre>"
      ],
      "text/plain": [
       "recommendations finished on 106000/206209 queries. users per second: 2358.25"
      ]
     },
     "metadata": {},
     "output_type": "display_data"
    },
    {
     "data": {
      "text/html": [
       "<pre>recommendations finished on 107000/206209 queries. users per second: 2358.5</pre>"
      ],
      "text/plain": [
       "recommendations finished on 107000/206209 queries. users per second: 2358.5"
      ]
     },
     "metadata": {},
     "output_type": "display_data"
    },
    {
     "data": {
      "text/html": [
       "<pre>recommendations finished on 108000/206209 queries. users per second: 2358.76</pre>"
      ],
      "text/plain": [
       "recommendations finished on 108000/206209 queries. users per second: 2358.76"
      ]
     },
     "metadata": {},
     "output_type": "display_data"
    },
    {
     "data": {
      "text/html": [
       "<pre>recommendations finished on 109000/206209 queries. users per second: 2358.92</pre>"
      ],
      "text/plain": [
       "recommendations finished on 109000/206209 queries. users per second: 2358.92"
      ]
     },
     "metadata": {},
     "output_type": "display_data"
    },
    {
     "data": {
      "text/html": [
       "<pre>recommendations finished on 110000/206209 queries. users per second: 2359.22</pre>"
      ],
      "text/plain": [
       "recommendations finished on 110000/206209 queries. users per second: 2359.22"
      ]
     },
     "metadata": {},
     "output_type": "display_data"
    },
    {
     "data": {
      "text/html": [
       "<pre>recommendations finished on 111000/206209 queries. users per second: 2359.43</pre>"
      ],
      "text/plain": [
       "recommendations finished on 111000/206209 queries. users per second: 2359.43"
      ]
     },
     "metadata": {},
     "output_type": "display_data"
    },
    {
     "data": {
      "text/html": [
       "<pre>recommendations finished on 112000/206209 queries. users per second: 2359.7</pre>"
      ],
      "text/plain": [
       "recommendations finished on 112000/206209 queries. users per second: 2359.7"
      ]
     },
     "metadata": {},
     "output_type": "display_data"
    },
    {
     "data": {
      "text/html": [
       "<pre>recommendations finished on 113000/206209 queries. users per second: 2359.87</pre>"
      ],
      "text/plain": [
       "recommendations finished on 113000/206209 queries. users per second: 2359.87"
      ]
     },
     "metadata": {},
     "output_type": "display_data"
    },
    {
     "data": {
      "text/html": [
       "<pre>recommendations finished on 114000/206209 queries. users per second: 2360.13</pre>"
      ],
      "text/plain": [
       "recommendations finished on 114000/206209 queries. users per second: 2360.13"
      ]
     },
     "metadata": {},
     "output_type": "display_data"
    },
    {
     "data": {
      "text/html": [
       "<pre>recommendations finished on 115000/206209 queries. users per second: 2360.38</pre>"
      ],
      "text/plain": [
       "recommendations finished on 115000/206209 queries. users per second: 2360.38"
      ]
     },
     "metadata": {},
     "output_type": "display_data"
    },
    {
     "data": {
      "text/html": [
       "<pre>recommendations finished on 116000/206209 queries. users per second: 2360.75</pre>"
      ],
      "text/plain": [
       "recommendations finished on 116000/206209 queries. users per second: 2360.75"
      ]
     },
     "metadata": {},
     "output_type": "display_data"
    },
    {
     "data": {
      "text/html": [
       "<pre>recommendations finished on 117000/206209 queries. users per second: 2360.82</pre>"
      ],
      "text/plain": [
       "recommendations finished on 117000/206209 queries. users per second: 2360.82"
      ]
     },
     "metadata": {},
     "output_type": "display_data"
    },
    {
     "data": {
      "text/html": [
       "<pre>recommendations finished on 118000/206209 queries. users per second: 2360.97</pre>"
      ],
      "text/plain": [
       "recommendations finished on 118000/206209 queries. users per second: 2360.97"
      ]
     },
     "metadata": {},
     "output_type": "display_data"
    },
    {
     "data": {
      "text/html": [
       "<pre>recommendations finished on 119000/206209 queries. users per second: 2361.27</pre>"
      ],
      "text/plain": [
       "recommendations finished on 119000/206209 queries. users per second: 2361.27"
      ]
     },
     "metadata": {},
     "output_type": "display_data"
    },
    {
     "data": {
      "text/html": [
       "<pre>recommendations finished on 120000/206209 queries. users per second: 2361.43</pre>"
      ],
      "text/plain": [
       "recommendations finished on 120000/206209 queries. users per second: 2361.43"
      ]
     },
     "metadata": {},
     "output_type": "display_data"
    },
    {
     "data": {
      "text/html": [
       "<pre>recommendations finished on 121000/206209 queries. users per second: 2361.74</pre>"
      ],
      "text/plain": [
       "recommendations finished on 121000/206209 queries. users per second: 2361.74"
      ]
     },
     "metadata": {},
     "output_type": "display_data"
    },
    {
     "data": {
      "text/html": [
       "<pre>recommendations finished on 122000/206209 queries. users per second: 2361.95</pre>"
      ],
      "text/plain": [
       "recommendations finished on 122000/206209 queries. users per second: 2361.95"
      ]
     },
     "metadata": {},
     "output_type": "display_data"
    },
    {
     "data": {
      "text/html": [
       "<pre>recommendations finished on 123000/206209 queries. users per second: 2362.02</pre>"
      ],
      "text/plain": [
       "recommendations finished on 123000/206209 queries. users per second: 2362.02"
      ]
     },
     "metadata": {},
     "output_type": "display_data"
    },
    {
     "data": {
      "text/html": [
       "<pre>recommendations finished on 124000/206209 queries. users per second: 2362.21</pre>"
      ],
      "text/plain": [
       "recommendations finished on 124000/206209 queries. users per second: 2362.21"
      ]
     },
     "metadata": {},
     "output_type": "display_data"
    },
    {
     "data": {
      "text/html": [
       "<pre>recommendations finished on 125000/206209 queries. users per second: 2362.46</pre>"
      ],
      "text/plain": [
       "recommendations finished on 125000/206209 queries. users per second: 2362.46"
      ]
     },
     "metadata": {},
     "output_type": "display_data"
    },
    {
     "data": {
      "text/html": [
       "<pre>recommendations finished on 126000/206209 queries. users per second: 2362.64</pre>"
      ],
      "text/plain": [
       "recommendations finished on 126000/206209 queries. users per second: 2362.64"
      ]
     },
     "metadata": {},
     "output_type": "display_data"
    },
    {
     "data": {
      "text/html": [
       "<pre>recommendations finished on 127000/206209 queries. users per second: 2362.86</pre>"
      ],
      "text/plain": [
       "recommendations finished on 127000/206209 queries. users per second: 2362.86"
      ]
     },
     "metadata": {},
     "output_type": "display_data"
    },
    {
     "data": {
      "text/html": [
       "<pre>recommendations finished on 128000/206209 queries. users per second: 2363.05</pre>"
      ],
      "text/plain": [
       "recommendations finished on 128000/206209 queries. users per second: 2363.05"
      ]
     },
     "metadata": {},
     "output_type": "display_data"
    },
    {
     "data": {
      "text/html": [
       "<pre>recommendations finished on 129000/206209 queries. users per second: 2363.26</pre>"
      ],
      "text/plain": [
       "recommendations finished on 129000/206209 queries. users per second: 2363.26"
      ]
     },
     "metadata": {},
     "output_type": "display_data"
    },
    {
     "data": {
      "text/html": [
       "<pre>recommendations finished on 130000/206209 queries. users per second: 2363.37</pre>"
      ],
      "text/plain": [
       "recommendations finished on 130000/206209 queries. users per second: 2363.37"
      ]
     },
     "metadata": {},
     "output_type": "display_data"
    },
    {
     "data": {
      "text/html": [
       "<pre>recommendations finished on 131000/206209 queries. users per second: 2363.53</pre>"
      ],
      "text/plain": [
       "recommendations finished on 131000/206209 queries. users per second: 2363.53"
      ]
     },
     "metadata": {},
     "output_type": "display_data"
    },
    {
     "data": {
      "text/html": [
       "<pre>recommendations finished on 132000/206209 queries. users per second: 2363.69</pre>"
      ],
      "text/plain": [
       "recommendations finished on 132000/206209 queries. users per second: 2363.69"
      ]
     },
     "metadata": {},
     "output_type": "display_data"
    },
    {
     "data": {
      "text/html": [
       "<pre>recommendations finished on 133000/206209 queries. users per second: 2363.88</pre>"
      ],
      "text/plain": [
       "recommendations finished on 133000/206209 queries. users per second: 2363.88"
      ]
     },
     "metadata": {},
     "output_type": "display_data"
    },
    {
     "data": {
      "text/html": [
       "<pre>recommendations finished on 134000/206209 queries. users per second: 2364.04</pre>"
      ],
      "text/plain": [
       "recommendations finished on 134000/206209 queries. users per second: 2364.04"
      ]
     },
     "metadata": {},
     "output_type": "display_data"
    },
    {
     "data": {
      "text/html": [
       "<pre>recommendations finished on 135000/206209 queries. users per second: 2364.16</pre>"
      ],
      "text/plain": [
       "recommendations finished on 135000/206209 queries. users per second: 2364.16"
      ]
     },
     "metadata": {},
     "output_type": "display_data"
    },
    {
     "data": {
      "text/html": [
       "<pre>recommendations finished on 136000/206209 queries. users per second: 2364.33</pre>"
      ],
      "text/plain": [
       "recommendations finished on 136000/206209 queries. users per second: 2364.33"
      ]
     },
     "metadata": {},
     "output_type": "display_data"
    },
    {
     "data": {
      "text/html": [
       "<pre>recommendations finished on 137000/206209 queries. users per second: 2364.55</pre>"
      ],
      "text/plain": [
       "recommendations finished on 137000/206209 queries. users per second: 2364.55"
      ]
     },
     "metadata": {},
     "output_type": "display_data"
    },
    {
     "data": {
      "text/html": [
       "<pre>recommendations finished on 138000/206209 queries. users per second: 2364.7</pre>"
      ],
      "text/plain": [
       "recommendations finished on 138000/206209 queries. users per second: 2364.7"
      ]
     },
     "metadata": {},
     "output_type": "display_data"
    },
    {
     "data": {
      "text/html": [
       "<pre>recommendations finished on 139000/206209 queries. users per second: 2364.89</pre>"
      ],
      "text/plain": [
       "recommendations finished on 139000/206209 queries. users per second: 2364.89"
      ]
     },
     "metadata": {},
     "output_type": "display_data"
    },
    {
     "data": {
      "text/html": [
       "<pre>recommendations finished on 140000/206209 queries. users per second: 2365.02</pre>"
      ],
      "text/plain": [
       "recommendations finished on 140000/206209 queries. users per second: 2365.02"
      ]
     },
     "metadata": {},
     "output_type": "display_data"
    },
    {
     "data": {
      "text/html": [
       "<pre>recommendations finished on 141000/206209 queries. users per second: 2365.06</pre>"
      ],
      "text/plain": [
       "recommendations finished on 141000/206209 queries. users per second: 2365.06"
      ]
     },
     "metadata": {},
     "output_type": "display_data"
    },
    {
     "data": {
      "text/html": [
       "<pre>recommendations finished on 142000/206209 queries. users per second: 2365.17</pre>"
      ],
      "text/plain": [
       "recommendations finished on 142000/206209 queries. users per second: 2365.17"
      ]
     },
     "metadata": {},
     "output_type": "display_data"
    },
    {
     "data": {
      "text/html": [
       "<pre>recommendations finished on 143000/206209 queries. users per second: 2365.19</pre>"
      ],
      "text/plain": [
       "recommendations finished on 143000/206209 queries. users per second: 2365.19"
      ]
     },
     "metadata": {},
     "output_type": "display_data"
    },
    {
     "data": {
      "text/html": [
       "<pre>recommendations finished on 144000/206209 queries. users per second: 2365.32</pre>"
      ],
      "text/plain": [
       "recommendations finished on 144000/206209 queries. users per second: 2365.32"
      ]
     },
     "metadata": {},
     "output_type": "display_data"
    },
    {
     "data": {
      "text/html": [
       "<pre>recommendations finished on 145000/206209 queries. users per second: 2365.41</pre>"
      ],
      "text/plain": [
       "recommendations finished on 145000/206209 queries. users per second: 2365.41"
      ]
     },
     "metadata": {},
     "output_type": "display_data"
    },
    {
     "data": {
      "text/html": [
       "<pre>recommendations finished on 146000/206209 queries. users per second: 2365.51</pre>"
      ],
      "text/plain": [
       "recommendations finished on 146000/206209 queries. users per second: 2365.51"
      ]
     },
     "metadata": {},
     "output_type": "display_data"
    },
    {
     "data": {
      "text/html": [
       "<pre>recommendations finished on 147000/206209 queries. users per second: 2365.49</pre>"
      ],
      "text/plain": [
       "recommendations finished on 147000/206209 queries. users per second: 2365.49"
      ]
     },
     "metadata": {},
     "output_type": "display_data"
    },
    {
     "data": {
      "text/html": [
       "<pre>recommendations finished on 148000/206209 queries. users per second: 2365.64</pre>"
      ],
      "text/plain": [
       "recommendations finished on 148000/206209 queries. users per second: 2365.64"
      ]
     },
     "metadata": {},
     "output_type": "display_data"
    },
    {
     "data": {
      "text/html": [
       "<pre>recommendations finished on 149000/206209 queries. users per second: 2365.71</pre>"
      ],
      "text/plain": [
       "recommendations finished on 149000/206209 queries. users per second: 2365.71"
      ]
     },
     "metadata": {},
     "output_type": "display_data"
    },
    {
     "data": {
      "text/html": [
       "<pre>recommendations finished on 150000/206209 queries. users per second: 2365.74</pre>"
      ],
      "text/plain": [
       "recommendations finished on 150000/206209 queries. users per second: 2365.74"
      ]
     },
     "metadata": {},
     "output_type": "display_data"
    },
    {
     "data": {
      "text/html": [
       "<pre>recommendations finished on 151000/206209 queries. users per second: 2365.67</pre>"
      ],
      "text/plain": [
       "recommendations finished on 151000/206209 queries. users per second: 2365.67"
      ]
     },
     "metadata": {},
     "output_type": "display_data"
    },
    {
     "data": {
      "text/html": [
       "<pre>recommendations finished on 152000/206209 queries. users per second: 2365.62</pre>"
      ],
      "text/plain": [
       "recommendations finished on 152000/206209 queries. users per second: 2365.62"
      ]
     },
     "metadata": {},
     "output_type": "display_data"
    },
    {
     "data": {
      "text/html": [
       "<pre>recommendations finished on 153000/206209 queries. users per second: 2365.63</pre>"
      ],
      "text/plain": [
       "recommendations finished on 153000/206209 queries. users per second: 2365.63"
      ]
     },
     "metadata": {},
     "output_type": "display_data"
    },
    {
     "data": {
      "text/html": [
       "<pre>recommendations finished on 154000/206209 queries. users per second: 2365.63</pre>"
      ],
      "text/plain": [
       "recommendations finished on 154000/206209 queries. users per second: 2365.63"
      ]
     },
     "metadata": {},
     "output_type": "display_data"
    },
    {
     "data": {
      "text/html": [
       "<pre>recommendations finished on 155000/206209 queries. users per second: 2365.71</pre>"
      ],
      "text/plain": [
       "recommendations finished on 155000/206209 queries. users per second: 2365.71"
      ]
     },
     "metadata": {},
     "output_type": "display_data"
    },
    {
     "data": {
      "text/html": [
       "<pre>recommendations finished on 156000/206209 queries. users per second: 2365.7</pre>"
      ],
      "text/plain": [
       "recommendations finished on 156000/206209 queries. users per second: 2365.7"
      ]
     },
     "metadata": {},
     "output_type": "display_data"
    },
    {
     "data": {
      "text/html": [
       "<pre>recommendations finished on 157000/206209 queries. users per second: 2365.72</pre>"
      ],
      "text/plain": [
       "recommendations finished on 157000/206209 queries. users per second: 2365.72"
      ]
     },
     "metadata": {},
     "output_type": "display_data"
    },
    {
     "data": {
      "text/html": [
       "<pre>recommendations finished on 158000/206209 queries. users per second: 2365.75</pre>"
      ],
      "text/plain": [
       "recommendations finished on 158000/206209 queries. users per second: 2365.75"
      ]
     },
     "metadata": {},
     "output_type": "display_data"
    },
    {
     "data": {
      "text/html": [
       "<pre>recommendations finished on 159000/206209 queries. users per second: 2365.84</pre>"
      ],
      "text/plain": [
       "recommendations finished on 159000/206209 queries. users per second: 2365.84"
      ]
     },
     "metadata": {},
     "output_type": "display_data"
    },
    {
     "data": {
      "text/html": [
       "<pre>recommendations finished on 160000/206209 queries. users per second: 2365.95</pre>"
      ],
      "text/plain": [
       "recommendations finished on 160000/206209 queries. users per second: 2365.95"
      ]
     },
     "metadata": {},
     "output_type": "display_data"
    },
    {
     "data": {
      "text/html": [
       "<pre>recommendations finished on 161000/206209 queries. users per second: 2365.93</pre>"
      ],
      "text/plain": [
       "recommendations finished on 161000/206209 queries. users per second: 2365.93"
      ]
     },
     "metadata": {},
     "output_type": "display_data"
    },
    {
     "data": {
      "text/html": [
       "<pre>recommendations finished on 162000/206209 queries. users per second: 2365.94</pre>"
      ],
      "text/plain": [
       "recommendations finished on 162000/206209 queries. users per second: 2365.94"
      ]
     },
     "metadata": {},
     "output_type": "display_data"
    },
    {
     "data": {
      "text/html": [
       "<pre>recommendations finished on 163000/206209 queries. users per second: 2365.99</pre>"
      ],
      "text/plain": [
       "recommendations finished on 163000/206209 queries. users per second: 2365.99"
      ]
     },
     "metadata": {},
     "output_type": "display_data"
    },
    {
     "data": {
      "text/html": [
       "<pre>recommendations finished on 164000/206209 queries. users per second: 2366.05</pre>"
      ],
      "text/plain": [
       "recommendations finished on 164000/206209 queries. users per second: 2366.05"
      ]
     },
     "metadata": {},
     "output_type": "display_data"
    },
    {
     "data": {
      "text/html": [
       "<pre>recommendations finished on 165000/206209 queries. users per second: 2366.12</pre>"
      ],
      "text/plain": [
       "recommendations finished on 165000/206209 queries. users per second: 2366.12"
      ]
     },
     "metadata": {},
     "output_type": "display_data"
    },
    {
     "data": {
      "text/html": [
       "<pre>recommendations finished on 166000/206209 queries. users per second: 2366.12</pre>"
      ],
      "text/plain": [
       "recommendations finished on 166000/206209 queries. users per second: 2366.12"
      ]
     },
     "metadata": {},
     "output_type": "display_data"
    },
    {
     "data": {
      "text/html": [
       "<pre>recommendations finished on 167000/206209 queries. users per second: 2366.17</pre>"
      ],
      "text/plain": [
       "recommendations finished on 167000/206209 queries. users per second: 2366.17"
      ]
     },
     "metadata": {},
     "output_type": "display_data"
    },
    {
     "data": {
      "text/html": [
       "<pre>recommendations finished on 168000/206209 queries. users per second: 2366.15</pre>"
      ],
      "text/plain": [
       "recommendations finished on 168000/206209 queries. users per second: 2366.15"
      ]
     },
     "metadata": {},
     "output_type": "display_data"
    },
    {
     "data": {
      "text/html": [
       "<pre>recommendations finished on 169000/206209 queries. users per second: 2366.18</pre>"
      ],
      "text/plain": [
       "recommendations finished on 169000/206209 queries. users per second: 2366.18"
      ]
     },
     "metadata": {},
     "output_type": "display_data"
    },
    {
     "data": {
      "text/html": [
       "<pre>recommendations finished on 170000/206209 queries. users per second: 2366.21</pre>"
      ],
      "text/plain": [
       "recommendations finished on 170000/206209 queries. users per second: 2366.21"
      ]
     },
     "metadata": {},
     "output_type": "display_data"
    },
    {
     "data": {
      "text/html": [
       "<pre>recommendations finished on 171000/206209 queries. users per second: 2366.22</pre>"
      ],
      "text/plain": [
       "recommendations finished on 171000/206209 queries. users per second: 2366.22"
      ]
     },
     "metadata": {},
     "output_type": "display_data"
    },
    {
     "data": {
      "text/html": [
       "<pre>recommendations finished on 172000/206209 queries. users per second: 2366.25</pre>"
      ],
      "text/plain": [
       "recommendations finished on 172000/206209 queries. users per second: 2366.25"
      ]
     },
     "metadata": {},
     "output_type": "display_data"
    },
    {
     "data": {
      "text/html": [
       "<pre>recommendations finished on 173000/206209 queries. users per second: 2366.31</pre>"
      ],
      "text/plain": [
       "recommendations finished on 173000/206209 queries. users per second: 2366.31"
      ]
     },
     "metadata": {},
     "output_type": "display_data"
    },
    {
     "data": {
      "text/html": [
       "<pre>recommendations finished on 174000/206209 queries. users per second: 2366.34</pre>"
      ],
      "text/plain": [
       "recommendations finished on 174000/206209 queries. users per second: 2366.34"
      ]
     },
     "metadata": {},
     "output_type": "display_data"
    },
    {
     "data": {
      "text/html": [
       "<pre>recommendations finished on 175000/206209 queries. users per second: 2366.34</pre>"
      ],
      "text/plain": [
       "recommendations finished on 175000/206209 queries. users per second: 2366.34"
      ]
     },
     "metadata": {},
     "output_type": "display_data"
    },
    {
     "data": {
      "text/html": [
       "<pre>recommendations finished on 176000/206209 queries. users per second: 2366.36</pre>"
      ],
      "text/plain": [
       "recommendations finished on 176000/206209 queries. users per second: 2366.36"
      ]
     },
     "metadata": {},
     "output_type": "display_data"
    },
    {
     "data": {
      "text/html": [
       "<pre>recommendations finished on 177000/206209 queries. users per second: 2366.37</pre>"
      ],
      "text/plain": [
       "recommendations finished on 177000/206209 queries. users per second: 2366.37"
      ]
     },
     "metadata": {},
     "output_type": "display_data"
    },
    {
     "data": {
      "text/html": [
       "<pre>recommendations finished on 178000/206209 queries. users per second: 2366.42</pre>"
      ],
      "text/plain": [
       "recommendations finished on 178000/206209 queries. users per second: 2366.42"
      ]
     },
     "metadata": {},
     "output_type": "display_data"
    },
    {
     "data": {
      "text/html": [
       "<pre>recommendations finished on 179000/206209 queries. users per second: 2366.47</pre>"
      ],
      "text/plain": [
       "recommendations finished on 179000/206209 queries. users per second: 2366.47"
      ]
     },
     "metadata": {},
     "output_type": "display_data"
    },
    {
     "data": {
      "text/html": [
       "<pre>recommendations finished on 180000/206209 queries. users per second: 2366.54</pre>"
      ],
      "text/plain": [
       "recommendations finished on 180000/206209 queries. users per second: 2366.54"
      ]
     },
     "metadata": {},
     "output_type": "display_data"
    },
    {
     "data": {
      "text/html": [
       "<pre>recommendations finished on 181000/206209 queries. users per second: 2366.62</pre>"
      ],
      "text/plain": [
       "recommendations finished on 181000/206209 queries. users per second: 2366.62"
      ]
     },
     "metadata": {},
     "output_type": "display_data"
    },
    {
     "data": {
      "text/html": [
       "<pre>recommendations finished on 182000/206209 queries. users per second: 2366.68</pre>"
      ],
      "text/plain": [
       "recommendations finished on 182000/206209 queries. users per second: 2366.68"
      ]
     },
     "metadata": {},
     "output_type": "display_data"
    },
    {
     "data": {
      "text/html": [
       "<pre>recommendations finished on 183000/206209 queries. users per second: 2366.75</pre>"
      ],
      "text/plain": [
       "recommendations finished on 183000/206209 queries. users per second: 2366.75"
      ]
     },
     "metadata": {},
     "output_type": "display_data"
    },
    {
     "data": {
      "text/html": [
       "<pre>recommendations finished on 184000/206209 queries. users per second: 2366.83</pre>"
      ],
      "text/plain": [
       "recommendations finished on 184000/206209 queries. users per second: 2366.83"
      ]
     },
     "metadata": {},
     "output_type": "display_data"
    },
    {
     "data": {
      "text/html": [
       "<pre>recommendations finished on 185000/206209 queries. users per second: 2366.94</pre>"
      ],
      "text/plain": [
       "recommendations finished on 185000/206209 queries. users per second: 2366.94"
      ]
     },
     "metadata": {},
     "output_type": "display_data"
    },
    {
     "data": {
      "text/html": [
       "<pre>recommendations finished on 186000/206209 queries. users per second: 2366.96</pre>"
      ],
      "text/plain": [
       "recommendations finished on 186000/206209 queries. users per second: 2366.96"
      ]
     },
     "metadata": {},
     "output_type": "display_data"
    },
    {
     "data": {
      "text/html": [
       "<pre>recommendations finished on 187000/206209 queries. users per second: 2367.13</pre>"
      ],
      "text/plain": [
       "recommendations finished on 187000/206209 queries. users per second: 2367.13"
      ]
     },
     "metadata": {},
     "output_type": "display_data"
    },
    {
     "data": {
      "text/html": [
       "<pre>recommendations finished on 188000/206209 queries. users per second: 2367.21</pre>"
      ],
      "text/plain": [
       "recommendations finished on 188000/206209 queries. users per second: 2367.21"
      ]
     },
     "metadata": {},
     "output_type": "display_data"
    },
    {
     "data": {
      "text/html": [
       "<pre>recommendations finished on 189000/206209 queries. users per second: 2367.23</pre>"
      ],
      "text/plain": [
       "recommendations finished on 189000/206209 queries. users per second: 2367.23"
      ]
     },
     "metadata": {},
     "output_type": "display_data"
    },
    {
     "data": {
      "text/html": [
       "<pre>recommendations finished on 190000/206209 queries. users per second: 2367.2</pre>"
      ],
      "text/plain": [
       "recommendations finished on 190000/206209 queries. users per second: 2367.2"
      ]
     },
     "metadata": {},
     "output_type": "display_data"
    },
    {
     "data": {
      "text/html": [
       "<pre>recommendations finished on 191000/206209 queries. users per second: 2367.28</pre>"
      ],
      "text/plain": [
       "recommendations finished on 191000/206209 queries. users per second: 2367.28"
      ]
     },
     "metadata": {},
     "output_type": "display_data"
    },
    {
     "data": {
      "text/html": [
       "<pre>recommendations finished on 192000/206209 queries. users per second: 2367.39</pre>"
      ],
      "text/plain": [
       "recommendations finished on 192000/206209 queries. users per second: 2367.39"
      ]
     },
     "metadata": {},
     "output_type": "display_data"
    },
    {
     "data": {
      "text/html": [
       "<pre>recommendations finished on 193000/206209 queries. users per second: 2367.49</pre>"
      ],
      "text/plain": [
       "recommendations finished on 193000/206209 queries. users per second: 2367.49"
      ]
     },
     "metadata": {},
     "output_type": "display_data"
    },
    {
     "data": {
      "text/html": [
       "<pre>recommendations finished on 194000/206209 queries. users per second: 2367.57</pre>"
      ],
      "text/plain": [
       "recommendations finished on 194000/206209 queries. users per second: 2367.57"
      ]
     },
     "metadata": {},
     "output_type": "display_data"
    },
    {
     "data": {
      "text/html": [
       "<pre>recommendations finished on 195000/206209 queries. users per second: 2367.65</pre>"
      ],
      "text/plain": [
       "recommendations finished on 195000/206209 queries. users per second: 2367.65"
      ]
     },
     "metadata": {},
     "output_type": "display_data"
    },
    {
     "data": {
      "text/html": [
       "<pre>recommendations finished on 196000/206209 queries. users per second: 2367.72</pre>"
      ],
      "text/plain": [
       "recommendations finished on 196000/206209 queries. users per second: 2367.72"
      ]
     },
     "metadata": {},
     "output_type": "display_data"
    },
    {
     "data": {
      "text/html": [
       "<pre>recommendations finished on 197000/206209 queries. users per second: 2367.79</pre>"
      ],
      "text/plain": [
       "recommendations finished on 197000/206209 queries. users per second: 2367.79"
      ]
     },
     "metadata": {},
     "output_type": "display_data"
    },
    {
     "data": {
      "text/html": [
       "<pre>recommendations finished on 198000/206209 queries. users per second: 2367.8</pre>"
      ],
      "text/plain": [
       "recommendations finished on 198000/206209 queries. users per second: 2367.8"
      ]
     },
     "metadata": {},
     "output_type": "display_data"
    },
    {
     "data": {
      "text/html": [
       "<pre>recommendations finished on 199000/206209 queries. users per second: 2367.9</pre>"
      ],
      "text/plain": [
       "recommendations finished on 199000/206209 queries. users per second: 2367.9"
      ]
     },
     "metadata": {},
     "output_type": "display_data"
    },
    {
     "data": {
      "text/html": [
       "<pre>recommendations finished on 200000/206209 queries. users per second: 2367.98</pre>"
      ],
      "text/plain": [
       "recommendations finished on 200000/206209 queries. users per second: 2367.98"
      ]
     },
     "metadata": {},
     "output_type": "display_data"
    },
    {
     "data": {
      "text/html": [
       "<pre>recommendations finished on 201000/206209 queries. users per second: 2368.1</pre>"
      ],
      "text/plain": [
       "recommendations finished on 201000/206209 queries. users per second: 2368.1"
      ]
     },
     "metadata": {},
     "output_type": "display_data"
    },
    {
     "data": {
      "text/html": [
       "<pre>recommendations finished on 202000/206209 queries. users per second: 2368.19</pre>"
      ],
      "text/plain": [
       "recommendations finished on 202000/206209 queries. users per second: 2368.19"
      ]
     },
     "metadata": {},
     "output_type": "display_data"
    },
    {
     "data": {
      "text/html": [
       "<pre>recommendations finished on 203000/206209 queries. users per second: 2368.29</pre>"
      ],
      "text/plain": [
       "recommendations finished on 203000/206209 queries. users per second: 2368.29"
      ]
     },
     "metadata": {},
     "output_type": "display_data"
    },
    {
     "data": {
      "text/html": [
       "<pre>recommendations finished on 204000/206209 queries. users per second: 2368.4</pre>"
      ],
      "text/plain": [
       "recommendations finished on 204000/206209 queries. users per second: 2368.4"
      ]
     },
     "metadata": {},
     "output_type": "display_data"
    },
    {
     "data": {
      "text/html": [
       "<pre>recommendations finished on 205000/206209 queries. users per second: 2368.47</pre>"
      ],
      "text/plain": [
       "recommendations finished on 205000/206209 queries. users per second: 2368.47"
      ]
     },
     "metadata": {},
     "output_type": "display_data"
    },
    {
     "data": {
      "text/html": [
       "<pre>recommendations finished on 206000/206209 queries. users per second: 2366.96</pre>"
      ],
      "text/plain": [
       "recommendations finished on 206000/206209 queries. users per second: 2366.96"
      ]
     },
     "metadata": {},
     "output_type": "display_data"
    },
    {
     "name": "stdout",
     "output_type": "stream",
     "text": [
      "An output file can be found in 'output' folder with name 'option1_recommendation.csv'\n",
      "(206209, 1)\n"
     ]
    },
    {
     "data": {
      "text/html": [
       "<div>\n",
       "<style scoped>\n",
       "    .dataframe tbody tr th:only-of-type {\n",
       "        vertical-align: middle;\n",
       "    }\n",
       "\n",
       "    .dataframe tbody tr th {\n",
       "        vertical-align: top;\n",
       "    }\n",
       "\n",
       "    .dataframe thead th {\n",
       "        text-align: right;\n",
       "    }\n",
       "</style>\n",
       "<table border=\"1\" class=\"dataframe\">\n",
       "  <thead>\n",
       "    <tr style=\"text-align: right;\">\n",
       "      <th></th>\n",
       "      <th>recommendedProducts</th>\n",
       "    </tr>\n",
       "    <tr>\n",
       "      <th>user_id</th>\n",
       "      <th></th>\n",
       "    </tr>\n",
       "  </thead>\n",
       "  <tbody>\n",
       "    <tr>\n",
       "      <th>1</th>\n",
       "      <td>6433|2075|43553|27740|14609|13875|39992|5868|3...</td>\n",
       "    </tr>\n",
       "    <tr>\n",
       "      <th>2</th>\n",
       "      <td>6433|2075|43553|27740|14609|13875|39992|5868|3...</td>\n",
       "    </tr>\n",
       "    <tr>\n",
       "      <th>3</th>\n",
       "      <td>6433|2075|43553|27740|14609|13875|39992|5868|3...</td>\n",
       "    </tr>\n",
       "    <tr>\n",
       "      <th>4</th>\n",
       "      <td>6433|2075|43553|27740|14609|13875|39992|5868|3...</td>\n",
       "    </tr>\n",
       "    <tr>\n",
       "      <th>5</th>\n",
       "      <td>6433|2075|43553|27740|14609|13875|39992|5868|3...</td>\n",
       "    </tr>\n",
       "  </tbody>\n",
       "</table>\n",
       "</div>"
      ],
      "text/plain": [
       "                                       recommendedProducts\n",
       "user_id                                                   \n",
       "1        6433|2075|43553|27740|14609|13875|39992|5868|3...\n",
       "2        6433|2075|43553|27740|14609|13875|39992|5868|3...\n",
       "3        6433|2075|43553|27740|14609|13875|39992|5868|3...\n",
       "4        6433|2075|43553|27740|14609|13875|39992|5868|3...\n",
       "5        6433|2075|43553|27740|14609|13875|39992|5868|3..."
      ]
     },
     "execution_count": 77,
     "metadata": {},
     "output_type": "execute_result"
    }
   ],
   "source": [
    "df_output = create_output(pear_norm, users_to_recommend, n_rec, print_csv=True)\n",
    "print(df_output.shape)\n",
    "df_output.head()"
   ]
  },
  {
   "cell_type": "code",
   "execution_count": 79,
   "metadata": {},
   "outputs": [],
   "source": [
    "def customer_recomendation(customer_id):\n",
    "    if customer_id not in df_output.index:\n",
    "        print('Customer not found.')\n",
    "        return customer_id\n",
    "    return df_output.loc[customer_id]"
   ]
  },
  {
   "cell_type": "code",
   "execution_count": 81,
   "metadata": {},
   "outputs": [
    {
     "data": {
      "text/plain": [
       "recommendedProducts    6433|2075|43553|27740|14609|13875|39992|5868|3...\n",
       "Name: 4, dtype: object"
      ]
     },
     "execution_count": 81,
     "metadata": {},
     "output_type": "execute_result"
    }
   ],
   "source": [
    "customer_recomendation(4)"
   ]
  },
  {
   "cell_type": "code",
   "execution_count": null,
   "metadata": {},
   "outputs": [],
   "source": [
    "customer_recomendation(21)"
   ]
  },
  {
   "cell_type": "code",
   "execution_count": null,
   "metadata": {},
   "outputs": [],
   "source": []
  }
 ],
 "metadata": {
  "kernelspec": {
   "display_name": "Python 3",
   "language": "python",
   "name": "python3"
  },
  "language_info": {
   "codemirror_mode": {
    "name": "ipython",
    "version": 3
   },
   "file_extension": ".py",
   "mimetype": "text/x-python",
   "name": "python",
   "nbconvert_exporter": "python",
   "pygments_lexer": "ipython3",
   "version": "3.6.5"
  }
 },
 "nbformat": 4,
 "nbformat_minor": 2
}
